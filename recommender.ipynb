{
 "cells": [
  {
   "cell_type": "code",
   "execution_count": 49,
   "id": "ded81f46-7aa1-42a9-aa73-98495f3a437f",
   "metadata": {},
   "outputs": [],
   "source": [
    "import pandas as pd\n",
    "import numpy as np"
   ]
  },
  {
   "cell_type": "code",
   "execution_count": 50,
   "id": "bac3812c-152e-4a8d-96c9-41e1c7b01edc",
   "metadata": {},
   "outputs": [
    {
     "data": {
      "text/plain": [
       "(962964, 10)"
      ]
     },
     "execution_count": 50,
     "metadata": {},
     "output_type": "execute_result"
    }
   ],
   "source": [
    "data = pd.read_parquet('./data/clean/positions.parquet')\n",
    "data.shape"
   ]
  },
  {
   "cell_type": "code",
   "execution_count": 51,
   "id": "d32c6eaf-f84e-43e7-a71d-51d815999ffb",
   "metadata": {},
   "outputs": [],
   "source": [
    "df = data[['Телефон_new', 'ID_SKU', 'Дата']]\n",
    "df.columns = ['user', 'item', 'timestamp']"
   ]
  },
  {
   "cell_type": "code",
   "execution_count": 52,
   "id": "a8ca7b98-ecd9-4a50-bbaa-b0d5773b7de4",
   "metadata": {},
   "outputs": [
    {
     "data": {
      "text/plain": [
       "user                 object\n",
       "item                 object\n",
       "timestamp    datetime64[ns]\n",
       "dtype: object"
      ]
     },
     "execution_count": 52,
     "metadata": {},
     "output_type": "execute_result"
    }
   ],
   "source": [
    "df.dtypes"
   ]
  },
  {
   "cell_type": "code",
   "execution_count": 53,
   "id": "3bf2a0e1-9c49-4cd9-8e52-2e103af8c8db",
   "metadata": {},
   "outputs": [
    {
     "data": {
      "text/plain": [
       "user         0\n",
       "item         0\n",
       "timestamp    0\n",
       "dtype: int64"
      ]
     },
     "execution_count": 53,
     "metadata": {},
     "output_type": "execute_result"
    }
   ],
   "source": [
    "df.isna().sum()"
   ]
  },
  {
   "cell_type": "code",
   "execution_count": 54,
   "id": "30456968-adca-406f-b460-361ebc27edcd",
   "metadata": {},
   "outputs": [
    {
     "data": {
      "text/html": [
       "<div>\n",
       "<style scoped>\n",
       "    .dataframe tbody tr th:only-of-type {\n",
       "        vertical-align: middle;\n",
       "    }\n",
       "\n",
       "    .dataframe tbody tr th {\n",
       "        vertical-align: top;\n",
       "    }\n",
       "\n",
       "    .dataframe thead th {\n",
       "        text-align: right;\n",
       "    }\n",
       "</style>\n",
       "<table border=\"1\" class=\"dataframe\">\n",
       "  <thead>\n",
       "    <tr style=\"text-align: right;\">\n",
       "      <th></th>\n",
       "      <th>user</th>\n",
       "      <th>item</th>\n",
       "      <th>timestamp</th>\n",
       "    </tr>\n",
       "  </thead>\n",
       "  <tbody>\n",
       "    <tr>\n",
       "      <th>0</th>\n",
       "      <td>55574948-52495050484877</td>\n",
       "      <td>IDL00051334048</td>\n",
       "      <td>2017-07-01</td>\n",
       "    </tr>\n",
       "    <tr>\n",
       "      <th>1</th>\n",
       "      <td>55574948-52495050484877</td>\n",
       "      <td>IDL00051367351</td>\n",
       "      <td>2017-07-01</td>\n",
       "    </tr>\n",
       "    <tr>\n",
       "      <th>2</th>\n",
       "      <td>55574948-52495050484877</td>\n",
       "      <td>IDL00007611755</td>\n",
       "      <td>2017-07-01</td>\n",
       "    </tr>\n",
       "    <tr>\n",
       "      <th>3</th>\n",
       "      <td>55574948-52495050484877</td>\n",
       "      <td>IDL00014478250</td>\n",
       "      <td>2017-07-01</td>\n",
       "    </tr>\n",
       "    <tr>\n",
       "      <th>4</th>\n",
       "      <td>55574948-52495050484877</td>\n",
       "      <td>IDL00001209351</td>\n",
       "      <td>2017-07-01</td>\n",
       "    </tr>\n",
       "  </tbody>\n",
       "</table>\n",
       "</div>"
      ],
      "text/plain": [
       "                      user            item  timestamp\n",
       "0  55574948-52495050484877  IDL00051334048 2017-07-01\n",
       "1  55574948-52495050484877  IDL00051367351 2017-07-01\n",
       "2  55574948-52495050484877  IDL00007611755 2017-07-01\n",
       "3  55574948-52495050484877  IDL00014478250 2017-07-01\n",
       "4  55574948-52495050484877  IDL00001209351 2017-07-01"
      ]
     },
     "execution_count": 54,
     "metadata": {},
     "output_type": "execute_result"
    }
   ],
   "source": [
    "df.head()"
   ]
  },
  {
   "cell_type": "code",
   "execution_count": 55,
   "id": "d1a1a72a-5d5a-4af4-9caf-6e228dc6081a",
   "metadata": {},
   "outputs": [
    {
     "name": "stderr",
     "output_type": "stream",
     "text": [
      "/var/folders/j7/ljxzwfz148s0_sgrdw_3_5zh0000gq/T/ipykernel_34417/3547288963.py:1: SettingWithCopyWarning: \n",
      "A value is trying to be set on a copy of a slice from a DataFrame.\n",
      "Try using .loc[row_indexer,col_indexer] = value instead\n",
      "\n",
      "See the caveats in the documentation: https://pandas.pydata.org/pandas-docs/stable/user_guide/indexing.html#returning-a-view-versus-a-copy\n",
      "  df['rating'] = 1\n"
     ]
    }
   ],
   "source": [
    "df['rating'] = 1"
   ]
  },
  {
   "cell_type": "code",
   "execution_count": 106,
   "id": "00266f8f-2ab9-4b1d-b5ab-7cebdc9376e3",
   "metadata": {},
   "outputs": [],
   "source": [
    "df = df[df['item'].isin(df['item'].value_counts()[df['item'].value_counts() > 20].index)]\n",
    "df = df[df['user'].isin(df['user'].value_counts()[df['user'].value_counts() > 20].index)]"
   ]
  },
  {
   "cell_type": "code",
   "execution_count": 107,
   "id": "c1e73087-579e-4d38-bb26-8257650a099d",
   "metadata": {},
   "outputs": [
    {
     "data": {
      "text/plain": [
       "(149188, 4)"
      ]
     },
     "execution_count": 107,
     "metadata": {},
     "output_type": "execute_result"
    }
   ],
   "source": [
    "df.shape"
   ]
  },
  {
   "cell_type": "code",
   "execution_count": 115,
   "id": "beb7e6df-9de4-4d82-8b72-2db5d8cd1710",
   "metadata": {},
   "outputs": [],
   "source": [
    "from surprise import Dataset\n",
    "from surprise import Reader\n",
    "from surprise import SVD, NMF\n",
    "\n",
    "from surprise.model_selection import cross_validate"
   ]
  },
  {
   "cell_type": "code",
   "execution_count": 116,
   "id": "c2a5c5a7-857f-46b6-a07f-b17b059bb49a",
   "metadata": {},
   "outputs": [
    {
     "data": {
      "text/plain": [
       "(149188, 4)"
      ]
     },
     "execution_count": 116,
     "metadata": {},
     "output_type": "execute_result"
    }
   ],
   "source": [
    "df.shape"
   ]
  },
  {
   "cell_type": "code",
   "execution_count": 117,
   "id": "fa99980f-9b8f-4de2-9cc0-ad13330f1a2c",
   "metadata": {},
   "outputs": [],
   "source": [
    "# A reader is still needed but only the rating_scale param is requiered.\n",
    "reader = Reader(rating_scale=(1, 2))\n",
    "\n",
    "# The columns must correspond to user id, item id and ratings (in that order).\n",
    "data = Dataset.load_from_df(df[['user', 'item', 'rating']], reader)"
   ]
  },
  {
   "cell_type": "code",
   "execution_count": 122,
   "id": "920c191b-56c5-4412-afb5-184015ed7b6c",
   "metadata": {},
   "outputs": [
    {
     "name": "stdout",
     "output_type": "stream",
     "text": [
      "Evaluating RMSE, MAE of algorithm SVD on 2 split(s).\n",
      "\n",
      "                  Fold 1  Fold 2  Mean    Std     \n",
      "RMSE (testset)    0.0496  0.0504  0.0500  0.0004  \n",
      "MAE (testset)     0.0259  0.0263  0.0261  0.0002  \n",
      "Fit time          3.74    3.58    3.66    0.08    \n",
      "Test time         0.40    1.63    1.02    0.62    \n"
     ]
    },
    {
     "data": {
      "text/plain": [
       "{'test_rmse': array([0.04964144, 0.0503632 ]),\n",
       " 'test_mae': array([0.0259452 , 0.02627509]),\n",
       " 'fit_time': (3.738861083984375, 3.5790390968322754),\n",
       " 'test_time': (0.39625024795532227, 1.6337718963623047)}"
      ]
     },
     "execution_count": 122,
     "metadata": {},
     "output_type": "execute_result"
    }
   ],
   "source": [
    "# Run 5-fold cross-validation and print results.\n",
    "cross_validate(SVD(), data, measures=['RMSE', 'MAE'], cv=2, verbose=True)"
   ]
  },
  {
   "cell_type": "code",
   "execution_count": null,
   "id": "42391fb0-c122-4038-9a5d-485ed47b8dc4",
   "metadata": {},
   "outputs": [],
   "source": []
  }
 ],
 "metadata": {
  "kernelspec": {
   "display_name": "Python 3 (ipykernel)",
   "language": "python",
   "name": "python3"
  },
  "language_info": {
   "codemirror_mode": {
    "name": "ipython",
    "version": 3
   },
   "file_extension": ".py",
   "mimetype": "text/x-python",
   "name": "python",
   "nbconvert_exporter": "python",
   "pygments_lexer": "ipython3",
   "version": "3.8.8"
  }
 },
 "nbformat": 4,
 "nbformat_minor": 5
}
