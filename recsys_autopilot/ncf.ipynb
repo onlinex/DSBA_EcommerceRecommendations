{
 "cells": [
  {
   "attachments": {},
   "cell_type": "markdown",
   "metadata": {},
   "source": [
    "<h1>Neural Collaborative Filtering</h1>"
   ]
  },
  {
   "cell_type": "code",
   "execution_count": 115,
   "metadata": {},
   "outputs": [
    {
     "name": "stdout",
     "output_type": "stream",
     "text": [
      "System version: 3.9.15 | packaged by conda-forge | (main, Nov 22 2022, 08:48:25) \n",
      "[Clang 14.0.6 ]\n",
      "Pandas version: 1.5.3\n",
      "Tensorflow version: 2.11.0\n"
     ]
    }
   ],
   "source": [
    "import sys\n",
    "import pandas as pd\n",
    "import tensorflow as tf\n",
    "tf.get_logger().setLevel('ERROR') # only show error messages\n",
    "\n",
    "from recommenders.utils.timer import Timer\n",
    "from recommenders.models.ncf.ncf_singlenode import NCF\n",
    "from recommenders.models.ncf.dataset import Dataset as NCFDataset\n",
    "from recommenders.datasets import movielens\n",
    "from recommenders.utils.notebook_utils import is_jupyter\n",
    "from recommenders.datasets.python_splitters import python_chrono_split\n",
    "from recommenders.evaluation.python_evaluation import (rmse, mae, rsquared, exp_var, map_at_k, ndcg_at_k, precision_at_k,  \n",
    "                                                     recall_at_k, get_top_k_items)\n",
    "\n",
    "import matplotlib.pyplot as plt\n",
    "from copy import deepcopy\n",
    "\n",
    "from tqdm import tqdm\n",
    "import numpy as np\n",
    "\n",
    "print(\"System version: {}\".format(sys.version))\n",
    "print(\"Pandas version: {}\".format(pd.__version__))\n",
    "print(\"Tensorflow version: {}\".format(tf.__version__))"
   ]
  },
  {
   "attachments": {},
   "cell_type": "markdown",
   "metadata": {},
   "source": [
    "<h1>Load the dataset</h1>"
   ]
  },
  {
   "cell_type": "code",
   "execution_count": 116,
   "metadata": {},
   "outputs": [],
   "source": [
    "def load(dataset_name):\n",
    "    train_file = \"../data/{}/train.csv\".format(dataset_name)\n",
    "    test_file = \"../data/{}/test.csv\".format(dataset_name)\n",
    "\n",
    "    train = pd.read_csv(train_file)\n",
    "    test  = pd.read_csv(test_file)\n",
    "\n",
    "    #plt.figure(figsize=(14, 3))\n",
    "    #train['rating'].hist()\n",
    "\n",
    "    if dataset_name == 'movielens' or dataset_name == 'goodreads':\n",
    "        train['rating'] /= 5\n",
    "        test['rating'] /=5\n",
    "    elif dataset_name == 'sas':\n",
    "        train['rating'] = 1\n",
    "        test['rating'] = 1\n",
    "\n",
    "    train_file = '../data/{}/train_tmp.csv'.format(dataset_name)\n",
    "    test_file = '../data/{}/test_tmp.csv'.format(dataset_name)\n",
    "\n",
    "    train.to_csv(train_file)\n",
    "    test.to_csv(test_file)\n",
    "\n",
    "    binary_setting=False\n",
    "    if dataset_name=='steam' or dataset_name=='sas':\n",
    "        binary_setting=True\n",
    "\n",
    "    data = NCFDataset(train_file=train_file, test_file=test_file, seed=42, binary=binary_setting)\n",
    "    return train, test, data"
   ]
  },
  {
   "attachments": {},
   "cell_type": "markdown",
   "metadata": {},
   "source": [
    "<h1>Train the NCF model on the training data, and get the top-k recommendations for our testing data</h1>"
   ]
  },
  {
   "attachments": {},
   "cell_type": "markdown",
   "metadata": {},
   "source": [
    "- NCF accepts implicit feedback and generates prospensity of items to be recommended to users in the scale of 0 to 1\n",
    "- A recommended item list can then be generated based on the scores"
   ]
  },
  {
   "cell_type": "code",
   "execution_count": 141,
   "metadata": {},
   "outputs": [],
   "source": [
    "def init_NCF(data, epochs=2, factors=48):\n",
    "    model = NCF(\n",
    "        n_users=data.n_users, \n",
    "        n_items=data.n_items,\n",
    "        model_type=\"NeuMF\",\n",
    "        n_factors=factors,\n",
    "        layer_sizes=[16,8,4],\n",
    "        n_epochs=epochs,\n",
    "        batch_size=256,\n",
    "        learning_rate=1e-3,\n",
    "        verbose=1,\n",
    "        seed=42\n",
    "    )\n",
    "    return model"
   ]
  },
  {
   "cell_type": "code",
   "execution_count": 171,
   "metadata": {},
   "outputs": [],
   "source": [
    "class NCF_recsys():\n",
    "    def __init__(self, name='sas'):\n",
    "\n",
    "        self.dataset_name = name\n",
    "        \n",
    "        self.train, self.test, self.data = load(name)\n",
    "\n",
    "        epochs = {\n",
    "            'movielens': 15,\n",
    "            'steam': 3,\n",
    "            'goodreads': 6,\n",
    "            'sas': 10,\n",
    "        }\n",
    "        factors = {\n",
    "            'movielens': 48,\n",
    "            'steam': 48,\n",
    "            'goodreads': 48,\n",
    "            'sas': 48,\n",
    "        }\n",
    "        self.model = init_NCF(self.data, epochs[name], factors[name])\n",
    "\n",
    "    def fit(self):\n",
    "        with Timer() as train_time:\n",
    "            self.model.fit(self.data)\n",
    "\n",
    "        print(\"Took {} seconds for training.\".format(train_time))\n",
    "\n",
    "\n",
    "    def get_top_n_recommendations(self, user_id, n=100):\n",
    "        import numpy as np\n",
    "\n",
    "        item_ids = np.arange(self.model.n_items)\n",
    "        user_ids = np.full(self.model.n_items, user_id, dtype=np.int32)\n",
    "        \n",
    "        scores = np.array(self.model.predict(user_ids, item_ids, is_list=True))\n",
    "        top_n_indices = np.argsort(scores)[-n:]  # Get the indices of the top N items\n",
    "        \n",
    "        return item_ids[top_n_indices], scores[top_n_indices]\n",
    "    \n",
    "    #######################\n",
    "    def map_k(self, data_true, data_pred, K):\n",
    "        return map_at_k(data_true, data_pred, col_user=\"userID\", col_item=\"itemID\", \n",
    "                    col_rating=\"rating\", col_prediction=\"prediction\", \n",
    "                    relevancy_method=\"top_k\", k= K)\n",
    "    \n",
    "    def ndcg_k(self, data_true, data_pred, K):\n",
    "        return ndcg_at_k(data_true, data_pred, col_user=\"userID\", col_item=\"itemID\", \n",
    "                    col_rating=\"rating\", col_prediction=\"prediction\", \n",
    "                    relevancy_method=\"top_k\", k= K)\n",
    "    \n",
    "    def precision_k(self, data_true, data_pred, K):\n",
    "        return precision_at_k(data_true, data_pred, col_user=\"userID\", col_item=\"itemID\", \n",
    "                    col_rating=\"rating\", col_prediction=\"prediction\", \n",
    "                    relevancy_method=\"top_k\", k= K)\n",
    "    \n",
    "    def recall_k(self, data_true, data_pred, K):\n",
    "        return recall_at_k(data_true, data_pred, col_user=\"userID\", col_item=\"itemID\", \n",
    "                    col_rating=\"rating\", col_prediction=\"prediction\", \n",
    "                    relevancy_method=\"top_k\", k= K)\n",
    "    \n",
    "    def inference(self):\n",
    "\n",
    "        with Timer() as inference_time:\n",
    "            from tqdm import tqdm\n",
    "\n",
    "            users, items, preds = [], [], []\n",
    "\n",
    "            for user in tqdm(self.train.userID.unique()):\n",
    "                item, score = self.get_top_n_recommendations(user, 100)\n",
    "                user = [user] * len(item)\n",
    "\n",
    "                users.extend(user)\n",
    "                items.extend(item)\n",
    "                preds.extend(score)\n",
    "\n",
    "        print(\"Took {} seconds for prediction.\".format(inference_time))\n",
    "\n",
    "        all_predictions = pd.DataFrame(data={\"userID\": users, \"itemID\":items, \"prediction\":preds})\n",
    "        return all_predictions\n",
    "    \n",
    "    def get_all_scores(self):\n",
    "        from tqdm import tqdm\n",
    "\n",
    "        # all predictions\n",
    "        top_k_df = self.inference()\n",
    "        # exclude seen items\n",
    "        top_ex = pd.merge(self.train, top_k_df, on=[\"userID\", \"itemID\"], how=\"outer\")\n",
    "        top_ex = top_ex[top_ex.rating.isnull()].drop('rating', axis=1)\n",
    "\n",
    "        test_df = self.test\n",
    "\n",
    "        exc_seen_rank = pd.DataFrame({\n",
    "            'TOP_K': [5, 10, 50],\n",
    "            'MAP': [self.map_k(test_df, top_ex, 5), self.map_k(test_df, top_ex, 10), self.map_k(test_df, top_ex, 50)],\n",
    "            'NDCG': [self.ndcg_k(test_df, top_ex, 5), self.ndcg_k(test_df, top_ex, 10), self.ndcg_k(test_df, top_ex, 50)],\n",
    "            'Precision': [self.precision_k(test_df, top_ex, 5), self.precision_k(test_df, top_ex, 10), self.precision_k(test_df, top_ex, 50)],\n",
    "            'Recall': [self.recall_k(test_df, top_ex, 5), self.recall_k(test_df, top_ex, 10), self.recall_k(test_df, top_ex, 50)],\n",
    "        })\n",
    "\n",
    "        inc_seen_rank = pd.DataFrame({\n",
    "            'TOP_K': [5, 10, 50],\n",
    "            'MAP': [self.map_k(test_df, top_k_df, 5), self.map_k(test_df, top_k_df, 10), self.map_k(test_df, top_k_df, 50)],\n",
    "            'NDCG': [self.ndcg_k(test_df, top_k_df, 5), self.ndcg_k(test_df, top_k_df, 10), self.ndcg_k(test_df, top_k_df, 50)],\n",
    "            'Precision': [self.precision_k(test_df, top_k_df, 5), self.precision_k(test_df, top_k_df, 10), self.precision_k(test_df, top_k_df, 50)],\n",
    "            'Recall': [self.recall_k(test_df, top_k_df, 5), self.recall_k(test_df, top_k_df, 10), self.recall_k(test_df, top_k_df, 50)],\n",
    "        })\n",
    "\n",
    "        print('Rating predicting...')\n",
    "\n",
    "        predictions = []\n",
    "        for z, (u, i, r, t) in tqdm(self.test.iterrows(), total=self.test.shape[0]):\n",
    "            try:\n",
    "                prediction = self.model.predict(int(u), int(i))\n",
    "            except:\n",
    "                prediction = 0\n",
    "            predictions.append(prediction)\n",
    "\n",
    "        pred = deepcopy(self.test)\n",
    "        pred = pred.drop('rating', axis=1)\n",
    "        pred['prediction'] = predictions\n",
    "\n",
    "        data_true=self.test\n",
    "        data_pred=pred\n",
    "\n",
    "        if self.dataset_name == 'movielens' or self.dataset_name == 'goodreads':\n",
    "            data_pred['prediction'] *= 5\n",
    "            data_true['rating'] *= 5\n",
    "\n",
    "        eval_rmse = rmse(data_true, data_pred, col_user=\"userID\", col_item=\"itemID\", col_rating=\"rating\", col_prediction=\"prediction\")\n",
    "        eval_mae = mae(data_true, data_pred, col_user=\"userID\", col_item=\"itemID\", col_rating=\"rating\", col_prediction=\"prediction\")\n",
    "        eval_exp_var = exp_var(data_true, data_pred, col_user=\"userID\", col_item=\"itemID\", col_rating=\"rating\", col_prediction=\"prediction\")\n",
    "        eval_rsquared = rsquared(data_true, data_pred, col_user=\"userID\", col_item=\"itemID\", col_rating=\"rating\", col_prediction=\"prediction\")\n",
    "\n",
    "        inc_seen_rait = pd.DataFrame({\n",
    "            'RMSE': [eval_rmse],\n",
    "            'MAE': [eval_mae],\n",
    "            'Exp Var': [eval_exp_var],\n",
    "            'R squared': [eval_rsquared]\n",
    "        })\n",
    "\n",
    "        return exc_seen_rank, inc_seen_rank, inc_seen_rait"
   ]
  },
  {
   "attachments": {},
   "cell_type": "markdown",
   "metadata": {},
   "source": [
    "<h1>Evaluate how well NCF performs</h1>"
   ]
  },
  {
   "cell_type": "code",
   "execution_count": 172,
   "metadata": {},
   "outputs": [],
   "source": [
    "def full_train(ds_name):\n",
    "    als_recsys = NCF_recsys(ds_name)\n",
    "    als_recsys.fit()\n",
    "    return als_recsys.get_all_scores()"
   ]
  },
  {
   "cell_type": "code",
   "execution_count": 173,
   "metadata": {},
   "outputs": [
    {
     "name": "stderr",
     "output_type": "stream",
     "text": [
      "INFO:recommenders.models.ncf.dataset:Indexing ../data/steam/train_tmp.csv ...\n",
      "INFO:recommenders.models.ncf.dataset:Indexing ../data/steam/test_tmp.csv ...\n",
      "INFO:recommenders.models.ncf.dataset:Indexing ../data/steam/test_tmp_full.csv ...\n",
      "100%|██████████| 24752/24752 [00:15<00:00, 1567.38it/s]\n",
      "901it [00:15, 56.95it/s]\n",
      "INFO:recommenders.models.ncf.ncf_singlenode:Epoch 1 [15.82s]: train_loss = 0.378367 \n",
      "100%|██████████| 24752/24752 [00:15<00:00, 1624.28it/s]\n",
      "901it [00:15, 59.03it/s]\n",
      "INFO:recommenders.models.ncf.ncf_singlenode:Epoch 2 [15.26s]: train_loss = 0.300032 \n",
      "100%|██████████| 24752/24752 [00:15<00:00, 1618.60it/s]\n",
      "901it [00:15, 58.83it/s]\n",
      "INFO:recommenders.models.ncf.ncf_singlenode:Epoch 3 [15.32s]: train_loss = 0.220261 \n",
      "100%|██████████| 24752/24752 [00:15<00:00, 1629.48it/s]\n",
      "901it [00:15, 59.23it/s]\n",
      "INFO:recommenders.models.ncf.ncf_singlenode:Epoch 4 [15.21s]: train_loss = 0.123498 \n",
      "100%|██████████| 24752/24752 [00:15<00:00, 1621.57it/s]\n",
      "901it [00:15, 58.94it/s]\n",
      "INFO:recommenders.models.ncf.ncf_singlenode:Epoch 5 [15.29s]: train_loss = 0.065829 \n",
      "100%|██████████| 24752/24752 [00:15<00:00, 1604.47it/s]\n",
      "901it [00:15, 58.32it/s]\n",
      "INFO:recommenders.models.ncf.ncf_singlenode:Epoch 6 [15.45s]: train_loss = 0.036910 \n",
      "100%|██████████| 24752/24752 [00:15<00:00, 1618.25it/s]\n",
      "901it [00:15, 58.82it/s]\n",
      "INFO:recommenders.models.ncf.ncf_singlenode:Epoch 7 [15.32s]: train_loss = 0.021866 \n"
     ]
    },
    {
     "name": "stdout",
     "output_type": "stream",
     "text": [
      "Took 107.6771 seconds for training.\n"
     ]
    },
    {
     "name": "stderr",
     "output_type": "stream",
     "text": [
      "100%|██████████| 24752/24752 [00:37<00:00, 667.44it/s]\n"
     ]
    },
    {
     "name": "stdout",
     "output_type": "stream",
     "text": [
      "Took 37.0862 seconds for prediction.\n",
      "Rating predicting...\n"
     ]
    },
    {
     "name": "stderr",
     "output_type": "stream",
     "text": [
      "100%|██████████| 8817/8817 [00:02<00:00, 3782.19it/s]\n"
     ]
    }
   ],
   "source": [
    "exc_seen_rank, inc_seen_rank, inc_seen_rait = full_train('steam')"
   ]
  },
  {
   "cell_type": "code",
   "execution_count": 174,
   "metadata": {},
   "outputs": [
    {
     "name": "stderr",
     "output_type": "stream",
     "text": [
      "/var/folders/p5/jqpndw0d2cg7g0mst1n0c49r0000gn/T/ipykernel_20749/3256864183.py:1: FutureWarning: this method is deprecated in favour of `Styler.hide(axis=\"index\")`\n",
      "  exc_seen_rank.style.hide_index()\n"
     ]
    },
    {
     "data": {
      "text/html": [
       "<style type=\"text/css\">\n",
       "</style>\n",
       "<table id=\"T_cf9ed\">\n",
       "  <thead>\n",
       "    <tr>\n",
       "      <th id=\"T_cf9ed_level0_col0\" class=\"col_heading level0 col0\" >TOP_K</th>\n",
       "      <th id=\"T_cf9ed_level0_col1\" class=\"col_heading level0 col1\" >MAP</th>\n",
       "      <th id=\"T_cf9ed_level0_col2\" class=\"col_heading level0 col2\" >NDCG</th>\n",
       "      <th id=\"T_cf9ed_level0_col3\" class=\"col_heading level0 col3\" >Precision</th>\n",
       "      <th id=\"T_cf9ed_level0_col4\" class=\"col_heading level0 col4\" >Recall</th>\n",
       "    </tr>\n",
       "  </thead>\n",
       "  <tbody>\n",
       "    <tr>\n",
       "      <td id=\"T_cf9ed_row0_col0\" class=\"data row0 col0\" >5</td>\n",
       "      <td id=\"T_cf9ed_row0_col1\" class=\"data row0 col1\" >0.054668</td>\n",
       "      <td id=\"T_cf9ed_row0_col2\" class=\"data row0 col2\" >0.067289</td>\n",
       "      <td id=\"T_cf9ed_row0_col3\" class=\"data row0 col3\" >0.022865</td>\n",
       "      <td id=\"T_cf9ed_row0_col4\" class=\"data row0 col4\" >0.093229</td>\n",
       "    </tr>\n",
       "    <tr>\n",
       "      <td id=\"T_cf9ed_row1_col0\" class=\"data row1 col0\" >10</td>\n",
       "      <td id=\"T_cf9ed_row1_col1\" class=\"data row1 col1\" >0.059369</td>\n",
       "      <td id=\"T_cf9ed_row1_col2\" class=\"data row1 col2\" >0.079119</td>\n",
       "      <td id=\"T_cf9ed_row1_col3\" class=\"data row1 col3\" >0.015784</td>\n",
       "      <td id=\"T_cf9ed_row1_col4\" class=\"data row1 col4\" >0.127846</td>\n",
       "    </tr>\n",
       "    <tr>\n",
       "      <td id=\"T_cf9ed_row2_col0\" class=\"data row2 col0\" >50</td>\n",
       "      <td id=\"T_cf9ed_row2_col1\" class=\"data row2 col1\" >0.065398</td>\n",
       "      <td id=\"T_cf9ed_row2_col2\" class=\"data row2 col2\" >0.108637</td>\n",
       "      <td id=\"T_cf9ed_row2_col3\" class=\"data row2 col3\" >0.006396</td>\n",
       "      <td id=\"T_cf9ed_row2_col4\" class=\"data row2 col4\" >0.254841</td>\n",
       "    </tr>\n",
       "  </tbody>\n",
       "</table>\n"
      ],
      "text/plain": [
       "<pandas.io.formats.style.Styler at 0x28feff940>"
      ]
     },
     "execution_count": 174,
     "metadata": {},
     "output_type": "execute_result"
    }
   ],
   "source": [
    "exc_seen_rank.style.hide_index()"
   ]
  },
  {
   "cell_type": "code",
   "execution_count": 175,
   "metadata": {},
   "outputs": [
    {
     "name": "stderr",
     "output_type": "stream",
     "text": [
      "/var/folders/p5/jqpndw0d2cg7g0mst1n0c49r0000gn/T/ipykernel_20749/1931737838.py:1: FutureWarning: this method is deprecated in favour of `Styler.hide(axis=\"index\")`\n",
      "  inc_seen_rank.style.hide_index()\n"
     ]
    },
    {
     "data": {
      "text/html": [
       "<style type=\"text/css\">\n",
       "</style>\n",
       "<table id=\"T_5ee7a\">\n",
       "  <thead>\n",
       "    <tr>\n",
       "      <th id=\"T_5ee7a_level0_col0\" class=\"col_heading level0 col0\" >TOP_K</th>\n",
       "      <th id=\"T_5ee7a_level0_col1\" class=\"col_heading level0 col1\" >MAP</th>\n",
       "      <th id=\"T_5ee7a_level0_col2\" class=\"col_heading level0 col2\" >NDCG</th>\n",
       "      <th id=\"T_5ee7a_level0_col3\" class=\"col_heading level0 col3\" >Precision</th>\n",
       "      <th id=\"T_5ee7a_level0_col4\" class=\"col_heading level0 col4\" >Recall</th>\n",
       "    </tr>\n",
       "  </thead>\n",
       "  <tbody>\n",
       "    <tr>\n",
       "      <td id=\"T_5ee7a_row0_col0\" class=\"data row0 col0\" >5</td>\n",
       "      <td id=\"T_5ee7a_row0_col1\" class=\"data row0 col1\" >0.025274</td>\n",
       "      <td id=\"T_5ee7a_row0_col2\" class=\"data row0 col2\" >0.036395</td>\n",
       "      <td id=\"T_5ee7a_row0_col3\" class=\"data row0 col3\" >0.015135</td>\n",
       "      <td id=\"T_5ee7a_row0_col4\" class=\"data row0 col4\" >0.066018</td>\n",
       "    </tr>\n",
       "    <tr>\n",
       "      <td id=\"T_5ee7a_row1_col0\" class=\"data row1 col0\" >10</td>\n",
       "      <td id=\"T_5ee7a_row1_col1\" class=\"data row1 col1\" >0.032348</td>\n",
       "      <td id=\"T_5ee7a_row1_col2\" class=\"data row1 col2\" >0.054401</td>\n",
       "      <td id=\"T_5ee7a_row1_col3\" class=\"data row1 col3\" >0.014294</td>\n",
       "      <td id=\"T_5ee7a_row1_col4\" class=\"data row1 col4\" >0.118095</td>\n",
       "    </tr>\n",
       "    <tr>\n",
       "      <td id=\"T_5ee7a_row2_col0\" class=\"data row2 col0\" >50</td>\n",
       "      <td id=\"T_5ee7a_row2_col1\" class=\"data row2 col1\" >0.039060</td>\n",
       "      <td id=\"T_5ee7a_row2_col2\" class=\"data row2 col2\" >0.086920</td>\n",
       "      <td id=\"T_5ee7a_row2_col3\" class=\"data row2 col3\" >0.006435</td>\n",
       "      <td id=\"T_5ee7a_row2_col4\" class=\"data row2 col4\" >0.257049</td>\n",
       "    </tr>\n",
       "  </tbody>\n",
       "</table>\n"
      ],
      "text/plain": [
       "<pandas.io.formats.style.Styler at 0x298050670>"
      ]
     },
     "execution_count": 175,
     "metadata": {},
     "output_type": "execute_result"
    }
   ],
   "source": [
    "inc_seen_rank.style.hide_index()"
   ]
  },
  {
   "cell_type": "code",
   "execution_count": 176,
   "metadata": {},
   "outputs": [
    {
     "name": "stderr",
     "output_type": "stream",
     "text": [
      "/var/folders/p5/jqpndw0d2cg7g0mst1n0c49r0000gn/T/ipykernel_20749/3271275326.py:1: FutureWarning: this method is deprecated in favour of `Styler.hide(axis=\"index\")`\n",
      "  inc_seen_rait.style.hide_index()\n"
     ]
    },
    {
     "data": {
      "text/html": [
       "<style type=\"text/css\">\n",
       "</style>\n",
       "<table id=\"T_9bc4f\">\n",
       "  <thead>\n",
       "    <tr>\n",
       "      <th id=\"T_9bc4f_level0_col0\" class=\"col_heading level0 col0\" >RMSE</th>\n",
       "      <th id=\"T_9bc4f_level0_col1\" class=\"col_heading level0 col1\" >MAE</th>\n",
       "      <th id=\"T_9bc4f_level0_col2\" class=\"col_heading level0 col2\" >Exp Var</th>\n",
       "      <th id=\"T_9bc4f_level0_col3\" class=\"col_heading level0 col3\" >R squared</th>\n",
       "    </tr>\n",
       "  </thead>\n",
       "  <tbody>\n",
       "    <tr>\n",
       "      <td id=\"T_9bc4f_row0_col0\" class=\"data row0 col0\" >0.870477</td>\n",
       "      <td id=\"T_9bc4f_row0_col1\" class=\"data row0 col1\" >0.793690</td>\n",
       "      <td id=\"T_9bc4f_row0_col2\" class=\"data row0 col2\" >-0.458661</td>\n",
       "      <td id=\"T_9bc4f_row0_col3\" class=\"data row0 col3\" >-6.353539</td>\n",
       "    </tr>\n",
       "  </tbody>\n",
       "</table>\n"
      ],
      "text/plain": [
       "<pandas.io.formats.style.Styler at 0x28dd50370>"
      ]
     },
     "execution_count": 176,
     "metadata": {},
     "output_type": "execute_result"
    }
   ],
   "source": [
    "inc_seen_rait.style.hide_index()"
   ]
  },
  {
   "attachments": {},
   "cell_type": "markdown",
   "metadata": {},
   "source": [
    "<h3>SAS RFM</h3>"
   ]
  },
  {
   "cell_type": "code",
   "execution_count": 111,
   "metadata": {},
   "outputs": [],
   "source": [
    "rfm = pd.read_parquet('../data/sas/mart/rfm_mapped.parquet')\n",
    "rfm_levels = [\"Can't Loose Them\", \"Champions\", \"Loyal\", \"Potential\", \"Sleeping\", \"Require Activation\"]"
   ]
  },
  {
   "cell_type": "code",
   "execution_count": 105,
   "metadata": {},
   "outputs": [
    {
     "name": "stderr",
     "output_type": "stream",
     "text": [
      "INFO:recommenders.models.ncf.dataset:Indexing ../data/sas/train_tmp.csv ...\n",
      "INFO:recommenders.models.ncf.dataset:Indexing ../data/sas/test_tmp.csv ...\n",
      "INFO:recommenders.models.ncf.dataset:Indexing ../data/sas/test_tmp_full.csv ...\n",
      "100%|██████████| 47759/47759 [00:33<00:00, 1446.22it/s]\n",
      "3213it [00:33, 97.26it/s] \n",
      "INFO:recommenders.models.ncf.ncf_singlenode:Epoch 1 [33.04s]: train_loss = 0.454617 \n",
      "100%|██████████| 47759/47759 [00:32<00:00, 1463.88it/s]\n",
      "3213it [00:32, 98.45it/s]\n",
      "INFO:recommenders.models.ncf.ncf_singlenode:Epoch 2 [32.64s]: train_loss = 0.375897 \n",
      "100%|██████████| 47759/47759 [00:33<00:00, 1443.04it/s]\n",
      "3213it [00:33, 97.05it/s]\n",
      "INFO:recommenders.models.ncf.ncf_singlenode:Epoch 3 [33.11s]: train_loss = 0.283185 \n"
     ]
    },
    {
     "name": "stdout",
     "output_type": "stream",
     "text": [
      "Took 98.7847 seconds for training.\n"
     ]
    },
    {
     "data": {
      "image/png": "[encoded data removed]",
      "text/plain": [
       "<Figure size 1400x300 with 1 Axes>"
      ]
     },
     "metadata": {},
     "output_type": "display_data"
    }
   ],
   "source": [
    "als_recsys = NCF_recsys('sas')\n",
    "als_recsys.fit()"
   ]
  },
  {
   "cell_type": "code",
   "execution_count": 107,
   "metadata": {},
   "outputs": [
    {
     "name": "stderr",
     "output_type": "stream",
     "text": [
      "100%|██████████| 47759/47759 [02:01<00:00, 394.24it/s]\n"
     ]
    },
    {
     "name": "stdout",
     "output_type": "stream",
     "text": [
      "Took 121.1257 seconds for prediction.\n"
     ]
    }
   ],
   "source": [
    "# all predictions\n",
    "top_k_df = als_recsys.inference()\n",
    "# exclude seen items\n",
    "top_ex = pd.merge(als_recsys.train, top_k_df, on=[\"userID\", \"itemID\"], how=\"outer\")\n",
    "top_ex = top_ex[top_ex.rating.isnull()].drop('rating', axis=1)"
   ]
  },
  {
   "cell_type": "code",
   "execution_count": 108,
   "metadata": {},
   "outputs": [],
   "source": [
    "merged_pred = deepcopy(top_ex)\n",
    "merged_test = deepcopy(als_recsys.test)"
   ]
  },
  {
   "cell_type": "code",
   "execution_count": 109,
   "metadata": {},
   "outputs": [
    {
     "data": {
      "text/plain": [
       "0.04733723480398613"
      ]
     },
     "execution_count": 109,
     "metadata": {},
     "output_type": "execute_result"
    }
   ],
   "source": [
    "ndcg_at_k(merged_test, merged_pred, col_prediction='prediction', k=10)"
   ]
  },
  {
   "cell_type": "code",
   "execution_count": 112,
   "metadata": {},
   "outputs": [
    {
     "name": "stdout",
     "output_type": "stream",
     "text": [
      "(5806, 4) (555251, 4)\n",
      "(3557, 4) (570602, 4)\n",
      "(4122, 4) (838708, 4)\n",
      "(4400, 4) (1156086, 4)\n",
      "(2720, 4) (1010933, 4)\n",
      "(574, 4) (383308, 4)\n"
     ]
    }
   ],
   "source": [
    "TOP_K = 10\n",
    "NDCGs = []\n",
    "for level in rfm_levels:\n",
    "    users = rfm[rfm['RFM_Level'] == level]['phone'].unique()\n",
    "\n",
    "    m_test_s = merged_test[merged_test['userID'].isin(users)]\n",
    "    m_pred_s = merged_pred[merged_pred['userID'].isin(users)]\n",
    "\n",
    "    print(m_test_s.shape, m_pred_s.shape)\n",
    "\n",
    "    eval_map = map_at_k(m_test_s, m_pred_s, col_prediction='prediction', k=TOP_K)\n",
    "    eval_ndcg = ndcg_at_k(m_test_s, m_pred_s, col_prediction='prediction', k=TOP_K)\n",
    "\n",
    "    NDCGs.append(eval_ndcg)"
   ]
  },
  {
   "cell_type": "code",
   "execution_count": 113,
   "metadata": {},
   "outputs": [
    {
     "name": "stdout",
     "output_type": "stream",
     "text": [
      "Can't Loose Them 0.0377\n",
      "Champions 0.0411\n",
      "Loyal 0.0481\n",
      "Potential 0.0426\n",
      "Sleeping 0.0524\n",
      "Require Activation 0.0785\n"
     ]
    }
   ],
   "source": [
    "for level, ndcg in zip(rfm_levels, NDCGs):\n",
    "    print(level, np.round(ndcg, 4))"
   ]
  },
  {
   "cell_type": "code",
   "execution_count": 114,
   "metadata": {},
   "outputs": [
    {
     "data": {
      "image/png": "[encoded data removed]",
      "text/plain": [
       "<Figure size 1500x500 with 1 Axes>"
      ]
     },
     "metadata": {},
     "output_type": "display_data"
    }
   ],
   "source": [
    "plt.figure(figsize=(15,5))\n",
    "plt.bar(rfm_levels, NDCGs);"
   ]
  },
  {
   "cell_type": "markdown",
   "metadata": {},
   "source": []
  }
 ],
 "metadata": {
  "kernelspec": {
   "display_name": "recsys",
   "language": "python",
   "name": "python3"
  },
  "language_info": {
   "codemirror_mode": {
    "name": "ipython",
    "version": 3
   },
   "file_extension": ".py",
   "mimetype": "text/x-python",
   "name": "python",
   "nbconvert_exporter": "python",
   "pygments_lexer": "ipython3",
   "version": "3.9.15"
  },
  "orig_nbformat": 4,
  "vscode": {
   "interpreter": {
    "hash": "78bff6571efa098a29603b0b132d0489520f19bae7ac06bdfd504caef114317d"
   }
  }
 },
 "nbformat": 4,
 "nbformat_minor": 2
}
