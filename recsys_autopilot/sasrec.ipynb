{
 "cells": [
  {
   "cell_type": "code",
   "execution_count": 1,
   "metadata": {},
   "outputs": [
    {
     "name": "stdout",
     "output_type": "stream",
     "text": [
      "System version: 3.9.15 | packaged by conda-forge | (main, Nov 22 2022, 08:48:25) \n",
      "[Clang 14.0.6 ]\n",
      "Tensorflow version: 2.11.0\n"
     ]
    }
   ],
   "source": [
    "import re\n",
    "import sys\n",
    "import os\n",
    "from tempfile import TemporaryDirectory\n",
    "import numpy as np\n",
    "import pandas as pd \n",
    "\n",
    "from collections import defaultdict\n",
    "import tensorflow as tf\n",
    "tf.get_logger().setLevel('ERROR') # only show error messages\n",
    "\n",
    "from recommenders.utils.timer import Timer\n",
    "from recommenders.datasets.amazon_reviews import get_review_data\n",
    "from recommenders.datasets.split_utils import filter_k_core\n",
    "\n",
    "# Transformer Based Models\n",
    "from recommenders.models.sasrec.model import SASREC\n",
    "from recommenders.models.sasrec.ssept import SSEPT\n",
    "\n",
    "# Sampler for sequential prediction\n",
    "from recommenders.models.sasrec.sampler import WarpSampler\n",
    "from recommenders.models.sasrec.util import SASRecDataSet\n",
    "\n",
    "import matplotlib.pyplot as plt\n",
    "# custom split from train / test / validation\n",
    "from collections import defaultdict\n",
    "import random\n",
    "from tqdm import tqdm\n",
    "import numpy as np\n",
    "import random\n",
    "from tqdm import tqdm\n",
    "from recommenders.evaluation.python_evaluation import map_at_k, ndcg_at_k, precision_at_k, recall_at_k\n",
    "\n",
    "print(\"System version: {}\".format(sys.version))\n",
    "print(\"Tensorflow version: {}\".format(tf.__version__))"
   ]
  },
  {
   "cell_type": "code",
   "execution_count": 2,
   "metadata": {},
   "outputs": [],
   "source": [
    "batch_size = 128\n",
    "RANDOM_SEED = 100  # Set None for non-deterministic result\n",
    "\n",
    "lr = 0.001             # learning rate\n",
    "maxlen = 50            # maximum sequence length for each user\n",
    "num_blocks = 2         # number of transformer blocks\n",
    "hidden_units = 100     # number of units in the attention calculation\n",
    "num_heads = 1          # number of attention heads\n",
    "dropout_rate = 0.1     # dropout rate\n",
    "l2_emb = 0.0           # L2 regularization coefficient\n",
    "num_neg_test = 100     # number of negative examples per positive example\n",
    "model_name = 'sasrec'  # 'sasrec' or 'ssept'"
   ]
  },
  {
   "cell_type": "code",
   "execution_count": 3,
   "metadata": {},
   "outputs": [],
   "source": [
    "def load(dataset_name):\n",
    "    # read raw data\n",
    "    train = pd.read_csv('../data/{}/train.csv'.format(dataset_name))\n",
    "    test  = pd.read_csv('../data/{}/test.csv'.format(dataset_name))\n",
    "\n",
    "    # sort by time, save the temporary version\n",
    "    train = train.sort_values(['userID', 'timestamp'])\n",
    "    test = test.sort_values(['userID', 'timestamp'])\n",
    "\n",
    "    train[['userID', 'itemID']].to_csv('../data/{}/train_tmp.csv'.format(dataset_name), index=False, header=False)\n",
    "    test[['userID', 'itemID']].to_csv('../data/{}/test_tmp.csv'.format(dataset_name), index=False, header=False)\n",
    "\n",
    "    return train, test"
   ]
  },
  {
   "attachments": {},
   "cell_type": "markdown",
   "metadata": {},
   "source": [
    "<h1>Custom data feeder</h1>"
   ]
  },
  {
   "cell_type": "code",
   "execution_count": 4,
   "metadata": {},
   "outputs": [],
   "source": [
    "def data_partition(self, filename_train, filename_test):\n",
    "    # assume user/item index starting from 1\n",
    "    f = open(filename_train, \"r\")\n",
    "    for line in f:\n",
    "        u, i = line.rstrip().split(self.col_sep)\n",
    "        u = int(u)\n",
    "        i = int(i)\n",
    "        self.usernum = max(u, self.usernum)\n",
    "        self.itemnum = max(i, self.itemnum)\n",
    "        self.User[u].append(i)\n",
    "\n",
    "    for user in self.User:\n",
    "        nfeedback = len(self.User[user])\n",
    "        if nfeedback < 2:\n",
    "            self.user_train[user] = self.User[user]\n",
    "            self.user_valid[user] = []\n",
    "            self.user_test[user] = []\n",
    "        else:\n",
    "            self.user_train[user] = self.User[user][:-1]\n",
    "            self.user_valid[user] = []\n",
    "            self.user_valid[user].append(self.User[user][-1])\n",
    "            self.user_test[user] = []\n",
    "\n",
    "    User_test = defaultdict(list)\n",
    "    f = open(filename_test, \"r\")\n",
    "    for line in f:\n",
    "        u, i = line.rstrip().split(self.col_sep)\n",
    "        u = int(u)\n",
    "        i = int(i)\n",
    "        User_test[u].append(i)\n",
    "\n",
    "    for user in User_test:\n",
    "        self.user_test[user] = User_test[user][:]"
   ]
  },
  {
   "attachments": {},
   "cell_type": "markdown",
   "metadata": {},
   "source": [
    "<h1>Model definition</h1>"
   ]
  },
  {
   "cell_type": "code",
   "execution_count": 5,
   "metadata": {},
   "outputs": [],
   "source": [
    "def init_SASREC(data):\n",
    "    model = SASREC(item_num=data.itemnum,\n",
    "        seq_max_len=maxlen,\n",
    "        num_blocks=num_blocks,\n",
    "        embedding_dim=hidden_units,\n",
    "        attention_dim=hidden_units,\n",
    "        attention_num_heads=num_heads,\n",
    "        dropout_rate=dropout_rate,\n",
    "        conv_dims = [100, 100],\n",
    "        l2_reg=l2_emb,\n",
    "        num_neg_test=data.itemnum-1#num_neg_test\n",
    "    )\n",
    "    return model"
   ]
  },
  {
   "cell_type": "code",
   "execution_count": 15,
   "metadata": {},
   "outputs": [],
   "source": [
    "def predict(self, dataset, num_workers=16):\n",
    "    from concurrent.futures import ThreadPoolExecutor\n",
    "    import concurrent\n",
    "\n",
    "    usernum = dataset.usernum\n",
    "    itemnum = dataset.itemnum\n",
    "    train = dataset.user_train\n",
    "    valid = dataset.user_valid\n",
    "    test = dataset.user_test\n",
    "\n",
    "    if usernum > 10000:\n",
    "        users = random.sample(range(1, usernum + 1), 20000)\n",
    "    else:\n",
    "        users = range(1, usernum + 1)\n",
    "\n",
    "    def predict_user(u):\n",
    "        # not enough training data\n",
    "        if len(train[u]) < 1 or len(test[u]) < 1:\n",
    "            return None\n",
    "\n",
    "        # construct user purchase history\n",
    "        seq = np.zeros([self.seq_max_len], dtype=np.int32)\n",
    "        idx = self.seq_max_len - 1\n",
    "        seq[idx] = valid[u][0]\n",
    "        idx -= 1\n",
    "        for i in reversed(train[u]):\n",
    "            seq[idx] = i\n",
    "            idx -= 1\n",
    "            if idx == -1:\n",
    "                break\n",
    "\n",
    "        # already interacted items\n",
    "        rated = set(train[u])\n",
    "\n",
    "        item_idx = np.arange(itemnum)\n",
    "\n",
    "        inputs = {}\n",
    "        inputs[\"user\"] = np.expand_dims(np.array([u]), axis=-1)\n",
    "        inputs[\"input_seq\"] = np.array([seq])\n",
    "        inputs[\"candidate\"] = np.array([item_idx])\n",
    "\n",
    "        # inverse to get descending sort\n",
    "        predictions = -1.0 * self.predict(inputs)\n",
    "        predictions = np.array(predictions)\n",
    "        predictions = predictions[0]\n",
    "\n",
    "        return u, {'predictions': predictions, 'test': test[u]}\n",
    "\n",
    "    results = {}\n",
    "\n",
    "    with ThreadPoolExecutor(max_workers=num_workers) as executor:\n",
    "        future_to_user = {executor.submit(predict_user, u): u for u in users}\n",
    "        for future in tqdm(concurrent.futures.as_completed(future_to_user), total=len(users), ncols=70, leave=False, unit=\"b\"):\n",
    "            user_result = future.result()\n",
    "            if user_result is not None:\n",
    "                u, res = user_result\n",
    "                results[u] = res\n",
    "\n",
    "    return results\n"
   ]
  },
  {
   "cell_type": "code",
   "execution_count": 28,
   "metadata": {},
   "outputs": [],
   "source": [
    "class SASREC_recsys:\n",
    "    def __init__(self, name):\n",
    "        \n",
    "        self.train, self.test = load(name)\n",
    "\n",
    "        # initiate a dataset class \n",
    "        self.data = SASRecDataSet(filename='../data/{}/train_tmp.csv'.format(name), col_sep=\",\")\n",
    "        # split the dataset\n",
    "        data_partition(self.data, '../data/{}/train_tmp.csv'.format(name), '../data/{}/test_tmp.csv'.format(name))\n",
    "\n",
    "        # sampler\n",
    "        self.sampler = WarpSampler(self.data.user_train, self.data.usernum, self.data.itemnum, batch_size=batch_size, maxlen=maxlen, n_workers=8)\n",
    "\n",
    "        self.model = init_SASREC(self.data)\n",
    "\n",
    "    def fit(self):\n",
    "        with Timer() as train_time:\n",
    "            _ = self.model.train(self.data, self.sampler, num_epochs=10, batch_size=batch_size, lr=lr, val_epoch=1000)\n",
    "\n",
    "        print('Time cost for training is {0:.2f} mins'.format(train_time.interval/60.0))\n",
    "\n",
    "    def inference(self):\n",
    "        TOP_K = 100\n",
    "        # make predictions\n",
    "        pred = predict(self.model, self.data)\n",
    "\n",
    "        # Convert predictions to dataframe df_pred\n",
    "        items_predicted = []\n",
    "        score_predicted = []\n",
    "        user_ids = []\n",
    "        for u,v in pred.items():\n",
    "            #\n",
    "            i_pred = v['predictions'].argsort()[:TOP_K]\n",
    "            s_pred = -1 * v['predictions'][i_pred]\n",
    "\n",
    "            items_predicted.extend(list(i_pred))\n",
    "            score_predicted.extend(list(s_pred))\n",
    "            user_ids.extend(list(np.full(TOP_K, u)))\n",
    "\n",
    "        # convert to dataframe\n",
    "        df_pred = pd.DataFrame({'userID': user_ids, 'itemID': items_predicted, 'prediction': score_predicted})\n",
    "        print(\"Prediction shape:\", df_pred.shape)\n",
    "\n",
    "        ##########\n",
    "        # Extract df_test dataframe\n",
    "        user_ids = []\n",
    "        test_ids = []\n",
    "        for u,v in pred.items():\n",
    "            test_ids.extend(list(v['test']))\n",
    "            user_ids.extend(list(np.full(len(v['test']), u)))\n",
    "\n",
    "        df_test = pd.DataFrame({'userID': user_ids, 'itemID': test_ids})\n",
    "        df_test['rating'] = 1.0\n",
    "\n",
    "        print('Testing shape:', df_test.shape)\n",
    "\n",
    "        return df_pred, df_test\n",
    "    \n",
    "    def exclude_seen_pred(self, df_pred):\n",
    "\n",
    "        # from predicted dataset exclude seen items\n",
    "        merged = pd.merge(self.train, df_pred, on=[\"userID\", \"itemID\"], how=\"outer\")\n",
    "        merged_pred = merged[merged.rating.isnull()].drop('rating', axis=1)\n",
    "\n",
    "        return merged_pred\n",
    "    \n",
    "    def exclude_seen_test(self, df_test):\n",
    "        # from ground truth test dataset, exclude seen items\n",
    "        merged = pd.merge(self.train, df_test, on=[\"userID\", \"itemID\"], how=\"outer\")\n",
    "        merged_test = merged[merged.rating_x.isnull()].drop('rating_x', axis=1).rename(columns={'rating_y': 'rating'})\n",
    "\n",
    "        return merged_test\n",
    "    \n",
    "    ##########################################\n",
    "    def map_k(self, data_true, data_pred, K):\n",
    "        return map_at_k(data_true, data_pred, col_user=\"userID\", col_item=\"itemID\", \n",
    "                    col_rating=\"rating\", col_prediction=\"prediction\", \n",
    "                    relevancy_method=\"top_k\", k= K)\n",
    "    \n",
    "    def ndcg_k(self, data_true, data_pred, K):\n",
    "        return ndcg_at_k(data_true, data_pred, col_user=\"userID\", col_item=\"itemID\", \n",
    "                    col_rating=\"rating\", col_prediction=\"prediction\", \n",
    "                    relevancy_method=\"top_k\", k= K)\n",
    "    \n",
    "    def precision_k(self, data_true, data_pred, K):\n",
    "        return precision_at_k(data_true, data_pred, col_user=\"userID\", col_item=\"itemID\", \n",
    "                    col_rating=\"rating\", col_prediction=\"prediction\", \n",
    "                    relevancy_method=\"top_k\", k= K)\n",
    "    \n",
    "    def recall_k(self, data_true, data_pred, K):\n",
    "        return recall_at_k(data_true, data_pred, col_user=\"userID\", col_item=\"itemID\", \n",
    "                    col_rating=\"rating\", col_prediction=\"prediction\", \n",
    "                    relevancy_method=\"top_k\", k= K)\n",
    "    \n",
    "\n",
    "    def get_all_scores(self):\n",
    "        # predict\n",
    "        pred, test = self.inference()\n",
    "        # exlcude train\n",
    "        pred_exc = self.exclude_seen_pred(pred)\n",
    "        test_exc = self.exclude_seen_test(test)\n",
    "\n",
    "        test_df, top_ex = test_exc, pred_exc\n",
    "        exc_seen_rank = pd.DataFrame({\n",
    "            'TOP_K': [5, 10, 50],\n",
    "            'MAP': [self.map_k(test_df, top_ex, 5), self.map_k(test_df, top_ex, 10), self.map_k(test_df, top_ex, 50)],\n",
    "            'NDCG': [self.ndcg_k(test_df, top_ex, 5), self.ndcg_k(test_df, top_ex, 10), self.ndcg_k(test_df, top_ex, 50)],\n",
    "            'Precision': [self.precision_k(test_df, top_ex, 5), self.precision_k(test_df, top_ex, 10), self.precision_k(test_df, top_ex, 50)],\n",
    "            'Recall': [self.recall_k(test_df, top_ex, 5), self.recall_k(test_df, top_ex, 10), self.recall_k(test_df, top_ex, 50)],\n",
    "        })\n",
    "\n",
    "        test_df, top_k_df = test, pred\n",
    "        inc_seen_rank = pd.DataFrame({\n",
    "            'TOP_K': [5, 10, 50],\n",
    "            'MAP': [self.map_k(test_df, top_k_df, 5), self.map_k(test_df, top_k_df, 10), self.map_k(test_df, top_k_df, 50)],\n",
    "            'NDCG': [self.ndcg_k(test_df, top_k_df, 5), self.ndcg_k(test_df, top_k_df, 10), self.ndcg_k(test_df, top_k_df, 50)],\n",
    "            'Precision': [self.precision_k(test_df, top_k_df, 5), self.precision_k(test_df, top_k_df, 10), self.precision_k(test_df, top_k_df, 50)],\n",
    "            'Recall': [self.recall_k(test_df, top_k_df, 5), self.recall_k(test_df, top_k_df, 10), self.recall_k(test_df, top_k_df, 50)],\n",
    "        })\n",
    "\n",
    "        return exc_seen_rank, inc_seen_rank"
   ]
  },
  {
   "cell_type": "code",
   "execution_count": 29,
   "metadata": {},
   "outputs": [],
   "source": [
    "def full_train(ds_name):\n",
    "    recsys = SASREC_recsys(ds_name)\n",
    "    recsys.fit()\n",
    "    return recsys.get_all_scores()"
   ]
  },
  {
   "cell_type": "code",
   "execution_count": 30,
   "metadata": {},
   "outputs": [
    {
     "name": "stderr",
     "output_type": "stream",
     "text": [
      "                                                                      \r"
     ]
    },
    {
     "name": "stdout",
     "output_type": "stream",
     "text": [
      "Epoch: 1 Train Loss: 1.0028718\n"
     ]
    },
    {
     "name": "stderr",
     "output_type": "stream",
     "text": [
      "                                                                      \r"
     ]
    },
    {
     "name": "stdout",
     "output_type": "stream",
     "text": [
      "Epoch: 2 Train Loss: 0.74376\n"
     ]
    },
    {
     "name": "stderr",
     "output_type": "stream",
     "text": [
      "                                                                      \r"
     ]
    },
    {
     "name": "stdout",
     "output_type": "stream",
     "text": [
      "Epoch: 3 Train Loss: 0.6339326\n"
     ]
    },
    {
     "name": "stderr",
     "output_type": "stream",
     "text": [
      "                                                                      \r"
     ]
    },
    {
     "name": "stdout",
     "output_type": "stream",
     "text": [
      "Epoch: 4 Train Loss: 0.5617886\n"
     ]
    },
    {
     "name": "stderr",
     "output_type": "stream",
     "text": [
      "                                                                      \r"
     ]
    },
    {
     "name": "stdout",
     "output_type": "stream",
     "text": [
      "Epoch: 5 Train Loss: 0.5099484\n"
     ]
    },
    {
     "name": "stderr",
     "output_type": "stream",
     "text": [
      "                                                                      \r"
     ]
    },
    {
     "name": "stdout",
     "output_type": "stream",
     "text": [
      "Epoch: 6 Train Loss: 0.47132114\n"
     ]
    },
    {
     "name": "stderr",
     "output_type": "stream",
     "text": [
      "                                                                      \r"
     ]
    },
    {
     "name": "stdout",
     "output_type": "stream",
     "text": [
      "Epoch: 7 Train Loss: 0.43809146\n"
     ]
    },
    {
     "name": "stderr",
     "output_type": "stream",
     "text": [
      "                                                                      \r"
     ]
    },
    {
     "name": "stdout",
     "output_type": "stream",
     "text": [
      "Epoch: 8 Train Loss: 0.41070312\n"
     ]
    },
    {
     "name": "stderr",
     "output_type": "stream",
     "text": [
      "                                                                      \r"
     ]
    },
    {
     "name": "stdout",
     "output_type": "stream",
     "text": [
      "Epoch: 9 Train Loss: 0.3864659\n"
     ]
    },
    {
     "name": "stderr",
     "output_type": "stream",
     "text": [
      "                                                                      \r"
     ]
    },
    {
     "name": "stdout",
     "output_type": "stream",
     "text": [
      "Epoch: 10 Train Loss: 0.36789855\n",
      "Time cost for training is 4.09 mins\n"
     ]
    },
    {
     "name": "stderr",
     "output_type": "stream",
     "text": [
      "                                                                      \r"
     ]
    },
    {
     "name": "stdout",
     "output_type": "stream",
     "text": [
      "Prediction shape: (831500, 3)\n",
      "Testing shape: (18574, 3)\n"
     ]
    }
   ],
   "source": [
    "exc_seen_rank, inc_seen_rank = full_train('sas')"
   ]
  },
  {
   "cell_type": "code",
   "execution_count": 31,
   "metadata": {},
   "outputs": [
    {
     "name": "stderr",
     "output_type": "stream",
     "text": [
      "/var/folders/p5/jqpndw0d2cg7g0mst1n0c49r0000gn/T/ipykernel_53071/3256864183.py:1: FutureWarning: this method is deprecated in favour of `Styler.hide(axis=\"index\")`\n",
      "  exc_seen_rank.style.hide_index()\n"
     ]
    },
    {
     "data": {
      "text/html": [
       "<style type=\"text/css\">\n",
       "</style>\n",
       "<table id=\"T_0dc52\">\n",
       "  <thead>\n",
       "    <tr>\n",
       "      <th id=\"T_0dc52_level0_col0\" class=\"col_heading level0 col0\" >TOP_K</th>\n",
       "      <th id=\"T_0dc52_level0_col1\" class=\"col_heading level0 col1\" >MAP</th>\n",
       "      <th id=\"T_0dc52_level0_col2\" class=\"col_heading level0 col2\" >NDCG</th>\n",
       "      <th id=\"T_0dc52_level0_col3\" class=\"col_heading level0 col3\" >Precision</th>\n",
       "      <th id=\"T_0dc52_level0_col4\" class=\"col_heading level0 col4\" >Recall</th>\n",
       "    </tr>\n",
       "  </thead>\n",
       "  <tbody>\n",
       "    <tr>\n",
       "      <td id=\"T_0dc52_row0_col0\" class=\"data row0 col0\" >5</td>\n",
       "      <td id=\"T_0dc52_row0_col1\" class=\"data row0 col1\" >0.078012</td>\n",
       "      <td id=\"T_0dc52_row0_col2\" class=\"data row0 col2\" >0.103762</td>\n",
       "      <td id=\"T_0dc52_row0_col3\" class=\"data row0 col3\" >0.047054</td>\n",
       "      <td id=\"T_0dc52_row0_col4\" class=\"data row0 col4\" >0.131140</td>\n",
       "    </tr>\n",
       "    <tr>\n",
       "      <td id=\"T_0dc52_row1_col0\" class=\"data row1 col0\" >10</td>\n",
       "      <td id=\"T_0dc52_row1_col1\" class=\"data row1 col1\" >0.087442</td>\n",
       "      <td id=\"T_0dc52_row1_col2\" class=\"data row1 col2\" >0.123713</td>\n",
       "      <td id=\"T_0dc52_row1_col3\" class=\"data row1 col3\" >0.034842</td>\n",
       "      <td id=\"T_0dc52_row1_col4\" class=\"data row1 col4\" >0.187513</td>\n",
       "    </tr>\n",
       "    <tr>\n",
       "      <td id=\"T_0dc52_row2_col0\" class=\"data row2 col0\" >50</td>\n",
       "      <td id=\"T_0dc52_row2_col1\" class=\"data row2 col1\" >0.098070</td>\n",
       "      <td id=\"T_0dc52_row2_col2\" class=\"data row2 col2\" >0.168240</td>\n",
       "      <td id=\"T_0dc52_row2_col3\" class=\"data row2 col3\" >0.014011</td>\n",
       "      <td id=\"T_0dc52_row2_col4\" class=\"data row2 col4\" >0.357601</td>\n",
       "    </tr>\n",
       "  </tbody>\n",
       "</table>\n"
      ],
      "text/plain": [
       "<pandas.io.formats.style.Styler at 0x46dfb4fd0>"
      ]
     },
     "execution_count": 31,
     "metadata": {},
     "output_type": "execute_result"
    }
   ],
   "source": [
    "exc_seen_rank.style.hide_index()"
   ]
  },
  {
   "cell_type": "code",
   "execution_count": 32,
   "metadata": {},
   "outputs": [
    {
     "name": "stderr",
     "output_type": "stream",
     "text": [
      "/var/folders/p5/jqpndw0d2cg7g0mst1n0c49r0000gn/T/ipykernel_53071/1931737838.py:1: FutureWarning: this method is deprecated in favour of `Styler.hide(axis=\"index\")`\n",
      "  inc_seen_rank.style.hide_index()\n"
     ]
    },
    {
     "data": {
      "text/html": [
       "<style type=\"text/css\">\n",
       "</style>\n",
       "<table id=\"T_d14f0\">\n",
       "  <thead>\n",
       "    <tr>\n",
       "      <th id=\"T_d14f0_level0_col0\" class=\"col_heading level0 col0\" >TOP_K</th>\n",
       "      <th id=\"T_d14f0_level0_col1\" class=\"col_heading level0 col1\" >MAP</th>\n",
       "      <th id=\"T_d14f0_level0_col2\" class=\"col_heading level0 col2\" >NDCG</th>\n",
       "      <th id=\"T_d14f0_level0_col3\" class=\"col_heading level0 col3\" >Precision</th>\n",
       "      <th id=\"T_d14f0_level0_col4\" class=\"col_heading level0 col4\" >Recall</th>\n",
       "    </tr>\n",
       "  </thead>\n",
       "  <tbody>\n",
       "    <tr>\n",
       "      <td id=\"T_d14f0_row0_col0\" class=\"data row0 col0\" >5</td>\n",
       "      <td id=\"T_d14f0_row0_col1\" class=\"data row0 col1\" >0.109183</td>\n",
       "      <td id=\"T_d14f0_row0_col2\" class=\"data row0 col2\" >0.147078</td>\n",
       "      <td id=\"T_d14f0_row0_col3\" class=\"data row0 col3\" >0.065977</td>\n",
       "      <td id=\"T_d14f0_row0_col4\" class=\"data row0 col4\" >0.188638</td>\n",
       "    </tr>\n",
       "    <tr>\n",
       "      <td id=\"T_d14f0_row1_col0\" class=\"data row1 col0\" >10</td>\n",
       "      <td id=\"T_d14f0_row1_col1\" class=\"data row1 col1\" >0.120883</td>\n",
       "      <td id=\"T_d14f0_row1_col2\" class=\"data row1 col2\" >0.170874</td>\n",
       "      <td id=\"T_d14f0_row1_col3\" class=\"data row1 col3\" >0.048587</td>\n",
       "      <td id=\"T_d14f0_row1_col4\" class=\"data row1 col4\" >0.257138</td>\n",
       "    </tr>\n",
       "    <tr>\n",
       "      <td id=\"T_d14f0_row2_col0\" class=\"data row2 col0\" >50</td>\n",
       "      <td id=\"T_d14f0_row2_col1\" class=\"data row2 col1\" >0.134010</td>\n",
       "      <td id=\"T_d14f0_row2_col2\" class=\"data row2 col2\" >0.221311</td>\n",
       "      <td id=\"T_d14f0_row2_col3\" class=\"data row2 col3\" >0.019105</td>\n",
       "      <td id=\"T_d14f0_row2_col4\" class=\"data row2 col4\" >0.441678</td>\n",
       "    </tr>\n",
       "  </tbody>\n",
       "</table>\n"
      ],
      "text/plain": [
       "<pandas.io.formats.style.Styler at 0x46dfb4970>"
      ]
     },
     "execution_count": 32,
     "metadata": {},
     "output_type": "execute_result"
    }
   ],
   "source": [
    "inc_seen_rank.style.hide_index()"
   ]
  },
  {
   "attachments": {},
   "cell_type": "markdown",
   "metadata": {},
   "source": [
    "<h3>SAS RFM</h3>"
   ]
  },
  {
   "cell_type": "code",
   "execution_count": 22,
   "metadata": {},
   "outputs": [],
   "source": [
    "rfm = pd.read_parquet('../data/sas/mart/rfm_mapped.parquet')\n",
    "rfm_levels = [\"Can't Loose Them\", \"Champions\", \"Loyal\", \"Potential\", \"Sleeping\", \"Require Activation\"]"
   ]
  },
  {
   "cell_type": "code",
   "execution_count": 23,
   "metadata": {},
   "outputs": [
    {
     "name": "stderr",
     "output_type": "stream",
     "text": [
      "                                                                      \r"
     ]
    },
    {
     "name": "stdout",
     "output_type": "stream",
     "text": [
      "Epoch: 1 Train Loss: 1.0061274\n"
     ]
    },
    {
     "name": "stderr",
     "output_type": "stream",
     "text": [
      "                                                                      \r"
     ]
    },
    {
     "name": "stdout",
     "output_type": "stream",
     "text": [
      "Epoch: 2 Train Loss: 0.74273556\n"
     ]
    },
    {
     "name": "stderr",
     "output_type": "stream",
     "text": [
      "                                                                      \r"
     ]
    },
    {
     "name": "stdout",
     "output_type": "stream",
     "text": [
      "Epoch: 3 Train Loss: 0.6341448\n"
     ]
    },
    {
     "name": "stderr",
     "output_type": "stream",
     "text": [
      "                                                                      \r"
     ]
    },
    {
     "name": "stdout",
     "output_type": "stream",
     "text": [
      "Epoch: 4 Train Loss: 0.56169516\n"
     ]
    },
    {
     "name": "stderr",
     "output_type": "stream",
     "text": [
      "                                                                      \r"
     ]
    },
    {
     "name": "stdout",
     "output_type": "stream",
     "text": [
      "Epoch: 5 Train Loss: 0.5117512\n",
      "Time cost for training is 2.09 mins\n"
     ]
    },
    {
     "name": "stderr",
     "output_type": "stream",
     "text": [
      "                                                                      \r"
     ]
    },
    {
     "name": "stdout",
     "output_type": "stream",
     "text": [
      "Prediction shape: (832600, 3)\n",
      "Testing shape: (18665, 3)\n"
     ]
    }
   ],
   "source": [
    "recsys = SASREC_recsys('sas')\n",
    "recsys.fit()\n",
    "# predict\n",
    "pred, test = recsys.inference()\n",
    "# exlcude train\n",
    "pred_exc = recsys.exclude_seen_pred(pred)\n",
    "test_exc = recsys.exclude_seen_test(test)"
   ]
  },
  {
   "cell_type": "code",
   "execution_count": 24,
   "metadata": {},
   "outputs": [],
   "source": [
    "from copy import deepcopy\n",
    "merged_pred = deepcopy(pred_exc)\n",
    "merged_test = deepcopy(test_exc)"
   ]
  },
  {
   "cell_type": "code",
   "execution_count": 25,
   "metadata": {},
   "outputs": [
    {
     "name": "stdout",
     "output_type": "stream",
     "text": [
      "(1715, 4) (79703, 4)\n",
      "(977, 4) (57873, 4)\n",
      "(1392, 4) (85418, 4)\n",
      "(1549, 4) (98869, 4)\n",
      "(879, 4) (67550, 4)\n",
      "(205, 4) (17259, 4)\n"
     ]
    }
   ],
   "source": [
    "TOP_K = 10\n",
    "NDCGs = []\n",
    "for level in rfm_levels:\n",
    "    users = rfm[rfm['RFM_Level'] == level]['phone'].unique()\n",
    "\n",
    "    m_test_s = merged_test[merged_test['userID'].isin(users)]\n",
    "    m_pred_s = merged_pred[merged_pred['userID'].isin(users)]\n",
    "\n",
    "    print(m_test_s.shape, m_pred_s.shape)\n",
    "\n",
    "    eval_map = map_at_k(m_test_s, m_pred_s, col_prediction='prediction', k=TOP_K)\n",
    "    eval_ndcg = ndcg_at_k(m_test_s, m_pred_s, col_prediction='prediction', k=TOP_K)\n",
    "\n",
    "    NDCGs.append(eval_ndcg)"
   ]
  },
  {
   "cell_type": "code",
   "execution_count": 26,
   "metadata": {},
   "outputs": [
    {
     "name": "stdout",
     "output_type": "stream",
     "text": [
      "Can't Loose Them 0.0879\n",
      "Champions 0.0839\n",
      "Loyal 0.1157\n",
      "Potential 0.1155\n",
      "Sleeping 0.1477\n",
      "Require Activation 0.2003\n"
     ]
    }
   ],
   "source": [
    "for level, ndcg in zip(rfm_levels, NDCGs):\n",
    "    print(level, np.round(ndcg, 4))"
   ]
  },
  {
   "cell_type": "code",
   "execution_count": 27,
   "metadata": {},
   "outputs": [
    {
     "data": {
      "image/png": "[encoded data removed]",
      "text/plain": [
       "<Figure size 1500x500 with 1 Axes>"
      ]
     },
     "metadata": {},
     "output_type": "display_data"
    }
   ],
   "source": [
    "plt.figure(figsize=(15,5))\n",
    "plt.bar(rfm_levels, NDCGs);"
   ]
  },
  {
   "cell_type": "code",
   "execution_count": null,
   "metadata": {},
   "outputs": [],
   "source": []
  },
  {
   "cell_type": "code",
   "execution_count": null,
   "metadata": {},
   "outputs": [],
   "source": []
  },
  {
   "cell_type": "code",
   "execution_count": null,
   "metadata": {},
   "outputs": [],
   "source": []
  },
  {
   "cell_type": "code",
   "execution_count": null,
   "metadata": {},
   "outputs": [],
   "source": []
  },
  {
   "cell_type": "code",
   "execution_count": null,
   "metadata": {},
   "outputs": [],
   "source": []
  },
  {
   "cell_type": "code",
   "execution_count": null,
   "metadata": {},
   "outputs": [],
   "source": []
  },
  {
   "cell_type": "code",
   "execution_count": null,
   "metadata": {},
   "outputs": [],
   "source": []
  },
  {
   "cell_type": "code",
   "execution_count": null,
   "metadata": {},
   "outputs": [],
   "source": []
  },
  {
   "cell_type": "code",
   "execution_count": 68,
   "metadata": {},
   "outputs": [],
   "source": [
    "import random\n",
    "from tqdm import tqdm\n",
    "\n",
    "def evaluate(self, dataset):\n",
    "    \"\"\"\n",
    "    Evaluation on the test users (users with at least 3 items)\n",
    "    \"\"\"\n",
    "    usernum = dataset.usernum\n",
    "    itemnum = dataset.itemnum\n",
    "    train = dataset.user_train\n",
    "    valid = dataset.user_valid\n",
    "    test = dataset.user_test\n",
    "\n",
    "    NDCG = 0.0\n",
    "    HT = 0.0\n",
    "    valid_user = 0.0\n",
    "\n",
    "    if usernum > 10000:\n",
    "        users = random.sample(range(1, usernum + 1), 10000)\n",
    "    else:\n",
    "        users = range(1, usernum + 1)\n",
    "\n",
    "    for u in tqdm(users, ncols=70, leave=False, unit=\"b\"):\n",
    "\n",
    "        if len(train[u]) < 1 or len(test[u]) < 1:\n",
    "            continue\n",
    "\n",
    "        seq = np.zeros([self.seq_max_len], dtype=np.int32)\n",
    "        idx = self.seq_max_len - 1\n",
    "        seq[idx] = valid[u][0]\n",
    "        idx -= 1\n",
    "        for i in reversed(train[u]):\n",
    "            seq[idx] = i\n",
    "            idx -= 1\n",
    "            if idx == -1:\n",
    "                break\n",
    "        rated = set(train[u])\n",
    "        rated.add(0)\n",
    "        item_idx = [random.choice(test[u])]\n",
    "        # a positive example vs 100 negative examples.\n",
    "        for _ in range(self.num_neg_test):\n",
    "            t = np.random.randint(1, itemnum + 1)\n",
    "            while t in rated or t in test[u]:\n",
    "                t = np.random.randint(1, itemnum + 1)\n",
    "            item_idx.append(t)\n",
    "\n",
    "        inputs = {}\n",
    "        inputs[\"user\"] = np.expand_dims(np.array([u]), axis=-1)\n",
    "        inputs[\"input_seq\"] = np.array([seq])\n",
    "        inputs[\"candidate\"] = np.array([item_idx])\n",
    "\n",
    "        # inverse to get descending sort\n",
    "        predictions = -1.0 * self.predict(inputs)\n",
    "        predictions = np.array(predictions)\n",
    "        predictions = predictions[0]\n",
    "\n",
    "        # we are interested only the first one, which is the only positive one\n",
    "        rank = predictions.argsort().argsort()[0]\n",
    "\n",
    "        valid_user += 1\n",
    "\n",
    "        if rank < 5:\n",
    "            NDCG += 1 / np.log2(rank + 2)\n",
    "            HT += 1\n",
    "\n",
    "    return NDCG / valid_user, HT / valid_user"
   ]
  },
  {
   "cell_type": "code",
   "execution_count": 69,
   "metadata": {},
   "outputs": [
    {
     "name": "stderr",
     "output_type": "stream",
     "text": [
      "                                                                      \r"
     ]
    },
    {
     "data": {
      "text/plain": [
       "(0.08496986637970463, 0.11699029126213592)"
      ]
     },
     "execution_count": 69,
     "metadata": {},
     "output_type": "execute_result"
    }
   ],
   "source": [
    "evaluate(model, data)"
   ]
  },
  {
   "cell_type": "code",
   "execution_count": null,
   "metadata": {},
   "outputs": [],
   "source": []
  },
  {
   "cell_type": "code",
   "execution_count": null,
   "metadata": {},
   "outputs": [],
   "source": []
  },
  {
   "cell_type": "code",
   "execution_count": null,
   "metadata": {},
   "outputs": [],
   "source": []
  },
  {
   "cell_type": "code",
   "execution_count": null,
   "metadata": {},
   "outputs": [],
   "source": []
  },
  {
   "cell_type": "code",
   "execution_count": null,
   "metadata": {},
   "outputs": [],
   "source": []
  },
  {
   "cell_type": "code",
   "execution_count": null,
   "metadata": {},
   "outputs": [],
   "source": []
  },
  {
   "cell_type": "code",
   "execution_count": null,
   "metadata": {},
   "outputs": [],
   "source": []
  },
  {
   "cell_type": "code",
   "execution_count": null,
   "metadata": {},
   "outputs": [],
   "source": []
  },
  {
   "cell_type": "code",
   "execution_count": null,
   "metadata": {},
   "outputs": [],
   "source": []
  },
  {
   "cell_type": "code",
   "execution_count": null,
   "metadata": {},
   "outputs": [],
   "source": [
    "def predict(self, dataset):\n",
    "    usernum = dataset.usernum\n",
    "    itemnum = dataset.itemnum\n",
    "    train = dataset.user_train\n",
    "    valid = dataset.user_valid\n",
    "    test = dataset.user_test\n",
    "\n",
    "    if usernum > 10000:\n",
    "        users = random.sample(range(1, usernum + 1), 10000)\n",
    "    else:\n",
    "        users = range(1, usernum + 1)\n",
    "\n",
    "    results = {}\n",
    "    for u in tqdm(users, ncols=70, leave=False, unit=\"b\"):\n",
    "        # not enought training data\n",
    "        if len(train[u]) < 1 or len(test[u]) < 1:\n",
    "            continue\n",
    "\n",
    "        # construct user purchase history\n",
    "        seq = np.zeros([self.seq_max_len], dtype=np.int32)\n",
    "        idx = self.seq_max_len - 1\n",
    "        seq[idx] = valid[u][0]\n",
    "        idx -= 1\n",
    "        for i in reversed(train[u]):\n",
    "            seq[idx] = i\n",
    "            idx -= 1\n",
    "            if idx == -1:\n",
    "                break\n",
    "\n",
    "            # already interacted items\n",
    "            rated = set(train[u])\n",
    "\n",
    "            item_idx = np.arange(itemnum)\n",
    "\n",
    "            inputs = {}\n",
    "            inputs[\"user\"] = np.expand_dims(np.array([u]), axis=-1)\n",
    "            inputs[\"input_seq\"] = np.array([seq])\n",
    "            inputs[\"candidate\"] = np.array([item_idx])\n",
    "\n",
    "            # inverse to get descending sort\n",
    "            predictions = -1.0 * self.predict(inputs)\n",
    "            predictions = np.array(predictions)\n",
    "            predictions = predictions[0]\n",
    "\n",
    "            results[u] = {'predictions': predictions, 'test': test[u]}\n",
    "\n",
    "    return results"
   ]
  }
 ],
 "metadata": {
  "kernelspec": {
   "display_name": "recsys",
   "language": "python",
   "name": "python3"
  },
  "language_info": {
   "codemirror_mode": {
    "name": "ipython",
    "version": 3
   },
   "file_extension": ".py",
   "mimetype": "text/x-python",
   "name": "python",
   "nbconvert_exporter": "python",
   "pygments_lexer": "ipython3",
   "version": "3.9.15"
  },
  "orig_nbformat": 4,
  "vscode": {
   "interpreter": {
    "hash": "78bff6571efa098a29603b0b132d0489520f19bae7ac06bdfd504caef114317d"
   }
  }
 },
 "nbformat": 4,
 "nbformat_minor": 2
}
