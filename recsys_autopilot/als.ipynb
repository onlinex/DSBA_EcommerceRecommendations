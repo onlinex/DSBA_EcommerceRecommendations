{
 "cells": [
  {
   "cell_type": "code",
   "execution_count": 1,
   "metadata": {},
   "outputs": [
    {
     "name": "stdout",
     "output_type": "stream",
     "text": [
      "System version: 3.9.15 | packaged by conda-forge | (main, Nov 22 2022, 08:48:25) \n",
      "[Clang 14.0.6 ]\n",
      "Spark version: 3.3.1\n"
     ]
    }
   ],
   "source": [
    "import sys\n",
    "import numpy as np\n",
    "import pyspark\n",
    "from pyspark.ml.recommendation import ALS\n",
    "import pyspark.sql.functions as F\n",
    "from pyspark.sql import SparkSession\n",
    "from pyspark.sql.types import StructType, StructField\n",
    "from pyspark.sql.types import StringType, FloatType, IntegerType, LongType\n",
    "import warnings\n",
    "warnings.simplefilter(action='ignore', category=FutureWarning)\n",
    "\n",
    "from recommenders.utils.timer import Timer\n",
    "from recommenders.datasets import movielens\n",
    "from recommenders.utils.notebook_utils import is_jupyter\n",
    "from recommenders.datasets.spark_splitters import spark_random_split\n",
    "from recommenders.evaluation.spark_evaluation import SparkRatingEvaluation, SparkRankingEvaluation\n",
    "from recommenders.utils.spark_utils import start_or_get_spark\n",
    "\n",
    "import pandas as pd\n",
    "import matplotlib.pyplot as plt\n",
    "from recommenders.evaluation.python_evaluation import map_at_k, ndcg_at_k, precision_at_k, recall_at_k\n",
    "from pyspark.ml.evaluation import RegressionEvaluator\n",
    "\n",
    "print(\"System version: {}\".format(sys.version))\n",
    "print(\"Spark version: {}\".format(pyspark.__version__))"
   ]
  },
  {
   "attachments": {},
   "cell_type": "markdown",
   "metadata": {},
   "source": [
    "<h1>Set up spark context</h1>"
   ]
  },
  {
   "cell_type": "code",
   "execution_count": 2,
   "metadata": {},
   "outputs": [
    {
     "name": "stderr",
     "output_type": "stream",
     "text": [
      "Setting default log level to \"WARN\".\n",
      "To adjust logging level use sc.setLogLevel(newLevel). For SparkR, use setLogLevel(newLevel).\n"
     ]
    },
    {
     "name": "stdout",
     "output_type": "stream",
     "text": [
      "23/05/08 10:48:30 WARN NativeCodeLoader: Unable to load native-hadoop library for your platform... using builtin-java classes where applicable\n"
     ]
    }
   ],
   "source": [
    "# the following settings work well for debugging locally on VM - change when running on a cluster\n",
    "# set up a giant single executor with many threads and specify memory cap\n",
    "spark = start_or_get_spark(\"ALS PySpark\", memory=\"10g\")\n",
    "spark.conf.set(\"spark.sql.analyzer.failAmbiguousSelfJoin\", \"false\")"
   ]
  },
  {
   "cell_type": "code",
   "execution_count": 3,
   "metadata": {},
   "outputs": [],
   "source": [
    "spark.sparkContext.setCheckpointDir('./checkpoints')"
   ]
  },
  {
   "attachments": {},
   "cell_type": "markdown",
   "metadata": {},
   "source": [
    "<h1>Load the dataset</h1>"
   ]
  },
  {
   "cell_type": "code",
   "execution_count": 4,
   "metadata": {},
   "outputs": [],
   "source": [
    "# Column names for the dataset\n",
    "COL_USER = \"userID\"\n",
    "COL_ITEM = \"itemID\"\n",
    "COL_RATING = \"rating\"\n",
    "COL_TIMESTAMP = \"timestamp\""
   ]
  },
  {
   "cell_type": "code",
   "execution_count": 5,
   "metadata": {},
   "outputs": [],
   "source": [
    "def load(dataset_name):\n",
    "\n",
    "    train_path, test_path = '../data/{}/train.csv'.format(dataset_name), '../data/{}/test.csv'.format(dataset_name)\n",
    "\n",
    "    # Note: The DataFrame-based API for ALS currently only supports integers for user and item ids.\n",
    "    schema = StructType(\n",
    "        (\n",
    "            StructField(COL_USER, IntegerType()),\n",
    "            StructField(COL_ITEM, IntegerType()),\n",
    "            StructField(COL_RATING, FloatType()),\n",
    "            StructField(COL_TIMESTAMP, LongType()),\n",
    "        )\n",
    "    )\n",
    "    # load as spark with defined schema\n",
    "    train = spark.read.load(train_path, format=\"csv\", header=\"true\", sep=',', schema=schema)\n",
    "    test = spark.read.load(test_path, format=\"csv\", header=\"true\", sep=',', schema=schema)\n",
    "\n",
    "    print(\"N train\", train.cache().count())\n",
    "    print(\"N test\", test.cache().count())\n",
    "    \n",
    "    return train, test"
   ]
  },
  {
   "attachments": {},
   "cell_type": "markdown",
   "metadata": {},
   "source": [
    "<h1>Train ALS</h1>"
   ]
  },
  {
   "cell_type": "code",
   "execution_count": 7,
   "metadata": {},
   "outputs": [],
   "source": [
    "def init_als(RANK=40, ITER=35):\n",
    "    header = {\n",
    "        \"userCol\": COL_USER,\n",
    "        \"itemCol\": COL_ITEM,\n",
    "        \"ratingCol\": COL_RATING,\n",
    "    }\n",
    "\n",
    "    als = ALS(\n",
    "        rank=RANK,\n",
    "        maxIter=ITER,\n",
    "        implicitPrefs=False,\n",
    "        regParam=0.08,\n",
    "        coldStartStrategy='drop',\n",
    "        nonnegative=True,\n",
    "        seed=42,\n",
    "        **header\n",
    "    )\n",
    "    return als"
   ]
  },
  {
   "cell_type": "code",
   "execution_count": 8,
   "metadata": {},
   "outputs": [],
   "source": [
    "class ALS_recsys:\n",
    "    def __init__(self, name='sas'):\n",
    "        \n",
    "        self.als = init_als()\n",
    "        self.model = None # trained model\n",
    "\n",
    "        self.train, self.test = load(name)\n",
    "\n",
    "    def fit(self):\n",
    "        evaluator = RegressionEvaluator(metricName=\"rmse\", labelCol=COL_RATING, predictionCol=\"prediction\")\n",
    "\n",
    "        with Timer() as train_time:\n",
    "            self.model = self.als.fit(self.train)\n",
    "            predictions = self.model.transform(self.test)\n",
    "            rmse = evaluator.evaluate(predictions)\n",
    "            print(f\"Root-mean-square error = {rmse}\")\n",
    "\n",
    "        print(\"Took {} seconds for training.\".format(train_time.interval))\n",
    "\n",
    "    def get_user_recommendations(self):\n",
    "        userRecs = self.model.recommendForAllUsers(200)\n",
    "\n",
    "        rows = []\n",
    "        for row in userRecs.collect():\n",
    "            for rec in row['recommendations']:\n",
    "                rows.append([row['userID'], rec['itemID'], rec['rating']])\n",
    "                \n",
    "        schema = StructType([\n",
    "            StructField(\"userID\", IntegerType(), True),\n",
    "            StructField(\"itemID\", IntegerType(), True),\n",
    "            StructField(\"prediction\", FloatType(), True)\n",
    "        ])\n",
    "\n",
    "        top_k_df = spark.createDataFrame(rows, schema=schema)\n",
    "        # Show the top_k_df DataFrame\n",
    "        return top_k_df\n",
    "    \n",
    "    def remove_seen(self, spark_df):\n",
    "        # Remove seen items.\n",
    "        dfs_pred_exclude_train = spark_df.alias(\"other\").join(\n",
    "            self.train.alias(\"train\"),\n",
    "            (spark_df[COL_USER] == self.train[COL_USER]) & (spark_df[COL_ITEM] == self.train[COL_ITEM]),\n",
    "            how='outer'\n",
    "        )\n",
    "\n",
    "        # train.{col_rating} will be null on the previous step, if this pair was not seen before. These are the entries of interest to us.\n",
    "        top_ex = dfs_pred_exclude_train.filter(dfs_pred_exclude_train[f\"train.{COL_RATING}\"].isNull()) \\\n",
    "            .select(\"other.*\")\n",
    "        \n",
    "        return top_ex\n",
    "    \n",
    "    def recommend(self):\n",
    "\n",
    "        top_k_df = self.get_user_recommendations()\n",
    "        top_ex = self.remove_seen(top_k_df)\n",
    "\n",
    "        return top_k_df, top_ex\n",
    "    \n",
    "    def evaluate_ranking(self, test, pred, TOP_K):\n",
    "\n",
    "        # Needs all the predictions, to calculate Top-K, NDCG, etc.\n",
    "        rank_eval = SparkRankingEvaluation(test, pred, k = TOP_K, col_user=COL_USER, col_item=COL_ITEM, \n",
    "                                    col_rating=COL_RATING, col_prediction=\"prediction\", \n",
    "                                    relevancy_method=\"top_k\")\n",
    "        \n",
    "        return rank_eval\n",
    "    \n",
    "    def evaluate_rating(self, test):\n",
    "        \n",
    "        # Generate predicted ratings.\n",
    "        prediction = self.model.transform(test)\n",
    "        prediction.cache()\n",
    "\n",
    "        rating_eval = SparkRatingEvaluation(test, prediction, col_user=COL_USER, col_item=COL_ITEM, \n",
    "                                    col_rating=COL_RATING, col_prediction=\"prediction\")\n",
    "        \n",
    "        return rating_eval\n",
    "    \n",
    "    def get_all_scores(self):\n",
    "        # get train inc. / train exc. recommendations\n",
    "        top_k_df, top_ex = self.recommend()\n",
    "        \n",
    "        test_ex = self.remove_seen(self.test)\n",
    "\n",
    "        ### RANKING\n",
    "\n",
    "        # remove seen\n",
    "        rank_eval_5 = self.evaluate_ranking(test_ex, top_ex, 5)\n",
    "        rank_eval_10 = self.evaluate_ranking(test_ex, top_ex, 10)\n",
    "        rank_eval_50 = self.evaluate_ranking(test_ex, top_ex, 50)\n",
    "\n",
    "        exc_seen_rank = pd.DataFrame({\n",
    "            'TOP_K': [5, 10, 50],\n",
    "            'MAP': [rank_eval_5.map_at_k(), rank_eval_10.map_at_k(), rank_eval_50.map_at_k()],\n",
    "            'NDCG': [rank_eval_5.ndcg_at_k(), rank_eval_10.ndcg_at_k(), rank_eval_50.ndcg_at_k()],\n",
    "            'Precision': [rank_eval_5.precision_at_k(), rank_eval_10.precision_at_k(), rank_eval_50.precision_at_k()],\n",
    "            'Recall': [rank_eval_5.recall_at_k(), rank_eval_10.recall_at_k(), rank_eval_50.recall_at_k()],\n",
    "        })\n",
    "\n",
    "        # don't remove seen\n",
    "        rank_eval_5 = self.evaluate_ranking(self.test, top_k_df, 5)\n",
    "        rank_eval_10 = self.evaluate_ranking(self.test, top_k_df, 10)\n",
    "        rank_eval_50 = self.evaluate_ranking(self.test, top_k_df, 50)\n",
    "\n",
    "        inc_seen_rank = pd.DataFrame({\n",
    "            'TOP_K': [5, 10, 50],\n",
    "            'MAP': [rank_eval_5.map_at_k(), rank_eval_10.map_at_k(), rank_eval_50.map_at_k()],\n",
    "            'NDCG': [rank_eval_5.ndcg_at_k(), rank_eval_10.ndcg_at_k(), rank_eval_50.ndcg_at_k()],\n",
    "            'Precision': [rank_eval_5.precision_at_k(), rank_eval_10.precision_at_k(), rank_eval_50.precision_at_k()],\n",
    "            'Recall': [rank_eval_5.recall_at_k(), rank_eval_10.recall_at_k(), rank_eval_50.recall_at_k()],\n",
    "        })\n",
    "\n",
    "\n",
    "        ### RATING\n",
    "\n",
    "        rating_eval = self.evaluate_rating(self.test)\n",
    "\n",
    "        inc_seen_rait = pd.DataFrame({\n",
    "            'RMSE': [rating_eval.rmse()],\n",
    "            'MAE': [rating_eval.mae()],\n",
    "            'Exp Var': [rating_eval.exp_var()],\n",
    "            'R squared': [rating_eval.rsquared()]\n",
    "        })\n",
    "\n",
    "\n",
    "        return exc_seen_rank, inc_seen_rank, inc_seen_rait"
   ]
  },
  {
   "cell_type": "code",
   "execution_count": 10,
   "metadata": {},
   "outputs": [],
   "source": [
    "def full_train(ds_name):\n",
    "    als_recsys = ALS_recsys(ds_name)\n",
    "    als_recsys.fit()\n",
    "    return als_recsys.get_all_scores()"
   ]
  },
  {
   "cell_type": "code",
   "execution_count": 47,
   "metadata": {},
   "outputs": [
    {
     "name": "stdout",
     "output_type": "stream",
     "text": [
      "N train 164525\n",
      "N test 44568\n",
      "Root-mean-square error = 0.8328319236116101\n",
      "Took 10.273614082999984 seconds for training.\n"
     ]
    },
    {
     "name": "stderr",
     "output_type": "stream",
     "text": [
      "                                                                                \r"
     ]
    },
    {
     "name": "stdout",
     "output_type": "stream",
     "text": [
      "23/05/08 11:15:43 WARN TaskSetManager: Stage 2165 contains a task of very large size (19601 KiB). The maximum recommended task size is 1000 KiB.\n"
     ]
    },
    {
     "name": "stderr",
     "output_type": "stream",
     "text": [
      "                                                                                \r"
     ]
    },
    {
     "name": "stdout",
     "output_type": "stream",
     "text": [
      "23/05/08 11:15:50 WARN TaskSetManager: Stage 2174 contains a task of very large size (19601 KiB). The maximum recommended task size is 1000 KiB.\n"
     ]
    },
    {
     "name": "stderr",
     "output_type": "stream",
     "text": [
      "                                                                                \r"
     ]
    },
    {
     "name": "stdout",
     "output_type": "stream",
     "text": [
      "23/05/08 11:15:52 WARN TaskSetManager: Stage 2182 contains a task of very large size (19601 KiB). The maximum recommended task size is 1000 KiB.\n"
     ]
    },
    {
     "name": "stderr",
     "output_type": "stream",
     "text": [
      "                                                                                \r"
     ]
    },
    {
     "name": "stdout",
     "output_type": "stream",
     "text": [
      "23/05/08 11:15:59 WARN TaskSetManager: Stage 2208 contains a task of very large size (19601 KiB). The maximum recommended task size is 1000 KiB.\n"
     ]
    },
    {
     "name": "stderr",
     "output_type": "stream",
     "text": [
      "                                                                                \r"
     ]
    },
    {
     "name": "stdout",
     "output_type": "stream",
     "text": [
      "23/05/08 11:16:01 WARN TaskSetManager: Stage 2218 contains a task of very large size (19601 KiB). The maximum recommended task size is 1000 KiB.\n"
     ]
    },
    {
     "name": "stderr",
     "output_type": "stream",
     "text": [
      "                                                                                \r"
     ]
    },
    {
     "name": "stdout",
     "output_type": "stream",
     "text": [
      "23/05/08 11:16:08 WARN TaskSetManager: Stage 2229 contains a task of very large size (19601 KiB). The maximum recommended task size is 1000 KiB.\n"
     ]
    },
    {
     "name": "stderr",
     "output_type": "stream",
     "text": [
      "                                                                                \r"
     ]
    },
    {
     "name": "stdout",
     "output_type": "stream",
     "text": [
      "23/05/08 11:16:14 WARN TaskSetManager: Stage 2238 contains a task of very large size (19601 KiB). The maximum recommended task size is 1000 KiB.\n"
     ]
    },
    {
     "name": "stderr",
     "output_type": "stream",
     "text": [
      "                                                                                \r"
     ]
    },
    {
     "name": "stdout",
     "output_type": "stream",
     "text": [
      "23/05/08 11:16:20 WARN TaskSetManager: Stage 2244 contains a task of very large size (19601 KiB). The maximum recommended task size is 1000 KiB.\n"
     ]
    },
    {
     "name": "stderr",
     "output_type": "stream",
     "text": [
      "                                                                                \r"
     ]
    },
    {
     "name": "stdout",
     "output_type": "stream",
     "text": [
      "23/05/08 11:16:22 WARN TaskSetManager: Stage 2250 contains a task of very large size (19601 KiB). The maximum recommended task size is 1000 KiB.\n"
     ]
    },
    {
     "name": "stderr",
     "output_type": "stream",
     "text": [
      "                                                                                \r"
     ]
    },
    {
     "name": "stdout",
     "output_type": "stream",
     "text": [
      "23/05/08 11:16:33 WARN TaskSetManager: Stage 2274 contains a task of very large size (19601 KiB). The maximum recommended task size is 1000 KiB.\n"
     ]
    },
    {
     "name": "stderr",
     "output_type": "stream",
     "text": [
      "                                                                                \r"
     ]
    },
    {
     "name": "stdout",
     "output_type": "stream",
     "text": [
      "23/05/08 11:16:35 WARN TaskSetManager: Stage 2283 contains a task of very large size (19601 KiB). The maximum recommended task size is 1000 KiB.\n"
     ]
    },
    {
     "name": "stderr",
     "output_type": "stream",
     "text": [
      "                                                                                \r"
     ]
    },
    {
     "name": "stdout",
     "output_type": "stream",
     "text": [
      "23/05/08 11:16:39 WARN TaskSetManager: Stage 2292 contains a task of very large size (19601 KiB). The maximum recommended task size is 1000 KiB.\n"
     ]
    },
    {
     "name": "stderr",
     "output_type": "stream",
     "text": [
      "                                                                                \r"
     ]
    }
   ],
   "source": [
    "exc_seen_rank, inc_seen_rank, inc_seen_rait = full_train('sas')"
   ]
  },
  {
   "cell_type": "code",
   "execution_count": 49,
   "metadata": {},
   "outputs": [
    {
     "data": {
      "text/html": [
       "<style type=\"text/css\">\n",
       "</style>\n",
       "<table id=\"T_ed085\">\n",
       "  <thead>\n",
       "    <tr>\n",
       "      <th id=\"T_ed085_level0_col0\" class=\"col_heading level0 col0\" >TOP_K</th>\n",
       "      <th id=\"T_ed085_level0_col1\" class=\"col_heading level0 col1\" >MAP</th>\n",
       "      <th id=\"T_ed085_level0_col2\" class=\"col_heading level0 col2\" >NDCG</th>\n",
       "      <th id=\"T_ed085_level0_col3\" class=\"col_heading level0 col3\" >Precision</th>\n",
       "      <th id=\"T_ed085_level0_col4\" class=\"col_heading level0 col4\" >Recall</th>\n",
       "    </tr>\n",
       "  </thead>\n",
       "  <tbody>\n",
       "    <tr>\n",
       "      <td id=\"T_ed085_row0_col0\" class=\"data row0 col0\" >5</td>\n",
       "      <td id=\"T_ed085_row0_col1\" class=\"data row0 col1\" >0.007417</td>\n",
       "      <td id=\"T_ed085_row0_col2\" class=\"data row0 col2\" >0.010837</td>\n",
       "      <td id=\"T_ed085_row0_col3\" class=\"data row0 col3\" >0.005777</td>\n",
       "      <td id=\"T_ed085_row0_col4\" class=\"data row0 col4\" >0.014032</td>\n",
       "    </tr>\n",
       "    <tr>\n",
       "      <td id=\"T_ed085_row1_col0\" class=\"data row1 col0\" >10</td>\n",
       "      <td id=\"T_ed085_row1_col1\" class=\"data row1 col1\" >0.008737</td>\n",
       "      <td id=\"T_ed085_row1_col2\" class=\"data row1 col2\" >0.014340</td>\n",
       "      <td id=\"T_ed085_row1_col3\" class=\"data row1 col3\" >0.005069</td>\n",
       "      <td id=\"T_ed085_row1_col4\" class=\"data row1 col4\" >0.023067</td>\n",
       "    </tr>\n",
       "    <tr>\n",
       "      <td id=\"T_ed085_row2_col0\" class=\"data row2 col0\" >50</td>\n",
       "      <td id=\"T_ed085_row2_col1\" class=\"data row2 col1\" >0.011044</td>\n",
       "      <td id=\"T_ed085_row2_col2\" class=\"data row2 col2\" >0.025862</td>\n",
       "      <td id=\"T_ed085_row2_col3\" class=\"data row2 col3\" >0.003187</td>\n",
       "      <td id=\"T_ed085_row2_col4\" class=\"data row2 col4\" >0.064327</td>\n",
       "    </tr>\n",
       "  </tbody>\n",
       "</table>\n"
      ],
      "text/plain": [
       "<pandas.io.formats.style.Styler at 0x16dca6250>"
      ]
     },
     "execution_count": 49,
     "metadata": {},
     "output_type": "execute_result"
    }
   ],
   "source": [
    "exc_seen_rank.style.hide_index()"
   ]
  },
  {
   "cell_type": "code",
   "execution_count": 50,
   "metadata": {},
   "outputs": [
    {
     "data": {
      "text/html": [
       "<style type=\"text/css\">\n",
       "</style>\n",
       "<table id=\"T_5caf5\">\n",
       "  <thead>\n",
       "    <tr>\n",
       "      <th id=\"T_5caf5_level0_col0\" class=\"col_heading level0 col0\" >TOP_K</th>\n",
       "      <th id=\"T_5caf5_level0_col1\" class=\"col_heading level0 col1\" >MAP</th>\n",
       "      <th id=\"T_5caf5_level0_col2\" class=\"col_heading level0 col2\" >NDCG</th>\n",
       "      <th id=\"T_5caf5_level0_col3\" class=\"col_heading level0 col3\" >Precision</th>\n",
       "      <th id=\"T_5caf5_level0_col4\" class=\"col_heading level0 col4\" >Recall</th>\n",
       "    </tr>\n",
       "  </thead>\n",
       "  <tbody>\n",
       "    <tr>\n",
       "      <td id=\"T_5caf5_row0_col0\" class=\"data row0 col0\" >5</td>\n",
       "      <td id=\"T_5caf5_row0_col1\" class=\"data row0 col1\" >0.023706</td>\n",
       "      <td id=\"T_5caf5_row0_col2\" class=\"data row0 col2\" >0.033010</td>\n",
       "      <td id=\"T_5caf5_row0_col3\" class=\"data row0 col3\" >0.016512</td>\n",
       "      <td id=\"T_5caf5_row0_col4\" class=\"data row0 col4\" >0.035147</td>\n",
       "    </tr>\n",
       "    <tr>\n",
       "      <td id=\"T_5caf5_row1_col0\" class=\"data row1 col0\" >10</td>\n",
       "      <td id=\"T_5caf5_row1_col1\" class=\"data row1 col1\" >0.026436</td>\n",
       "      <td id=\"T_5caf5_row1_col2\" class=\"data row1 col2\" >0.038540</td>\n",
       "      <td id=\"T_5caf5_row1_col3\" class=\"data row1 col3\" >0.012607</td>\n",
       "      <td id=\"T_5caf5_row1_col4\" class=\"data row1 col4\" >0.052172</td>\n",
       "    </tr>\n",
       "    <tr>\n",
       "      <td id=\"T_5caf5_row2_col0\" class=\"data row2 col0\" >50</td>\n",
       "      <td id=\"T_5caf5_row2_col1\" class=\"data row2 col1\" >0.029807</td>\n",
       "      <td id=\"T_5caf5_row2_col2\" class=\"data row2 col2\" >0.053840</td>\n",
       "      <td id=\"T_5caf5_row2_col3\" class=\"data row2 col3\" >0.005701</td>\n",
       "      <td id=\"T_5caf5_row2_col4\" class=\"data row2 col4\" >0.106524</td>\n",
       "    </tr>\n",
       "  </tbody>\n",
       "</table>\n"
      ],
      "text/plain": [
       "<pandas.io.formats.style.Styler at 0x28aa2a6d0>"
      ]
     },
     "execution_count": 50,
     "metadata": {},
     "output_type": "execute_result"
    }
   ],
   "source": [
    "inc_seen_rank.style.hide_index()"
   ]
  },
  {
   "cell_type": "code",
   "execution_count": 52,
   "metadata": {},
   "outputs": [
    {
     "data": {
      "text/html": [
       "<style type=\"text/css\">\n",
       "</style>\n",
       "<table id=\"T_5a05e\">\n",
       "  <thead>\n",
       "    <tr>\n",
       "      <th id=\"T_5a05e_level0_col0\" class=\"col_heading level0 col0\" >RMSE</th>\n",
       "      <th id=\"T_5a05e_level0_col1\" class=\"col_heading level0 col1\" >MAE</th>\n",
       "      <th id=\"T_5a05e_level0_col2\" class=\"col_heading level0 col2\" >Exp Var</th>\n",
       "      <th id=\"T_5a05e_level0_col3\" class=\"col_heading level0 col3\" >R squared</th>\n",
       "    </tr>\n",
       "  </thead>\n",
       "  <tbody>\n",
       "    <tr>\n",
       "      <td id=\"T_5a05e_row0_col0\" class=\"data row0 col0\" >0.844874</td>\n",
       "      <td id=\"T_5a05e_row0_col1\" class=\"data row0 col1\" >0.505405</td>\n",
       "      <td id=\"T_5a05e_row0_col2\" class=\"data row0 col2\" >0.596282</td>\n",
       "      <td id=\"T_5a05e_row0_col3\" class=\"data row0 col3\" >0.560372</td>\n",
       "    </tr>\n",
       "  </tbody>\n",
       "</table>\n"
      ],
      "text/plain": [
       "<pandas.io.formats.style.Styler at 0x16dee6910>"
      ]
     },
     "execution_count": 52,
     "metadata": {},
     "output_type": "execute_result"
    }
   ],
   "source": [
    "inc_seen_rait.style.hide_index()"
   ]
  },
  {
   "attachments": {},
   "cell_type": "markdown",
   "metadata": {},
   "source": [
    "- In the movie recommendation use case, recommending movies that have been rated by the users do not make sense. (because they have already seen them)\n",
    "\n",
    "- Therefore, the rated movies are removed from the recommended items.\n",
    "\n",
    "- In order to achieve this, we recommend all movies to all users, and then remove the user-movie pairs that exist in the training dataset."
   ]
  },
  {
   "attachments": {},
   "cell_type": "markdown",
   "metadata": {},
   "source": [
    "<h3>SAS RFM</h3>"
   ]
  },
  {
   "cell_type": "code",
   "execution_count": 56,
   "metadata": {},
   "outputs": [],
   "source": [
    "rfm = pd.read_parquet('../data/sas/mart/rfm_mapped.parquet')\n",
    "rfm_levels = [\"Can't Loose Them\", \"Champions\", \"Loyal\", \"Potential\", \"Sleeping\", \"Require Activation\"]"
   ]
  },
  {
   "cell_type": "code",
   "execution_count": 57,
   "metadata": {},
   "outputs": [
    {
     "name": "stdout",
     "output_type": "stream",
     "text": [
      "23/05/08 11:18:46 WARN CacheManager: Asked to cache already cached data.\n",
      "N train 164525\n",
      "23/05/08 11:18:47 WARN CacheManager: Asked to cache already cached data.\n",
      "N test 44568\n",
      "Root-mean-square error = 0.8328319236116101\n",
      "Took 10.447802000000138 seconds for training.\n"
     ]
    },
    {
     "name": "stderr",
     "output_type": "stream",
     "text": [
      "                                                                                \r"
     ]
    },
    {
     "name": "stdout",
     "output_type": "stream",
     "text": [
      "23/05/08 11:20:16 WARN TaskSetManager: Stage 2799 contains a task of very large size (19601 KiB). The maximum recommended task size is 1000 KiB.\n"
     ]
    },
    {
     "name": "stderr",
     "output_type": "stream",
     "text": [
      "                                                                                \r"
     ]
    }
   ],
   "source": [
    "als_recsys = ALS_recsys('sas')\n",
    "als_recsys.fit()\n",
    "# get train inc. / train exc. recommendations\n",
    "top_k_df, top_ex = als_recsys.recommend()\n",
    "test_ex = als_recsys.remove_seen(als_recsys.test)\n",
    "\n",
    "merged_pred = top_ex.toPandas()\n",
    "merged_test = test_ex.toPandas()"
   ]
  },
  {
   "cell_type": "code",
   "execution_count": 58,
   "metadata": {},
   "outputs": [],
   "source": [
    "merged_test = merged_test.rename(columns={'UserId': 'userID', 'ItemId': 'itemID', 'Rating': 'rating'})\n",
    "merged_pred = merged_pred.rename(columns={'UserId': 'userID', 'ItemId': 'itemID'})"
   ]
  },
  {
   "cell_type": "code",
   "execution_count": 59,
   "metadata": {},
   "outputs": [
    {
     "name": "stdout",
     "output_type": "stream",
     "text": [
      "(4053, 4) (563462, 3)\n",
      "(2631, 4) (576740, 3)\n",
      "(3081, 4) (846237, 3)\n",
      "(3454, 4) (1164935, 3)\n",
      "(2188, 4) (1017112, 3)\n",
      "(478, 4) (384953, 3)\n"
     ]
    }
   ],
   "source": [
    "TOP_K = 10\n",
    "NDCGs = []\n",
    "for level in rfm_levels:\n",
    "    users = rfm[rfm['RFM_Level'] == level]['phone'].unique()\n",
    "\n",
    "    m_test_s = merged_test[merged_test['userID'].isin(users)]\n",
    "    m_pred_s = merged_pred[merged_pred['userID'].isin(users)]\n",
    "\n",
    "    print(m_test_s.shape, m_pred_s.shape)\n",
    "\n",
    "    eval_map = map_at_k(m_test_s, m_pred_s, col_prediction='prediction', k=TOP_K)\n",
    "    eval_ndcg = ndcg_at_k(m_test_s, m_pred_s, col_prediction='prediction', k=TOP_K)\n",
    "\n",
    "    NDCGs.append(eval_ndcg)"
   ]
  },
  {
   "cell_type": "code",
   "execution_count": 60,
   "metadata": {},
   "outputs": [
    {
     "name": "stdout",
     "output_type": "stream",
     "text": [
      "Can't Loose Them 0.0099\n",
      "Champions 0.0068\n",
      "Loyal 0.0081\n",
      "Potential 0.0077\n",
      "Sleeping 0.0154\n",
      "Require Activation 0.0266\n"
     ]
    }
   ],
   "source": [
    "for level, ndcg in zip(rfm_levels, NDCGs):\n",
    "    print(level, np.round(ndcg, 4))"
   ]
  },
  {
   "cell_type": "code",
   "execution_count": 61,
   "metadata": {},
   "outputs": [
    {
     "data": {
      "image/png": "[encoded data removed]",
      "text/plain": [
       "<Figure size 1500x500 with 1 Axes>"
      ]
     },
     "metadata": {},
     "output_type": "display_data"
    }
   ],
   "source": [
    "plt.figure(figsize=(15,5))\n",
    "plt.bar(rfm_levels, NDCGs);"
   ]
  },
  {
   "cell_type": "code",
   "execution_count": null,
   "metadata": {},
   "outputs": [],
   "source": [
    "# cleanup spark instance\n",
    "spark.stop()"
   ]
  },
  {
   "cell_type": "code",
   "execution_count": null,
   "metadata": {},
   "outputs": [],
   "source": []
  },
  {
   "cell_type": "code",
   "execution_count": null,
   "metadata": {},
   "outputs": [],
   "source": []
  },
  {
   "cell_type": "code",
   "execution_count": null,
   "metadata": {},
   "outputs": [],
   "source": []
  },
  {
   "cell_type": "code",
   "execution_count": null,
   "metadata": {},
   "outputs": [],
   "source": []
  },
  {
   "cell_type": "code",
   "execution_count": null,
   "metadata": {},
   "outputs": [],
   "source": []
  },
  {
   "cell_type": "code",
   "execution_count": null,
   "metadata": {},
   "outputs": [],
   "source": []
  },
  {
   "cell_type": "code",
   "execution_count": null,
   "metadata": {},
   "outputs": [],
   "source": [
    "#from annoy import AnnoyIndex\n",
    "#from tqdm import tqdm\n",
    "#\n",
    "#with Timer() as test_time:\n",
    "##\n",
    "\n",
    "    # Extract user and item factors\n",
    "#    user_factors = model.userFactors\n",
    "#    item_factors = model.itemFactors\n",
    "\n",
    "    # Create an Annoy index with the same number of dimensions as the item factors\n",
    "#    embedding_dimension = len(item_factors.select(\"features\").first()[0])\n",
    "#    annoy_index = AnnoyIndex(embedding_dimension, 'angular')\n",
    "\n",
    "    # Add item factors to the Annoy index\n",
    "#    item_factors_list = item_factors.select(\"id\", \"features\").collect()\n",
    "#    for item in item_factors_list:\n",
    "#        annoy_index.add_item(item[\"id\"], item[\"features\"])\n",
    "\n",
    "    # Build the Annoy index\n",
    "#    annoy_index.build(100) # You can adjust the number of trees to balance search speed and accuracy\n",
    "\n",
    "    # Find top K recommendations for each user\n",
    "#    K = 100\n",
    "#    top_k_recommendations = {}\n",
    "\n",
    "#    for user in tqdm(user_factors.select(\"id\", \"features\").collect()):\n",
    "#        user_id = user[\"id\"]\n",
    "#        user_embedding = user[\"features\"]\n",
    "#        nearest_item_ids = annoy_index.get_nns_by_vector(user_embedding, K)\n",
    "#        top_k_recommendations[user_id] = nearest_item_ids"
   ]
  },
  {
   "cell_type": "code",
   "execution_count": null,
   "metadata": {},
   "outputs": [],
   "source": [
    "#with Timer() as test_time:\n",
    "\n",
    "    # Get the cross join of all user-item pairs and score them.\n",
    "#    users = train.select(COL_USER).distinct()\n",
    "#    items = train.select(COL_ITEM).distinct()\n",
    "#    user_item = users.crossJoin(items)\n",
    "#    dfs_pred = model.transform(user_item)\n",
    "\n",
    "    # Remove seen items.\n",
    "#    dfs_pred_exclude_train = dfs_pred.alias(\"pred\").join(\n",
    "#        train.alias(\"train\"),\n",
    "#        (dfs_pred[COL_USER] == train[COL_USER]) & (dfs_pred[COL_ITEM] == train[COL_ITEM]),\n",
    "#        how='outer'\n",
    "#    )\n",
    "\n",
    "    # train.{col_rating} will be null on the previous step, if this pair was not seen before. These are the entries of interest to us.\n",
    "#    top_all = dfs_pred_exclude_train.filter(dfs_pred_exclude_train[f\"train.{COL_RATING}\"].isNull()) \\\n",
    "#        .select('pred.' + COL_USER, 'pred.' + COL_ITEM, 'pred.' + \"prediction\")\n",
    "\n",
    "    # In Spark, transformations are lazy evaluation\n",
    "    # Use an action to force execute and measure the test time \n",
    "#    top_all.cache().count()\n",
    "\n",
    "#print(\"Took {} seconds for prediction.\".format(test_time.interval))"
   ]
  }
 ],
 "metadata": {
  "kernelspec": {
   "display_name": "recsys",
   "language": "python",
   "name": "python3"
  },
  "language_info": {
   "codemirror_mode": {
    "name": "ipython",
    "version": 3
   },
   "file_extension": ".py",
   "mimetype": "text/x-python",
   "name": "python",
   "nbconvert_exporter": "python",
   "pygments_lexer": "ipython3",
   "version": "3.9.15"
  },
  "orig_nbformat": 4,
  "vscode": {
   "interpreter": {
    "hash": "78bff6571efa098a29603b0b132d0489520f19bae7ac06bdfd504caef114317d"
   }
  }
 },
 "nbformat": 4,
 "nbformat_minor": 2
}
