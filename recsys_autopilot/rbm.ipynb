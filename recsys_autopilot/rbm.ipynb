{
 "cells": [
  {
   "cell_type": "code",
   "execution_count": 7,
   "metadata": {},
   "outputs": [
    {
     "name": "stdout",
     "output_type": "stream",
     "text": [
      "System version: 3.9.15 | packaged by conda-forge | (main, Nov 22 2022, 08:48:25) \n",
      "[Clang 14.0.6 ]\n",
      "Pandas version: 1.5.3\n",
      "Tensorflow version: 2.11.0\n"
     ]
    }
   ],
   "source": [
    "import sys\n",
    "\n",
    "import pandas as pd\n",
    "import numpy as np\n",
    "import tensorflow as tf\n",
    "tf.get_logger().setLevel('ERROR') # only show error messages\n",
    "\n",
    "from recommenders.models.rbm.rbm import RBM\n",
    "from recommenders.datasets.python_splitters import numpy_stratified_split\n",
    "from recommenders.datasets.sparse import AffinityMatrix\n",
    "from recommenders.datasets import movielens\n",
    "from recommenders.evaluation.python_evaluation import map_at_k, ndcg_at_k, precision_at_k, recall_at_k, rmse, mae, exp_var, rsquared\n",
    "from recommenders.utils.timer import Timer\n",
    "from recommenders.utils.plot import line_graph\n",
    "\n",
    "print(\"System version: {}\".format(sys.version))\n",
    "print(\"Pandas version: {}\".format(pd.__version__))\n",
    "print(\"Tensorflow version: {}\".format(tf.__version__))\n",
    "\n",
    "import matplotlib.pyplot as plt"
   ]
  },
  {
   "attachments": {},
   "cell_type": "markdown",
   "metadata": {},
   "source": [
    "<h1>Load data</h1>"
   ]
  },
  {
   "cell_type": "code",
   "execution_count": 8,
   "metadata": {},
   "outputs": [],
   "source": [
    "def deduplicate(df):\n",
    "    min_v, max_v = df['rating'].min(), df['rating'].max()\n",
    "    df = df.groupby(['userID', 'itemID'], as_index=False).agg({'rating': 'sum', 'timestamp': 'max'})\n",
    "    df['rating'] = np.clip(df['rating'], min_v, max_v)\n",
    "    return df\n",
    "\n",
    "\n",
    "def load(dataset_name):\n",
    "    train_file = \"../data/{}/train.csv\".format(dataset_name)\n",
    "    test_file = \"../data/{}/test.csv\".format(dataset_name)\n",
    "\n",
    "    train = pd.read_csv(train_file)\n",
    "    test  = pd.read_csv(test_file)\n",
    "\n",
    "    train = deduplicate(train)\n",
    "    test = deduplicate(test)\n",
    "    \n",
    "    print(train['userID'].nunique(), train['itemID'].nunique())\n",
    "\n",
    "    #to use standard names across the analysis \n",
    "    header = {\n",
    "            \"col_user\": \"userID\",\n",
    "            \"col_item\": \"itemID\",\n",
    "            \"col_rating\": \"rating\",\n",
    "        }\n",
    "\n",
    "    #instantiate the sparse matrix generation\n",
    "    am = AffinityMatrix(df = train, **header)\n",
    "    #obtain the sparse matrix, users x items\n",
    "    Xtr, u, i = am.gen_affinity_matrix()\n",
    "\n",
    "    Xtst = np.zeros_like(Xtr)\n",
    "    for indx, (user, item, rating, timestamp) in test.iterrows():\n",
    "        u_index = u[user]\n",
    "        i_index = i[item]\n",
    "\n",
    "        Xtst[u_index][i_index] = rating\n",
    "\n",
    "    print('train matrix size', Xtr.shape)\n",
    "    print('test matrix size', Xtst.shape)\n",
    "\n",
    "    return Xtr, Xtst, am"
   ]
  },
  {
   "attachments": {},
   "cell_type": "markdown",
   "metadata": {},
   "source": [
    "<h1>Train the RBM model</h1>"
   ]
  },
  {
   "cell_type": "code",
   "execution_count": 9,
   "metadata": {},
   "outputs": [],
   "source": [
    "def init_RBM(Xtr, epoch=3, hidden_units=140):\n",
    "    #First we initialize the model class\n",
    "    model = RBM(\n",
    "        possible_ratings=np.setdiff1d(np.unique(Xtr), np.array([0])),\n",
    "        #possible_ratings=np.unique(Xtr), # this should be set only for steam\n",
    "        visible_units=Xtr.shape[1],\n",
    "        hidden_units=hidden_units,\n",
    "        training_epoch=epoch,\n",
    "        minibatch_size=70,\n",
    "        keep_prob=0.75,\n",
    "        with_metrics=True\n",
    "    )\n",
    "    return model"
   ]
  },
  {
   "cell_type": "code",
   "execution_count": 13,
   "metadata": {},
   "outputs": [],
   "source": [
    "class RBM_recsys():\n",
    "    def __init__(self, name='sas'):\n",
    "        # load data\n",
    "        self.Xtr, self.Xtst, self.am = load(name)\n",
    "\n",
    "        epochs = {\n",
    "            'movielens': 30,\n",
    "            'steam': 8,\n",
    "            'goodreads': 3,\n",
    "            'sas': 4,\n",
    "        }\n",
    "        hidden_units = {\n",
    "            'movielens': 100,\n",
    "            'steam': 100,\n",
    "            'goodreads': 140,\n",
    "            'sas': 240,\n",
    "        }\n",
    "        # init rbm\n",
    "        self.model = init_RBM(self.Xtr, epochs[name], hidden_units[name])\n",
    "\n",
    "    def fit(self):\n",
    "        # Model Fit\n",
    "        with Timer() as train_time:\n",
    "            self.model.fit(self.Xtr)\n",
    "\n",
    "        print(\"Took {:.2f} seconds for training.\".format(train_time.interval))\n",
    "        # Plot the train RMSE as a function of the epochs\n",
    "        line_graph(values=self.model.rmse_train, labels='train', x_name='epoch', y_name='rmse_train')\n",
    "\n",
    "    def get_user_recommendations(self, remove_seen=True):\n",
    "        # Model prediction on the test set Xtst.\n",
    "        with Timer() as prediction_time:\n",
    "            top_k = self.model.recommend_k_items(self.Xtst, 50, remove_seen=True)\n",
    "\n",
    "        print(\"Took {:.2f} seconds for prediction.\".format(prediction_time.interval))\n",
    "\n",
    "        top_k_df = self.am.map_back_sparse(top_k, kind = 'prediction')\n",
    "        test_df = self.am.map_back_sparse(self.Xtst, kind = 'ratings')\n",
    "\n",
    "        return top_k_df, test_df\n",
    "    \n",
    "    #######################\n",
    "    def map_k(self, data_true, data_pred, K):\n",
    "        return map_at_k(data_true, data_pred, col_user=\"userID\", col_item=\"itemID\", \n",
    "                    col_rating=\"rating\", col_prediction=\"prediction\", \n",
    "                    relevancy_method=\"top_k\", k= K)\n",
    "    \n",
    "    def ndcg_k(self, data_true, data_pred, K):\n",
    "        return ndcg_at_k(data_true, data_pred, col_user=\"userID\", col_item=\"itemID\", \n",
    "                    col_rating=\"rating\", col_prediction=\"prediction\", \n",
    "                    relevancy_method=\"top_k\", k= K)\n",
    "    \n",
    "    def precision_k(self, data_true, data_pred, K):\n",
    "        return precision_at_k(data_true, data_pred, col_user=\"userID\", col_item=\"itemID\", \n",
    "                    col_rating=\"rating\", col_prediction=\"prediction\", \n",
    "                    relevancy_method=\"top_k\", k= K)\n",
    "    \n",
    "    def recall_k(self, data_true, data_pred, K):\n",
    "        return recall_at_k(data_true, data_pred, col_user=\"userID\", col_item=\"itemID\", \n",
    "                    col_rating=\"rating\", col_prediction=\"prediction\", \n",
    "                    relevancy_method=\"top_k\", k= K)\n",
    "\n",
    "\n",
    "    def get_all_scores(self):\n",
    "\n",
    "        top_ex, test_df = self.get_user_recommendations(remove_seen=True)\n",
    "        top_k_df, test_df = self.get_user_recommendations(remove_seen=False)\n",
    "\n",
    "        exc_seen_rank = pd.DataFrame({\n",
    "            'TOP_K': [5, 10, 50],\n",
    "            'MAP': [self.map_k(test_df, top_ex, 5), self.map_k(test_df, top_ex, 10), self.map_k(test_df, top_ex, 50)],\n",
    "            'NDCG': [self.ndcg_k(test_df, top_ex, 5), self.ndcg_k(test_df, top_ex, 10), self.ndcg_k(test_df, top_ex, 50)],\n",
    "            'Precision': [self.precision_k(test_df, top_ex, 5), self.precision_k(test_df, top_ex, 10), self.precision_k(test_df, top_ex, 50)],\n",
    "            'Recall': [self.recall_k(test_df, top_ex, 5), self.recall_k(test_df, top_ex, 10), self.recall_k(test_df, top_ex, 50)],\n",
    "        })\n",
    "\n",
    "        inc_seen_rank = pd.DataFrame({\n",
    "            'TOP_K': [5, 10, 50],\n",
    "            'MAP': [self.map_k(test_df, top_k_df, 5), self.map_k(test_df, top_k_df, 10), self.map_k(test_df, top_k_df, 50)],\n",
    "            'NDCG': [self.ndcg_k(test_df, top_k_df, 5), self.ndcg_k(test_df, top_k_df, 10), self.ndcg_k(test_df, top_k_df, 50)],\n",
    "            'Precision': [self.precision_k(test_df, top_k_df, 5), self.precision_k(test_df, top_k_df, 10), self.precision_k(test_df, top_k_df, 50)],\n",
    "            'Recall': [self.recall_k(test_df, top_k_df, 5), self.recall_k(test_df, top_k_df, 10), self.recall_k(test_df, top_k_df, 50)],\n",
    "        })\n",
    "\n",
    "        merged = pd.merge(test_df, top_k_df, on=('userID', 'itemID'))\n",
    "\n",
    "        data_true = merged[['userID', 'itemID', 'rating']]\n",
    "        data_pred = merged[['userID', 'itemID', 'prediction']]\n",
    "\n",
    "        eval_rmse = rmse(data_true, data_pred, col_user=\"userID\", col_item=\"itemID\", col_rating=\"rating\", col_prediction=\"prediction\")\n",
    "        eval_mae = mae(data_true, data_pred, col_user=\"userID\", col_item=\"itemID\", col_rating=\"rating\", col_prediction=\"prediction\")\n",
    "        eval_exp_var = exp_var(data_true, data_pred, col_user=\"userID\", col_item=\"itemID\", col_rating=\"rating\", col_prediction=\"prediction\")\n",
    "        eval_rsquared = rsquared(data_true, data_pred, col_user=\"userID\", col_item=\"itemID\", col_rating=\"rating\", col_prediction=\"prediction\")\n",
    "\n",
    "        inc_seen_rait = pd.DataFrame({\n",
    "            'RMSE': [eval_rmse],\n",
    "            'MAE': [eval_mae],\n",
    "            'Exp Var': [eval_exp_var],\n",
    "            'R squared': [eval_rsquared]\n",
    "        }) \n",
    "\n",
    "        return exc_seen_rank, inc_seen_rank, inc_seen_rait\n",
    "        "
   ]
  },
  {
   "cell_type": "code",
   "execution_count": 14,
   "metadata": {},
   "outputs": [],
   "source": [
    "def full_train(ds_name):\n",
    "    als_recsys = RBM_recsys(ds_name)\n",
    "    als_recsys.fit()\n",
    "    return als_recsys.get_all_scores()"
   ]
  },
  {
   "cell_type": "code",
   "execution_count": 15,
   "metadata": {},
   "outputs": [
    {
     "name": "stdout",
     "output_type": "stream",
     "text": [
      "47759 2184\n",
      "train matrix size (47759, 2184)\n",
      "test matrix size (47759, 2184)\n"
     ]
    },
    {
     "name": "stderr",
     "output_type": "stream",
     "text": [
      "2023-05-09 14:12:16.884049: W tensorflow/c/c_api.cc:291] Operation '{name:'key_value_init/LookupTableImportV2' id:6 op device:{requested: '', assigned: ''} def:{{{node key_value_init/LookupTableImportV2}} = LookupTableImportV2[Tin=DT_INT32, Tout=DT_FLOAT, _has_manual_control_dependencies=true](hash_table, Const, Const_1)}}' was changed by setting attribute after it was run by a session. This mutation will have no effect, and will trigger an error in the future. Either don't modify nodes after running them or create a new session.\n"
     ]
    },
    {
     "name": "stdout",
     "output_type": "stream",
     "text": [
      "Took 35.61 seconds for training.\n",
      "Took 34.97 seconds for prediction.\n",
      "Took 39.88 seconds for prediction.\n"
     ]
    },
    {
     "data": {
      "image/png": "[encoded data removed]",
      "text/plain": [
       "<Figure size 500x500 with 1 Axes>"
      ]
     },
     "metadata": {},
     "output_type": "display_data"
    }
   ],
   "source": [
    "exc_seen_rank, inc_seen_rank, inc_seen_rait = full_train('sas')"
   ]
  },
  {
   "cell_type": "code",
   "execution_count": 16,
   "metadata": {},
   "outputs": [
    {
     "name": "stderr",
     "output_type": "stream",
     "text": [
      "/var/folders/p5/jqpndw0d2cg7g0mst1n0c49r0000gn/T/ipykernel_20756/3256864183.py:1: FutureWarning: this method is deprecated in favour of `Styler.hide(axis=\"index\")`\n",
      "  exc_seen_rank.style.hide_index()\n"
     ]
    },
    {
     "data": {
      "text/html": [
       "<style type=\"text/css\">\n",
       "</style>\n",
       "<table id=\"T_54f98\">\n",
       "  <thead>\n",
       "    <tr>\n",
       "      <th id=\"T_54f98_level0_col0\" class=\"col_heading level0 col0\" >TOP_K</th>\n",
       "      <th id=\"T_54f98_level0_col1\" class=\"col_heading level0 col1\" >MAP</th>\n",
       "      <th id=\"T_54f98_level0_col2\" class=\"col_heading level0 col2\" >NDCG</th>\n",
       "      <th id=\"T_54f98_level0_col3\" class=\"col_heading level0 col3\" >Precision</th>\n",
       "      <th id=\"T_54f98_level0_col4\" class=\"col_heading level0 col4\" >Recall</th>\n",
       "    </tr>\n",
       "  </thead>\n",
       "  <tbody>\n",
       "    <tr>\n",
       "      <td id=\"T_54f98_row0_col0\" class=\"data row0 col0\" >5</td>\n",
       "      <td id=\"T_54f98_row0_col1\" class=\"data row0 col1\" >0.039661</td>\n",
       "      <td id=\"T_54f98_row0_col2\" class=\"data row0 col2\" >0.053872</td>\n",
       "      <td id=\"T_54f98_row0_col3\" class=\"data row0 col3\" >0.025265</td>\n",
       "      <td id=\"T_54f98_row0_col4\" class=\"data row0 col4\" >0.057148</td>\n",
       "    </tr>\n",
       "    <tr>\n",
       "      <td id=\"T_54f98_row1_col0\" class=\"data row1 col0\" >10</td>\n",
       "      <td id=\"T_54f98_row1_col1\" class=\"data row1 col1\" >0.042524</td>\n",
       "      <td id=\"T_54f98_row1_col2\" class=\"data row1 col2\" >0.059607</td>\n",
       "      <td id=\"T_54f98_row1_col3\" class=\"data row1 col3\" >0.016838</td>\n",
       "      <td id=\"T_54f98_row1_col4\" class=\"data row1 col4\" >0.075557</td>\n",
       "    </tr>\n",
       "    <tr>\n",
       "      <td id=\"T_54f98_row2_col0\" class=\"data row2 col0\" >50</td>\n",
       "      <td id=\"T_54f98_row2_col1\" class=\"data row2 col1\" >0.045506</td>\n",
       "      <td id=\"T_54f98_row2_col2\" class=\"data row2 col2\" >0.072493</td>\n",
       "      <td id=\"T_54f98_row2_col3\" class=\"data row2 col3\" >0.005701</td>\n",
       "      <td id=\"T_54f98_row2_col4\" class=\"data row2 col4\" >0.120600</td>\n",
       "    </tr>\n",
       "  </tbody>\n",
       "</table>\n"
      ],
      "text/plain": [
       "<pandas.io.formats.style.Styler at 0x36459f160>"
      ]
     },
     "execution_count": 16,
     "metadata": {},
     "output_type": "execute_result"
    }
   ],
   "source": [
    "exc_seen_rank.style.hide_index()"
   ]
  },
  {
   "cell_type": "code",
   "execution_count": 19,
   "metadata": {},
   "outputs": [
    {
     "name": "stderr",
     "output_type": "stream",
     "text": [
      "/var/folders/p5/jqpndw0d2cg7g0mst1n0c49r0000gn/T/ipykernel_20756/1931737838.py:1: FutureWarning: this method is deprecated in favour of `Styler.hide(axis=\"index\")`\n",
      "  inc_seen_rank.style.hide_index()\n"
     ]
    },
    {
     "data": {
      "text/html": [
       "<style type=\"text/css\">\n",
       "</style>\n",
       "<table id=\"T_55d85\">\n",
       "  <thead>\n",
       "    <tr>\n",
       "      <th id=\"T_55d85_level0_col0\" class=\"col_heading level0 col0\" >TOP_K</th>\n",
       "      <th id=\"T_55d85_level0_col1\" class=\"col_heading level0 col1\" >MAP</th>\n",
       "      <th id=\"T_55d85_level0_col2\" class=\"col_heading level0 col2\" >NDCG</th>\n",
       "      <th id=\"T_55d85_level0_col3\" class=\"col_heading level0 col3\" >Precision</th>\n",
       "      <th id=\"T_55d85_level0_col4\" class=\"col_heading level0 col4\" >Recall</th>\n",
       "    </tr>\n",
       "  </thead>\n",
       "  <tbody>\n",
       "    <tr>\n",
       "      <td id=\"T_55d85_row0_col0\" class=\"data row0 col0\" >5</td>\n",
       "      <td id=\"T_55d85_row0_col1\" class=\"data row0 col1\" >0.044064</td>\n",
       "      <td id=\"T_55d85_row0_col2\" class=\"data row0 col2\" >0.059138</td>\n",
       "      <td id=\"T_55d85_row0_col3\" class=\"data row0 col3\" >0.027195</td>\n",
       "      <td id=\"T_55d85_row0_col4\" class=\"data row0 col4\" >0.062581</td>\n",
       "    </tr>\n",
       "    <tr>\n",
       "      <td id=\"T_55d85_row1_col0\" class=\"data row1 col0\" >10</td>\n",
       "      <td id=\"T_55d85_row1_col1\" class=\"data row1 col1\" >0.047046</td>\n",
       "      <td id=\"T_55d85_row1_col2\" class=\"data row1 col2\" >0.065135</td>\n",
       "      <td id=\"T_55d85_row1_col3\" class=\"data row1 col3\" >0.018044</td>\n",
       "      <td id=\"T_55d85_row1_col4\" class=\"data row1 col4\" >0.081708</td>\n",
       "    </tr>\n",
       "    <tr>\n",
       "      <td id=\"T_55d85_row2_col0\" class=\"data row2 col0\" >50</td>\n",
       "      <td id=\"T_55d85_row2_col1\" class=\"data row2 col1\" >0.049229</td>\n",
       "      <td id=\"T_55d85_row2_col2\" class=\"data row2 col2\" >0.073535</td>\n",
       "      <td id=\"T_55d85_row2_col3\" class=\"data row2 col3\" >0.005083</td>\n",
       "      <td id=\"T_55d85_row2_col4\" class=\"data row2 col4\" >0.109911</td>\n",
       "    </tr>\n",
       "  </tbody>\n",
       "</table>\n"
      ],
      "text/plain": [
       "<pandas.io.formats.style.Styler at 0x366a50910>"
      ]
     },
     "execution_count": 19,
     "metadata": {},
     "output_type": "execute_result"
    }
   ],
   "source": [
    "inc_seen_rank.style.hide_index()"
   ]
  },
  {
   "cell_type": "code",
   "execution_count": 18,
   "metadata": {},
   "outputs": [
    {
     "name": "stderr",
     "output_type": "stream",
     "text": [
      "/var/folders/p5/jqpndw0d2cg7g0mst1n0c49r0000gn/T/ipykernel_20756/3271275326.py:1: FutureWarning: this method is deprecated in favour of `Styler.hide(axis=\"index\")`\n",
      "  inc_seen_rait.style.hide_index()\n"
     ]
    },
    {
     "data": {
      "text/html": [
       "<style type=\"text/css\">\n",
       "</style>\n",
       "<table id=\"T_80664\">\n",
       "  <thead>\n",
       "    <tr>\n",
       "      <th id=\"T_80664_level0_col0\" class=\"col_heading level0 col0\" >RMSE</th>\n",
       "      <th id=\"T_80664_level0_col1\" class=\"col_heading level0 col1\" >MAE</th>\n",
       "      <th id=\"T_80664_level0_col2\" class=\"col_heading level0 col2\" >Exp Var</th>\n",
       "      <th id=\"T_80664_level0_col3\" class=\"col_heading level0 col3\" >R squared</th>\n",
       "    </tr>\n",
       "  </thead>\n",
       "  <tbody>\n",
       "    <tr>\n",
       "      <td id=\"T_80664_row0_col0\" class=\"data row0 col0\" >1.524428</td>\n",
       "      <td id=\"T_80664_row0_col1\" class=\"data row0 col1\" >1.253711</td>\n",
       "      <td id=\"T_80664_row0_col2\" class=\"data row0 col2\" >0.218362</td>\n",
       "      <td id=\"T_80664_row0_col3\" class=\"data row0 col3\" >0.104112</td>\n",
       "    </tr>\n",
       "  </tbody>\n",
       "</table>\n"
      ],
      "text/plain": [
       "<pandas.io.formats.style.Styler at 0x366a500a0>"
      ]
     },
     "execution_count": 18,
     "metadata": {},
     "output_type": "execute_result"
    }
   ],
   "source": [
    "inc_seen_rait.style.hide_index()"
   ]
  },
  {
   "attachments": {},
   "cell_type": "markdown",
   "metadata": {},
   "source": [
    "<h3>SAS RFM</h3>"
   ]
  },
  {
   "cell_type": "code",
   "execution_count": 1,
   "metadata": {},
   "outputs": [],
   "source": [
    "from copy import deepcopy"
   ]
  },
  {
   "cell_type": "code",
   "execution_count": 5,
   "metadata": {},
   "outputs": [],
   "source": [
    "rfm = pd.read_parquet('../data/sas/mart/rfm_mapped.parquet')\n",
    "rfm_levels = [\"Can't Loose Them\", \"Champions\", \"Loyal\", \"Potential\", \"Sleeping\", \"Require Activation\"]"
   ]
  },
  {
   "cell_type": "code",
   "execution_count": 11,
   "metadata": {},
   "outputs": [
    {
     "name": "stdout",
     "output_type": "stream",
     "text": [
      "47759 2184\n",
      "train matrix size (47759, 2184)\n",
      "test matrix size (47759, 2184)\n"
     ]
    },
    {
     "name": "stderr",
     "output_type": "stream",
     "text": [
      "2023-05-09 14:09:57.718107: I tensorflow/compiler/mlir/mlir_graph_optimization_pass.cc:357] MLIR V1 optimization pass is not enabled\n",
      "2023-05-09 14:09:57.723374: W tensorflow/tsl/platform/profile_utils/cpu_utils.cc:128] Failed to get CPU frequency: 0 Hz\n",
      "2023-05-09 14:09:57.947511: W tensorflow/c/c_api.cc:291] Operation '{name:'key_value_init/LookupTableImportV2' id:6 op device:{requested: '', assigned: ''} def:{{{node key_value_init/LookupTableImportV2}} = LookupTableImportV2[Tin=DT_INT32, Tout=DT_FLOAT, _has_manual_control_dependencies=true](hash_table, Const, Const_1)}}' was changed by setting attribute after it was run by a session. This mutation will have no effect, and will trigger an error in the future. Either don't modify nodes after running them or create a new session.\n"
     ]
    },
    {
     "name": "stdout",
     "output_type": "stream",
     "text": [
      "Took 32.12 seconds for training.\n",
      "Took 35.61 seconds for prediction.\n"
     ]
    },
    {
     "data": {
      "image/png": "[encoded data removed]",
      "text/plain": [
       "<Figure size 500x500 with 1 Axes>"
      ]
     },
     "metadata": {},
     "output_type": "display_data"
    }
   ],
   "source": [
    "als_recsys = RBM_recsys('sas')\n",
    "als_recsys.fit()\n",
    "top_ex, test_df = als_recsys.get_user_recommendations(remove_seen=True)\n",
    "merged_pred = deepcopy(top_ex)\n",
    "merged_test = deepcopy(test_df)"
   ]
  },
  {
   "cell_type": "code",
   "execution_count": 12,
   "metadata": {},
   "outputs": [
    {
     "data": {
      "text/plain": [
       "0.05773961144108822"
      ]
     },
     "execution_count": 12,
     "metadata": {},
     "output_type": "execute_result"
    }
   ],
   "source": [
    "ndcg_at_k(merged_test, merged_pred, col_prediction='prediction', k=10)"
   ]
  },
  {
   "cell_type": "code",
   "execution_count": 21,
   "metadata": {},
   "outputs": [
    {
     "name": "stdout",
     "output_type": "stream",
     "text": [
      "(5532, 3) (141800, 3)\n",
      "(3455, 3) (144850, 3)\n",
      "(4055, 3) (212500, 3)\n",
      "(4344, 3) (292450, 3)\n",
      "(2694, 3) (255300, 3)\n",
      "(572, 3) (96600, 3)\n"
     ]
    }
   ],
   "source": [
    "TOP_K = 10\n",
    "NDCGs = []\n",
    "for level in rfm_levels:\n",
    "    users = rfm[rfm['RFM_Level'] == level]['phone'].unique()\n",
    "\n",
    "    m_test_s = merged_test[merged_test['userID'].isin(users)]\n",
    "    m_pred_s = merged_pred[merged_pred['userID'].isin(users)]\n",
    "\n",
    "    print(m_test_s.shape, m_pred_s.shape)\n",
    "\n",
    "    eval_map = map_at_k(m_test_s, m_pred_s, col_prediction='prediction', k=TOP_K)\n",
    "    eval_ndcg = ndcg_at_k(m_test_s, m_pred_s, col_prediction='prediction', k=TOP_K)\n",
    "\n",
    "    NDCGs.append(eval_ndcg)"
   ]
  },
  {
   "cell_type": "code",
   "execution_count": 22,
   "metadata": {},
   "outputs": [
    {
     "name": "stdout",
     "output_type": "stream",
     "text": [
      "Can't Loose Them 0.041\n",
      "Champions 0.0466\n",
      "Loyal 0.0373\n",
      "Potential 0.0458\n",
      "Sleeping 0.0544\n",
      "Require Activation 0.0687\n"
     ]
    }
   ],
   "source": [
    "for level, ndcg in zip(rfm_levels, NDCGs):\n",
    "    print(level, np.round(ndcg, 4))"
   ]
  },
  {
   "cell_type": "code",
   "execution_count": 31,
   "metadata": {},
   "outputs": [
    {
     "data": {
      "image/png": "[encoded data removed]",
      "text/plain": [
       "<Figure size 1500x500 with 1 Axes>"
      ]
     },
     "metadata": {},
     "output_type": "display_data"
    }
   ],
   "source": [
    "plt.figure(figsize=(15,5))\n",
    "plt.bar(rfm_levels, NDCGs);"
   ]
  },
  {
   "attachments": {},
   "cell_type": "markdown",
   "metadata": {},
   "source": [
    "<h1>Saving the model and Loading a pre-trained model</h1>"
   ]
  },
  {
   "cell_type": "code",
   "execution_count": null,
   "metadata": {},
   "outputs": [],
   "source": [
    "#model.save(file_path='./models/rbm_model.ckpt')"
   ]
  },
  {
   "cell_type": "code",
   "execution_count": null,
   "metadata": {},
   "outputs": [],
   "source": []
  }
 ],
 "metadata": {
  "kernelspec": {
   "display_name": "recsys",
   "language": "python",
   "name": "python3"
  },
  "language_info": {
   "codemirror_mode": {
    "name": "ipython",
    "version": 3
   },
   "file_extension": ".py",
   "mimetype": "text/x-python",
   "name": "python",
   "nbconvert_exporter": "python",
   "pygments_lexer": "ipython3",
   "version": "3.9.15"
  },
  "orig_nbformat": 4,
  "vscode": {
   "interpreter": {
    "hash": "78bff6571efa098a29603b0b132d0489520f19bae7ac06bdfd504caef114317d"
   }
  }
 },
 "nbformat": 4,
 "nbformat_minor": 2
}
