{
 "cells": [
  {
   "cell_type": "code",
   "execution_count": 171,
   "id": "86876072-b4a5-489e-80fc-889aec7689d4",
   "metadata": {},
   "outputs": [],
   "source": [
    "import numpy as np\n",
    "import pandas as pd\n",
    "\n",
    "from tqdm import tqdm"
   ]
  },
  {
   "cell_type": "code",
   "execution_count": 172,
   "id": "4808338c-2fb6-46d2-a383-1602553ec2ea",
   "metadata": {},
   "outputs": [],
   "source": [
    "import absl.logging\n",
    "absl.logging.set_verbosity(absl.logging.ERROR)"
   ]
  },
  {
   "cell_type": "code",
   "execution_count": 173,
   "id": "401278b9-134f-42ea-956b-bc15b1f3e4f0",
   "metadata": {},
   "outputs": [],
   "source": [
    "import tensorflow as tf"
   ]
  },
  {
   "cell_type": "markdown",
   "id": "dba20f85-b4c7-420e-a9e2-a3a53db44a35",
   "metadata": {},
   "source": [
    "<h3>Read files</h3>"
   ]
  },
  {
   "cell_type": "code",
   "execution_count": 174,
   "id": "ab205d00-ebb5-4d31-93b9-50ac78a4fd2a",
   "metadata": {},
   "outputs": [],
   "source": [
    "with open('../data/models/tmp/test.npy', 'rb') as f:\n",
    "    test = np.load(f, allow_pickle=True)"
   ]
  },
  {
   "cell_type": "code",
   "execution_count": 175,
   "id": "427f537a-eb27-4908-8f90-30e15a4a9a16",
   "metadata": {},
   "outputs": [],
   "source": [
    "with open('../data/models/tmp/vocab.npy', 'rb') as f:\n",
    "    vocab = np.load(f, allow_pickle=True)\n",
    "    categ = np.load(f, allow_pickle=True)"
   ]
  },
  {
   "cell_type": "code",
   "execution_count": 201,
   "id": "d1cec5cb-14aa-4b60-825b-a7c795cbe27c",
   "metadata": {},
   "outputs": [],
   "source": [
    "item_mask = pd.Series(vocab).apply(lambda x: x[:2] == 'ID').values.astype(float)\n",
    "item_mask = np.insert(item_mask, 0, 0)"
   ]
  },
  {
   "cell_type": "code",
   "execution_count": 216,
   "id": "bff69c9a-ce7a-4dc1-89cd-a08be8c50d48",
   "metadata": {},
   "outputs": [],
   "source": [
    "item_target = pd.Series(test[:, -1]).apply(lambda x: x[:2] == 'ID').values"
   ]
  },
  {
   "cell_type": "code",
   "execution_count": 202,
   "id": "0e8d170d-8e44-49be-b5c6-0ffd0582b8c5",
   "metadata": {},
   "outputs": [
    {
     "name": "stdout",
     "output_type": "stream",
     "text": [
      "CPU times: user 995 ms, sys: 24.8 ms, total: 1.02 s\n",
      "Wall time: 1.02 s\n"
     ]
    }
   ],
   "source": [
    "%%time\n",
    "pretrained = tf.keras.models.load_model('../data/models/model.h5', custom_objects={}) # load model"
   ]
  },
  {
   "cell_type": "code",
   "execution_count": 203,
   "id": "5ca3f2b0-8ece-4ca3-a98a-4ef45150658d",
   "metadata": {},
   "outputs": [],
   "source": [
    "lookup = pretrained.get_layer('item_embedding').get_layer('lookup')"
   ]
  },
  {
   "cell_type": "code",
   "execution_count": 204,
   "id": "273d859f-6c86-4991-ae80-726e63ca13d1",
   "metadata": {},
   "outputs": [],
   "source": [
    "def get_model():\n",
    "    \n",
    "    freeze = pretrained.output\n",
    "    \n",
    "    output = tf.multiply(freeze, item_mask)\n",
    "    \n",
    "    return tf.keras.Model(inputs=pretrained.input, outputs=output, name=\"model\")"
   ]
  },
  {
   "cell_type": "code",
   "execution_count": 205,
   "id": "2ab9e7ff-ca06-437f-9d8a-363dec0cf134",
   "metadata": {},
   "outputs": [],
   "source": [
    "model = get_model()"
   ]
  },
  {
   "cell_type": "code",
   "execution_count": 254,
   "id": "92f5bff3-a398-4e98-829d-4a3b0f832fbc",
   "metadata": {},
   "outputs": [],
   "source": [
    "model.compile(\n",
    "    metrics=[\n",
    "        tf.keras.metrics.SparseTopKCategoricalAccuracy(k=int(item_mask.sum() // 2), name='auc'), # auc\n",
    "        tf.keras.metrics.SparseTopKCategoricalAccuracy(k=1, name='top1acc'),\n",
    "        tf.keras.metrics.SparseTopKCategoricalAccuracy(k=10, name='top10acc')\n",
    "    ])"
   ]
  },
  {
   "cell_type": "code",
   "execution_count": 255,
   "id": "af32fd22-7da6-49cf-bf45-f6bbd4e1eefa",
   "metadata": {},
   "outputs": [
    {
     "name": "stdout",
     "output_type": "stream",
     "text": [
      "342/342 [==============================] - 2s 4ms/step - loss: 0.0000e+00 - auc: 0.9206 - top1acc: 0.4170 - top10acc: 0.5086\n"
     ]
    }
   ],
   "source": [
    "_ = model.evaluate(test[:, :-1][item_target], lookup(test[:, -1][item_target]))"
   ]
  },
  {
   "cell_type": "code",
   "execution_count": null,
   "id": "7098591d-085c-4d1f-8bc3-56e8d067747d",
   "metadata": {},
   "outputs": [],
   "source": []
  }
 ],
 "metadata": {
  "kernelspec": {
   "display_name": "Python 3 (ipykernel)",
   "language": "python",
   "name": "python3"
  },
  "language_info": {
   "codemirror_mode": {
    "name": "ipython",
    "version": 3
   },
   "file_extension": ".py",
   "mimetype": "text/x-python",
   "name": "python",
   "nbconvert_exporter": "python",
   "pygments_lexer": "ipython3",
   "version": "3.8.8"
  }
 },
 "nbformat": 4,
 "nbformat_minor": 5
}
