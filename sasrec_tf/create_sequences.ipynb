{
 "cells": [
  {
   "cell_type": "code",
   "execution_count": 1,
   "id": "eec0e482-acb8-4972-b90a-6e0d26aea046",
   "metadata": {},
   "outputs": [],
   "source": [
    "import pandas as pd\n",
    "import numpy as np"
   ]
  },
  {
   "cell_type": "code",
   "execution_count": 59,
   "id": "a3d47555-df9d-4518-b490-501fdcb75436",
   "metadata": {},
   "outputs": [],
   "source": [
    "from copy import deepcopy"
   ]
  },
  {
   "cell_type": "markdown",
   "id": "ce5ce746-6881-4d6c-b5dc-71410cb167a4",
   "metadata": {},
   "source": [
    "<h3>Read data</h3>"
   ]
  },
  {
   "cell_type": "code",
   "execution_count": 2,
   "id": "1a0a5c2e-81e8-48ba-866e-f24af9d224ca",
   "metadata": {},
   "outputs": [],
   "source": [
    "positions = pd.read_parquet('./../data/clean/positions.parquet')"
   ]
  },
  {
   "cell_type": "code",
   "execution_count": 3,
   "id": "2983b2dd-eae5-4d25-bba6-5fe022d6cd19",
   "metadata": {},
   "outputs": [
    {
     "data": {
      "text/html": [
       "<div>\n",
       "<style scoped>\n",
       "    .dataframe tbody tr th:only-of-type {\n",
       "        vertical-align: middle;\n",
       "    }\n",
       "\n",
       "    .dataframe tbody tr th {\n",
       "        vertical-align: top;\n",
       "    }\n",
       "\n",
       "    .dataframe thead th {\n",
       "        text-align: right;\n",
       "    }\n",
       "</style>\n",
       "<table border=\"1\" class=\"dataframe\">\n",
       "  <thead>\n",
       "    <tr style=\"text-align: right;\">\n",
       "      <th></th>\n",
       "      <th>Дата</th>\n",
       "      <th>ID_SKU</th>\n",
       "      <th>Телефон_new</th>\n",
       "      <th>Цена</th>\n",
       "      <th>Количество</th>\n",
       "      <th>Группа2</th>\n",
       "      <th>Группа3</th>\n",
       "      <th>Группа4</th>\n",
       "      <th>Тип</th>\n",
       "      <th>ТипТовара</th>\n",
       "    </tr>\n",
       "  </thead>\n",
       "  <tbody>\n",
       "    <tr>\n",
       "      <th>0</th>\n",
       "      <td>2017-07-01</td>\n",
       "      <td>IDL00051334048</td>\n",
       "      <td>55574948-52495050484877</td>\n",
       "      <td>50.0</td>\n",
       "      <td>1.0</td>\n",
       "      <td>ТЕКСТИЛЬ, ТРИКОТАЖ</td>\n",
       "      <td>ДЕТСКИЕ КОЛГОТКИ И НОСКИ</td>\n",
       "      <td>носки</td>\n",
       "      <td>ОДЕЖДА</td>\n",
       "      <td>МГТ</td>\n",
       "    </tr>\n",
       "    <tr>\n",
       "      <th>1</th>\n",
       "      <td>2017-07-01</td>\n",
       "      <td>IDL00051367351</td>\n",
       "      <td>55574948-52495050484877</td>\n",
       "      <td>50.0</td>\n",
       "      <td>1.0</td>\n",
       "      <td>ТЕКСТИЛЬ, ТРИКОТАЖ</td>\n",
       "      <td>ДЕТСКИЕ КОЛГОТКИ И НОСКИ</td>\n",
       "      <td>носки</td>\n",
       "      <td>ОДЕЖДА</td>\n",
       "      <td>МГТ</td>\n",
       "    </tr>\n",
       "    <tr>\n",
       "      <th>2</th>\n",
       "      <td>2017-07-01</td>\n",
       "      <td>IDL00007611755</td>\n",
       "      <td>55574948-52495050484877</td>\n",
       "      <td>49.0</td>\n",
       "      <td>1.0</td>\n",
       "      <td>ТЕКСТИЛЬ, ТРИКОТАЖ</td>\n",
       "      <td>ДЕТСКИЕ КОЛГОТКИ И НОСКИ</td>\n",
       "      <td>носки</td>\n",
       "      <td>ОДЕЖДА</td>\n",
       "      <td>МГТ</td>\n",
       "    </tr>\n",
       "    <tr>\n",
       "      <th>3</th>\n",
       "      <td>2017-07-01</td>\n",
       "      <td>IDL00014478250</td>\n",
       "      <td>55574948-52495050484877</td>\n",
       "      <td>40.0</td>\n",
       "      <td>1.0</td>\n",
       "      <td>ТЕКСТИЛЬ, ТРИКОТАЖ</td>\n",
       "      <td>ДЕТСКИЕ КОЛГОТКИ И НОСКИ</td>\n",
       "      <td>носки</td>\n",
       "      <td>ОДЕЖДА</td>\n",
       "      <td>МГТ</td>\n",
       "    </tr>\n",
       "    <tr>\n",
       "      <th>4</th>\n",
       "      <td>2017-07-01</td>\n",
       "      <td>IDL00001209351</td>\n",
       "      <td>55574948-52495050484877</td>\n",
       "      <td>169.0</td>\n",
       "      <td>1.0</td>\n",
       "      <td>ТЕКСТИЛЬ, ТРИКОТАЖ</td>\n",
       "      <td>ДЕТСКИЕ КОЛГОТКИ И НОСКИ</td>\n",
       "      <td>колготки</td>\n",
       "      <td>ОДЕЖДА</td>\n",
       "      <td>МГТ</td>\n",
       "    </tr>\n",
       "  </tbody>\n",
       "</table>\n",
       "</div>"
      ],
      "text/plain": [
       "        Дата          ID_SKU              Телефон_new   Цена  Количество  \\\n",
       "0 2017-07-01  IDL00051334048  55574948-52495050484877   50.0         1.0   \n",
       "1 2017-07-01  IDL00051367351  55574948-52495050484877   50.0         1.0   \n",
       "2 2017-07-01  IDL00007611755  55574948-52495050484877   49.0         1.0   \n",
       "3 2017-07-01  IDL00014478250  55574948-52495050484877   40.0         1.0   \n",
       "4 2017-07-01  IDL00001209351  55574948-52495050484877  169.0         1.0   \n",
       "\n",
       "              Группа2                   Группа3   Группа4     Тип ТипТовара  \n",
       "0  ТЕКСТИЛЬ, ТРИКОТАЖ  ДЕТСКИЕ КОЛГОТКИ И НОСКИ     носки  ОДЕЖДА       МГТ  \n",
       "1  ТЕКСТИЛЬ, ТРИКОТАЖ  ДЕТСКИЕ КОЛГОТКИ И НОСКИ     носки  ОДЕЖДА       МГТ  \n",
       "2  ТЕКСТИЛЬ, ТРИКОТАЖ  ДЕТСКИЕ КОЛГОТКИ И НОСКИ     носки  ОДЕЖДА       МГТ  \n",
       "3  ТЕКСТИЛЬ, ТРИКОТАЖ  ДЕТСКИЕ КОЛГОТКИ И НОСКИ     носки  ОДЕЖДА       МГТ  \n",
       "4  ТЕКСТИЛЬ, ТРИКОТАЖ  ДЕТСКИЕ КОЛГОТКИ И НОСКИ  колготки  ОДЕЖДА       МГТ  "
      ]
     },
     "execution_count": 3,
     "metadata": {},
     "output_type": "execute_result"
    }
   ],
   "source": [
    "positions.head()"
   ]
  },
  {
   "cell_type": "code",
   "execution_count": 4,
   "id": "d29d8ce8-3122-439e-a279-1649e41749ac",
   "metadata": {},
   "outputs": [
    {
     "data": {
      "text/plain": [
       "(937178, 10)"
      ]
     },
     "execution_count": 4,
     "metadata": {},
     "output_type": "execute_result"
    }
   ],
   "source": [
    "positions.shape"
   ]
  },
  {
   "cell_type": "code",
   "execution_count": 58,
   "id": "8cd70bef-ee0b-45d4-93f3-9011521968dc",
   "metadata": {},
   "outputs": [
    {
     "data": {
      "image/png": "[encoded data removed]",
      "text/plain": [
       "<Figure size 1080x360 with 1 Axes>"
      ]
     },
     "metadata": {
      "needs_background": "light"
     },
     "output_type": "display_data"
    }
   ],
   "source": [
    "positions['Дата'].hist(figsize=(15,5), bins=100); # data for 3 months"
   ]
  },
  {
   "cell_type": "markdown",
   "id": "e9e0cb41-1b9a-4d6c-a74c-ff27ed942e47",
   "metadata": {},
   "source": [
    "<h3>Filter items / categories</h3>"
   ]
  },
  {
   "cell_type": "markdown",
   "id": "59f37812-1edd-421c-a385-6568ca7d8ee8",
   "metadata": {},
   "source": [
    "<h4>Items</h4>"
   ]
  },
  {
   "cell_type": "code",
   "execution_count": 5,
   "id": "1e6495c9-b282-4aa7-9a8b-2c22f8977615",
   "metadata": {},
   "outputs": [
    {
     "name": "stdout",
     "output_type": "stream",
     "text": [
      "There are 130752 users\n"
     ]
    }
   ],
   "source": [
    "print('There are', positions['Телефон_new'].nunique(), 'users')"
   ]
  },
  {
   "cell_type": "code",
   "execution_count": 6,
   "id": "521cab39-046a-4827-8c30-eb58c21a4b1d",
   "metadata": {},
   "outputs": [
    {
     "name": "stdout",
     "output_type": "stream",
     "text": [
      "There are 118386 unique items; q99 for value counts: 77.0\n"
     ]
    }
   ],
   "source": [
    "sku_freq = positions['ID_SKU'].value_counts()\n",
    "\n",
    "print('There are', len(sku_freq), 'unique items; q99 for value counts:', np.quantile(sku_freq, 0.99))"
   ]
  },
  {
   "cell_type": "code",
   "execution_count": 7,
   "id": "8ae1cb04-33a9-4f24-bf7e-a11c39c7e717",
   "metadata": {},
   "outputs": [
    {
     "name": "stdout",
     "output_type": "stream",
     "text": [
      "1178 items in q99\n"
     ]
    }
   ],
   "source": [
    "items_sku = sku_freq[sku_freq > 77].index.values; print(len(items_sku), 'items in q99')"
   ]
  },
  {
   "cell_type": "markdown",
   "id": "89def92a-5bbd-4a23-934d-316b2bb15e71",
   "metadata": {},
   "source": [
    "<h4>Categories</h4>"
   ]
  },
  {
   "cell_type": "code",
   "execution_count": 8,
   "id": "cc0f275a-c524-4391-8915-5cfb567fd04f",
   "metadata": {},
   "outputs": [
    {
     "name": "stdout",
     "output_type": "stream",
     "text": [
      "There are 96 categories\n"
     ]
    }
   ],
   "source": [
    "print('There are', positions['Группа3'].nunique(), 'categories')"
   ]
  },
  {
   "cell_type": "code",
   "execution_count": 9,
   "id": "ac1cb391-8482-4150-9068-7fd0a53eee57",
   "metadata": {},
   "outputs": [],
   "source": [
    "categ_sku = positions['Группа3'].value_counts() > 77\n",
    "categ_sku = categ_sku[categ_sku].index.values"
   ]
  },
  {
   "cell_type": "code",
   "execution_count": 13,
   "id": "f11eec2a-3648-4fe7-b72a-78a4698824e1",
   "metadata": {},
   "outputs": [
    {
     "name": "stdout",
     "output_type": "stream",
     "text": [
      "There are 77 categories with enough data\n"
     ]
    }
   ],
   "source": [
    "print('There are', len(categ_sku), 'categories with enough data')"
   ]
  },
  {
   "cell_type": "markdown",
   "id": "a2e08378-51db-46ef-ad65-91137e100fd5",
   "metadata": {},
   "source": [
    "<h4>Generate sequences</h4>"
   ]
  },
  {
   "cell_type": "code",
   "execution_count": 19,
   "id": "ffef3e3b-d997-4239-a9de-78a514ecc000",
   "metadata": {},
   "outputs": [],
   "source": [
    "def get_sku(item, categ):\n",
    "    if item in items_sku: # get item if known\n",
    "        return item\n",
    "    if categ in categ_sku: # get category if known\n",
    "        return categ\n",
    "    return 'None' # no idea what it is"
   ]
  },
  {
   "cell_type": "code",
   "execution_count": 20,
   "id": "d697207a-7ce1-4029-9567-a887d75daf5e",
   "metadata": {},
   "outputs": [
    {
     "name": "stdout",
     "output_type": "stream",
     "text": [
      "CPU times: user 47.5 s, sys: 598 ms, total: 48.1 s\n",
      "Wall time: 47.9 s\n"
     ]
    }
   ],
   "source": [
    "%%time\n",
    "new_col = positions.apply(lambda x: get_sku(x['ID_SKU'], x['Группа3']), axis=1)"
   ]
  },
  {
   "cell_type": "code",
   "execution_count": 92,
   "id": "63bc237c-7508-4f95-93af-adaf52450935",
   "metadata": {},
   "outputs": [
    {
     "name": "stdout",
     "output_type": "stream",
     "text": [
      "items: 434082\n",
      "categ: 503096\n"
     ]
    }
   ],
   "source": [
    "print('items:', new_col.apply(lambda x: x[:2] == 'ID').sum())\n",
    "print('categ:', new_col.apply(lambda x: x[:2] != 'ID').sum())"
   ]
  },
  {
   "cell_type": "code",
   "execution_count": 93,
   "id": "c085501d-c953-4783-bd9c-3f0b44441b84",
   "metadata": {},
   "outputs": [],
   "source": [
    "users = deepcopy(positions[['Телефон_new']])"
   ]
  },
  {
   "cell_type": "code",
   "execution_count": 94,
   "id": "ba8f3745-7913-46e5-9969-423cbe06c0b0",
   "metadata": {},
   "outputs": [],
   "source": [
    "users['items'] = new_col.astype(str)"
   ]
  },
  {
   "cell_type": "code",
   "execution_count": 95,
   "id": "9e9fba91-da94-4753-b818-4dc965a7043e",
   "metadata": {},
   "outputs": [],
   "source": [
    "sequences = users.groupby('Телефон_new')['items'].apply(list).reset_index()"
   ]
  },
  {
   "cell_type": "code",
   "execution_count": 96,
   "id": "c80c6c4f-a270-413b-8767-0c52e1c42cfe",
   "metadata": {},
   "outputs": [
    {
     "data": {
      "text/plain": [
       "(130752, 2)"
      ]
     },
     "execution_count": 96,
     "metadata": {},
     "output_type": "execute_result"
    }
   ],
   "source": [
    "sequences.shape"
   ]
  },
  {
   "cell_type": "code",
   "execution_count": 97,
   "id": "07d000e0-d852-4b93-a7d2-9466219e681d",
   "metadata": {},
   "outputs": [],
   "source": [
    "sequences.to_parquet('../data/clean/sequences.parquet')"
   ]
  },
  {
   "cell_type": "code",
   "execution_count": null,
   "id": "d66d4119-7017-40a8-9213-8d5d841094c7",
   "metadata": {},
   "outputs": [],
   "source": []
  }
 ],
 "metadata": {
  "kernelspec": {
   "display_name": "Python 3 (ipykernel)",
   "language": "python",
   "name": "python3"
  },
  "language_info": {
   "codemirror_mode": {
    "name": "ipython",
    "version": 3
   },
   "file_extension": ".py",
   "mimetype": "text/x-python",
   "name": "python",
   "nbconvert_exporter": "python",
   "pygments_lexer": "ipython3",
   "version": "3.8.8"
  }
 },
 "nbformat": 4,
 "nbformat_minor": 5
}
