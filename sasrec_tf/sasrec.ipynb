{
 "cells": [
  {
   "cell_type": "code",
   "execution_count": 1,
   "id": "254e9e51-17cf-478a-9389-1d763b57eb3d",
   "metadata": {},
   "outputs": [],
   "source": [
    "import numpy as np\n",
    "import pandas as pd\n",
    "\n",
    "from tqdm import tqdm"
   ]
  },
  {
   "cell_type": "code",
   "execution_count": 2,
   "id": "ab7f0430-32f4-4895-93c2-079afdfd5a31",
   "metadata": {},
   "outputs": [],
   "source": [
    "import os\n",
    "import sys\n",
    "import gc\n",
    "import datetime"
   ]
  },
  {
   "cell_type": "code",
   "execution_count": 3,
   "id": "e712b44c-088b-4d6d-a3aa-8687fb32b443",
   "metadata": {},
   "outputs": [],
   "source": [
    "import absl.logging\n",
    "absl.logging.set_verbosity(absl.logging.ERROR)"
   ]
  },
  {
   "cell_type": "code",
   "execution_count": 4,
   "id": "e853cc0d-c3a1-4deb-8457-8d7b0a3f6d01",
   "metadata": {},
   "outputs": [],
   "source": [
    "import tensorflow as tf"
   ]
  },
  {
   "cell_type": "markdown",
   "id": "90a8ff9d-ff94-4dcf-8aa7-7feefc76994d",
   "metadata": {},
   "source": [
    "<h3>Load sequences</h3>"
   ]
  },
  {
   "cell_type": "code",
   "execution_count": 5,
   "id": "ec84e2bb-829d-4037-800f-43847783a732",
   "metadata": {},
   "outputs": [
    {
     "name": "stdout",
     "output_type": "stream",
     "text": [
      "CPU times: user 225 ms, sys: 50.3 ms, total: 276 ms\n",
      "Wall time: 313 ms\n"
     ]
    }
   ],
   "source": [
    "%%time\n",
    "data = pd.read_parquet('../data/clean/sequences.parquet')"
   ]
  },
  {
   "cell_type": "code",
   "execution_count": 6,
   "id": "f4633fc5-eff1-4109-96d5-cb4c8879680f",
   "metadata": {},
   "outputs": [
    {
     "data": {
      "text/plain": [
       "(130752, 2)"
      ]
     },
     "execution_count": 6,
     "metadata": {},
     "output_type": "execute_result"
    }
   ],
   "source": [
    "data.shape"
   ]
  },
  {
   "cell_type": "markdown",
   "id": "1ec19649-4a45-489b-9e02-da86056de2f5",
   "metadata": {},
   "source": [
    "<h4>Clip by length</h4>"
   ]
  },
  {
   "cell_type": "code",
   "execution_count": 7,
   "id": "2cf6c841-d7f1-44a7-9601-01aece3b6ffe",
   "metadata": {},
   "outputs": [],
   "source": [
    "# remove users with item count less than MIN_USER_SEQ_LEN or more than MAX_USER_SEQ_LEN"
   ]
  },
  {
   "cell_type": "code",
   "execution_count": 8,
   "id": "f470a895-a6ee-4227-8133-cd0f74c4a60b",
   "metadata": {},
   "outputs": [],
   "source": [
    "seq_len = data['items'].apply(len)"
   ]
  },
  {
   "cell_type": "code",
   "execution_count": 9,
   "id": "8b2dd2ef-13a0-4a84-986a-15cbf0867617",
   "metadata": {},
   "outputs": [
    {
     "name": "stdout",
     "output_type": "stream",
     "text": [
      "top 5%: 25.0 top 0.01%: 56.0\n"
     ]
    }
   ],
   "source": [
    "print('top 5%:', np.quantile(seq_len.values, 0.95), 'top 0.01%:', np.quantile(seq_len.values, 0.99))"
   ]
  },
  {
   "cell_type": "code",
   "execution_count": 10,
   "id": "902fc154-c866-4efe-8196-e34634d205a9",
   "metadata": {},
   "outputs": [],
   "source": [
    "MAX_USER_SEQ_LEN = 300\n",
    "MIN_USER_SEQ_LEN = 3"
   ]
  },
  {
   "cell_type": "code",
   "execution_count": 11,
   "id": "13d3200a-03e3-4316-9e6e-40aaaa441289",
   "metadata": {},
   "outputs": [
    {
     "data": {
      "text/plain": [
       "(64828,)"
      ]
     },
     "execution_count": 11,
     "metadata": {},
     "output_type": "execute_result"
    }
   ],
   "source": [
    "clipped_df = data['items'][(seq_len > MIN_USER_SEQ_LEN) & (seq_len < MAX_USER_SEQ_LEN)]\n",
    "clipped_df.shape"
   ]
  },
  {
   "cell_type": "code",
   "execution_count": 12,
   "id": "79acd6be-b1d7-4e52-9cb5-fd5377361255",
   "metadata": {},
   "outputs": [
    {
     "data": {
      "text/plain": [
       "4         [ИГРУШКИ ДЛЯ МАЛЬЧИКОВ, ID10022107250, ДЕТСКОЕ...\n",
       "5         [ID10022107250, ИГРУШКИ ДЛЯ ДЕВОЧЕК, КОНСТРУКТ...\n",
       "7         [ID10011699553, ID9010019033048, ID10022107250...\n",
       "15        [ID10022107250, ID9010011851452, ПОДГУЗНИКИ, П...\n",
       "17        [ДЕТСКАЯ КОСМЕТИКА, ID10019991856, ДЕТСКАЯ КОС...\n",
       "                                ...                        \n",
       "130724    [ТОВАРЫ ДЛЯ МАМ, ИГРУШКИ ДЛЯ МАЛЬЧИКОВ, ТОВАРЫ...\n",
       "130726    [ID10022107250, ОБУВЬ ДЕТСКАЯ, ОБУВЬ ДЕТСКАЯ, ...\n",
       "130729    [ID10022107250, ИГРУШКИ ДЛЯ ДЕВОЧЕК, ИГРУШКИ Д...\n",
       "130731    [ОБУВЬ ДЕТСКАЯ, ОДЕЖДА ДЛЯ НОВОРОЖДЕННЫХ (0-2 ...\n",
       "130742    [IDL00007304856, IDL00007304856, ИГРУШКИ ДЛЯ Д...\n",
       "Name: items, Length: 64828, dtype: object"
      ]
     },
     "execution_count": 12,
     "metadata": {},
     "output_type": "execute_result"
    }
   ],
   "source": [
    "clipped_df"
   ]
  },
  {
   "cell_type": "markdown",
   "id": "7803651a-5b49-4250-927a-43dded6e9430",
   "metadata": {},
   "source": [
    "<h3>Sequence clipped_df.valuespadding, convert to fixed length</h3>"
   ]
  },
  {
   "cell_type": "code",
   "execution_count": 13,
   "id": "52ac7e2e-114c-4e23-b10e-933054b2748e",
   "metadata": {},
   "outputs": [],
   "source": [
    "MAX_HISTORY_LENGTH = 100"
   ]
  },
  {
   "cell_type": "code",
   "execution_count": 14,
   "id": "89652422-06b0-4dc2-91f4-3c749ea9b1ca",
   "metadata": {},
   "outputs": [
    {
     "name": "stdout",
     "output_type": "stream",
     "text": [
      "CPU times: user 653 ms, sys: 176 ms, total: 829 ms\n",
      "Wall time: 965 ms\n"
     ]
    }
   ],
   "source": [
    "%%time\n",
    "padded_sequences = tf.keras.preprocessing.sequence.pad_sequences(\n",
    "    clipped_df.values, \n",
    "    dtype=object,\n",
    "    padding='pre',\n",
    "    truncating='pre',\n",
    "    value='None',\n",
    "    maxlen=MAX_HISTORY_LENGTH\n",
    ")"
   ]
  },
  {
   "cell_type": "code",
   "execution_count": 15,
   "id": "5f2af6bb-32b4-4587-8f5d-60a4385f8abc",
   "metadata": {},
   "outputs": [],
   "source": [
    "padded_sequences = padded_sequences[padded_sequences[:, -1] != 'None']"
   ]
  },
  {
   "cell_type": "code",
   "execution_count": 16,
   "id": "25fd56de-7c26-44b7-ba4a-b58baa6e971a",
   "metadata": {},
   "outputs": [
    {
     "name": "stdout",
     "output_type": "stream",
     "text": [
      "CPU times: user 154 ms, sys: 709 µs, total: 154 ms\n",
      "Wall time: 154 ms\n"
     ]
    }
   ],
   "source": [
    "%%time\n",
    "np.random.seed(42)\n",
    "np.random.shuffle(padded_sequences)"
   ]
  },
  {
   "cell_type": "code",
   "execution_count": 17,
   "id": "ad9fdc7f-2151-4d0b-9aee-88b33852f3fb",
   "metadata": {},
   "outputs": [],
   "source": [
    "assert np.all(padded_sequences[:, -1] != 'None')"
   ]
  },
  {
   "cell_type": "code",
   "execution_count": 18,
   "id": "66e802f6-7352-4a31-825a-d25ba1c4dcf5",
   "metadata": {},
   "outputs": [
    {
     "data": {
      "text/plain": [
       "72"
      ]
     },
     "execution_count": 18,
     "metadata": {},
     "output_type": "execute_result"
    }
   ],
   "source": [
    "del data\n",
    "del clipped_df\n",
    "\n",
    "gc.collect()"
   ]
  },
  {
   "cell_type": "code",
   "execution_count": 19,
   "id": "36daa352-6750-427b-ab4b-a06b40f80280",
   "metadata": {},
   "outputs": [
    {
     "data": {
      "text/plain": [
       "(64793, 100)"
      ]
     },
     "execution_count": 19,
     "metadata": {},
     "output_type": "execute_result"
    }
   ],
   "source": [
    "padded_sequences.shape"
   ]
  },
  {
   "cell_type": "markdown",
   "id": "fa60767d-1200-4385-a41b-7f68922d8f79",
   "metadata": {},
   "source": [
    "<h3>Sliding window</h3>"
   ]
  },
  {
   "cell_type": "code",
   "execution_count": 20,
   "id": "ed567e7f-c9b2-45f3-a34c-6e0a462f5307",
   "metadata": {},
   "outputs": [],
   "source": [
    "WINDOW_LEN = 10"
   ]
  },
  {
   "cell_type": "code",
   "execution_count": 21,
   "id": "68ac89d7-56b0-4a50-bf1e-f6e126fc5c40",
   "metadata": {},
   "outputs": [
    {
     "data": {
      "text/plain": [
       "(64793, 91, 10)"
      ]
     },
     "execution_count": 21,
     "metadata": {},
     "output_type": "execute_result"
    }
   ],
   "source": [
    "sequences = np.lib.stride_tricks.sliding_window_view(padded_sequences, window_shape=WINDOW_LEN, axis=1)\n",
    "sequences.shape"
   ]
  },
  {
   "cell_type": "code",
   "execution_count": 22,
   "id": "9ea0c96b-dacd-471f-966a-7ec3191323d2",
   "metadata": {},
   "outputs": [],
   "source": [
    "# get last sequence as out of sample\n",
    "out_of_sample, sequences = sequences[:, -1, :], sequences[:, :-1:, :]"
   ]
  },
  {
   "cell_type": "code",
   "execution_count": 23,
   "id": "42392716-e197-4c4a-9cdf-76abc521a73f",
   "metadata": {},
   "outputs": [
    {
     "name": "stderr",
     "output_type": "stream",
     "text": [
      "100%|███████████████████████████████████| 64793/64793 [00:31<00:00, 2043.27it/s]\n"
     ]
    }
   ],
   "source": [
    "def count_nonzero(seq):\n",
    "    # 2d array as input\n",
    "    return np.array([(s != 'None').sum() for s in seq])\n",
    "\n",
    "# remove sequences that are too short\n",
    "sequences = [user_seq[count_nonzero(user_seq) > MIN_USER_SEQ_LEN] for user_seq in tqdm(sequences)]"
   ]
  },
  {
   "cell_type": "code",
   "execution_count": 24,
   "id": "e4593dda-4867-40bd-bbf7-aa99814fc418",
   "metadata": {},
   "outputs": [
    {
     "name": "stdout",
     "output_type": "stream",
     "text": [
      "CPU times: user 132 ms, sys: 23.2 ms, total: 155 ms\n",
      "Wall time: 155 ms\n"
     ]
    }
   ],
   "source": [
    "%%time\n",
    "# remove axis\n",
    "sequences = np.vstack(sequences)"
   ]
  },
  {
   "cell_type": "code",
   "execution_count": 25,
   "id": "5f9fae0e-d915-4a83-83ac-411d41ec46ef",
   "metadata": {},
   "outputs": [
    {
     "data": {
      "text/plain": [
       "((522303, 10), (64793, 10))"
      ]
     },
     "execution_count": 25,
     "metadata": {},
     "output_type": "execute_result"
    }
   ],
   "source": [
    "sequences.shape, out_of_sample.shape"
   ]
  },
  {
   "cell_type": "code",
   "execution_count": 26,
   "id": "9ecaaad3-7a01-43f9-a32e-f89a635a1211",
   "metadata": {},
   "outputs": [],
   "source": [
    "# rebalancing\n",
    "sequences = np.append(sequences, out_of_sample[:14793], axis=0)\n",
    "out_of_sample = out_of_sample[14793:]"
   ]
  },
  {
   "cell_type": "code",
   "execution_count": 27,
   "id": "813d69b5-ae16-4c42-9914-a5e6ef18ee9c",
   "metadata": {},
   "outputs": [
    {
     "data": {
      "text/plain": [
       "((537096, 10), (50000, 10))"
      ]
     },
     "execution_count": 27,
     "metadata": {},
     "output_type": "execute_result"
    }
   ],
   "source": [
    "sequences.shape, out_of_sample.shape"
   ]
  },
  {
   "cell_type": "code",
   "execution_count": 28,
   "id": "a67c7fe6-8f5f-400b-870b-787f78b915f7",
   "metadata": {},
   "outputs": [],
   "source": [
    "sequences = sequences[sequences[:, -1] != 'None']"
   ]
  },
  {
   "cell_type": "code",
   "execution_count": 29,
   "id": "273ed87f-993c-41c2-a585-16dea384882d",
   "metadata": {},
   "outputs": [],
   "source": [
    "assert np.all(sequences[:, -1] != 'None')\n",
    "assert np.all(out_of_sample[:, -1] != 'None')"
   ]
  },
  {
   "cell_type": "code",
   "execution_count": 30,
   "id": "3be3d9e0-d57c-42c6-b011-f34f04463b50",
   "metadata": {},
   "outputs": [
    {
     "data": {
      "text/plain": [
       "(0.8349219093462888, 0.7346479999999999)"
      ]
     },
     "execution_count": 30,
     "metadata": {},
     "output_type": "execute_result"
    }
   ],
   "source": [
    "np.mean(count_nonzero(sequences) / WINDOW_LEN), np.mean(count_nonzero(out_of_sample) / WINDOW_LEN)"
   ]
  },
  {
   "cell_type": "markdown",
   "id": "9b3abed1-a48f-4905-8f32-db84f97faca6",
   "metadata": {},
   "source": [
    "<h3>Tokens indexing</h3>"
   ]
  },
  {
   "cell_type": "code",
   "execution_count": 31,
   "id": "7e56f8ca-ac70-4055-b1ab-9bac020f9920",
   "metadata": {},
   "outputs": [
    {
     "name": "stdout",
     "output_type": "stream",
     "text": [
      "CPU times: user 5.58 s, sys: 97.4 ms, total: 5.68 s\n",
      "Wall time: 5.67 s\n"
     ]
    }
   ],
   "source": [
    "%%time\n",
    "unique = np.unique(np.ravel(padded_sequences))"
   ]
  },
  {
   "cell_type": "code",
   "execution_count": 32,
   "id": "16706a79-62ff-4981-ae82-673bb038ee3a",
   "metadata": {},
   "outputs": [],
   "source": [
    "unique = unique[unique != 'None']"
   ]
  },
  {
   "cell_type": "code",
   "execution_count": 33,
   "id": "1cb36eb5-7724-4f1d-b175-138102b0f436",
   "metadata": {},
   "outputs": [
    {
     "data": {
      "text/plain": [
       "1255"
      ]
     },
     "execution_count": 33,
     "metadata": {},
     "output_type": "execute_result"
    }
   ],
   "source": [
    "VOCAB_SIZE = len(unique)\n",
    "VOCAB_SIZE"
   ]
  },
  {
   "cell_type": "code",
   "execution_count": 34,
   "id": "40de52ce-9c6a-4db7-aa53-2471bc02393c",
   "metadata": {},
   "outputs": [
    {
     "data": {
      "text/plain": [
       "224"
      ]
     },
     "execution_count": 34,
     "metadata": {},
     "output_type": "execute_result"
    }
   ],
   "source": [
    "del padded_sequences\n",
    "gc.collect()"
   ]
  },
  {
   "cell_type": "markdown",
   "id": "6c8474de-8e12-4e1b-98b1-cecffd17db40",
   "metadata": {},
   "source": [
    "<h3>Get category</h3>"
   ]
  },
  {
   "cell_type": "code",
   "execution_count": 35,
   "id": "85f43553-3c6a-4a7a-aeff-1323819cd848",
   "metadata": {},
   "outputs": [],
   "source": [
    "positions = pd.read_parquet('../data/clean/positions.parquet')"
   ]
  },
  {
   "cell_type": "code",
   "execution_count": 36,
   "id": "564f717a-a1f0-4cb6-819f-a915b3cb4323",
   "metadata": {},
   "outputs": [],
   "source": [
    "item_to_categ = positions.set_index('ID_SKU')['Группа3'].dropna().to_dict()"
   ]
  },
  {
   "cell_type": "code",
   "execution_count": 37,
   "id": "29366cab-6404-4dbf-956e-dfaeb2c8c62c",
   "metadata": {},
   "outputs": [],
   "source": [
    "# for each item, get the category token\n",
    "categories = [item_to_categ[i] if i in item_to_categ else i for i in unique]"
   ]
  },
  {
   "cell_type": "code",
   "execution_count": 38,
   "id": "74b40616-712b-4f91-bfea-dff36ae1d11b",
   "metadata": {},
   "outputs": [
    {
     "data": {
      "text/plain": [
       "72"
      ]
     },
     "execution_count": 38,
     "metadata": {},
     "output_type": "execute_result"
    }
   ],
   "source": [
    "del item_to_categ\n",
    "del positions\n",
    "gc.collect()"
   ]
  },
  {
   "cell_type": "markdown",
   "id": "b3e1eec1-ec8e-4a33-97db-d1c5ed90e286",
   "metadata": {},
   "source": [
    "<h3>Split</h3>"
   ]
  },
  {
   "cell_type": "code",
   "execution_count": 39,
   "id": "a81520a2-fbfa-4aad-aae9-ede0f0a19d99",
   "metadata": {},
   "outputs": [],
   "source": [
    "half_size = int(len(out_of_sample) * 0.5)\n",
    "\n",
    "valid = out_of_sample[:half_size]\n",
    "test  = out_of_sample[half_size:]\n",
    "train = sequences"
   ]
  },
  {
   "cell_type": "code",
   "execution_count": 40,
   "id": "2285130e-dcd2-4f5d-a9a3-45cd853bf424",
   "metadata": {},
   "outputs": [],
   "source": [
    "with open('../data/models/tmp/test.npy', 'wb') as f:\n",
    "    np.save(f, test)"
   ]
  },
  {
   "cell_type": "code",
   "execution_count": 69,
   "id": "9e5f636d-4974-4a37-9259-c0511e36c42c",
   "metadata": {},
   "outputs": [],
   "source": [
    "with open('../data/models/tmp/vocab.npy', 'wb') as f:\n",
    "    np.save(f, unique)\n",
    "    np.save(f, categories)"
   ]
  },
  {
   "cell_type": "markdown",
   "id": "0ea765b1-ded9-4e75-9e76-98cc2b3b02b2",
   "metadata": {},
   "source": [
    "<h3>Model</h3>"
   ]
  },
  {
   "cell_type": "code",
   "execution_count": 41,
   "id": "75a678cd-006c-4191-9b28-9c2a6fa7498d",
   "metadata": {},
   "outputs": [],
   "source": [
    "def embedding_encoder(vocabulary, embedding_dim, name=None):\n",
    "    return tf.keras.Sequential([\n",
    "        # num_oov_indices - reserves number of indices of lookup table for OOV tokens\n",
    "        tf.keras.layers.StringLookup(\n",
    "            vocabulary=vocabulary, mask_token=None, oov_token='None', num_oov_indices=1, name='lookup'\n",
    "        ),\n",
    "        # None has weights in the embedding matrix\n",
    "        tf.keras.layers.Embedding(\n",
    "            input_dim=len(vocabulary) + 1, output_dim=embedding_dim, mask_zero=True, name='embedding'\n",
    "        )\n",
    "    ], name=f\"{name}\" if name else None)"
   ]
  },
  {
   "cell_type": "code",
   "execution_count": 42,
   "id": "265b2cc7-4b45-4c97-b7f4-f838f5fb7140",
   "metadata": {},
   "outputs": [],
   "source": [
    "def point_wise_feed_forward(input_seq, dropout_rate: float, conv_dims: int):\n",
    "\n",
    "    output = tf.keras.layers.Conv1D(filters=conv_dims, kernel_size=1, activation='relu', use_bias=True)(input_seq)\n",
    "    output = tf.keras.layers.Dropout(dropout_rate)(output)\n",
    "\n",
    "    output = tf.keras.layers.Conv1D(filters=conv_dims, kernel_size=1, activation=None, use_bias=True)(output)\n",
    "    output = tf.keras.layers.Dropout(dropout_rate)(output)\n",
    "\n",
    "    # Residual connection\n",
    "    output += input_seq\n",
    "\n",
    "    return output"
   ]
  },
  {
   "cell_type": "code",
   "execution_count": 73,
   "id": "129f766a-80cc-47cb-8356-36205a9d71ab",
   "metadata": {},
   "outputs": [],
   "source": [
    "def get_model(vocabulary, categories, seq_len, num_blocks=2, hidden_size=100, dropout_rate=0.5):\n",
    "    \n",
    "    # --- INPUT LAYER ---\n",
    "    input_layer = tf.keras.layers.Input(shape=(seq_len,), name=\"seq_input\", dtype=tf.string)\n",
    "    # mark zeros\n",
    "    mask = tf.expand_dims(tf.cast(tf.not_equal(input_layer, 'None'), tf.float32), -1)\n",
    "    \n",
    "    # --- INTEGRATE HELPER FUNCTIONS ---\n",
    "    \n",
    "    get_vocabulary = tf.keras.layers.Lambda(lambda x: vocabulary, name='get_vocabulary')(input_layer)\n",
    "    get_categories = tf.keras.layers.Lambda(lambda x: categories, name='get_categories')(input_layer)\n",
    "    \n",
    "    # --- EMBEDDING LAYER ---\n",
    "    \n",
    "    # Get item embedding\n",
    "    item_embedding = embedding_encoder(\n",
    "        vocabulary=vocabulary,\n",
    "        embedding_dim=hidden_size,\n",
    "        name=\"item_embedding\"\n",
    "    )\n",
    "\n",
    "    seq_embedding = item_embedding(input_layer)\n",
    "    \n",
    "    # get positional embedding\n",
    "    pos_embedding = tf.expand_dims(tf.range(tf.shape(input_layer)[1]), 0)\n",
    "    pos_embedding = tf.tile(pos_embedding, [tf.shape(input_layer)[0], 1])\n",
    "    \n",
    "    pos_embedding = tf.keras.layers.Embedding(seq_len, hidden_size, name=\"pos_embedding\")(pos_embedding)\n",
    "    \n",
    "    # add positional embeddings\n",
    "    seq_embedding += pos_embedding\n",
    "    \n",
    "    # add dropout\n",
    "    seq_embedding = tf.keras.layers.Dropout(dropout_rate)(seq_embedding)\n",
    "    \n",
    "    # masking\n",
    "    seq_embedding *= mask\n",
    "    \n",
    "    # --- ATTENTION BLOCKS ---\n",
    "    attention = seq_embedding\n",
    "    \n",
    "    #\n",
    "    for i in range(num_blocks):\n",
    "        \n",
    "        # normalize\n",
    "        attention_norm = tf.keras.layers.LayerNormalization(name=\"emb_normalize_\"+str(i))(attention)\n",
    "        \n",
    "        # attention layer\n",
    "        attention = tf.keras.layers.MultiHeadAttention(\n",
    "            num_heads=1, key_dim=hidden_size, name=\"attention_\"+str(i), dropout=dropout_rate)(attention_norm, attention)\n",
    "        \n",
    "        # Feed forward\n",
    "        attention = point_wise_feed_forward(attention, dropout_rate, hidden_size)\n",
    "        \n",
    "        # masking\n",
    "        attention *= mask\n",
    "        \n",
    "    attention = tf.keras.layers.LayerNormalization(name=\"attention_normalize\")(attention)\n",
    "    \n",
    "    # --- PREDICTION LAYER ---\n",
    "    \n",
    "    user_embedding = tf.reduce_sum(attention, axis=1)\n",
    "    \n",
    "    candidate_ids = tf.range(start=0, limit=len(vocabulary)+1) # the length of vocab + 1 (for \"zero\" token)\n",
    "    candidate_emb = item_embedding.get_layer('embedding')(candidate_ids)\n",
    "    \n",
    "    scores = tf.matmul(user_embedding, candidate_emb, transpose_b=True)\n",
    "    logits = tf.keras.layers.Softmax()(scores)\n",
    "    \n",
    "    # --- INFERENCE LAYER --- \n",
    "    \n",
    "    # for each item, get the category index (insert 0 for special 0 token)\n",
    "    categories_index = item_embedding.get_layer('lookup')(np.insert(categories, 0, 'None'))\n",
    "    \n",
    "    # for each item, get its category probability\n",
    "    categories_logits = tf.gather(logits, categories_index, axis=1)\n",
    "    \n",
    "    #  Geometric mean sqrt(ITEM * CATEGORY)\n",
    "    logits = tf.multiply(tf.sqrt(logits), tf.sqrt(categories_logits))\n",
    "    \n",
    "    ###########################\n",
    "    \n",
    "    model = tf.keras.Model(inputs=[input_layer], outputs=logits, name=\"model\")\n",
    "    \n",
    "    return model"
   ]
  },
  {
   "cell_type": "code",
   "execution_count": 74,
   "id": "6f30ba4c-eaa4-42d9-9d0a-597fbe932be9",
   "metadata": {},
   "outputs": [],
   "source": [
    "model = get_model(unique, categories, WINDOW_LEN-1)"
   ]
  },
  {
   "cell_type": "code",
   "execution_count": 43,
   "id": "5011d6db-9ad3-4aec-9a4d-a7adcfba408b",
   "metadata": {},
   "outputs": [],
   "source": [
    "lookup = model.get_layer('item_embedding').get_layer('lookup')"
   ]
  },
  {
   "cell_type": "code",
   "execution_count": 44,
   "id": "e8a146bc-3bc5-4067-9cbc-fd8e597394bc",
   "metadata": {},
   "outputs": [
    {
     "name": "stderr",
     "output_type": "stream",
     "text": [
      "2022-03-05 02:01:16.865488: I tensorflow/compiler/mlir/mlir_graph_optimization_pass.cc:185] None of the MLIR Optimization Passes are enabled (registered 2)\n"
     ]
    },
    {
     "data": {
      "text/plain": [
       "(2, 1256)"
      ]
     },
     "execution_count": 44,
     "metadata": {},
     "output_type": "execute_result"
    }
   ],
   "source": [
    "model.predict(valid[:2, :-1]).shape"
   ]
  },
  {
   "cell_type": "code",
   "execution_count": 45,
   "id": "f3ee5527-4ebb-4352-8eb9-9ee5ad967c94",
   "metadata": {},
   "outputs": [],
   "source": [
    "#model.summary()"
   ]
  },
  {
   "cell_type": "code",
   "execution_count": 46,
   "id": "3fe323f0-c46a-45c7-9895-831c44d05f47",
   "metadata": {},
   "outputs": [],
   "source": [
    "model.compile(\n",
    "    optimizer=tf.keras.optimizers.Adam(learning_rate=0.001),\n",
    "    loss=\"sparse_categorical_crossentropy\",\n",
    "    metrics=[\n",
    "        tf.keras.metrics.SparseTopKCategoricalAccuracy(k=1, name='top1acc'),\n",
    "        tf.keras.metrics.SparseTopKCategoricalAccuracy(k=10, name='top10acc'),\n",
    "        tf.keras.metrics.SparseTopKCategoricalAccuracy(k=100, name='top100acc')\n",
    "    ]\n",
    ")"
   ]
  },
  {
   "cell_type": "code",
   "execution_count": 47,
   "id": "0227b746-6cce-42ae-96f4-421d7fe25283",
   "metadata": {},
   "outputs": [],
   "source": [
    "early_stopping = tf.keras.callbacks.EarlyStopping(monitor='val_top100acc', patience=2, mode='max')"
   ]
  },
  {
   "cell_type": "code",
   "execution_count": 48,
   "id": "7378857e-aa76-43e3-921b-7d5ed2afead3",
   "metadata": {},
   "outputs": [
    {
     "name": "stdout",
     "output_type": "stream",
     "text": [
      "Epoch 1/2\n",
      "2097/2097 [==============================] - 134s 63ms/step - loss: 4.8322 - top1acc: 0.2302 - top100acc: 0.4998 - top1000acc: 0.6657 - val_loss: 4.1378 - val_top1acc: 0.3011 - val_top100acc: 0.6047 - val_top1000acc: 0.7594\n",
      "Epoch 2/2\n",
      "2097/2097 [==============================] - 132s 63ms/step - loss: 4.5786 - top1acc: 0.2515 - top100acc: 0.5339 - top1000acc: 0.6991 - val_loss: 4.0899 - val_top1acc: 0.3082 - val_top100acc: 0.6149 - val_top1000acc: 0.7641\n"
     ]
    }
   ],
   "source": [
    "history = model.fit(train[:, :-1], lookup(train[:, -1]),\n",
    "                    batch_size=256,\n",
    "                    initial_epoch=0, epochs=2,\n",
    "                    validation_data=(valid[:, :-1], lookup(valid[:, -1])),\n",
    "                    callbacks=[early_stopping],\n",
    "                    use_multiprocessing=True)"
   ]
  },
  {
   "cell_type": "code",
   "execution_count": 49,
   "id": "3e09e322-5f14-4378-93f3-00b5f2a78853",
   "metadata": {},
   "outputs": [
    {
     "name": "stdout",
     "output_type": "stream",
     "text": [
      "1049/1049 [==============================] - 52s 49ms/step - loss: 4.4005 - top1acc: 0.2825 - top100acc: 0.5633 - top1000acc: 0.7211\n"
     ]
    }
   ],
   "source": [
    "_ = model.evaluate(train[:, :-1], lookup(train[:, -1]), batch_size=512)"
   ]
  },
  {
   "cell_type": "code",
   "execution_count": 50,
   "id": "78c2f7fd-2c28-4a7f-a3ff-3199578a32a6",
   "metadata": {},
   "outputs": [
    {
     "name": "stdout",
     "output_type": "stream",
     "text": [
      "49/49 [==============================] - 1s 27ms/step - loss: 4.0899 - top1acc: 0.3082 - top100acc: 0.6149 - top1000acc: 0.7641\n"
     ]
    }
   ],
   "source": [
    "_ = model.evaluate(valid[:, :-1], lookup(valid[:, -1]), batch_size=512)"
   ]
  },
  {
   "cell_type": "code",
   "execution_count": 51,
   "id": "ddaa1d83-4eba-4081-b0e4-e128f97794c9",
   "metadata": {},
   "outputs": [],
   "source": [
    "model.save('../data/models/model.h5')"
   ]
  }
 ],
 "metadata": {
  "kernelspec": {
   "display_name": "Python 3 (ipykernel)",
   "language": "python",
   "name": "python3"
  },
  "language_info": {
   "codemirror_mode": {
    "name": "ipython",
    "version": 3
   },
   "file_extension": ".py",
   "mimetype": "text/x-python",
   "name": "python",
   "nbconvert_exporter": "python",
   "pygments_lexer": "ipython3",
   "version": "3.8.8"
  }
 },
 "nbformat": 4,
 "nbformat_minor": 5
}
