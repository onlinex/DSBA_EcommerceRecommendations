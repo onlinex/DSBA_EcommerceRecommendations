{
 "cells": [
  {
   "cell_type": "code",
   "execution_count": 1,
   "id": "6e3b0f25-4f1b-42fc-a210-64172cb03b7b",
   "metadata": {},
   "outputs": [],
   "source": [
    "# *By saying \"distict item\", I mean that the number of such goods in one order is not taken into account"
   ]
  },
  {
   "cell_type": "markdown",
   "id": "1369c70c-2400-4907-93f3-c65563b5cf26",
   "metadata": {},
   "source": [
    "<h4> Prices and Counters </h4>\n",
    "<ul>\n",
    "    <li><i>successful_orders_count</i> - number of total delivered orderes that were performed by the client </li>\n",
    "    <li><i>avg_unique_items_per_order</i> - number of distict items that are purchased on average in one order </li>\n",
    "    <li><i>all_unique_items_purchased</i> - total number of distict items that has ever been purchased across all orders made </li>\n",
    "    <li><i>avg_items_per_order</i> - number of items purchased on average in one order </li>\n",
    "    <li><i>all_items_purchased</i> - total number of items ever purchased by the client across all orders made </li>\n",
    "    <li><i>avg_item_price</i> - average price of one good in one order </li>\n",
    "    <li><i>avg_unique_items_price</i> - average price of one distict good in one order </li>\n",
    "    <li><i>all_items_price</i> - total price of all items ever purchased by the client </li>\n",
    "    <li><i>avg_summed_cost_of_items_per_order</i> - average price of all items summed in one order </li>\n",
    "    <li><i>total_shipping_charges</i> - total cost of all shipping costs ever charged </li>\n",
    "    <li><i>avg_shipping_charges</i> - average cost of shipping charges per order </li>\n",
    "    <li><i>total_service_charges</i> - total cost of all service costs ever charged </li>\n",
    "    <li><i>avg_service_charges</i> - total cost of service charges per order </li>\n",
    "    <li><i>total_payment</i> - total value paid by the client </li>\n",
    "    <li><i>avg_payment</i> - average value paid by the client per order </li>\n",
    "    <li><i>total_profit</i> - total profit for one client </li>\n",
    "    <li><i>avg_order_profit</i> - average profit per order </li>\n",
    "    <li><i>avg_item_profit</i> - average profit per item </li><br>\n",
    "</ul>\n",
    "<h4>Share of items in a certain category</h4>\n",
    "<ul>\n",
    "    <li><i>related products</i></li>\n",
    "    <li><i>baby food</i></li>\n",
    "    <li><i>office goods</i></li>\n",
    "    <li><i>books, disks</i></li>\n",
    "    <li><i>breastfeeding products</i></li>\n",
    "    <li><i>textile, knitwear</i></li>\n",
    "    <li><i>footwear</i></li>\n",
    "    <li><i>oversized goods</i></li>\n",
    "    <li><i>toys</i></li>\n",
    "    <li><i>women things</i></li>\n",
    "    <li><i>goods for pets</i></li>\n",
    "    <li><i>cosmetics and hygiene</i></li>\n",
    "    <li><i>diapers</i></li>\n",
    "</ul>\n",
    "<h4>Share of different shipping methods used</h4>\n",
    "<ul>\n",
    "    <li><i>pickup</i></li>\n",
    "    <li><i>express delivery</i></li>\n",
    "    <li><i>transport company</i></li>\n",
    "    <li><i>DPD</i></li>\n",
    "    <li><i>pick point</i></li>\n",
    "    <li><i>store</i></li>\n",
    "</ul>\n",
    "<h4>Share of item size category</h4>\n",
    "<ul>\n",
    "    <li><i>Oversized</i></li>\n",
    "    <li><i>Compact</i></li>\n",
    "</ul>\n",
    "<h4>Share of payment method used</h4>\n",
    "<ul>\n",
    "    <li><i>cash payment</i></li>\n",
    "    <li><i>cashless payment</i></li>\n",
    "</ul>\n",
    "<h4>Canceled and delivered orders</h4>\n",
    "<ul>\n",
    "    <li><i>number_canceled</i> - total number of canceled orders per client</li>\n",
    "    <li><i>avg_number_canceled</i> - average number of canceled orders per client</li>\n",
    "    <li><i>total_delivered</i> - total number of delivered orders per client </li>\n",
    "    <li><i>avg_delivered</i> - average number of delivered orders per client </li>\n",
    "</ul>"
   ]
  },
  {
   "cell_type": "code",
   "execution_count": 3,
   "id": "4b5d5c00-8c46-4cec-83b4-55a9fd46e7ef",
   "metadata": {},
   "outputs": [],
   "source": [
    "import pandas as pd\n",
    "import numpy as np\n",
    "from scipy import stats"
   ]
  },
  {
   "cell_type": "code",
   "execution_count": 4,
   "id": "a47f73c7-bc0a-46d0-9ac7-9535aa1bc3e1",
   "metadata": {},
   "outputs": [],
   "source": [
    "data = pd.read_parquet('./data/clean/all_positions.parquet')"
   ]
  },
  {
   "cell_type": "code",
   "execution_count": 5,
   "id": "c611ffbe-9930-41d4-b71d-352c3f49248b",
   "metadata": {},
   "outputs": [
    {
     "data": {
      "text/plain": [
       "Index(['Дата', 'ДатаДоставки', 'НомерЗаказаНаСайте', 'НовыйСтатус',\n",
       "       'СуммаЗаказаНаСайте', 'СуммаДокумента', 'МетодДоставки', 'ФормаОплаты',\n",
       "       'Регион', 'Группа2', 'Группа3', 'Группа4', 'Тип', 'Номенклатура',\n",
       "       'ТипТовара', 'Отменено', 'ПричинаОтмены', 'Количество', 'Цена',\n",
       "       'СуммаСтроки', 'ЦенаЗакупки', 'МесяцДатыЗаказа', 'ГодДатыЗаказа',\n",
       "       'ПВЗ_код', 'Статус', 'Гео', 'Маржа', 'СуммаУслуг', 'СуммаДоставки',\n",
       "       'НомерСтроки', 'КоличествоПроданоКлиенту', 'ДатаЗаказаНаСайте',\n",
       "       'Телефон_new', 'ЭлектроннаяПочта_new', 'Клиент', 'ID_SKU',\n",
       "       'ГородМагазина', 'МагазинЗаказа'],\n",
       "      dtype='object')"
      ]
     },
     "execution_count": 5,
     "metadata": {},
     "output_type": "execute_result"
    }
   ],
   "source": [
    "data.columns"
   ]
  },
  {
   "cell_type": "markdown",
   "id": "4addefe1-36e7-4ac9-aa54-4362cdc7e9ea",
   "metadata": {},
   "source": [
    "<h3>Categories counter</h3>"
   ]
  },
  {
   "cell_type": "code",
   "execution_count": 6,
   "id": "a72dfcb8-59c0-4bc4-86ee-82f312d81946",
   "metadata": {},
   "outputs": [],
   "source": [
    "index_sort = (data['НовыйСтатус'] == 'Доставлен') & (data['Отменено'] == 'Нет')"
   ]
  },
  {
   "cell_type": "code",
   "execution_count": 7,
   "id": "45a5d603-efeb-436e-a0ad-7f12edd7f604",
   "metadata": {},
   "outputs": [],
   "source": [
    "# sum the number of the items within a group (item wise)\n",
    "def sum_f(x, tag):\n",
    "    return (np.array(x).reshape((-1)) == tag).sum()\n",
    "\n",
    "# set 1 if the type exists, 0 otherwise (order wise)\n",
    "def max_f(x, tag):\n",
    "    return int((np.array(x).reshape((-1)) == tag).max())"
   ]
  },
  {
   "cell_type": "code",
   "execution_count": 8,
   "id": "85a05dff-32b1-4217-a657-0a60383f801e",
   "metadata": {},
   "outputs": [
    {
     "name": "stdout",
     "output_type": "stream",
     "text": [
      "CPU times: user 39.1 s, sys: 476 ms, total: 39.6 s\n",
      "Wall time: 40 s\n"
     ]
    }
   ],
   "source": [
    "%%time\n",
    "items_groups = data[index_sort].groupby(['Телефон_new', 'НомерЗаказаНаСайте']).agg({\n",
    "    'Группа2': [\n",
    "        ('related products', lambda x: sum_f(x,'СОПУТСТВУЮЩИЕ ТОВАРЫ')),\n",
    "        ('baby food', lambda x: sum_f(x,'ДЕТСКОЕ ПИТАНИЕ')),\n",
    "        ('office goods', lambda x: sum_f(x,'КАНЦТОВАРЫ, КНИГИ, ДИСКИ')),\n",
    "        ('books, disks', lambda x: sum_f(x,'ДЕТСКОЕ ПИТАНИЕ')),\n",
    "        ('breastfeeding products', lambda x: sum_f(x,'ТОВАРЫ ДЛЯ КОРМЛЕНИЯ')),\n",
    "        ('textile, knitwear', lambda x: sum_f(x,'ТЕКСТИЛЬ, ТРИКОТАЖ')),\n",
    "        ('footwear', lambda x: sum_f(x,'ОБУВЬ')),\n",
    "        ('oversized goods', lambda x: sum_f(x,'КРУПНОГАБАРИТНЫЙ ТОВАР')),\n",
    "        ('toys', lambda x: sum_f(x,'ИГРУШКИ')),\n",
    "        ('women things', lambda x: sum_f(x,'ЖЕНСКИЕ ШТУЧКИ')),\n",
    "        ('goods for pets', lambda x: sum_f(x,'ТОВАРЫ ДЛЯ ЖИВОТНЫХ')),\n",
    "        ('cosmetics and hygiene', lambda x: sum_f(x,'КОСМЕТИКА/ГИГИЕНА')),\n",
    "        ('diapers', lambda x: sum_f(x,'ПОДГУЗНИКИ')),\n",
    "        ('none', lambda x: sum_f(x,None))\n",
    "    ]\n",
    "})\n",
    "\n",
    "items_groups.columns = items_groups.columns.get_level_values(1)\n",
    "items_groups = items_groups.groupby(level=0).agg('sum')"
   ]
  },
  {
   "cell_type": "code",
   "execution_count": 9,
   "id": "5b26e7f1-5650-4193-b1ff-342b465d3c1b",
   "metadata": {},
   "outputs": [
    {
     "data": {
      "text/plain": [
       "(67863, 14)"
      ]
     },
     "execution_count": 9,
     "metadata": {},
     "output_type": "execute_result"
    }
   ],
   "source": [
    "items_groups.shape"
   ]
  },
  {
   "cell_type": "markdown",
   "id": "19671edb-7a9e-419f-b32e-c75fd7fb191a",
   "metadata": {},
   "source": [
    "<h3>Delivery method</h3>"
   ]
  },
  {
   "cell_type": "code",
   "execution_count": 10,
   "id": "c7abe485-7493-4d4b-ac4c-4680187aaad4",
   "metadata": {},
   "outputs": [
    {
     "data": {
      "text/plain": [
       "['DPD',\n",
       " 'Курьерская',\n",
       " 'Pick point',\n",
       " 'Самовывоз',\n",
       " 'Транспортная компания',\n",
       " 'Магазины']"
      ]
     },
     "execution_count": 10,
     "metadata": {},
     "output_type": "execute_result"
    }
   ],
   "source": [
    "list(set(data['МетодДоставки'].values))"
   ]
  },
  {
   "cell_type": "code",
   "execution_count": 11,
   "id": "e3afe43e-b4fc-45cc-9cc5-606ebd0a5ad5",
   "metadata": {},
   "outputs": [
    {
     "name": "stdout",
     "output_type": "stream",
     "text": [
      "CPU times: user 16 s, sys: 363 ms, total: 16.4 s\n",
      "Wall time: 16.3 s\n"
     ]
    }
   ],
   "source": [
    "%%time\n",
    "shipping_groups = data[index_sort].groupby(['Телефон_new', 'НомерЗаказаНаСайте']).agg({\n",
    "    'МетодДоставки': [\n",
    "        ('pickup', lambda x: max_f(x,'Самовывоз')),\n",
    "        ('express delivery', lambda x: max_f(x,'Курьерская')),\n",
    "        ('transport company', lambda x: max_f(x,'Транспортная компания')),\n",
    "        ('DPD', lambda x: max_f(x,'DPD')),\n",
    "        ('pick point', lambda x: max_f(x,'Pick point')),\n",
    "        ('store', lambda x: max_f(x,'Магазины'))\n",
    "    ]\n",
    "})\n",
    "\n",
    "shipping_groups.columns = shipping_groups.columns.get_level_values(1)\n",
    "shipping_groups = shipping_groups.groupby(level=0).agg('sum')"
   ]
  },
  {
   "cell_type": "code",
   "execution_count": 12,
   "id": "b740ef7c-f796-4db7-a582-e6f818611089",
   "metadata": {},
   "outputs": [
    {
     "data": {
      "text/plain": [
       "(67863, 6)"
      ]
     },
     "execution_count": 12,
     "metadata": {},
     "output_type": "execute_result"
    }
   ],
   "source": [
    "shipping_groups.shape"
   ]
  },
  {
   "cell_type": "code",
   "execution_count": 13,
   "id": "a4221bb1-032f-4de8-953d-107cf3d0d68b",
   "metadata": {},
   "outputs": [
    {
     "data": {
      "text/html": [
       "<div>\n",
       "<style scoped>\n",
       "    .dataframe tbody tr th:only-of-type {\n",
       "        vertical-align: middle;\n",
       "    }\n",
       "\n",
       "    .dataframe tbody tr th {\n",
       "        vertical-align: top;\n",
       "    }\n",
       "\n",
       "    .dataframe thead th {\n",
       "        text-align: right;\n",
       "    }\n",
       "</style>\n",
       "<table border=\"1\" class=\"dataframe\">\n",
       "  <thead>\n",
       "    <tr style=\"text-align: right;\">\n",
       "      <th></th>\n",
       "      <th>pickup</th>\n",
       "      <th>express delivery</th>\n",
       "      <th>transport company</th>\n",
       "      <th>DPD</th>\n",
       "      <th>pick point</th>\n",
       "      <th>store</th>\n",
       "    </tr>\n",
       "    <tr>\n",
       "      <th>Телефон_new</th>\n",
       "      <th></th>\n",
       "      <th></th>\n",
       "      <th></th>\n",
       "      <th></th>\n",
       "      <th></th>\n",
       "      <th></th>\n",
       "    </tr>\n",
       "  </thead>\n",
       "  <tbody>\n",
       "    <tr>\n",
       "      <th>49574954-56524849545119</th>\n",
       "      <td>0</td>\n",
       "      <td>0</td>\n",
       "      <td>0</td>\n",
       "      <td>0</td>\n",
       "      <td>0</td>\n",
       "      <td>1</td>\n",
       "    </tr>\n",
       "    <tr>\n",
       "      <th>55525753-54505353554970</th>\n",
       "      <td>0</td>\n",
       "      <td>0</td>\n",
       "      <td>0</td>\n",
       "      <td>0</td>\n",
       "      <td>0</td>\n",
       "      <td>1</td>\n",
       "    </tr>\n",
       "    <tr>\n",
       "      <th>55525757-49565652494875</th>\n",
       "      <td>0</td>\n",
       "      <td>0</td>\n",
       "      <td>0</td>\n",
       "      <td>0</td>\n",
       "      <td>0</td>\n",
       "      <td>1</td>\n",
       "    </tr>\n",
       "  </tbody>\n",
       "</table>\n",
       "</div>"
      ],
      "text/plain": [
       "                         pickup  express delivery  transport company  DPD  \\\n",
       "Телефон_new                                                                 \n",
       "49574954-56524849545119       0                 0                  0    0   \n",
       "55525753-54505353554970       0                 0                  0    0   \n",
       "55525757-49565652494875       0                 0                  0    0   \n",
       "\n",
       "                         pick point  store  \n",
       "Телефон_new                                 \n",
       "49574954-56524849545119           0      1  \n",
       "55525753-54505353554970           0      1  \n",
       "55525757-49565652494875           0      1  "
      ]
     },
     "execution_count": 13,
     "metadata": {},
     "output_type": "execute_result"
    }
   ],
   "source": [
    "shipping_groups.head(3)"
   ]
  },
  {
   "cell_type": "code",
   "execution_count": 14,
   "id": "5d1b30e2-6f82-474c-9c30-9ce7a4931e17",
   "metadata": {},
   "outputs": [
    {
     "data": {
      "text/plain": [
       "pickup                   0\n",
       "express delivery         0\n",
       "transport company        0\n",
       "DPD                      0\n",
       "pick point               0\n",
       "store                95688\n",
       "dtype: int64"
      ]
     },
     "execution_count": 14,
     "metadata": {},
     "output_type": "execute_result"
    }
   ],
   "source": [
    "shipping_groups.sum(axis=0) # there are no other pickup points"
   ]
  },
  {
   "cell_type": "markdown",
   "id": "dfa9eac6-bcce-4127-b77b-e1abc9daae64",
   "metadata": {},
   "source": [
    "<h3>Oversized / Undersized stats</h3>"
   ]
  },
  {
   "cell_type": "code",
   "execution_count": 15,
   "id": "c92d2198-2a63-4e4e-9e71-af519d2ce7d7",
   "metadata": {},
   "outputs": [
    {
     "data": {
      "text/plain": [
       "['МГТ', 'КГТ', None]"
      ]
     },
     "execution_count": 15,
     "metadata": {},
     "output_type": "execute_result"
    }
   ],
   "source": [
    "list(set(data['ТипТовара']))"
   ]
  },
  {
   "cell_type": "code",
   "execution_count": 16,
   "id": "d61b2321-2549-498a-b37e-d8548d4bfdbb",
   "metadata": {},
   "outputs": [
    {
     "name": "stdout",
     "output_type": "stream",
     "text": [
      "CPU times: user 7.57 s, sys: 88.2 ms, total: 7.65 s\n",
      "Wall time: 7.66 s\n"
     ]
    }
   ],
   "source": [
    "%%time\n",
    "item_type_stats = data[index_sort].groupby(['Телефон_new', 'НомерЗаказаНаСайте']).agg({\n",
    "    'ТипТовара': [\n",
    "        ('Oversized', lambda x: sum_f(x, 'КГТ')),\n",
    "        ('Compact', lambda x: sum_f(x, 'МГТ')),\n",
    "        ('Unknown', lambda x: sum_f(x, None)),\n",
    "    ]\n",
    "})\n",
    "\n",
    "item_type_stats.columns = item_type_stats.columns.get_level_values(1)\n",
    "item_type_stats = item_type_stats.groupby(level=0).agg('sum')"
   ]
  },
  {
   "cell_type": "code",
   "execution_count": 17,
   "id": "7723f82c-0ffd-45f4-aaad-410c1e46ab13",
   "metadata": {},
   "outputs": [
    {
     "data": {
      "text/plain": [
       "(67863, 3)"
      ]
     },
     "execution_count": 17,
     "metadata": {},
     "output_type": "execute_result"
    }
   ],
   "source": [
    "item_type_stats.shape"
   ]
  },
  {
   "cell_type": "code",
   "execution_count": 18,
   "id": "c1ae92b8-a7be-44a5-8866-eeef139b92fd",
   "metadata": {},
   "outputs": [
    {
     "data": {
      "text/html": [
       "<div>\n",
       "<style scoped>\n",
       "    .dataframe tbody tr th:only-of-type {\n",
       "        vertical-align: middle;\n",
       "    }\n",
       "\n",
       "    .dataframe tbody tr th {\n",
       "        vertical-align: top;\n",
       "    }\n",
       "\n",
       "    .dataframe thead th {\n",
       "        text-align: right;\n",
       "    }\n",
       "</style>\n",
       "<table border=\"1\" class=\"dataframe\">\n",
       "  <thead>\n",
       "    <tr style=\"text-align: right;\">\n",
       "      <th></th>\n",
       "      <th>Oversized</th>\n",
       "      <th>Compact</th>\n",
       "      <th>Unknown</th>\n",
       "    </tr>\n",
       "    <tr>\n",
       "      <th>Телефон_new</th>\n",
       "      <th></th>\n",
       "      <th></th>\n",
       "      <th></th>\n",
       "    </tr>\n",
       "  </thead>\n",
       "  <tbody>\n",
       "    <tr>\n",
       "      <th>49574954-56524849545119</th>\n",
       "      <td>0</td>\n",
       "      <td>1</td>\n",
       "      <td>1</td>\n",
       "    </tr>\n",
       "    <tr>\n",
       "      <th>55525753-54505353554970</th>\n",
       "      <td>1</td>\n",
       "      <td>0</td>\n",
       "      <td>0</td>\n",
       "    </tr>\n",
       "    <tr>\n",
       "      <th>55525757-49565652494875</th>\n",
       "      <td>0</td>\n",
       "      <td>1</td>\n",
       "      <td>1</td>\n",
       "    </tr>\n",
       "  </tbody>\n",
       "</table>\n",
       "</div>"
      ],
      "text/plain": [
       "                         Oversized  Compact  Unknown\n",
       "Телефон_new                                         \n",
       "49574954-56524849545119          0        1        1\n",
       "55525753-54505353554970          1        0        0\n",
       "55525757-49565652494875          0        1        1"
      ]
     },
     "execution_count": 18,
     "metadata": {},
     "output_type": "execute_result"
    }
   ],
   "source": [
    "item_type_stats.head(3)"
   ]
  },
  {
   "cell_type": "markdown",
   "id": "01fdccc1-b3da-4886-a7fe-84f37797f77f",
   "metadata": {},
   "source": [
    "<h3>Payment methods</h3>"
   ]
  },
  {
   "cell_type": "code",
   "execution_count": 19,
   "id": "59d823fd-9c5a-40ef-a250-6fdbc0ff46c0",
   "metadata": {},
   "outputs": [
    {
     "data": {
      "text/plain": [
       "['Безналичная', 'Наличная']"
      ]
     },
     "execution_count": 19,
     "metadata": {},
     "output_type": "execute_result"
    }
   ],
   "source": [
    "list(set(data['ФормаОплаты']))"
   ]
  },
  {
   "cell_type": "code",
   "execution_count": 20,
   "id": "7861a60e-ec2d-4e6b-9703-1a6ba40cb89b",
   "metadata": {},
   "outputs": [
    {
     "name": "stdout",
     "output_type": "stream",
     "text": [
      "CPU times: user 5.46 s, sys: 282 ms, total: 5.74 s\n",
      "Wall time: 5.57 s\n"
     ]
    }
   ],
   "source": [
    "%%time\n",
    "payment_method_stats = data[index_sort].groupby(['Телефон_new', 'НомерЗаказаНаСайте']).agg({\n",
    "    'ФормаОплаты': [\n",
    "        ('cash payment', lambda x: max_f(x, 'Наличная')),\n",
    "        ('cashless payment', lambda x: max_f(x, 'Безналичная'))\n",
    "    ]\n",
    "})\n",
    "\n",
    "payment_method_stats.columns = payment_method_stats.columns.get_level_values(1)\n",
    "payment_method_stats = payment_method_stats.groupby(level=0).agg('sum')"
   ]
  },
  {
   "cell_type": "code",
   "execution_count": 21,
   "id": "c4d322e8-84ee-4f27-89a3-6f7a7cf392e7",
   "metadata": {},
   "outputs": [
    {
     "data": {
      "text/plain": [
       "(67863, 2)"
      ]
     },
     "execution_count": 21,
     "metadata": {},
     "output_type": "execute_result"
    }
   ],
   "source": [
    "payment_method_stats.shape"
   ]
  },
  {
   "cell_type": "markdown",
   "id": "3270a99b-ad4e-438a-816f-d478674d41af",
   "metadata": {},
   "source": [
    "<h3>Region</h3>"
   ]
  },
  {
   "cell_type": "code",
   "execution_count": 22,
   "id": "c4be318c-734a-472b-bef6-b6ecd29d4568",
   "metadata": {},
   "outputs": [
    {
     "data": {
      "text/plain": [
       "['Люберцы (Люберецкий район)',\n",
       " 'Самара',\n",
       " 'Екатеринбург',\n",
       " 'Ростов-на-Дону',\n",
       " 'Пермь',\n",
       " 'Санкт-Петербург',\n",
       " 'Краснодар',\n",
       " 'Москва',\n",
       " 'Нижний Новгород',\n",
       " 'Воронеж']"
      ]
     },
     "execution_count": 22,
     "metadata": {},
     "output_type": "execute_result"
    }
   ],
   "source": [
    "regions = list(set(data['Регион']))\n",
    "regions"
   ]
  },
  {
   "cell_type": "code",
   "execution_count": 23,
   "id": "90c22e73-1ccb-4c82-8aa9-0630e1cbdb12",
   "metadata": {},
   "outputs": [
    {
     "name": "stdout",
     "output_type": "stream",
     "text": [
      "CPU times: user 26.5 s, sys: 665 ms, total: 27.2 s\n",
      "Wall time: 27 s\n"
     ]
    }
   ],
   "source": [
    "%%time\n",
    "regions_stats = data[index_sort].groupby(['Телефон_new', 'НомерЗаказаНаСайте']).agg({\n",
    "    'Регион': [\n",
    "        ('Краснодар', lambda x: max_f(x, 'Краснодар')),\n",
    "        ('Ростов-на-Дону', lambda x: max_f(x, 'Ростов-на-Дону')),\n",
    "        ('Нижний Новгород', lambda x: max_f(x, 'Нижний Новгород')),\n",
    "        ('Воронеж', lambda x: max_f(x, 'Воронеж')),\n",
    "        ('Люберцы (Люберецкий район)', lambda x: max_f(x, 'Люберцы (Люберецкий район)')),\n",
    "        ('Санкт-Петербург', lambda x: max_f(x, 'Санкт-Петербург')),\n",
    "        ('Екатеринбург', lambda x: max_f(x, 'Екатеринбург')),\n",
    "        ('Москва', lambda x: max_f(x, 'Москва')),\n",
    "        ('Пермь', lambda x: max_f(x, 'Пермь')),\n",
    "        ('Самара', lambda x: max_f(x, 'Самара'))\n",
    "    ]\n",
    "})\n",
    "\n",
    "regions_stats.columns = regions_stats.columns.get_level_values(1)\n",
    "regions_stats = regions_stats.groupby(level=0).agg('sum')"
   ]
  },
  {
   "cell_type": "code",
   "execution_count": 24,
   "id": "6fbf21f7-fcda-4a51-948d-e14b2c630a5c",
   "metadata": {},
   "outputs": [
    {
     "data": {
      "text/plain": [
       "(67863, 10)"
      ]
     },
     "execution_count": 24,
     "metadata": {},
     "output_type": "execute_result"
    }
   ],
   "source": [
    "regions_stats.shape"
   ]
  },
  {
   "cell_type": "code",
   "execution_count": 25,
   "id": "ce6b04db-0412-47b5-87c8-43784cce9c23",
   "metadata": {},
   "outputs": [
    {
     "data": {
      "text/html": [
       "<div>\n",
       "<style scoped>\n",
       "    .dataframe tbody tr th:only-of-type {\n",
       "        vertical-align: middle;\n",
       "    }\n",
       "\n",
       "    .dataframe tbody tr th {\n",
       "        vertical-align: top;\n",
       "    }\n",
       "\n",
       "    .dataframe thead th {\n",
       "        text-align: right;\n",
       "    }\n",
       "</style>\n",
       "<table border=\"1\" class=\"dataframe\">\n",
       "  <thead>\n",
       "    <tr style=\"text-align: right;\">\n",
       "      <th></th>\n",
       "      <th>Краснодар</th>\n",
       "      <th>Ростов-на-Дону</th>\n",
       "      <th>Нижний Новгород</th>\n",
       "      <th>Воронеж</th>\n",
       "      <th>Люберцы (Люберецкий район)</th>\n",
       "      <th>Санкт-Петербург</th>\n",
       "      <th>Екатеринбург</th>\n",
       "      <th>Москва</th>\n",
       "      <th>Пермь</th>\n",
       "      <th>Самара</th>\n",
       "    </tr>\n",
       "    <tr>\n",
       "      <th>Телефон_new</th>\n",
       "      <th></th>\n",
       "      <th></th>\n",
       "      <th></th>\n",
       "      <th></th>\n",
       "      <th></th>\n",
       "      <th></th>\n",
       "      <th></th>\n",
       "      <th></th>\n",
       "      <th></th>\n",
       "      <th></th>\n",
       "    </tr>\n",
       "  </thead>\n",
       "  <tbody>\n",
       "    <tr>\n",
       "      <th>49574954-56524849545119</th>\n",
       "      <td>0</td>\n",
       "      <td>0</td>\n",
       "      <td>0</td>\n",
       "      <td>0</td>\n",
       "      <td>0</td>\n",
       "      <td>0</td>\n",
       "      <td>0</td>\n",
       "      <td>1</td>\n",
       "      <td>0</td>\n",
       "      <td>0</td>\n",
       "    </tr>\n",
       "    <tr>\n",
       "      <th>55525753-54505353554970</th>\n",
       "      <td>0</td>\n",
       "      <td>0</td>\n",
       "      <td>0</td>\n",
       "      <td>0</td>\n",
       "      <td>0</td>\n",
       "      <td>0</td>\n",
       "      <td>0</td>\n",
       "      <td>1</td>\n",
       "      <td>0</td>\n",
       "      <td>0</td>\n",
       "    </tr>\n",
       "    <tr>\n",
       "      <th>55525757-49565652494875</th>\n",
       "      <td>0</td>\n",
       "      <td>0</td>\n",
       "      <td>0</td>\n",
       "      <td>0</td>\n",
       "      <td>0</td>\n",
       "      <td>0</td>\n",
       "      <td>0</td>\n",
       "      <td>1</td>\n",
       "      <td>0</td>\n",
       "      <td>0</td>\n",
       "    </tr>\n",
       "  </tbody>\n",
       "</table>\n",
       "</div>"
      ],
      "text/plain": [
       "                         Краснодар  Ростов-на-Дону  Нижний Новгород  Воронеж  \\\n",
       "Телефон_new                                                                    \n",
       "49574954-56524849545119          0               0                0        0   \n",
       "55525753-54505353554970          0               0                0        0   \n",
       "55525757-49565652494875          0               0                0        0   \n",
       "\n",
       "                         Люберцы (Люберецкий район)  Санкт-Петербург  \\\n",
       "Телефон_new                                                            \n",
       "49574954-56524849545119                           0                0   \n",
       "55525753-54505353554970                           0                0   \n",
       "55525757-49565652494875                           0                0   \n",
       "\n",
       "                         Екатеринбург  Москва  Пермь  Самара  \n",
       "Телефон_new                                                   \n",
       "49574954-56524849545119             0       1      0       0  \n",
       "55525753-54505353554970             0       1      0       0  \n",
       "55525757-49565652494875             0       1      0       0  "
      ]
     },
     "execution_count": 25,
     "metadata": {},
     "output_type": "execute_result"
    }
   ],
   "source": [
    "regions_stats.head(3)"
   ]
  },
  {
   "cell_type": "markdown",
   "id": "337b907e-dfec-42f1-85ee-610751b77de2",
   "metadata": {},
   "source": [
    "<h3>Inside order aggregation</h3>"
   ]
  },
  {
   "cell_type": "code",
   "execution_count": 26,
   "id": "1cc07a26-37b2-4e22-9b6b-9d02ce9f4d95",
   "metadata": {},
   "outputs": [],
   "source": [
    "# count only delivered non calceled items stats\n",
    "general_stats = data[index_sort].groupby(['Телефон_new', 'НомерЗаказаНаСайте']).agg(\n",
    "    # count the number of unique items in order\n",
    "    unique_items_count = ('Количество', 'count'),\n",
    "    # count overall number of items in order\n",
    "    all_items_count = ('Количество', 'sum'),\n",
    "    # average price of all items in order\n",
    "    avg_item_price = ('Цена', 'mean'),\n",
    "    # average price of unique items in order\n",
    "    avg_unique_items_price = ('СуммаСтроки', 'mean'),\n",
    "    # summed items price\n",
    "    all_items_price = ('Цена', 'sum'),\n",
    "    # charge for shipping\n",
    "    shipping_charge = ('СуммаДоставки', 'mean'),\n",
    "    # order additional charges\n",
    "    all_additional_charges = ('СуммаУслуг', 'mean'),\n",
    "    # order price\n",
    "    final_order_price = ('СуммаЗаказаНаСайте', 'mean'),\n",
    "    # order profit\n",
    "    total_margin = ('Маржа', 'sum'),\n",
    "    # average profit from item in order\n",
    "    avg_item_margin = ('Маржа', 'mean')\n",
    ")"
   ]
  },
  {
   "cell_type": "markdown",
   "id": "4b5688d0-ef57-43ab-85e7-3494f3c55f4d",
   "metadata": {},
   "source": [
    "<h3>Phone number aggregation</h3>"
   ]
  },
  {
   "cell_type": "code",
   "execution_count": 27,
   "id": "8bfcc09d-3df7-4c9a-873e-549eddc27d06",
   "metadata": {},
   "outputs": [],
   "source": [
    "# work with only non-canceled items and delivered orders\n",
    "users_stats = general_stats.groupby(level = 0).agg(\n",
    "    # number of successful orders\n",
    "    successful_orders_count = ('all_items_count', 'count'),\n",
    "    # avg number of unique items in order\n",
    "    avg_unique_items_per_order = ('unique_items_count', 'mean'),\n",
    "    # total number of unique items ever purchased\n",
    "    all_unique_items_purchased = ('unique_items_count', 'sum'),\n",
    "    # avg number of items in order\n",
    "    avg_items_per_order = ('all_items_count', 'mean'),\n",
    "    # total number of items ever purchased\n",
    "    all_items_purchased = ('all_items_count', 'sum'),\n",
    "    \n",
    "    # avg item price\n",
    "    avg_item_price = ('avg_item_price', 'mean'),\n",
    "    # avg unique items price\n",
    "    avg_unique_items_price = ('avg_unique_items_price', 'mean'),\n",
    "    # all_items_price\n",
    "    all_items_price = ('all_items_price', 'sum'),\n",
    "    # avg items_price per order\n",
    "    avg_summed_cost_of_items_per_order = ('all_items_price', 'mean'),\n",
    "    \n",
    "    \n",
    "    # total shipping charge\n",
    "    total_shipping_charges = ('shipping_charge', 'sum'),\n",
    "    # avg shipping charge\n",
    "    avg_shipping_charges = ('shipping_charge', 'mean'),\n",
    "    # total service charges\n",
    "    total_service_charges = ('all_additional_charges', 'sum'),\n",
    "    # avg service charges\n",
    "    avg_service_charges = ('all_additional_charges', 'mean'),\n",
    "    \n",
    "    # total orders payment\n",
    "    total_payment = ('final_order_price', 'sum'),\n",
    "    # avg orders payment\n",
    "    avg_payment = ('final_order_price', 'mean'),\n",
    "    \n",
    "    \n",
    "    # total profit\n",
    "    total_profit = ('total_margin', 'sum'),\n",
    "    # average profit per order\n",
    "    avg_order_profit = ('total_margin', 'mean'),\n",
    "    # average profit per item\n",
    "    avg_item_profit = ('avg_item_margin', 'mean')\n",
    ")"
   ]
  },
  {
   "cell_type": "code",
   "execution_count": 28,
   "id": "cf6e7ad1-8c89-4e32-a75e-8fba433f80f2",
   "metadata": {},
   "outputs": [
    {
     "data": {
      "text/plain": [
       "(67863, 18)"
      ]
     },
     "execution_count": 28,
     "metadata": {},
     "output_type": "execute_result"
    }
   ],
   "source": [
    "users_stats.shape"
   ]
  },
  {
   "cell_type": "code",
   "execution_count": 29,
   "id": "85b2451a-09bb-46d2-8d85-a56f6dc05a17",
   "metadata": {},
   "outputs": [
    {
     "data": {
      "text/html": [
       "<div>\n",
       "<style scoped>\n",
       "    .dataframe tbody tr th:only-of-type {\n",
       "        vertical-align: middle;\n",
       "    }\n",
       "\n",
       "    .dataframe tbody tr th {\n",
       "        vertical-align: top;\n",
       "    }\n",
       "\n",
       "    .dataframe thead th {\n",
       "        text-align: right;\n",
       "    }\n",
       "</style>\n",
       "<table border=\"1\" class=\"dataframe\">\n",
       "  <thead>\n",
       "    <tr style=\"text-align: right;\">\n",
       "      <th></th>\n",
       "      <th>successful_orders_count</th>\n",
       "      <th>avg_unique_items_per_order</th>\n",
       "      <th>all_unique_items_purchased</th>\n",
       "      <th>avg_items_per_order</th>\n",
       "      <th>all_items_purchased</th>\n",
       "      <th>avg_item_price</th>\n",
       "      <th>avg_unique_items_price</th>\n",
       "      <th>all_items_price</th>\n",
       "      <th>avg_summed_cost_of_items_per_order</th>\n",
       "      <th>total_shipping_charges</th>\n",
       "      <th>avg_shipping_charges</th>\n",
       "      <th>total_service_charges</th>\n",
       "      <th>avg_service_charges</th>\n",
       "      <th>total_payment</th>\n",
       "      <th>avg_payment</th>\n",
       "      <th>total_profit</th>\n",
       "      <th>avg_order_profit</th>\n",
       "      <th>avg_item_profit</th>\n",
       "    </tr>\n",
       "    <tr>\n",
       "      <th>Телефон_new</th>\n",
       "      <th></th>\n",
       "      <th></th>\n",
       "      <th></th>\n",
       "      <th></th>\n",
       "      <th></th>\n",
       "      <th></th>\n",
       "      <th></th>\n",
       "      <th></th>\n",
       "      <th></th>\n",
       "      <th></th>\n",
       "      <th></th>\n",
       "      <th></th>\n",
       "      <th></th>\n",
       "      <th></th>\n",
       "      <th></th>\n",
       "      <th></th>\n",
       "      <th></th>\n",
       "      <th></th>\n",
       "    </tr>\n",
       "  </thead>\n",
       "  <tbody>\n",
       "    <tr>\n",
       "      <th>49574954-56524849545119</th>\n",
       "      <td>1</td>\n",
       "      <td>2.0</td>\n",
       "      <td>2</td>\n",
       "      <td>2.0</td>\n",
       "      <td>2.0</td>\n",
       "      <td>2607.5</td>\n",
       "      <td>2607.5</td>\n",
       "      <td>5215.0</td>\n",
       "      <td>5215.0</td>\n",
       "      <td>49.0</td>\n",
       "      <td>49.0</td>\n",
       "      <td>49.0</td>\n",
       "      <td>49.0</td>\n",
       "      <td>5215.0</td>\n",
       "      <td>5215.0</td>\n",
       "      <td>-704.86</td>\n",
       "      <td>-704.86</td>\n",
       "      <td>-704.86</td>\n",
       "    </tr>\n",
       "    <tr>\n",
       "      <th>55525753-54505353554970</th>\n",
       "      <td>1</td>\n",
       "      <td>1.0</td>\n",
       "      <td>1</td>\n",
       "      <td>1.0</td>\n",
       "      <td>1.0</td>\n",
       "      <td>493.0</td>\n",
       "      <td>493.0</td>\n",
       "      <td>493.0</td>\n",
       "      <td>493.0</td>\n",
       "      <td>0.0</td>\n",
       "      <td>0.0</td>\n",
       "      <td>0.0</td>\n",
       "      <td>0.0</td>\n",
       "      <td>493.0</td>\n",
       "      <td>493.0</td>\n",
       "      <td>306.00</td>\n",
       "      <td>306.00</td>\n",
       "      <td>306.00</td>\n",
       "    </tr>\n",
       "    <tr>\n",
       "      <th>55525757-49565652494875</th>\n",
       "      <td>1</td>\n",
       "      <td>2.0</td>\n",
       "      <td>2</td>\n",
       "      <td>2.0</td>\n",
       "      <td>2.0</td>\n",
       "      <td>181.0</td>\n",
       "      <td>181.0</td>\n",
       "      <td>362.0</td>\n",
       "      <td>362.0</td>\n",
       "      <td>49.0</td>\n",
       "      <td>49.0</td>\n",
       "      <td>49.0</td>\n",
       "      <td>49.0</td>\n",
       "      <td>362.0</td>\n",
       "      <td>362.0</td>\n",
       "      <td>20.88</td>\n",
       "      <td>20.88</td>\n",
       "      <td>20.88</td>\n",
       "    </tr>\n",
       "  </tbody>\n",
       "</table>\n",
       "</div>"
      ],
      "text/plain": [
       "                         successful_orders_count  avg_unique_items_per_order  \\\n",
       "Телефон_new                                                                    \n",
       "49574954-56524849545119                        1                         2.0   \n",
       "55525753-54505353554970                        1                         1.0   \n",
       "55525757-49565652494875                        1                         2.0   \n",
       "\n",
       "                         all_unique_items_purchased  avg_items_per_order  \\\n",
       "Телефон_new                                                                \n",
       "49574954-56524849545119                           2                  2.0   \n",
       "55525753-54505353554970                           1                  1.0   \n",
       "55525757-49565652494875                           2                  2.0   \n",
       "\n",
       "                         all_items_purchased  avg_item_price  \\\n",
       "Телефон_new                                                    \n",
       "49574954-56524849545119                  2.0          2607.5   \n",
       "55525753-54505353554970                  1.0           493.0   \n",
       "55525757-49565652494875                  2.0           181.0   \n",
       "\n",
       "                         avg_unique_items_price  all_items_price  \\\n",
       "Телефон_new                                                        \n",
       "49574954-56524849545119                  2607.5           5215.0   \n",
       "55525753-54505353554970                   493.0            493.0   \n",
       "55525757-49565652494875                   181.0            362.0   \n",
       "\n",
       "                         avg_summed_cost_of_items_per_order  \\\n",
       "Телефон_new                                                   \n",
       "49574954-56524849545119                              5215.0   \n",
       "55525753-54505353554970                               493.0   \n",
       "55525757-49565652494875                               362.0   \n",
       "\n",
       "                         total_shipping_charges  avg_shipping_charges  \\\n",
       "Телефон_new                                                             \n",
       "49574954-56524849545119                    49.0                  49.0   \n",
       "55525753-54505353554970                     0.0                   0.0   \n",
       "55525757-49565652494875                    49.0                  49.0   \n",
       "\n",
       "                         total_service_charges  avg_service_charges  \\\n",
       "Телефон_new                                                           \n",
       "49574954-56524849545119                   49.0                 49.0   \n",
       "55525753-54505353554970                    0.0                  0.0   \n",
       "55525757-49565652494875                   49.0                 49.0   \n",
       "\n",
       "                         total_payment  avg_payment  total_profit  \\\n",
       "Телефон_new                                                         \n",
       "49574954-56524849545119         5215.0       5215.0       -704.86   \n",
       "55525753-54505353554970          493.0        493.0        306.00   \n",
       "55525757-49565652494875          362.0        362.0         20.88   \n",
       "\n",
       "                         avg_order_profit  avg_item_profit  \n",
       "Телефон_new                                                 \n",
       "49574954-56524849545119           -704.86          -704.86  \n",
       "55525753-54505353554970            306.00           306.00  \n",
       "55525757-49565652494875             20.88            20.88  "
      ]
     },
     "execution_count": 29,
     "metadata": {},
     "output_type": "execute_result"
    }
   ],
   "source": [
    "users_stats.head(3)"
   ]
  },
  {
   "cell_type": "markdown",
   "id": "8d87daae-0110-496d-b92d-ba66557f5181",
   "metadata": {},
   "source": [
    "<h3>Cancellations stats</h3>"
   ]
  },
  {
   "cell_type": "code",
   "execution_count": 30,
   "id": "a719d1c7-6a87-4796-95dd-d9426ac04c6f",
   "metadata": {},
   "outputs": [],
   "source": [
    "# number of orders that are canceled\n",
    "cancellations_stats = data.groupby(['Телефон_new', 'НомерЗаказаНаСайте']).agg({\n",
    "    'Отменено': [\n",
    "        ('number_canceled', lambda x: sum_f(x,'Да')),\n",
    "        ('avg_number_canceled', lambda x: (np.array(x) == 'Да').mean())\n",
    "    ],\n",
    "    'Статус': [\n",
    "        ('is_delivered', lambda x: int((np.array(x) == 'Доставлен').max())) # at least one item was delivered\n",
    "    ]\n",
    "})\n",
    "cancellations_stats.columns = cancellations_stats.columns.get_level_values(1)\n",
    "cancellations_stats = cancellations_stats.groupby(level=0).agg(\n",
    "    # total number of canceled items\n",
    "    number_canceled = ('number_canceled', 'sum'),\n",
    "    # average number of items canceled in order\n",
    "    avg_number_canceled = ('avg_number_canceled', 'mean'),\n",
    "    # total orders delivered\n",
    "    total_delivered = ('is_delivered', 'sum'),\n",
    "    # average orders delivered out of all orders made\n",
    "    avg_delivered = ('is_delivered', 'mean')\n",
    ")"
   ]
  },
  {
   "cell_type": "code",
   "execution_count": 31,
   "id": "c95d7cc6-7c8a-4405-99fe-f21ca440d8ca",
   "metadata": {},
   "outputs": [
    {
     "data": {
      "text/plain": [
       "(130752, 4)"
      ]
     },
     "execution_count": 31,
     "metadata": {},
     "output_type": "execute_result"
    }
   ],
   "source": [
    "cancellations_stats.shape"
   ]
  },
  {
   "cell_type": "markdown",
   "id": "9fe968ac-8675-4607-970e-11917fcadcfa",
   "metadata": {},
   "source": [
    "<h3>Put it all together</h3>"
   ]
  },
  {
   "cell_type": "code",
   "execution_count": 32,
   "id": "1e824512-f5cd-4a2b-b254-8c852df482db",
   "metadata": {},
   "outputs": [],
   "source": [
    "# valid phone numbers\n",
    "valid_phones = list(set(data[index_sort]['Телефон_new']))\n",
    "cancellations_stats_valid = cancellations_stats.loc[valid_phones]"
   ]
  },
  {
   "cell_type": "code",
   "execution_count": 33,
   "id": "f1bac87e-2cc6-454c-91f5-d34f7c82e474",
   "metadata": {},
   "outputs": [],
   "source": [
    "# get shares instead of counters\n",
    "items_groups_share = items_groups.div(users_stats['all_unique_items_purchased'].values, axis='rows')\n",
    "shipping_groups_share = shipping_groups.div(users_stats['successful_orders_count'].values, axis='rows')\n",
    "item_type_stats_share =  item_type_stats.div(users_stats['all_unique_items_purchased'].values, axis='rows')\n",
    "payment_method_stats_share = payment_method_stats.div(users_stats['successful_orders_count'].values, axis='rows')"
   ]
  },
  {
   "cell_type": "code",
   "execution_count": 34,
   "id": "663e34f2-34be-4a90-97af-75e0c588a60c",
   "metadata": {},
   "outputs": [],
   "source": [
    "# check shape\n",
    "assert users_stats.shape[0] == items_groups_share.shape[0] == shipping_groups_share.shape[0] ==\\\n",
    "item_type_stats_share.shape[0] == payment_method_stats_share.shape[0] == cancellations_stats_valid.shape[0]"
   ]
  },
  {
   "cell_type": "code",
   "execution_count": 35,
   "id": "d8091bdb-501d-4371-8fb3-a3294cd1c35e",
   "metadata": {},
   "outputs": [],
   "source": [
    "data_mart = users_stats.join(items_groups_share)\n",
    "#data_mart = data_mart.join(shipping_groups_share)\n",
    "data_mart = data_mart.join(item_type_stats_share)\n",
    "#data_mart = data_mart.join(payment_method_stats_share)\n",
    "data_mart = data_mart.join(cancellations_stats_valid)"
   ]
  },
  {
   "cell_type": "code",
   "execution_count": 36,
   "id": "ba5c5200-790c-4259-84a5-52d71415cfca",
   "metadata": {},
   "outputs": [],
   "source": [
    "data_mart.index = data_mart.index.rename('phone')\n",
    "data_mart = data_mart.iloc[1:]"
   ]
  },
  {
   "cell_type": "code",
   "execution_count": 37,
   "id": "16274119-b4ac-425b-9a65-c94541af3e7f",
   "metadata": {},
   "outputs": [],
   "source": [
    "# remove nan\n",
    "data_mart = data_mart[data_mart.isna().sum(axis=1) == 0]"
   ]
  },
  {
   "cell_type": "markdown",
   "id": "712ac027-35aa-4aa6-b8cb-7ba861bd31c0",
   "metadata": {},
   "source": [
    "<h3>Save</h3>"
   ]
  },
  {
   "cell_type": "code",
   "execution_count": 38,
   "id": "35a1ab59-4acf-4ec7-8b75-4b56478f4a43",
   "metadata": {},
   "outputs": [],
   "source": [
    "from pathlib import Path"
   ]
  },
  {
   "cell_type": "code",
   "execution_count": 39,
   "id": "cb45b45f-edca-4345-afb3-eefd6b385698",
   "metadata": {},
   "outputs": [],
   "source": [
    "Path(\"./data/mart\").mkdir(parents=True, exist_ok=True)"
   ]
  },
  {
   "cell_type": "code",
   "execution_count": 40,
   "id": "5d012282-6637-493f-ac43-ea971930f6cd",
   "metadata": {},
   "outputs": [],
   "source": [
    "data_mart.to_parquet('./data/mart/data_mart.parquet')"
   ]
  },
  {
   "cell_type": "code",
   "execution_count": null,
   "id": "9cb08f36-847d-4320-86ae-506ee0a82c1b",
   "metadata": {},
   "outputs": [],
   "source": []
  }
 ],
 "metadata": {
  "kernelspec": {
   "display_name": "Python 3 (ipykernel)",
   "language": "python",
   "name": "python3"
  },
  "language_info": {
   "codemirror_mode": {
    "name": "ipython",
    "version": 3
   },
   "file_extension": ".py",
   "mimetype": "text/x-python",
   "name": "python",
   "nbconvert_exporter": "python",
   "pygments_lexer": "ipython3",
   "version": "3.8.8"
  }
 },
 "nbformat": 4,
 "nbformat_minor": 5
}
