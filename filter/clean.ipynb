{
 "cells": [
  {
   "cell_type": "code",
   "execution_count": 2,
   "id": "277f54e0-fed6-4ace-af0b-4a1c6c5e4351",
   "metadata": {},
   "outputs": [],
   "source": [
    "import os\n",
    "import pandas as pd\n",
    "import numpy as np\n",
    "\n",
    "import dask\n",
    "import dask.dataframe as dd\n",
    "from dask.diagnostics import ProgressBar\n",
    "\n",
    "from tqdm import tqdm\n",
    "import matplotlib.pyplot as plt"
   ]
  },
  {
   "cell_type": "markdown",
   "id": "ca8dc744-2111-437a-844e-27eca67b4080",
   "metadata": {},
   "source": [
    "<h3>Read raw files</h3>"
   ]
  },
  {
   "cell_type": "code",
   "execution_count": 3,
   "id": "21bc25c4-54dd-4d79-bed9-1a0c1985bda5",
   "metadata": {},
   "outputs": [],
   "source": [
    "raw_path = '../data/sas/data.csv'"
   ]
  },
  {
   "cell_type": "code",
   "execution_count": 8,
   "id": "3f43e705-6fd0-48d7-9648-3685edb0e130",
   "metadata": {},
   "outputs": [],
   "source": [
    "raw_data = dd.read_csv(\n",
    "    raw_path,\n",
    "    sep=';',  \n",
    "    encoding='cp1251',\n",
    "    low_memory=False, \n",
    "    dtype={\n",
    "        'ГородМагазина': 'object',\n",
    "        'МагазинЗаказа': 'object',\n",
    "        'СуммаДоставки': 'object',\n",
    "        'СуммаУслуг'   : 'object',\n",
    "        'ПВЗ_код'      : 'object',\n",
    "        'ПричинаОтмены': 'object'\n",
    "    }\n",
    ")"
   ]
  },
  {
   "cell_type": "code",
   "execution_count": 9,
   "id": "366b528c-452b-4db9-ba65-a2ac2925abb8",
   "metadata": {},
   "outputs": [
    {
     "name": "stdout",
     "output_type": "stream",
     "text": [
      "[########################################] | 100% Completed | 4.59 ss\n"
     ]
    }
   ],
   "source": [
    "with ProgressBar():\n",
    "    data = raw_data.compute()"
   ]
  },
  {
   "cell_type": "code",
   "execution_count": 10,
   "id": "da9d6c56-acb3-4791-a1ad-0092d664a450",
   "metadata": {},
   "outputs": [
    {
     "data": {
      "text/plain": [
       "(730558, 38)"
      ]
     },
     "execution_count": 10,
     "metadata": {},
     "output_type": "execute_result"
    }
   ],
   "source": [
    "data.shape"
   ]
  },
  {
   "cell_type": "code",
   "execution_count": 11,
   "id": "0dae108e-8e4e-4b3b-a026-42c2389c7fd2",
   "metadata": {},
   "outputs": [
    {
     "data": {
      "text/plain": [
       "Index(['Дата', 'ДатаДоставки', 'НомерЗаказаНаСайте', 'НовыйСтатус',\n",
       "       'СуммаЗаказаНаСайте', 'СуммаДокумента', 'МетодДоставки', 'ФормаОплаты',\n",
       "       'Регион', 'Группа2', 'Группа3', 'Группа4', 'Тип', 'Номенклатура',\n",
       "       'ТипТовара', 'Отменено', 'ПричинаОтмены', 'Количество', 'Цена',\n",
       "       'СуммаСтроки', 'ЦенаЗакупки', 'МесяцДатыЗаказа', 'ГодДатыЗаказа',\n",
       "       'ПВЗ_код', 'Статус', 'Гео', 'Маржа', 'СуммаУслуг', 'СуммаДоставки',\n",
       "       'НомерСтроки', 'КоличествоПроданоКлиенту', 'ДатаЗаказаНаСайте',\n",
       "       'Телефон_new', 'ЭлектроннаяПочта_new', 'Клиент', 'ID_SKU',\n",
       "       'ГородМагазина', 'МагазинЗаказа'],\n",
       "      dtype='object')"
      ]
     },
     "execution_count": 11,
     "metadata": {},
     "output_type": "execute_result"
    }
   ],
   "source": [
    "data.columns"
   ]
  },
  {
   "cell_type": "markdown",
   "id": "81855f72-345f-461c-ad14-dcff1ffe8bd9",
   "metadata": {},
   "source": [
    "<h3>Clean</h3>"
   ]
  },
  {
   "cell_type": "code",
   "execution_count": 12,
   "id": "d9d8d073-ffa0-4fc1-904a-2281ab249d39",
   "metadata": {},
   "outputs": [],
   "source": [
    "numeric = ['СуммаЗаказаНаСайте', \n",
    "           'СуммаДокумента', \n",
    "           'Количество', \n",
    "           'Цена',\n",
    "           'СуммаСтроки', \n",
    "           'ЦенаЗакупки',\n",
    "           'Маржа', \n",
    "           'СуммаУслуг',\n",
    "           'СуммаДоставки', \n",
    "           'КоличествоПроданоКлиенту']\n",
    "\n",
    "def clear_to_float(x):\n",
    "    return float(str(x).replace(' ', '').replace(',','.'))\n",
    "\n",
    "for column in numeric:\n",
    "    data[column] = data[column].apply(clear_to_float)"
   ]
  },
  {
   "cell_type": "markdown",
   "id": "359242f8-aa87-47e2-833a-fa0f6795013c",
   "metadata": {},
   "source": [
    "<h3>Filter data</h3>"
   ]
  },
  {
   "cell_type": "code",
   "execution_count": 14,
   "id": "2e7f12c5-4439-4040-952a-c10fa7c267cf",
   "metadata": {},
   "outputs": [],
   "source": [
    "assert data['Телефон_new'].isna().sum() == 0"
   ]
  },
  {
   "cell_type": "code",
   "execution_count": 15,
   "id": "613f38db-9054-449a-ab0b-60a48a7179fc",
   "metadata": {},
   "outputs": [],
   "source": [
    "# data with valid user phone number\n",
    "ph_data = data[data['Телефон_new'].str.contains('[0-9]{8}-[0-9]{14}')] # phone data`"
   ]
  },
  {
   "cell_type": "code",
   "execution_count": 16,
   "id": "21d6a0ba-0bb7-4875-9126-f9836a466c94",
   "metadata": {},
   "outputs": [
    {
     "data": {
      "text/plain": [
       "(727727, 38)"
      ]
     },
     "execution_count": 16,
     "metadata": {},
     "output_type": "execute_result"
    }
   ],
   "source": [
    "ph_data.shape"
   ]
  },
  {
   "cell_type": "code",
   "execution_count": 17,
   "id": "ee6b1140-9d91-4002-8b7a-60d0060de63d",
   "metadata": {},
   "outputs": [],
   "source": [
    "################################################################################"
   ]
  },
  {
   "cell_type": "markdown",
   "id": "0560b6ba-9e86-4d5b-8615-ed62fa45aebc",
   "metadata": {},
   "source": [
    "<h4>Filter region</h4>"
   ]
  },
  {
   "cell_type": "code",
   "execution_count": 19,
   "id": "91e1e7a8-9d2d-400f-838a-55a03c526649",
   "metadata": {},
   "outputs": [
    {
     "data": {
      "text/plain": [
       "Москва             0.45\n",
       "Санкт-Петербург    0.06\n",
       "Нижний Новгород    0.03\n",
       "Самара             0.02\n",
       "Екатеринбург       0.02\n",
       "Name: Регион, dtype: float64"
      ]
     },
     "execution_count": 19,
     "metadata": {},
     "output_type": "execute_result"
    }
   ],
   "source": [
    "TOP_N_REGIONS = 5\n",
    "\n",
    "regions = ph_data['Регион'].value_counts(normalize=True).round(2)[:TOP_N_REGIONS]\n",
    "regions"
   ]
  },
  {
   "cell_type": "code",
   "execution_count": 20,
   "id": "45427ee9-7c3c-448b-97af-0341501a5aa6",
   "metadata": {},
   "outputs": [],
   "source": [
    "region_data = ph_data[ph_data['Регион'].isin(regions.index)]"
   ]
  },
  {
   "cell_type": "code",
   "execution_count": 21,
   "id": "ecb1c4ba-9f94-4626-93a7-0e5f6ce84a3f",
   "metadata": {},
   "outputs": [],
   "source": [
    "################################################################################"
   ]
  },
  {
   "cell_type": "markdown",
   "id": "feae65f0-ab68-4465-aee8-5f129a37d3f9",
   "metadata": {},
   "source": [
    "<h4>Filter price</h4>"
   ]
  },
  {
   "cell_type": "code",
   "execution_count": 22,
   "id": "7ffa0353-648c-4929-952a-bd133b7c3461",
   "metadata": {},
   "outputs": [
    {
     "data": {
      "text/html": [
       "<div>\n",
       "<style scoped>\n",
       "    .dataframe tbody tr th:only-of-type {\n",
       "        vertical-align: middle;\n",
       "    }\n",
       "\n",
       "    .dataframe tbody tr th {\n",
       "        vertical-align: top;\n",
       "    }\n",
       "\n",
       "    .dataframe thead th {\n",
       "        text-align: right;\n",
       "    }\n",
       "</style>\n",
       "<table border=\"1\" class=\"dataframe\">\n",
       "  <thead>\n",
       "    <tr style=\"text-align: right;\">\n",
       "      <th></th>\n",
       "      <th>Цена</th>\n",
       "      <th>СуммаЗаказаНаСайте</th>\n",
       "      <th>Количество</th>\n",
       "    </tr>\n",
       "  </thead>\n",
       "  <tbody>\n",
       "    <tr>\n",
       "      <th>count</th>\n",
       "      <td>410210.00</td>\n",
       "      <td>410210.00</td>\n",
       "      <td>410210.00</td>\n",
       "    </tr>\n",
       "    <tr>\n",
       "      <th>mean</th>\n",
       "      <td>608.41</td>\n",
       "      <td>4574.76</td>\n",
       "      <td>1.50</td>\n",
       "    </tr>\n",
       "    <tr>\n",
       "      <th>std</th>\n",
       "      <td>1589.24</td>\n",
       "      <td>5257.89</td>\n",
       "      <td>2.13</td>\n",
       "    </tr>\n",
       "    <tr>\n",
       "      <th>min</th>\n",
       "      <td>0.00</td>\n",
       "      <td>1.00</td>\n",
       "      <td>0.00</td>\n",
       "    </tr>\n",
       "    <tr>\n",
       "      <th>25%</th>\n",
       "      <td>81.00</td>\n",
       "      <td>1797.00</td>\n",
       "      <td>1.00</td>\n",
       "    </tr>\n",
       "    <tr>\n",
       "      <th>50%</th>\n",
       "      <td>206.00</td>\n",
       "      <td>3127.00</td>\n",
       "      <td>1.00</td>\n",
       "    </tr>\n",
       "    <tr>\n",
       "      <th>75%</th>\n",
       "      <td>599.00</td>\n",
       "      <td>5448.00</td>\n",
       "      <td>1.00</td>\n",
       "    </tr>\n",
       "    <tr>\n",
       "      <th>max</th>\n",
       "      <td>74990.00</td>\n",
       "      <td>147298.00</td>\n",
       "      <td>150.00</td>\n",
       "    </tr>\n",
       "  </tbody>\n",
       "</table>\n",
       "</div>"
      ],
      "text/plain": [
       "            Цена  СуммаЗаказаНаСайте  Количество\n",
       "count  410210.00           410210.00   410210.00\n",
       "mean      608.41             4574.76        1.50\n",
       "std      1589.24             5257.89        2.13\n",
       "min         0.00                1.00        0.00\n",
       "25%        81.00             1797.00        1.00\n",
       "50%       206.00             3127.00        1.00\n",
       "75%       599.00             5448.00        1.00\n",
       "max     74990.00           147298.00      150.00"
      ]
     },
     "execution_count": 22,
     "metadata": {},
     "output_type": "execute_result"
    }
   ],
   "source": [
    "region_data[['Цена', 'СуммаЗаказаНаСайте', 'Количество']].describe().round(2)"
   ]
  },
  {
   "cell_type": "code",
   "execution_count": 23,
   "id": "a5912f97-eda7-40aa-8864-591dc303727f",
   "metadata": {},
   "outputs": [
    {
     "name": "stdout",
     "output_type": "stream",
     "text": [
      "Remove every order with price lower than 31.0\n"
     ]
    }
   ],
   "source": [
    "# filter by quantity\n",
    "pf_data = region_data[region_data['Количество'] != 0]\n",
    "# filter by price\n",
    "threshold = pf_data['Цена'].quantile(0.05)\n",
    "pf_data = pf_data[pf_data['Цена'] > threshold]\n",
    "print('Remove every order with price lower than', threshold)"
   ]
  },
  {
   "cell_type": "code",
   "execution_count": 24,
   "id": "f7ad11c8-6b2d-48f2-b523-3c22f72d1526",
   "metadata": {},
   "outputs": [
    {
     "data": {
      "text/plain": [
       "(379425, 38)"
      ]
     },
     "execution_count": 24,
     "metadata": {},
     "output_type": "execute_result"
    }
   ],
   "source": [
    "pf_data.shape # price filtered data"
   ]
  },
  {
   "cell_type": "code",
   "execution_count": 25,
   "id": "3cb36327-cb9f-488a-ae03-00ef300740a5",
   "metadata": {},
   "outputs": [],
   "source": [
    "################################################################################"
   ]
  },
  {
   "cell_type": "markdown",
   "id": "30c33a2b-44ae-4d4a-9f0a-a7d98d69e5b0",
   "metadata": {},
   "source": [
    "<h4>Filter date</h4>"
   ]
  },
  {
   "cell_type": "code",
   "execution_count": 26,
   "id": "45626411-986f-4ea0-ac2c-38fd11bbebf4",
   "metadata": {},
   "outputs": [],
   "source": [
    "pf_data['Дата'] = pd.to_datetime(pf_data['Дата'], dayfirst=True)\n",
    "pf_data['ДатаДоставки'] = pd.to_datetime(pf_data['ДатаДоставки'], dayfirst=True)"
   ]
  },
  {
   "cell_type": "code",
   "execution_count": 27,
   "id": "59b6557d-ad92-4de2-be0b-b60cce00343b",
   "metadata": {},
   "outputs": [
    {
     "name": "stdout",
     "output_type": "stream",
     "text": [
      "01/05/2017 -> 30/06/2017\n"
     ]
    }
   ],
   "source": [
    "print(pf_data['Дата'].min().date().strftime('%d/%m/%Y'), '->', pf_data['Дата'].max().date().strftime('%d/%m/%Y'))"
   ]
  },
  {
   "cell_type": "code",
   "execution_count": 28,
   "id": "15899900-faaf-43d8-9448-08376e35d2f2",
   "metadata": {},
   "outputs": [
    {
     "name": "stdout",
     "output_type": "stream",
     "text": [
      "02/05/2017 -> 29/07/2017\n"
     ]
    }
   ],
   "source": [
    "print(pf_data['ДатаДоставки'].min().date().strftime('%d/%m/%Y'), '->', pf_data['ДатаДоставки'].max().date().strftime('%d/%m/%Y'))"
   ]
  },
  {
   "cell_type": "code",
   "execution_count": 29,
   "id": "c23d0717-7c4d-4797-8a08-08ec9e4d8c0c",
   "metadata": {},
   "outputs": [
    {
     "data": {
      "text/plain": [
       "ДатаДоставки\n",
       "2017-05-31    168581\n",
       "2017-06-30    182777\n",
       "2017-07-31     28067\n",
       "Freq: M, Name: Дата, dtype: int64"
      ]
     },
     "execution_count": 29,
     "metadata": {},
     "output_type": "execute_result"
    }
   ],
   "source": [
    "pf_data.groupby(pd.Grouper(key='ДатаДоставки', freq='M'))['Дата'].count()"
   ]
  },
  {
   "cell_type": "code",
   "execution_count": 36,
   "id": "c86b188a-b43f-42df-9369-2c8e7d384b59",
   "metadata": {},
   "outputs": [],
   "source": [
    "# time filtered data\n",
    "tf_data = pf_data[pf_data['ДатаДоставки'] > pd.Timestamp(year=2017, month=5, day=1)]"
   ]
  },
  {
   "cell_type": "code",
   "execution_count": 37,
   "id": "ff20c205-8084-493a-ac22-ff537d5b3447",
   "metadata": {},
   "outputs": [],
   "source": [
    "################################################################################"
   ]
  },
  {
   "cell_type": "markdown",
   "id": "1e1a5b6b-7d47-4646-b0c3-41e5b2606c92",
   "metadata": {},
   "source": [
    "<h3>Item parameters</h3>"
   ]
  },
  {
   "cell_type": "code",
   "execution_count": 40,
   "id": "1a223385-2dcc-4873-9e05-b1fc40f84f48",
   "metadata": {},
   "outputs": [
    {
     "data": {
      "text/plain": [
       "ДЕТСКОЕ ПИТАНИЕ       63722\n",
       "ИГРУШКИ               63639\n",
       "ТЕКСТИЛЬ, ТРИКОТАЖ    63472\n",
       "КОСМЕТИКА/ГИГИЕНА     33639\n",
       "Name: Группа2, dtype: int64"
      ]
     },
     "execution_count": 40,
     "metadata": {},
     "output_type": "execute_result"
    }
   ],
   "source": [
    "tf_data['Группа2'].value_counts().head(4)"
   ]
  },
  {
   "cell_type": "code",
   "execution_count": 41,
   "id": "13176d45",
   "metadata": {},
   "outputs": [
    {
     "data": {
      "text/plain": [
       "ПЮРЕ                                  35035\n",
       "ПОДГУЗНИКИ                            29723\n",
       "ИГРУШКИ ДЛЯ РАЗВИТИЯ МАЛЫШЕЙ          21263\n",
       "ОДЕЖДА ДЛЯ НОВОРОЖДЕННЫХ (0-2 лет)    20676\n",
       "Name: Группа3, dtype: int64"
      ]
     },
     "execution_count": 41,
     "metadata": {},
     "output_type": "execute_result"
    }
   ],
   "source": [
    "tf_data['Группа3'].value_counts().head(4)"
   ]
  },
  {
   "cell_type": "code",
   "execution_count": 42,
   "id": "e2a4bde2-c986-4415-8916-4350240420ee",
   "metadata": {},
   "outputs": [
    {
     "data": {
      "text/plain": [
       "трусики-подгузники    14564\n",
       "подгузники            13460\n",
       "пюре мясные           12622\n",
       "пюре фруктовые        10852\n",
       "Name: Группа4, dtype: int64"
      ]
     },
     "execution_count": 42,
     "metadata": {},
     "output_type": "execute_result"
    }
   ],
   "source": [
    "tf_data['Группа4'].value_counts().head(4)"
   ]
  },
  {
   "cell_type": "code",
   "execution_count": 43,
   "id": "57d67e8f-9e02-4d4a-9bf3-ef22ea11cd1f",
   "metadata": {},
   "outputs": [
    {
     "data": {
      "text/plain": [
       "ППКП       150318\n",
       "ОДЕЖДА      80928\n",
       "ИГРУШКИ     73336\n",
       "ИНОЕ        59279\n",
       "КГТ         15564\n",
       "Name: Тип, dtype: int64"
      ]
     },
     "execution_count": 43,
     "metadata": {},
     "output_type": "execute_result"
    }
   ],
   "source": [
    "tf_data['Тип'].value_counts()"
   ]
  },
  {
   "cell_type": "code",
   "execution_count": 44,
   "id": "00c6b510-5235-4e0d-9a3b-f3d47d302fe5",
   "metadata": {
    "tags": []
   },
   "outputs": [
    {
     "data": {
      "text/plain": [
       "МГТ    308349\n",
       "КГТ     15525\n",
       "Name: ТипТовара, dtype: int64"
      ]
     },
     "execution_count": 44,
     "metadata": {},
     "output_type": "execute_result"
    }
   ],
   "source": [
    "tf_data['ТипТовара'].value_counts()"
   ]
  },
  {
   "cell_type": "code",
   "execution_count": 45,
   "id": "bcad38a6-9dee-490b-962a-e1932193f6ea",
   "metadata": {
    "tags": []
   },
   "outputs": [
    {
     "data": {
      "text/plain": [
       "520"
      ]
     },
     "execution_count": 45,
     "metadata": {},
     "output_type": "execute_result"
    }
   ],
   "source": [
    "(tf_data['ID_SKU'].value_counts() > 70).sum()"
   ]
  },
  {
   "cell_type": "markdown",
   "id": "de1e746a-b88d-46ac-b601-00520bb793be",
   "metadata": {},
   "source": [
    "<h3>DataFrame</h3>"
   ]
  },
  {
   "cell_type": "code",
   "execution_count": 46,
   "id": "59380215-1830-48a9-8944-0f855f7a65a9",
   "metadata": {},
   "outputs": [],
   "source": [
    "from pathlib import Path"
   ]
  },
  {
   "cell_type": "code",
   "execution_count": 47,
   "id": "abd17441-c398-408f-b82b-ccec44b95904",
   "metadata": {},
   "outputs": [],
   "source": [
    "Path(\"../data/sas/\").mkdir(parents=True, exist_ok=True)"
   ]
  },
  {
   "cell_type": "code",
   "execution_count": 48,
   "id": "849faf87-4a9a-4b1d-8b3a-16209f4a157b",
   "metadata": {
    "tags": []
   },
   "outputs": [],
   "source": [
    "df = tf_data[['Дата', 'ID_SKU', 'Телефон_new', 'Цена', 'Количество', 'Группа2', 'Группа3', 'Группа4', 'Тип', 'ТипТовара']]"
   ]
  },
  {
   "cell_type": "code",
   "execution_count": 53,
   "id": "dfb1c3e1-51b2-4959-a70a-16202f60fdd6",
   "metadata": {},
   "outputs": [],
   "source": [
    "df.to_csv('../data/sas/positions.csv', index=False)"
   ]
  },
  {
   "cell_type": "code",
   "execution_count": 109,
   "id": "b7c03b7a-b022-447c-8c9a-07a705dec206",
   "metadata": {},
   "outputs": [],
   "source": [
    "################################################################################"
   ]
  },
  {
   "cell_type": "code",
   "execution_count": 110,
   "id": "1a0a18fe-3629-4482-a144-8279a17258e2",
   "metadata": {},
   "outputs": [],
   "source": [
    "tf_data.to_parquet('./data/clean/all_positions.parquet')"
   ]
  },
  {
   "cell_type": "code",
   "execution_count": null,
   "id": "ce750682-c44c-47b2-94f1-57942b0d0ce8",
   "metadata": {},
   "outputs": [],
   "source": []
  }
 ],
 "metadata": {
  "kernelspec": {
   "display_name": "recsys",
   "language": "python",
   "name": "python3"
  },
  "language_info": {
   "codemirror_mode": {
    "name": "ipython",
    "version": 3
   },
   "file_extension": ".py",
   "mimetype": "text/x-python",
   "name": "python",
   "nbconvert_exporter": "python",
   "pygments_lexer": "ipython3",
   "version": "3.9.15"
  },
  "vscode": {
   "interpreter": {
    "hash": "78bff6571efa098a29603b0b132d0489520f19bae7ac06bdfd504caef114317d"
   }
  }
 },
 "nbformat": 4,
 "nbformat_minor": 5
}
