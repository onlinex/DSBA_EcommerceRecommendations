{
 "cells": [
  {
   "cell_type": "code",
   "execution_count": 163,
   "id": "277f54e0-fed6-4ace-af0b-4a1c6c5e4351",
   "metadata": {},
   "outputs": [],
   "source": [
    "import os\n",
    "import pandas as pd\n",
    "import numpy as np\n",
    "\n",
    "import dask\n",
    "import dask.dataframe as dd\n",
    "from dask.diagnostics import ProgressBar\n",
    "\n",
    "from tqdm import tqdm\n",
    "import matplotlib.pyplot as plt"
   ]
  },
  {
   "cell_type": "markdown",
   "id": "ca8dc744-2111-437a-844e-27eca67b4080",
   "metadata": {},
   "source": [
    "<h3>Read raw files</h3>"
   ]
  },
  {
   "cell_type": "code",
   "execution_count": 164,
   "id": "21bc25c4-54dd-4d79-bed9-1a0c1985bda5",
   "metadata": {},
   "outputs": [],
   "source": [
    "raw_path = '../data/sas/raw/data.csv'"
   ]
  },
  {
   "cell_type": "code",
   "execution_count": 165,
   "id": "3f43e705-6fd0-48d7-9648-3685edb0e130",
   "metadata": {},
   "outputs": [],
   "source": [
    "raw_data = dd.read_csv(\n",
    "    raw_path,\n",
    "    sep=';',  \n",
    "    encoding='cp1251',\n",
    "    low_memory=False, \n",
    "    dtype={\n",
    "        'ГородМагазина': 'object',\n",
    "        'МагазинЗаказа': 'object',\n",
    "        'СуммаДоставки': 'object',\n",
    "        'СуммаУслуг'   : 'object',\n",
    "        'ПВЗ_код'      : 'object',\n",
    "        'ПричинаОтмены': 'object'\n",
    "    }\n",
    ")"
   ]
  },
  {
   "cell_type": "code",
   "execution_count": 166,
   "id": "366b528c-452b-4db9-ba65-a2ac2925abb8",
   "metadata": {},
   "outputs": [
    {
     "name": "stdout",
     "output_type": "stream",
     "text": [
      "[########################################] | 100% Completed | 4.50 ss\n"
     ]
    }
   ],
   "source": [
    "with ProgressBar():\n",
    "    data = raw_data.compute()"
   ]
  },
  {
   "cell_type": "code",
   "execution_count": 167,
   "id": "da9d6c56-acb3-4791-a1ad-0092d664a450",
   "metadata": {},
   "outputs": [
    {
     "data": {
      "text/plain": [
       "(730558, 38)"
      ]
     },
     "execution_count": 167,
     "metadata": {},
     "output_type": "execute_result"
    }
   ],
   "source": [
    "data.shape"
   ]
  },
  {
   "cell_type": "code",
   "execution_count": 168,
   "id": "0dae108e-8e4e-4b3b-a026-42c2389c7fd2",
   "metadata": {},
   "outputs": [
    {
     "data": {
      "text/plain": [
       "Index(['Дата', 'ДатаДоставки', 'НомерЗаказаНаСайте', 'НовыйСтатус',\n",
       "       'СуммаЗаказаНаСайте', 'СуммаДокумента', 'МетодДоставки', 'ФормаОплаты',\n",
       "       'Регион', 'Группа2', 'Группа3', 'Группа4', 'Тип', 'Номенклатура',\n",
       "       'ТипТовара', 'Отменено', 'ПричинаОтмены', 'Количество', 'Цена',\n",
       "       'СуммаСтроки', 'ЦенаЗакупки', 'МесяцДатыЗаказа', 'ГодДатыЗаказа',\n",
       "       'ПВЗ_код', 'Статус', 'Гео', 'Маржа', 'СуммаУслуг', 'СуммаДоставки',\n",
       "       'НомерСтроки', 'КоличествоПроданоКлиенту', 'ДатаЗаказаНаСайте',\n",
       "       'Телефон_new', 'ЭлектроннаяПочта_new', 'Клиент', 'ID_SKU',\n",
       "       'ГородМагазина', 'МагазинЗаказа'],\n",
       "      dtype='object')"
      ]
     },
     "execution_count": 168,
     "metadata": {},
     "output_type": "execute_result"
    }
   ],
   "source": [
    "data.columns"
   ]
  },
  {
   "cell_type": "markdown",
   "id": "81855f72-345f-461c-ad14-dcff1ffe8bd9",
   "metadata": {},
   "source": [
    "<h3>Clean</h3>"
   ]
  },
  {
   "cell_type": "code",
   "execution_count": 169,
   "id": "d9d8d073-ffa0-4fc1-904a-2281ab249d39",
   "metadata": {},
   "outputs": [],
   "source": [
    "numeric = ['СуммаЗаказаНаСайте', \n",
    "           'СуммаДокумента', \n",
    "           'Количество', \n",
    "           'Цена',\n",
    "           'СуммаСтроки', \n",
    "           'ЦенаЗакупки',\n",
    "           'Маржа', \n",
    "           'СуммаУслуг',\n",
    "           'СуммаДоставки', \n",
    "           'КоличествоПроданоКлиенту']\n",
    "\n",
    "def clear_to_float(x):\n",
    "    return float(str(x).replace(' ', '').replace(',','.'))\n",
    "\n",
    "for column in numeric:\n",
    "    data[column] = data[column].apply(clear_to_float)"
   ]
  },
  {
   "cell_type": "markdown",
   "id": "359242f8-aa87-47e2-833a-fa0f6795013c",
   "metadata": {},
   "source": [
    "<h3>Filter data</h3>"
   ]
  },
  {
   "attachments": {},
   "cell_type": "markdown",
   "id": "02271b10",
   "metadata": {},
   "source": [
    "<h4>Filter Phone number</h4>"
   ]
  },
  {
   "cell_type": "code",
   "execution_count": 170,
   "id": "2e7f12c5-4439-4040-952a-c10fa7c267cf",
   "metadata": {},
   "outputs": [],
   "source": [
    "assert data['Телефон_new'].isna().sum() == 0"
   ]
  },
  {
   "cell_type": "code",
   "execution_count": 171,
   "id": "613f38db-9054-449a-ab0b-60a48a7179fc",
   "metadata": {},
   "outputs": [],
   "source": [
    "# data with valid user phone number\n",
    "ph_data = data[data['Телефон_new'].str.contains('[0-9]{8}-[0-9]{14}')] # phone data`"
   ]
  },
  {
   "cell_type": "code",
   "execution_count": 172,
   "id": "21d6a0ba-0bb7-4875-9126-f9836a466c94",
   "metadata": {},
   "outputs": [
    {
     "data": {
      "text/plain": [
       "(727727, 38)"
      ]
     },
     "execution_count": 172,
     "metadata": {},
     "output_type": "execute_result"
    }
   ],
   "source": [
    "ph_data.shape"
   ]
  },
  {
   "cell_type": "code",
   "execution_count": 173,
   "id": "ee6b1140-9d91-4002-8b7a-60d0060de63d",
   "metadata": {},
   "outputs": [],
   "source": [
    "################################################################################"
   ]
  },
  {
   "cell_type": "markdown",
   "id": "0560b6ba-9e86-4d5b-8615-ed62fa45aebc",
   "metadata": {},
   "source": [
    "<h4>Filter region</h4>"
   ]
  },
  {
   "cell_type": "code",
   "execution_count": 180,
   "id": "91e1e7a8-9d2d-400f-838a-55a03c526649",
   "metadata": {},
   "outputs": [
    {
     "data": {
      "text/plain": [
       "Москва                                        0.45\n",
       "Санкт-Петербург                               0.06\n",
       "Нижний Новгород                               0.03\n",
       "Самара                                        0.02\n",
       "Екатеринбург                                  0.02\n",
       "Люберцы (Люберецкий район)                    0.01\n",
       "Воронеж                                       0.01\n",
       "Ростов-на-Дону                                0.01\n",
       "Челябинск                                     0.01\n",
       "Пермь                                         0.01\n",
       "Краснодар                                     0.01\n",
       "Тула                                          0.01\n",
       "Подольск (Московская область район)           0.01\n",
       "Саратов                                       0.01\n",
       "Казань                                        0.01\n",
       "Мытищи (Мытищинский район)                    0.01\n",
       "Благовещенск                                  0.01\n",
       "Новосибирск                                   0.01\n",
       "Балашиха (Балашихинский район)                0.01\n",
       "Рязань                                        0.01\n",
       "Омск                                          0.01\n",
       "Волгоград                                     0.01\n",
       "Жуковский (Московская область район)          0.01\n",
       "Сочи                                          0.01\n",
       "Тюмень                                        0.01\n",
       "Красногорск (Красногорский район)             0.01\n",
       "Калуга                                        0.01\n",
       "Железнодорожный (Московская область район)    0.01\n",
       "Смоленск                                      0.01\n",
       "Иркутск                                       0.01\n",
       "Реутов (Московская область район)             0.01\n",
       "Ярославль                                     0.01\n",
       "Красноярск                                    0.01\n",
       "Ульяновск                                     0.01\n",
       "Томск                                         0.01\n",
       "Сургут                                        0.01\n",
       "Химки (Московская область район)              0.01\n",
       "Name: Регион, dtype: float64"
      ]
     },
     "execution_count": 180,
     "metadata": {},
     "output_type": "execute_result"
    }
   ],
   "source": [
    "TOP_N_REGIONS = 37\n",
    "\n",
    "regions = ph_data['Регион'].value_counts(normalize=True).round(2)[:TOP_N_REGIONS]\n",
    "regions"
   ]
  },
  {
   "cell_type": "code",
   "execution_count": 181,
   "id": "45427ee9-7c3c-448b-97af-0341501a5aa6",
   "metadata": {},
   "outputs": [],
   "source": [
    "region_data = ph_data[ph_data['Регион'].isin(regions.index)]"
   ]
  },
  {
   "cell_type": "markdown",
   "id": "feae65f0-ab68-4465-aee8-5f129a37d3f9",
   "metadata": {},
   "source": [
    "<h4>Filter price</h4>"
   ]
  },
  {
   "cell_type": "code",
   "execution_count": 182,
   "id": "7ffa0353-648c-4929-952a-bd133b7c3461",
   "metadata": {},
   "outputs": [
    {
     "data": {
      "text/html": [
       "<div>\n",
       "<style scoped>\n",
       "    .dataframe tbody tr th:only-of-type {\n",
       "        vertical-align: middle;\n",
       "    }\n",
       "\n",
       "    .dataframe tbody tr th {\n",
       "        vertical-align: top;\n",
       "    }\n",
       "\n",
       "    .dataframe thead th {\n",
       "        text-align: right;\n",
       "    }\n",
       "</style>\n",
       "<table border=\"1\" class=\"dataframe\">\n",
       "  <thead>\n",
       "    <tr style=\"text-align: right;\">\n",
       "      <th></th>\n",
       "      <th>Цена</th>\n",
       "      <th>СуммаЗаказаНаСайте</th>\n",
       "      <th>Количество</th>\n",
       "    </tr>\n",
       "  </thead>\n",
       "  <tbody>\n",
       "    <tr>\n",
       "      <th>count</th>\n",
       "      <td>595048.00</td>\n",
       "      <td>595048.00</td>\n",
       "      <td>595048.00</td>\n",
       "    </tr>\n",
       "    <tr>\n",
       "      <th>mean</th>\n",
       "      <td>670.15</td>\n",
       "      <td>4439.38</td>\n",
       "      <td>1.44</td>\n",
       "    </tr>\n",
       "    <tr>\n",
       "      <th>std</th>\n",
       "      <td>1825.37</td>\n",
       "      <td>5426.95</td>\n",
       "      <td>1.98</td>\n",
       "    </tr>\n",
       "    <tr>\n",
       "      <th>min</th>\n",
       "      <td>0.00</td>\n",
       "      <td>1.00</td>\n",
       "      <td>0.00</td>\n",
       "    </tr>\n",
       "    <tr>\n",
       "      <th>25%</th>\n",
       "      <td>89.00</td>\n",
       "      <td>1653.00</td>\n",
       "      <td>1.00</td>\n",
       "    </tr>\n",
       "    <tr>\n",
       "      <th>50%</th>\n",
       "      <td>219.00</td>\n",
       "      <td>2929.00</td>\n",
       "      <td>1.00</td>\n",
       "    </tr>\n",
       "    <tr>\n",
       "      <th>75%</th>\n",
       "      <td>629.30</td>\n",
       "      <td>5213.00</td>\n",
       "      <td>1.00</td>\n",
       "    </tr>\n",
       "    <tr>\n",
       "      <th>max</th>\n",
       "      <td>74990.00</td>\n",
       "      <td>150063.00</td>\n",
       "      <td>150.00</td>\n",
       "    </tr>\n",
       "  </tbody>\n",
       "</table>\n",
       "</div>"
      ],
      "text/plain": [
       "            Цена  СуммаЗаказаНаСайте  Количество\n",
       "count  595048.00           595048.00   595048.00\n",
       "mean      670.15             4439.38        1.44\n",
       "std      1825.37             5426.95        1.98\n",
       "min         0.00                1.00        0.00\n",
       "25%        89.00             1653.00        1.00\n",
       "50%       219.00             2929.00        1.00\n",
       "75%       629.30             5213.00        1.00\n",
       "max     74990.00           150063.00      150.00"
      ]
     },
     "execution_count": 182,
     "metadata": {},
     "output_type": "execute_result"
    }
   ],
   "source": [
    "region_data[['Цена', 'СуммаЗаказаНаСайте', 'Количество']].describe().round(2)"
   ]
  },
  {
   "cell_type": "code",
   "execution_count": 189,
   "id": "a5912f97-eda7-40aa-8864-591dc303727f",
   "metadata": {},
   "outputs": [
    {
     "name": "stdout",
     "output_type": "stream",
     "text": [
      "Remove every order with price lower than 22.0\n"
     ]
    }
   ],
   "source": [
    "# filter by quantity\n",
    "pf_data = region_data[region_data['Количество'] != 0]\n",
    "# filter by price\n",
    "threshold = pf_data['Цена'].quantile(0.025)\n",
    "pf_data = pf_data[pf_data['Цена'] > threshold]\n",
    "print('Remove every order with price lower than', threshold)"
   ]
  },
  {
   "cell_type": "markdown",
   "id": "30c33a2b-44ae-4d4a-9f0a-a7d98d69e5b0",
   "metadata": {},
   "source": [
    "<h4>Filter date</h4>"
   ]
  },
  {
   "cell_type": "code",
   "execution_count": 190,
   "id": "45626411-986f-4ea0-ac2c-38fd11bbebf4",
   "metadata": {},
   "outputs": [],
   "source": [
    "pf_data['Дата'] = pd.to_datetime(pf_data['Дата'], dayfirst=True)\n",
    "pf_data['ДатаДоставки'] = pd.to_datetime(pf_data['ДатаДоставки'], dayfirst=True)"
   ]
  },
  {
   "cell_type": "code",
   "execution_count": 191,
   "id": "59b6557d-ad92-4de2-be0b-b60cce00343b",
   "metadata": {},
   "outputs": [
    {
     "name": "stdout",
     "output_type": "stream",
     "text": [
      "01/05/2017 -> 30/06/2017\n"
     ]
    }
   ],
   "source": [
    "print(pf_data['Дата'].min().date().strftime('%d/%m/%Y'), '->', pf_data['Дата'].max().date().strftime('%d/%m/%Y'))"
   ]
  },
  {
   "cell_type": "code",
   "execution_count": 192,
   "id": "15899900-faaf-43d8-9448-08376e35d2f2",
   "metadata": {},
   "outputs": [
    {
     "name": "stdout",
     "output_type": "stream",
     "text": [
      "19/04/2017 -> 08/08/2018\n"
     ]
    }
   ],
   "source": [
    "print(pf_data['ДатаДоставки'].min().date().strftime('%d/%m/%Y'), '->', pf_data['ДатаДоставки'].max().date().strftime('%d/%m/%Y'))"
   ]
  },
  {
   "cell_type": "code",
   "execution_count": 193,
   "id": "c23d0717-7c4d-4797-8a08-08ec9e4d8c0c",
   "metadata": {},
   "outputs": [
    {
     "data": {
      "text/plain": [
       "ДатаДоставки\n",
       "2017-04-30         3\n",
       "2017-05-31    232894\n",
       "2017-06-30    273675\n",
       "2017-07-31     56421\n",
       "2017-08-31       271\n",
       "2017-09-30         0\n",
       "2017-10-31         0\n",
       "2017-11-30         0\n",
       "2017-12-31         0\n",
       "2018-01-31         0\n",
       "2018-02-28         0\n",
       "2018-03-31         0\n",
       "2018-04-30         0\n",
       "2018-05-31         0\n",
       "2018-06-30         0\n",
       "2018-07-31         0\n",
       "2018-08-31         7\n",
       "Freq: M, Name: Дата, dtype: int64"
      ]
     },
     "execution_count": 193,
     "metadata": {},
     "output_type": "execute_result"
    }
   ],
   "source": [
    "pf_data.groupby(pd.Grouper(key='ДатаДоставки', freq='M'))['Дата'].count()"
   ]
  },
  {
   "cell_type": "code",
   "execution_count": 195,
   "id": "c86b188a-b43f-42df-9369-2c8e7d384b59",
   "metadata": {},
   "outputs": [],
   "source": [
    "# time filtered data\n",
    "tf_data = pf_data[pf_data['ДатаДоставки'] > pd.Timestamp(year=2017, month=5, day=1)]\n",
    "tf_data = pf_data[pf_data['ДатаДоставки'] < pd.Timestamp(year=2017, month=9, day=1)]"
   ]
  },
  {
   "cell_type": "markdown",
   "id": "1e1a5b6b-7d47-4646-b0c3-41e5b2606c92",
   "metadata": {},
   "source": [
    "<h3>Item parameters</h3>"
   ]
  },
  {
   "cell_type": "code",
   "execution_count": 196,
   "id": "1a223385-2dcc-4873-9e05-b1fc40f84f48",
   "metadata": {},
   "outputs": [
    {
     "data": {
      "text/plain": [
       "ТЕКСТИЛЬ, ТРИКОТАЖ    99163\n",
       "ДЕТСКОЕ ПИТАНИЕ       96232\n",
       "ИГРУШКИ               93262\n",
       "ПОДГУЗНИКИ            47694\n",
       "Name: Группа2, dtype: int64"
      ]
     },
     "execution_count": 196,
     "metadata": {},
     "output_type": "execute_result"
    }
   ],
   "source": [
    "tf_data['Группа2'].value_counts().head(4)"
   ]
  },
  {
   "cell_type": "code",
   "execution_count": 197,
   "id": "13176d45",
   "metadata": {},
   "outputs": [
    {
     "data": {
      "text/plain": [
       "ПЮРЕ                                  53489\n",
       "ПОДГУЗНИКИ                            43279\n",
       "ОДЕЖДА ДЛЯ НОВОРОЖДЕННЫХ (0-2 лет)    32446\n",
       "ИГРУШКИ ДЛЯ РАЗВИТИЯ МАЛЫШЕЙ          30936\n",
       "Name: Группа3, dtype: int64"
      ]
     },
     "execution_count": 197,
     "metadata": {},
     "output_type": "execute_result"
    }
   ],
   "source": [
    "tf_data['Группа3'].value_counts().head(4)"
   ]
  },
  {
   "cell_type": "code",
   "execution_count": 198,
   "id": "e2a4bde2-c986-4415-8916-4350240420ee",
   "metadata": {},
   "outputs": [
    {
     "data": {
      "text/plain": [
       "трусики-подгузники    21177\n",
       "подгузники            19490\n",
       "пюре фруктовые        18271\n",
       "пюре мясные           16148\n",
       "Name: Группа4, dtype: int64"
      ]
     },
     "execution_count": 198,
     "metadata": {},
     "output_type": "execute_result"
    }
   ],
   "source": [
    "tf_data['Группа4'].value_counts().head(4)"
   ]
  },
  {
   "cell_type": "code",
   "execution_count": 199,
   "id": "57d67e8f-9e02-4d4a-9bf3-ef22ea11cd1f",
   "metadata": {},
   "outputs": [
    {
     "data": {
      "text/plain": [
       "ППКП       219875\n",
       "ОДЕЖДА     123039\n",
       "ИГРУШКИ    108005\n",
       "ИНОЕ        85699\n",
       "КГТ         26646\n",
       "Name: Тип, dtype: int64"
      ]
     },
     "execution_count": 199,
     "metadata": {},
     "output_type": "execute_result"
    }
   ],
   "source": [
    "tf_data['Тип'].value_counts()"
   ]
  },
  {
   "cell_type": "code",
   "execution_count": 200,
   "id": "00c6b510-5235-4e0d-9a3b-f3d47d302fe5",
   "metadata": {
    "tags": []
   },
   "outputs": [
    {
     "data": {
      "text/plain": [
       "МГТ    456790\n",
       "КГТ     26587\n",
       "Name: ТипТовара, dtype: int64"
      ]
     },
     "execution_count": 200,
     "metadata": {},
     "output_type": "execute_result"
    }
   ],
   "source": [
    "tf_data['ТипТовара'].value_counts()"
   ]
  },
  {
   "cell_type": "code",
   "execution_count": 201,
   "id": "bcad38a6-9dee-490b-962a-e1932193f6ea",
   "metadata": {
    "tags": []
   },
   "outputs": [
    {
     "data": {
      "text/plain": [
       "1308"
      ]
     },
     "execution_count": 201,
     "metadata": {},
     "output_type": "execute_result"
    }
   ],
   "source": [
    "(tf_data['ID_SKU'].value_counts() > 50).sum()"
   ]
  },
  {
   "cell_type": "code",
   "execution_count": 202,
   "id": "dd361d0c",
   "metadata": {},
   "outputs": [
    {
     "data": {
      "image/png": "[encoded data removed]",
      "text/plain": [
       "<Figure size 640x480 with 1 Axes>"
      ]
     },
     "metadata": {},
     "output_type": "display_data"
    }
   ],
   "source": [
    "plt.hist(tf_data['ID_SKU'].value_counts(), bins=100, log=True);"
   ]
  },
  {
   "cell_type": "code",
   "execution_count": 203,
   "id": "826beda6",
   "metadata": {},
   "outputs": [
    {
     "data": {
      "image/png": "[encoded data removed]",
      "text/plain": [
       "<Figure size 640x480 with 1 Axes>"
      ]
     },
     "metadata": {},
     "output_type": "display_data"
    }
   ],
   "source": [
    "plt.hist(tf_data['ID_SKU'].value_counts()[1:], bins=100, log=True);"
   ]
  },
  {
   "cell_type": "code",
   "execution_count": 204,
   "id": "336d5d98",
   "metadata": {},
   "outputs": [
    {
     "data": {
      "text/plain": [
       "ID10022107250    79887\n",
       "ID10001195351     1787\n",
       "Name: ID_SKU, dtype: int64"
      ]
     },
     "execution_count": 204,
     "metadata": {},
     "output_type": "execute_result"
    }
   ],
   "source": [
    "tf_data['ID_SKU'].value_counts()[0:2]"
   ]
  },
  {
   "cell_type": "code",
   "execution_count": 205,
   "id": "ccde68a6",
   "metadata": {},
   "outputs": [
    {
     "data": {
      "text/plain": [
       "ID10022107250    99524\n",
       "ID10001195351     2140\n",
       "Name: ID_SKU, dtype: int64"
      ]
     },
     "execution_count": 205,
     "metadata": {},
     "output_type": "execute_result"
    }
   ],
   "source": [
    "data['ID_SKU'].value_counts()[0:2]"
   ]
  },
  {
   "cell_type": "code",
   "execution_count": 206,
   "id": "c5bf25e0",
   "metadata": {},
   "outputs": [
    {
     "data": {
      "text/plain": [
       "Дата                                01.05.2017 3:21\n",
       "ДатаДоставки                        08.05.2017 0:00\n",
       "НомерЗаказаНаСайте                       4513822_TR\n",
       "НовыйСтатус                          Возврат из ПВЗ\n",
       "СуммаЗаказаНаСайте                            437.0\n",
       "СуммаДокумента                                437.0\n",
       "МетодДоставки                              Магазины\n",
       "ФормаОплаты                             Безналичная\n",
       "Регион                                       Москва\n",
       "Группа2                                         NaN\n",
       "Группа3                                         NaN\n",
       "Группа4                                         NaN\n",
       "Тип                                            ИНОЕ\n",
       "Номенклатура                               Доставка\n",
       "ТипТовара                                       NaN\n",
       "Отменено                                        Нет\n",
       "ПричинаОтмены                                   NaN\n",
       "Количество                                      1.0\n",
       "Цена                                           49.0\n",
       "СуммаСтроки                                    49.0\n",
       "ЦенаЗакупки                                     NaN\n",
       "МесяцДатыЗаказа                                   5\n",
       "ГодДатыЗаказа                                 2 017\n",
       "ПВЗ_код                                       23111\n",
       "Статус                                      Возврат\n",
       "Гео                                          Москва\n",
       "Маржа                                           NaN\n",
       "СуммаУслуг                                     49.0\n",
       "СуммаДоставки                                  49.0\n",
       "НомерСтроки                                       1\n",
       "КоличествоПроданоКлиенту                        1.0\n",
       "ДатаЗаказаНаСайте                   01.05.2017 0:00\n",
       "Телефон_new                 55574954-56525356485672\n",
       "ЭлектроннаяПочта_new           106117_ju16@inbox.ru\n",
       "Клиент                                        Гость\n",
       "ID_SKU                                ID10022107250\n",
       "ГородМагазина                                     0\n",
       "МагазинЗаказа                                   NaN\n",
       "Name: 86255, dtype: object"
      ]
     },
     "execution_count": 206,
     "metadata": {},
     "output_type": "execute_result"
    }
   ],
   "source": [
    "data[data['ID_SKU'] == 'ID10022107250'].iloc[10]"
   ]
  },
  {
   "cell_type": "code",
   "execution_count": 207,
   "id": "bf557cf8",
   "metadata": {},
   "outputs": [
    {
     "data": {
      "text/plain": [
       "(483377, 38)"
      ]
     },
     "execution_count": 207,
     "metadata": {},
     "output_type": "execute_result"
    }
   ],
   "source": [
    "tf_data[tf_data['ID_SKU'] != 'ID10022107250'].shape"
   ]
  },
  {
   "cell_type": "code",
   "execution_count": 208,
   "id": "7bb1dc01",
   "metadata": {},
   "outputs": [],
   "source": [
    "tf_data = tf_data[tf_data['ID_SKU'] != 'ID10022107250']"
   ]
  },
  {
   "cell_type": "markdown",
   "id": "de1e746a-b88d-46ac-b601-00520bb793be",
   "metadata": {},
   "source": [
    "<h3>DataFrame</h3>"
   ]
  },
  {
   "cell_type": "code",
   "execution_count": 209,
   "id": "59380215-1830-48a9-8944-0f855f7a65a9",
   "metadata": {},
   "outputs": [],
   "source": [
    "from pathlib import Path"
   ]
  },
  {
   "cell_type": "code",
   "execution_count": 210,
   "id": "abd17441-c398-408f-b82b-ccec44b95904",
   "metadata": {},
   "outputs": [],
   "source": [
    "Path(\"../data/sas/\").mkdir(parents=True, exist_ok=True)"
   ]
  },
  {
   "cell_type": "code",
   "execution_count": 211,
   "id": "849faf87-4a9a-4b1d-8b3a-16209f4a157b",
   "metadata": {
    "tags": []
   },
   "outputs": [],
   "source": [
    "df = tf_data[['Дата', 'ID_SKU', 'Телефон_new', 'Цена', 'Количество', 'Группа2', 'Группа3', 'Группа4', 'Тип', 'ТипТовара']]"
   ]
  },
  {
   "cell_type": "code",
   "execution_count": 212,
   "id": "dfb1c3e1-51b2-4959-a70a-16202f60fdd6",
   "metadata": {},
   "outputs": [],
   "source": [
    "df.to_csv('../data/sas/positions.csv', index=False)"
   ]
  },
  {
   "cell_type": "code",
   "execution_count": 213,
   "id": "b7c03b7a-b022-447c-8c9a-07a705dec206",
   "metadata": {},
   "outputs": [],
   "source": [
    "################################################################################"
   ]
  },
  {
   "cell_type": "code",
   "execution_count": 214,
   "id": "1a0a18fe-3629-4482-a144-8279a17258e2",
   "metadata": {},
   "outputs": [],
   "source": [
    "tf_data.to_csv('../data/sas/all_positions.csv', index=False)"
   ]
  },
  {
   "cell_type": "code",
   "execution_count": null,
   "id": "702dd1e2",
   "metadata": {},
   "outputs": [],
   "source": []
  }
 ],
 "metadata": {
  "kernelspec": {
   "display_name": "recsys",
   "language": "python",
   "name": "python3"
  },
  "language_info": {
   "codemirror_mode": {
    "name": "ipython",
    "version": 3
   },
   "file_extension": ".py",
   "mimetype": "text/x-python",
   "name": "python",
   "nbconvert_exporter": "python",
   "pygments_lexer": "ipython3",
   "version": "3.9.15"
  },
  "vscode": {
   "interpreter": {
    "hash": "78bff6571efa098a29603b0b132d0489520f19bae7ac06bdfd504caef114317d"
   }
  }
 },
 "nbformat": 4,
 "nbformat_minor": 5
}
