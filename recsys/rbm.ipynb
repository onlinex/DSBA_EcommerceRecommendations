{
 "cells": [
  {
   "cell_type": "code",
   "execution_count": 1,
   "metadata": {},
   "outputs": [
    {
     "name": "stdout",
     "output_type": "stream",
     "text": [
      "System version: 3.9.15 | packaged by conda-forge | (main, Nov 22 2022, 08:48:25) \n",
      "[Clang 14.0.6 ]\n",
      "Pandas version: 1.5.3\n",
      "Tensorflow version: 2.11.0\n"
     ]
    }
   ],
   "source": [
    "import sys\n",
    "\n",
    "import pandas as pd\n",
    "import numpy as np\n",
    "import tensorflow as tf\n",
    "tf.get_logger().setLevel('ERROR') # only show error messages\n",
    "\n",
    "from recommenders.models.rbm.rbm import RBM\n",
    "from recommenders.datasets.python_splitters import numpy_stratified_split\n",
    "from recommenders.datasets.sparse import AffinityMatrix\n",
    "from recommenders.datasets import movielens\n",
    "from recommenders.evaluation.python_evaluation import map_at_k, ndcg_at_k, precision_at_k, recall_at_k, rmse, mae, exp_var, rsquared\n",
    "from recommenders.utils.timer import Timer\n",
    "from recommenders.utils.plot import line_graph\n",
    "\n",
    "print(\"System version: {}\".format(sys.version))\n",
    "print(\"Pandas version: {}\".format(pd.__version__))\n",
    "print(\"Tensorflow version: {}\".format(tf.__version__))\n",
    "\n",
    "import matplotlib.pyplot as plt"
   ]
  },
  {
   "attachments": {},
   "cell_type": "markdown",
   "metadata": {},
   "source": [
    "<h1>Load data</h1>"
   ]
  },
  {
   "cell_type": "code",
   "execution_count": 3,
   "metadata": {},
   "outputs": [],
   "source": [
    "dataset_name = 'sas'"
   ]
  },
  {
   "cell_type": "code",
   "execution_count": 4,
   "metadata": {},
   "outputs": [],
   "source": [
    "train_file = \"../data/{}/train.csv\".format(dataset_name)\n",
    "test_file = \"../data/{}/test.csv\".format(dataset_name)\n",
    "\n",
    "train = pd.read_csv(train_file)\n",
    "test  = pd.read_csv(test_file)"
   ]
  },
  {
   "cell_type": "code",
   "execution_count": 5,
   "metadata": {},
   "outputs": [],
   "source": [
    "def deduplicate(df):\n",
    "    min_v, max_v = df['rating'].min(), df['rating'].max()\n",
    "    df = df.groupby(['userID', 'itemID'], as_index=False).agg({'rating': 'sum', 'timestamp': 'max'})\n",
    "    df['rating'] = np.clip(df['rating'], min_v, max_v)\n",
    "    return df"
   ]
  },
  {
   "cell_type": "code",
   "execution_count": 6,
   "metadata": {},
   "outputs": [],
   "source": [
    "train = deduplicate(train)\n",
    "test = deduplicate(test)"
   ]
  },
  {
   "cell_type": "code",
   "execution_count": 7,
   "metadata": {},
   "outputs": [],
   "source": [
    "#to use standard names across the analysis \n",
    "header = {\n",
    "        \"col_user\": \"userID\",\n",
    "        \"col_item\": \"itemID\",\n",
    "        \"col_rating\": \"rating\",\n",
    "    }\n",
    "\n",
    "#instantiate the sparse matrix generation\n",
    "am = AffinityMatrix(df = train, **header)\n",
    "#obtain the sparse matrix, users x items\n",
    "Xtr, u, i = am.gen_affinity_matrix()"
   ]
  },
  {
   "cell_type": "code",
   "execution_count": 8,
   "metadata": {},
   "outputs": [],
   "source": [
    "Xtst = np.zeros_like(Xtr)\n",
    "for indx, (user, item, rating, timestamp) in test.iterrows():\n",
    "    u_index = u[user]\n",
    "    i_index = i[item]\n",
    "\n",
    "    Xtst[u_index][i_index] = rating"
   ]
  },
  {
   "cell_type": "code",
   "execution_count": 9,
   "metadata": {},
   "outputs": [
    {
     "name": "stdout",
     "output_type": "stream",
     "text": [
      "train matrix size (47759, 2184)\n",
      "test matrix size (47759, 2184)\n"
     ]
    }
   ],
   "source": [
    "print('train matrix size', Xtr.shape)\n",
    "print('test matrix size', Xtst.shape)"
   ]
  },
  {
   "cell_type": "code",
   "execution_count": 10,
   "metadata": {},
   "outputs": [
    {
     "data": {
      "text/plain": [
       "(47759, 2184)"
      ]
     },
     "execution_count": 10,
     "metadata": {},
     "output_type": "execute_result"
    }
   ],
   "source": [
    "train['userID'].nunique(), train['itemID'].nunique()"
   ]
  },
  {
   "attachments": {},
   "cell_type": "markdown",
   "metadata": {},
   "source": [
    "<h1>Train the RBM model</h1>"
   ]
  },
  {
   "cell_type": "code",
   "execution_count": 13,
   "metadata": {},
   "outputs": [
    {
     "name": "stderr",
     "output_type": "stream",
     "text": [
      "2023-05-08 08:36:26.977501: I tensorflow/compiler/mlir/mlir_graph_optimization_pass.cc:357] MLIR V1 optimization pass is not enabled\n",
      "2023-05-08 08:36:26.987524: W tensorflow/tsl/platform/profile_utils/cpu_utils.cc:128] Failed to get CPU frequency: 0 Hz\n"
     ]
    }
   ],
   "source": [
    "#First we initialize the model class\n",
    "model = RBM(\n",
    "    possible_ratings=np.setdiff1d(np.unique(Xtr), np.array([0])),\n",
    "    visible_units=Xtr.shape[1],\n",
    "    hidden_units=140,\n",
    "    training_epoch=3,\n",
    "    minibatch_size=70,\n",
    "    keep_prob=0.75,\n",
    "    with_metrics=True\n",
    ")"
   ]
  },
  {
   "cell_type": "code",
   "execution_count": 14,
   "metadata": {},
   "outputs": [
    {
     "name": "stderr",
     "output_type": "stream",
     "text": [
      "2023-05-08 08:36:28.059834: W tensorflow/c/c_api.cc:291] Operation '{name:'key_value_init/LookupTableImportV2' id:6 op device:{requested: '', assigned: ''} def:{{{node key_value_init/LookupTableImportV2}} = LookupTableImportV2[Tin=DT_INT32, Tout=DT_FLOAT, _has_manual_control_dependencies=true](hash_table, Const, Const_1)}}' was changed by setting attribute after it was run by a session. This mutation will have no effect, and will trigger an error in the future. Either don't modify nodes after running them or create a new session.\n"
     ]
    },
    {
     "name": "stdout",
     "output_type": "stream",
     "text": [
      "Took 17.55 seconds for training.\n"
     ]
    },
    {
     "data": {
      "image/png": "[encoded data removed]",
      "text/plain": [
       "<Figure size 500x500 with 1 Axes>"
      ]
     },
     "metadata": {},
     "output_type": "display_data"
    }
   ],
   "source": [
    "# Model Fit\n",
    "with Timer() as train_time:\n",
    "    model.fit(Xtr)\n",
    "\n",
    "print(\"Took {:.2f} seconds for training.\".format(train_time.interval))\n",
    "\n",
    "# Plot the train RMSE as a function of the epochs\n",
    "line_graph(values=model.rmse_train, labels='train', x_name='epoch', y_name='rmse_train')"
   ]
  },
  {
   "cell_type": "code",
   "execution_count": 19,
   "metadata": {},
   "outputs": [
    {
     "name": "stdout",
     "output_type": "stream",
     "text": [
      "Took 61.06 seconds for prediction.\n"
     ]
    }
   ],
   "source": [
    "# number of top score elements to be recommended\n",
    "K = 100\n",
    "\n",
    "# Model prediction on the test set Xtst.\n",
    "with Timer() as prediction_time:\n",
    "    top_k = model.recommend_k_items(Xtst, K, remove_seen=True)\n",
    "\n",
    "print(\"Took {:.2f} seconds for prediction.\".format(prediction_time.interval))"
   ]
  },
  {
   "cell_type": "code",
   "execution_count": 20,
   "metadata": {},
   "outputs": [],
   "source": [
    "top_k_df = am.map_back_sparse(top_k, kind = 'prediction')\n",
    "test_df = am.map_back_sparse(Xtst, kind = 'ratings')"
   ]
  },
  {
   "attachments": {},
   "cell_type": "markdown",
   "metadata": {},
   "source": [
    "<h1>Evaluation metrics</h1>"
   ]
  },
  {
   "cell_type": "code",
   "execution_count": 21,
   "metadata": {},
   "outputs": [],
   "source": [
    "def ranking_metrics(data_true, data_pred, K):\n",
    "\n",
    "    eval_map = map_at_k(data_true, data_pred, col_user=\"userID\", col_item=\"itemID\", \n",
    "                    col_rating=\"rating\", col_prediction=\"prediction\", \n",
    "                    relevancy_method=\"top_k\", k= K)\n",
    "\n",
    "    eval_ndcg = ndcg_at_k(data_true, data_pred, col_user=\"userID\", col_item=\"itemID\", \n",
    "                      col_rating=\"rating\", col_prediction=\"prediction\", \n",
    "                      relevancy_method=\"top_k\", k= K)\n",
    "\n",
    "    eval_precision = precision_at_k(data_true, data_pred, col_user=\"userID\", col_item=\"itemID\", \n",
    "                               col_rating=\"rating\", col_prediction=\"prediction\", \n",
    "                               relevancy_method=\"top_k\", k= K)\n",
    "\n",
    "    eval_recall = recall_at_k(data_true, data_pred, col_user=\"userID\", col_item=\"itemID\", \n",
    "                          col_rating=\"rating\", col_prediction=\"prediction\", \n",
    "                          relevancy_method=\"top_k\", k= K)\n",
    "\n",
    "    \n",
    "    print(\"Model:\\RBM\",\n",
    "      \"Top K:\\t%d\" % K,\n",
    "      \"MAP:\\t%f\" % eval_map,\n",
    "      \"NDCG:\\t%f\" % eval_ndcg,\n",
    "      \"Precision@K:\\t%f\" % eval_precision,\n",
    "      \"Recall@K:\\t%f\" % eval_recall, sep='\\n')"
   ]
  },
  {
   "cell_type": "code",
   "execution_count": 22,
   "metadata": {},
   "outputs": [
    {
     "name": "stdout",
     "output_type": "stream",
     "text": [
      "Model:\\RBM\n",
      "Top K:\t10\n",
      "MAP:\t0.023431\n",
      "NDCG:\t0.035362\n",
      "Precision@K:\t0.011025\n",
      "Recall@K:\t0.048190\n"
     ]
    }
   ],
   "source": [
    "ranking_metrics(\n",
    "    data_true=test_df,\n",
    "    data_pred=top_k_df,\n",
    "    K=10\n",
    ")"
   ]
  },
  {
   "cell_type": "code",
   "execution_count": 387,
   "metadata": {},
   "outputs": [],
   "source": [
    "merged = pd.merge(test_df, top_k_df, on=('userID', 'itemID'))"
   ]
  },
  {
   "cell_type": "code",
   "execution_count": 388,
   "metadata": {},
   "outputs": [],
   "source": [
    "def rating_metrics(data_true, data_pred):\n",
    "    \n",
    "    eval_rmse = rmse(data_true, data_pred, col_user=\"userID\", col_item=\"itemID\", col_rating=\"rating\", col_prediction=\"prediction\")\n",
    "    eval_mae = mae(data_true, data_pred, col_user=\"userID\", col_item=\"itemID\", col_rating=\"rating\", col_prediction=\"prediction\")\n",
    "    eval_exp_var = exp_var(data_true, data_pred, col_user=\"userID\", col_item=\"itemID\", col_rating=\"rating\", col_prediction=\"prediction\")\n",
    "    eval_rsquared = rsquared(data_true, data_pred, col_user=\"userID\", col_item=\"itemID\", col_rating=\"rating\", col_prediction=\"prediction\")\n",
    "\n",
    "\n",
    "    print(\"Model:\\RBM rating prediction\",\n",
    "      \"RMSE:\\t%f\" % eval_rmse,\n",
    "      \"MAE:\\t%f\" % eval_mae,\n",
    "      \"Explained variance:\\t%f\" % eval_exp_var,\n",
    "      \"R squared:\\t%f\" % eval_rsquared, sep='\\n')"
   ]
  },
  {
   "cell_type": "code",
   "execution_count": 389,
   "metadata": {},
   "outputs": [
    {
     "name": "stdout",
     "output_type": "stream",
     "text": [
      "Model:\\RBM rating prediction\n",
      "RMSE:\t1.038982\n",
      "MAE:\t0.890258\n",
      "Explained variance:\t-0.078920\n",
      "R squared:\t-0.765922\n"
     ]
    }
   ],
   "source": [
    "rating_metrics(\n",
    "    data_true=merged[['userID', 'itemID', 'rating']],\n",
    "    data_pred=merged[['userID', 'itemID', 'prediction']],\n",
    ")"
   ]
  },
  {
   "cell_type": "code",
   "execution_count": null,
   "metadata": {},
   "outputs": [],
   "source": []
  },
  {
   "attachments": {},
   "cell_type": "markdown",
   "metadata": {},
   "source": [
    "<h3>SAS RFM</h3>"
   ]
  },
  {
   "cell_type": "code",
   "execution_count": 27,
   "metadata": {},
   "outputs": [],
   "source": [
    "from copy import deepcopy"
   ]
  },
  {
   "cell_type": "code",
   "execution_count": 23,
   "metadata": {},
   "outputs": [],
   "source": [
    "rfm = pd.read_parquet('../data/sas/mart/rfm_mapped.parquet')\n",
    "rfm_levels = [\"Can't Loose Them\", \"Champions\", \"Loyal\", \"Potential\", \"Sleeping\", \"Require Activation\"]"
   ]
  },
  {
   "cell_type": "code",
   "execution_count": 28,
   "metadata": {},
   "outputs": [],
   "source": [
    "merged_pred = deepcopy(top_k_df)\n",
    "merged_test = deepcopy(test_df)"
   ]
  },
  {
   "cell_type": "code",
   "execution_count": 32,
   "metadata": {},
   "outputs": [
    {
     "data": {
      "text/plain": [
       "0.03536224882605439"
      ]
     },
     "execution_count": 32,
     "metadata": {},
     "output_type": "execute_result"
    }
   ],
   "source": [
    "ndcg_at_k(merged_test, merged_pred, col_prediction='prediction', k=10)"
   ]
  },
  {
   "cell_type": "code",
   "execution_count": 29,
   "metadata": {},
   "outputs": [
    {
     "name": "stdout",
     "output_type": "stream",
     "text": [
      "(5532, 3) (283600, 3)\n",
      "(3455, 3) (289700, 3)\n",
      "(4055, 3) (425000, 3)\n",
      "(4344, 3) (584900, 3)\n",
      "(2694, 3) (510600, 3)\n",
      "(572, 3) (193200, 3)\n"
     ]
    }
   ],
   "source": [
    "TOP_K = 10\n",
    "NDCGs = []\n",
    "for level in rfm_levels:\n",
    "    users = rfm[rfm['RFM_Level'] == level]['phone'].unique()\n",
    "\n",
    "    m_test_s = merged_test[merged_test['userID'].isin(users)]\n",
    "    m_pred_s = merged_pred[merged_pred['userID'].isin(users)]\n",
    "\n",
    "    print(m_test_s.shape, m_pred_s.shape)\n",
    "\n",
    "    eval_map = map_at_k(m_test_s, m_pred_s, col_prediction='prediction', k=TOP_K)\n",
    "    eval_ndcg = ndcg_at_k(m_test_s, m_pred_s, col_prediction='prediction', k=TOP_K)\n",
    "\n",
    "    NDCGs.append(eval_ndcg)"
   ]
  },
  {
   "cell_type": "code",
   "execution_count": 33,
   "metadata": {},
   "outputs": [
    {
     "name": "stdout",
     "output_type": "stream",
     "text": [
      "Can't Loose Them 0.0253\n",
      "Champions 0.0224\n",
      "Loyal 0.0202\n",
      "Potential 0.0268\n",
      "Sleeping 0.0323\n",
      "Require Activation 0.03\n"
     ]
    }
   ],
   "source": [
    "for level, ndcg in zip(rfm_levels, NDCGs):\n",
    "    print(level, np.round(ndcg, 4))"
   ]
  },
  {
   "cell_type": "code",
   "execution_count": 31,
   "metadata": {},
   "outputs": [
    {
     "data": {
      "image/png": "[encoded data removed]",
      "text/plain": [
       "<Figure size 1500x500 with 1 Axes>"
      ]
     },
     "metadata": {},
     "output_type": "display_data"
    }
   ],
   "source": [
    "plt.figure(figsize=(15,5))\n",
    "plt.bar(rfm_levels, NDCGs);"
   ]
  },
  {
   "attachments": {},
   "cell_type": "markdown",
   "metadata": {},
   "source": [
    "<h1>Saving the model and Loading a pre-trained model</h1>"
   ]
  },
  {
   "cell_type": "code",
   "execution_count": null,
   "metadata": {},
   "outputs": [],
   "source": [
    "#model.save(file_path='./models/rbm_model.ckpt')"
   ]
  },
  {
   "cell_type": "code",
   "execution_count": null,
   "metadata": {},
   "outputs": [],
   "source": []
  }
 ],
 "metadata": {
  "kernelspec": {
   "display_name": "recsys",
   "language": "python",
   "name": "python3"
  },
  "language_info": {
   "codemirror_mode": {
    "name": "ipython",
    "version": 3
   },
   "file_extension": ".py",
   "mimetype": "text/x-python",
   "name": "python",
   "nbconvert_exporter": "python",
   "pygments_lexer": "ipython3",
   "version": "3.9.15"
  },
  "orig_nbformat": 4,
  "vscode": {
   "interpreter": {
    "hash": "78bff6571efa098a29603b0b132d0489520f19bae7ac06bdfd504caef114317d"
   }
  }
 },
 "nbformat": 4,
 "nbformat_minor": 2
}
