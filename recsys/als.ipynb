{
 "cells": [
  {
   "cell_type": "code",
   "execution_count": 19,
   "metadata": {},
   "outputs": [
    {
     "name": "stdout",
     "output_type": "stream",
     "text": [
      "System version: 3.9.15 | packaged by conda-forge | (main, Nov 22 2022, 08:48:25) \n",
      "[Clang 14.0.6 ]\n",
      "Spark version: 3.3.1\n"
     ]
    }
   ],
   "source": [
    "import sys\n",
    "import numpy as np\n",
    "import pyspark\n",
    "from pyspark.ml.recommendation import ALS\n",
    "import pyspark.sql.functions as F\n",
    "from pyspark.sql import SparkSession\n",
    "from pyspark.sql.types import StructType, StructField\n",
    "from pyspark.sql.types import StringType, FloatType, IntegerType, LongType\n",
    "import warnings\n",
    "warnings.simplefilter(action='ignore', category=FutureWarning)\n",
    "\n",
    "from recommenders.utils.timer import Timer\n",
    "from recommenders.datasets import movielens\n",
    "from recommenders.utils.notebook_utils import is_jupyter\n",
    "from recommenders.datasets.spark_splitters import spark_random_split\n",
    "from recommenders.evaluation.spark_evaluation import SparkRatingEvaluation, SparkRankingEvaluation\n",
    "from recommenders.utils.spark_utils import start_or_get_spark\n",
    "\n",
    "print(\"System version: {}\".format(sys.version))\n",
    "print(\"Spark version: {}\".format(pyspark.__version__))"
   ]
  },
  {
   "attachments": {},
   "cell_type": "markdown",
   "metadata": {},
   "source": [
    "<h1>Set up spark context</h1>"
   ]
  },
  {
   "cell_type": "code",
   "execution_count": 20,
   "metadata": {},
   "outputs": [],
   "source": [
    "# the following settings work well for debugging locally on VM - change when running on a cluster\n",
    "# set up a giant single executor with many threads and specify memory cap\n",
    "spark = start_or_get_spark(\"ALS PySpark\", memory=\"10g\")\n",
    "spark.conf.set(\"spark.sql.analyzer.failAmbiguousSelfJoin\", \"false\")"
   ]
  },
  {
   "cell_type": "code",
   "execution_count": 21,
   "metadata": {},
   "outputs": [],
   "source": [
    "spark.sparkContext.setCheckpointDir('./checkpoints')"
   ]
  },
  {
   "attachments": {},
   "cell_type": "markdown",
   "metadata": {},
   "source": [
    "<h1>Load the dataset</h1>"
   ]
  },
  {
   "cell_type": "code",
   "execution_count": 22,
   "metadata": {},
   "outputs": [],
   "source": [
    "# Column names for the dataset\n",
    "COL_USER = \"UserId\"\n",
    "COL_ITEM = \"ItemId\"\n",
    "COL_RATING = \"Rating\"\n",
    "COL_TIMESTAMP = \"Timestamp\""
   ]
  },
  {
   "cell_type": "code",
   "execution_count": 24,
   "metadata": {},
   "outputs": [],
   "source": [
    "dataset_name = 'sas'"
   ]
  },
  {
   "cell_type": "code",
   "execution_count": 25,
   "metadata": {},
   "outputs": [],
   "source": [
    "train_path, test_path = '../data/{}/train.csv'.format(dataset_name), '../data/{}/test.csv'.format(dataset_name)"
   ]
  },
  {
   "cell_type": "code",
   "execution_count": 26,
   "metadata": {},
   "outputs": [],
   "source": [
    "# Note: The DataFrame-based API for ALS currently only supports integers for user and item ids.\n",
    "schema = StructType(\n",
    "    (\n",
    "        StructField(COL_USER, IntegerType()),\n",
    "        StructField(COL_ITEM, IntegerType()),\n",
    "        StructField(COL_RATING, FloatType()),\n",
    "        StructField(COL_TIMESTAMP, LongType()),\n",
    "    )\n",
    ")\n",
    "\n",
    "train = spark.read.load(train_path, format=\"csv\", header=\"true\", sep=',', schema=schema)\n",
    "test = spark.read.load(test_path, format=\"csv\", header=\"true\", sep=',', schema=schema)"
   ]
  },
  {
   "cell_type": "code",
   "execution_count": 27,
   "metadata": {},
   "outputs": [
    {
     "name": "stdout",
     "output_type": "stream",
     "text": [
      "N train 164525\n",
      "N test 44568\n"
     ]
    }
   ],
   "source": [
    "print (\"N train\", train.cache().count())\n",
    "print (\"N test\", test.cache().count())"
   ]
  },
  {
   "attachments": {},
   "cell_type": "markdown",
   "metadata": {},
   "source": [
    "<h1>Train ALS</h1>"
   ]
  },
  {
   "cell_type": "code",
   "execution_count": 28,
   "metadata": {},
   "outputs": [],
   "source": [
    "header = {\n",
    "    \"userCol\": COL_USER,\n",
    "    \"itemCol\": COL_ITEM,\n",
    "    \"ratingCol\": COL_RATING,\n",
    "}\n",
    "\n",
    "als = ALS(\n",
    "    rank=40,\n",
    "    maxIter=35,\n",
    "    implicitPrefs=False,\n",
    "    regParam=0.08,\n",
    "    coldStartStrategy='drop',\n",
    "    nonnegative=True,\n",
    "    seed=42,\n",
    "    **header\n",
    ")"
   ]
  },
  {
   "cell_type": "code",
   "execution_count": 29,
   "metadata": {},
   "outputs": [],
   "source": [
    "from pyspark.ml.evaluation import RegressionEvaluator\n",
    "evaluator = RegressionEvaluator(metricName=\"rmse\", labelCol=COL_RATING, predictionCol=\"prediction\")"
   ]
  },
  {
   "cell_type": "code",
   "execution_count": 30,
   "metadata": {},
   "outputs": [
    {
     "name": "stdout",
     "output_type": "stream",
     "text": [
      "Root-mean-square error = 0.8328319236116101\n",
      "Took 11.333692374999373 seconds for training.\n"
     ]
    }
   ],
   "source": [
    "with Timer() as train_time:\n",
    "    model = als.fit(train)\n",
    "    predictions = model.transform(test)\n",
    "    rmse = evaluator.evaluate(predictions)\n",
    "    print(f\"Root-mean-square error = {rmse}\")\n",
    "\n",
    "print(\"Took {} seconds for training.\".format(train_time.interval))"
   ]
  },
  {
   "attachments": {},
   "cell_type": "markdown",
   "metadata": {},
   "source": [
    "- In the movie recommendation use case, recommending movies that have been rated by the users do not make sense. (because they have already seen them)\n",
    "\n",
    "- Therefore, the rated movies are removed from the recommended items.\n",
    "\n",
    "- In order to achieve this, we recommend all movies to all users, and then remove the user-movie pairs that exist in the training dataset."
   ]
  },
  {
   "cell_type": "code",
   "execution_count": 31,
   "metadata": {},
   "outputs": [
    {
     "name": "stderr",
     "output_type": "stream",
     "text": [
      "                                                                                \r"
     ]
    },
    {
     "name": "stdout",
     "output_type": "stream",
     "text": [
      "23/05/08 08:13:56 WARN TaskSetManager: Stage 534 contains a task of very large size (9794 KiB). The maximum recommended task size is 1000 KiB.\n"
     ]
    },
    {
     "name": "stderr",
     "output_type": "stream",
     "text": [
      "[Stage 534:>                                                        (0 + 1) / 1]\r"
     ]
    },
    {
     "name": "stdout",
     "output_type": "stream",
     "text": [
      "23/05/08 08:14:00 WARN PythonRunner: Detected deadlock while completing task 0.0 in stage 534 (TID 2178): Attempting to kill Python Worker\n",
      "+------+------+----------+\n",
      "|UserId|ItemId|prediction|\n",
      "+------+------+----------+\n",
      "|    26|    37| 1.3530378|\n",
      "|    26|   834| 1.2740134|\n",
      "|    26|  1056| 1.1821141|\n",
      "|    26|  1190| 1.1801662|\n",
      "|    26|   660| 1.1627798|\n",
      "|    26|   964|  1.159298|\n",
      "|    26|   956| 1.1572847|\n",
      "|    26|  1155| 1.1526268|\n",
      "|    26|   890| 1.1485099|\n",
      "|    26|   647| 1.1295681|\n",
      "|    26|  1549| 1.1257792|\n",
      "|    26|   893| 1.1008624|\n",
      "|    26|   875| 1.0888025|\n",
      "|    26|   134| 1.0834347|\n",
      "|    26|   963| 1.0814934|\n",
      "|    26|   967| 1.0724463|\n",
      "|    26|   108| 1.0666947|\n",
      "|    26|    38| 1.0635729|\n",
      "|    26|  1057| 1.0609869|\n",
      "|    26|   871| 1.0529557|\n",
      "+------+------+----------+\n",
      "only showing top 20 rows\n",
      "\n"
     ]
    },
    {
     "name": "stderr",
     "output_type": "stream",
     "text": [
      "                                                                                \r"
     ]
    }
   ],
   "source": [
    "userRecs = model.recommendForAllUsers(100)\n",
    "\n",
    "rows = []\n",
    "for row in userRecs.collect():\n",
    "    for rec in row['recommendations']:\n",
    "        rows.append([row['UserId'], rec['ItemId'], rec['rating']])\n",
    "        \n",
    "schema = StructType([\n",
    "    StructField(\"UserId\", IntegerType(), True),\n",
    "    StructField(\"ItemId\", IntegerType(), True),\n",
    "    StructField(\"prediction\", FloatType(), True)\n",
    "])\n",
    "\n",
    "top_k_df = spark.createDataFrame(rows, schema=schema)\n",
    "# Show the top_k_df DataFrame\n",
    "top_k_df.show()"
   ]
  },
  {
   "cell_type": "code",
   "execution_count": 32,
   "metadata": {},
   "outputs": [],
   "source": [
    "# Remove seen items.\n",
    "dfs_pred_exclude_train = top_k_df.alias(\"pred\").join(\n",
    "    train.alias(\"train\"),\n",
    "    (top_k_df[COL_USER] == train[COL_USER]) & (top_k_df[COL_ITEM] == train[COL_ITEM]),\n",
    "    how='outer'\n",
    ")\n",
    "\n",
    "# train.{col_rating} will be null on the previous step, if this pair was not seen before. These are the entries of interest to us.\n",
    "top_ex = dfs_pred_exclude_train.filter(dfs_pred_exclude_train[f\"train.{COL_RATING}\"].isNull()) \\\n",
    "        .select('pred.' + COL_USER, 'pred.' + COL_ITEM, 'pred.' + \"prediction\")\n"
   ]
  },
  {
   "attachments": {},
   "cell_type": "markdown",
   "metadata": {},
   "source": [
    "<h1>Evaluate how well ALS performs</h1>"
   ]
  },
  {
   "cell_type": "code",
   "execution_count": 43,
   "metadata": {},
   "outputs": [
    {
     "name": "stdout",
     "output_type": "stream",
     "text": [
      "23/05/08 08:18:53 WARN TaskSetManager: Stage 612 contains a task of very large size (9794 KiB). The maximum recommended task size is 1000 KiB.\n"
     ]
    },
    {
     "name": "stderr",
     "output_type": "stream",
     "text": [
      "                                                                                \r"
     ]
    }
   ],
   "source": [
    "# Needs all the predictions, to calculate Top-K, NDCG, etc.\n",
    "# top_k_df\n",
    "rank_eval = SparkRankingEvaluation(test, top_ex, k = 10, col_user=COL_USER, col_item=COL_ITEM, \n",
    "                                    col_rating=COL_RATING, col_prediction=\"prediction\", \n",
    "                                    relevancy_method=\"top_k\")"
   ]
  },
  {
   "cell_type": "code",
   "execution_count": 44,
   "metadata": {},
   "outputs": [
    {
     "name": "stderr",
     "output_type": "stream",
     "text": [
      "                                                                                \r"
     ]
    },
    {
     "name": "stdout",
     "output_type": "stream",
     "text": [
      "23/05/08 08:18:58 WARN TaskSetManager: Stage 625 contains a task of very large size (9794 KiB). The maximum recommended task size is 1000 KiB.\n"
     ]
    },
    {
     "name": "stderr",
     "output_type": "stream",
     "text": [
      "[Stage 625:>                                                        (0 + 8) / 8]\r"
     ]
    },
    {
     "name": "stdout",
     "output_type": "stream",
     "text": [
      "Model:\tALS\n",
      "Top K:\t10\n",
      "MAP:\t0.006878\n",
      "NDCG:\t0.011562\n",
      "Precision@K:\t0.004392\n",
      "Recall@K:\t0.018014\n"
     ]
    },
    {
     "name": "stderr",
     "output_type": "stream",
     "text": [
      "                                                                                \r"
     ]
    }
   ],
   "source": [
    "print(\"Model:\\tALS\",\n",
    "      \"Top K:\\t%d\" % rank_eval.k,\n",
    "      \"MAP:\\t%f\" % rank_eval.map_at_k(),\n",
    "      \"NDCG:\\t%f\" % rank_eval.ndcg_at_k(),\n",
    "      \"Precision@K:\\t%f\" % rank_eval.precision_at_k(),\n",
    "      \"Recall@K:\\t%f\" % rank_eval.recall_at_k(), sep='\\n')"
   ]
  },
  {
   "attachments": {},
   "cell_type": "markdown",
   "metadata": {},
   "source": [
    "<h1>Evaluate rating prediction</h1>"
   ]
  },
  {
   "cell_type": "code",
   "execution_count": 45,
   "metadata": {},
   "outputs": [
    {
     "name": "stderr",
     "output_type": "stream",
     "text": [
      "[Stage 646:================================================>    (184 + 8) / 200]\r"
     ]
    },
    {
     "name": "stdout",
     "output_type": "stream",
     "text": [
      "+------+------+------+----------+----------+\n",
      "|UserId|ItemId|Rating| Timestamp|prediction|\n",
      "+------+------+------+----------+----------+\n",
      "| 37858|   148|   3.0|1494523560|0.78494215|\n",
      "|  9126|   148|   1.0|1498616460|  0.948777|\n",
      "|  9523|   148|   2.0|1496061960| 0.8916069|\n",
      "|  2108|   148|   1.0|1498011480| 1.0486164|\n",
      "| 26768|   148|   1.0|1495717560|0.92006576|\n",
      "| 40994|   148|   1.0|1498592820| 1.0097954|\n",
      "| 27728|   148|   2.0|1498505640| 1.6772659|\n",
      "| 26443|   148|   1.0|1498597080| 0.6891885|\n",
      "| 33475|   148|   1.0|1495197540| 0.9585293|\n",
      "| 31490|   148|   1.0|1494693240| 0.9441744|\n",
      "| 35733|   148|   1.0|1494852240|  1.680727|\n",
      "| 23674|   148|   1.0|1498153500|  1.917714|\n",
      "|  2903|   148|   1.0|1497788160| 1.0351653|\n",
      "| 13378|   148|   1.0|1497623940| 0.9261995|\n",
      "| 18628|   148|   1.0|1495149540| 1.0889461|\n",
      "| 43752|   148|   1.0|1498580640| 0.5441003|\n",
      "| 31411|   148|   1.0|1497296580|0.92273307|\n",
      "| 43382|   148|   1.0|1495226220| 1.1357262|\n",
      "| 43058|   148|   1.0|1494879180| 1.1398259|\n",
      "|  2378|   148|   1.0|1494502560|0.87789005|\n",
      "+------+------+------+----------+----------+\n",
      "only showing top 20 rows\n",
      "\n"
     ]
    },
    {
     "name": "stderr",
     "output_type": "stream",
     "text": [
      "                                                                                \r"
     ]
    }
   ],
   "source": [
    "# Generate predicted ratings.\n",
    "prediction = model.transform(test)\n",
    "prediction.cache().show()"
   ]
  },
  {
   "cell_type": "code",
   "execution_count": 46,
   "metadata": {},
   "outputs": [
    {
     "name": "stderr",
     "output_type": "stream",
     "text": [
      "                                                                                \r"
     ]
    },
    {
     "name": "stdout",
     "output_type": "stream",
     "text": [
      "Model:\tALS rating prediction\n",
      "RMSE:\t0.844874\n",
      "MAE:\t0.505405\n",
      "Explained variance:\t0.596282\n",
      "R squared:\t0.560372\n"
     ]
    }
   ],
   "source": [
    "rating_eval = SparkRatingEvaluation(test, prediction, col_user=COL_USER, col_item=COL_ITEM, \n",
    "                                    col_rating=COL_RATING, col_prediction=\"prediction\")\n",
    "\n",
    "print(\"Model:\\tALS rating prediction\",\n",
    "      \"RMSE:\\t%f\" % rating_eval.rmse(),\n",
    "      \"MAE:\\t%f\" % rating_eval.mae(),\n",
    "      \"Explained variance:\\t%f\" % rating_eval.exp_var(),\n",
    "      \"R squared:\\t%f\" % rating_eval.rsquared(), sep='\\n')"
   ]
  },
  {
   "attachments": {},
   "cell_type": "markdown",
   "metadata": {},
   "source": [
    "<h3>SAS RFM</h3>"
   ]
  },
  {
   "cell_type": "code",
   "execution_count": 69,
   "metadata": {},
   "outputs": [],
   "source": [
    "import pandas as pd\n",
    "import matplotlib.pyplot as plt\n",
    "from recommenders.evaluation.python_evaluation import map_at_k, ndcg_at_k, precision_at_k, recall_at_k"
   ]
  },
  {
   "cell_type": "code",
   "execution_count": 51,
   "metadata": {},
   "outputs": [],
   "source": [
    "rfm = pd.read_parquet('../data/sas/mart/rfm_mapped.parquet')\n",
    "rfm_levels = [\"Can't Loose Them\", \"Champions\", \"Loyal\", \"Potential\", \"Sleeping\", \"Require Activation\"]"
   ]
  },
  {
   "cell_type": "code",
   "execution_count": 57,
   "metadata": {},
   "outputs": [
    {
     "name": "stderr",
     "output_type": "stream",
     "text": [
      "                                                                                \r"
     ]
    }
   ],
   "source": [
    "merged_pred = top_ex.toPandas()\n",
    "merged_test = test.toPandas()"
   ]
  },
  {
   "cell_type": "code",
   "execution_count": 64,
   "metadata": {},
   "outputs": [],
   "source": [
    "merged_test = merged_test.rename(columns={'UserId': 'userID', 'ItemId': 'itemID', 'Rating': 'rating'})\n",
    "merged_pred = merged_pred.rename(columns={'UserId': 'userID', 'ItemId': 'itemID'})"
   ]
  },
  {
   "cell_type": "code",
   "execution_count": 66,
   "metadata": {},
   "outputs": [
    {
     "name": "stdout",
     "output_type": "stream",
     "text": [
      "(5806, 4) (280688, 3)\n",
      "(3557, 4) (287635, 3)\n",
      "(4122, 4) (422100, 3)\n",
      "(4400, 4) (581132, 3)\n",
      "(2720, 4) (507380, 3)\n",
      "(574, 4) (192009, 3)\n"
     ]
    }
   ],
   "source": [
    "TOP_K = 10\n",
    "NDCGs = []\n",
    "for level in rfm_levels:\n",
    "    users = rfm[rfm['RFM_Level'] == level]['phone'].unique()\n",
    "\n",
    "    m_test_s = merged_test[merged_test['userID'].isin(users)]\n",
    "    m_pred_s = merged_pred[merged_pred['userID'].isin(users)]\n",
    "\n",
    "    print(m_test_s.shape, m_pred_s.shape)\n",
    "\n",
    "    eval_map = map_at_k(m_test_s, m_pred_s, col_prediction='prediction', k=TOP_K)\n",
    "    eval_ndcg = ndcg_at_k(m_test_s, m_pred_s, col_prediction='prediction', k=TOP_K)\n",
    "\n",
    "    NDCGs.append(eval_ndcg)"
   ]
  },
  {
   "cell_type": "code",
   "execution_count": 67,
   "metadata": {},
   "outputs": [
    {
     "name": "stdout",
     "output_type": "stream",
     "text": [
      "Can't Loose Them 0.0071\n",
      "Champions 0.0052\n",
      "Loyal 0.0061\n",
      "Potential 0.006\n",
      "Sleeping 0.0127\n",
      "Require Activation 0.0229\n"
     ]
    }
   ],
   "source": [
    "for level, ndcg in zip(rfm_levels, NDCGs):\n",
    "    print(level, np.round(ndcg, 4))"
   ]
  },
  {
   "cell_type": "code",
   "execution_count": 70,
   "metadata": {},
   "outputs": [
    {
     "data": {
      "image/png": "[encoded data removed]",
      "text/plain": [
       "<Figure size 1500x500 with 1 Axes>"
      ]
     },
     "metadata": {},
     "output_type": "display_data"
    }
   ],
   "source": [
    "plt.figure(figsize=(15,5))\n",
    "plt.bar(rfm_levels, NDCGs);"
   ]
  },
  {
   "cell_type": "code",
   "execution_count": 18,
   "metadata": {},
   "outputs": [],
   "source": [
    "# cleanup spark instance\n",
    "spark.stop()"
   ]
  },
  {
   "cell_type": "code",
   "execution_count": null,
   "metadata": {},
   "outputs": [],
   "source": []
  },
  {
   "cell_type": "code",
   "execution_count": null,
   "metadata": {},
   "outputs": [],
   "source": []
  },
  {
   "cell_type": "code",
   "execution_count": null,
   "metadata": {},
   "outputs": [],
   "source": []
  },
  {
   "cell_type": "code",
   "execution_count": null,
   "metadata": {},
   "outputs": [],
   "source": []
  },
  {
   "cell_type": "code",
   "execution_count": null,
   "metadata": {},
   "outputs": [],
   "source": []
  },
  {
   "cell_type": "code",
   "execution_count": null,
   "metadata": {},
   "outputs": [],
   "source": []
  },
  {
   "cell_type": "code",
   "execution_count": null,
   "metadata": {},
   "outputs": [],
   "source": [
    "#from annoy import AnnoyIndex\n",
    "#from tqdm import tqdm\n",
    "#\n",
    "#with Timer() as test_time:\n",
    "##\n",
    "\n",
    "    # Extract user and item factors\n",
    "#    user_factors = model.userFactors\n",
    "#    item_factors = model.itemFactors\n",
    "\n",
    "    # Create an Annoy index with the same number of dimensions as the item factors\n",
    "#    embedding_dimension = len(item_factors.select(\"features\").first()[0])\n",
    "#    annoy_index = AnnoyIndex(embedding_dimension, 'angular')\n",
    "\n",
    "    # Add item factors to the Annoy index\n",
    "#    item_factors_list = item_factors.select(\"id\", \"features\").collect()\n",
    "#    for item in item_factors_list:\n",
    "#        annoy_index.add_item(item[\"id\"], item[\"features\"])\n",
    "\n",
    "    # Build the Annoy index\n",
    "#    annoy_index.build(100) # You can adjust the number of trees to balance search speed and accuracy\n",
    "\n",
    "    # Find top K recommendations for each user\n",
    "#    K = 100\n",
    "#    top_k_recommendations = {}\n",
    "\n",
    "#    for user in tqdm(user_factors.select(\"id\", \"features\").collect()):\n",
    "#        user_id = user[\"id\"]\n",
    "#        user_embedding = user[\"features\"]\n",
    "#        nearest_item_ids = annoy_index.get_nns_by_vector(user_embedding, K)\n",
    "#        top_k_recommendations[user_id] = nearest_item_ids"
   ]
  },
  {
   "cell_type": "code",
   "execution_count": null,
   "metadata": {},
   "outputs": [],
   "source": [
    "#with Timer() as test_time:\n",
    "\n",
    "    # Get the cross join of all user-item pairs and score them.\n",
    "#    users = train.select(COL_USER).distinct()\n",
    "#    items = train.select(COL_ITEM).distinct()\n",
    "#    user_item = users.crossJoin(items)\n",
    "#    dfs_pred = model.transform(user_item)\n",
    "\n",
    "    # Remove seen items.\n",
    "#    dfs_pred_exclude_train = dfs_pred.alias(\"pred\").join(\n",
    "#        train.alias(\"train\"),\n",
    "#        (dfs_pred[COL_USER] == train[COL_USER]) & (dfs_pred[COL_ITEM] == train[COL_ITEM]),\n",
    "#        how='outer'\n",
    "#    )\n",
    "\n",
    "    # train.{col_rating} will be null on the previous step, if this pair was not seen before. These are the entries of interest to us.\n",
    "#    top_all = dfs_pred_exclude_train.filter(dfs_pred_exclude_train[f\"train.{COL_RATING}\"].isNull()) \\\n",
    "#        .select('pred.' + COL_USER, 'pred.' + COL_ITEM, 'pred.' + \"prediction\")\n",
    "\n",
    "    # In Spark, transformations are lazy evaluation\n",
    "    # Use an action to force execute and measure the test time \n",
    "#    top_all.cache().count()\n",
    "\n",
    "#print(\"Took {} seconds for prediction.\".format(test_time.interval))"
   ]
  }
 ],
 "metadata": {
  "kernelspec": {
   "display_name": "recsys",
   "language": "python",
   "name": "python3"
  },
  "language_info": {
   "codemirror_mode": {
    "name": "ipython",
    "version": 3
   },
   "file_extension": ".py",
   "mimetype": "text/x-python",
   "name": "python",
   "nbconvert_exporter": "python",
   "pygments_lexer": "ipython3",
   "version": "3.9.15"
  },
  "orig_nbformat": 4,
  "vscode": {
   "interpreter": {
    "hash": "78bff6571efa098a29603b0b132d0489520f19bae7ac06bdfd504caef114317d"
   }
  }
 },
 "nbformat": 4,
 "nbformat_minor": 2
}
