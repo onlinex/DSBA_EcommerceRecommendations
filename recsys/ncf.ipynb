{
 "cells": [
  {
   "attachments": {},
   "cell_type": "markdown",
   "metadata": {},
   "source": [
    "<h1>Neural Collaborative Filtering</h1>"
   ]
  },
  {
   "cell_type": "code",
   "execution_count": 1,
   "metadata": {},
   "outputs": [
    {
     "name": "stdout",
     "output_type": "stream",
     "text": [
      "System version: 3.9.15 | packaged by conda-forge | (main, Nov 22 2022, 08:48:25) \n",
      "[Clang 14.0.6 ]\n",
      "Pandas version: 1.5.3\n",
      "Tensorflow version: 2.11.0\n"
     ]
    }
   ],
   "source": [
    "import sys\n",
    "import pandas as pd\n",
    "import tensorflow as tf\n",
    "tf.get_logger().setLevel('ERROR') # only show error messages\n",
    "\n",
    "from recommenders.utils.timer import Timer\n",
    "from recommenders.models.ncf.ncf_singlenode import NCF\n",
    "from recommenders.models.ncf.dataset import Dataset as NCFDataset\n",
    "from recommenders.datasets import movielens\n",
    "from recommenders.utils.notebook_utils import is_jupyter\n",
    "from recommenders.datasets.python_splitters import python_chrono_split\n",
    "from recommenders.evaluation.python_evaluation import (rmse, mae, rsquared, exp_var, map_at_k, ndcg_at_k, precision_at_k, \n",
    "                                                     recall_at_k, get_top_k_items)\n",
    "\n",
    "print(\"System version: {}\".format(sys.version))\n",
    "print(\"Pandas version: {}\".format(pd.__version__))\n",
    "print(\"Tensorflow version: {}\".format(tf.__version__))"
   ]
  },
  {
   "cell_type": "code",
   "execution_count": 2,
   "metadata": {},
   "outputs": [],
   "source": [
    "tf.config.threading.set_inter_op_parallelism_threads(6)"
   ]
  },
  {
   "cell_type": "code",
   "execution_count": 4,
   "metadata": {},
   "outputs": [],
   "source": [
    "# top k items to recommend\n",
    "TOP_K = 100\n",
    "\n",
    "# Model parameters\n",
    "EPOCHS = 50\n",
    "BATCH_SIZE = 32\n",
    "\n",
    "SEED = 42"
   ]
  },
  {
   "attachments": {},
   "cell_type": "markdown",
   "metadata": {},
   "source": [
    "<h1>Load the MovieLens dataset</h1>"
   ]
  },
  {
   "cell_type": "code",
   "execution_count": 5,
   "metadata": {},
   "outputs": [],
   "source": [
    "train_file = \"../data/sas/train.csv\"\n",
    "test_file = \"../data/sas/test.csv\"\n",
    "\n",
    "train = pd.read_csv(train_file)\n",
    "test  = pd.read_csv(test_file)"
   ]
  },
  {
   "cell_type": "code",
   "execution_count": 6,
   "metadata": {},
   "outputs": [
    {
     "name": "stderr",
     "output_type": "stream",
     "text": [
      "INFO:recommenders.models.ncf.dataset:Indexing ../data/sas/train.csv ...\n",
      "INFO:recommenders.models.ncf.dataset:Indexing ../data/sas/test.csv ...\n",
      "INFO:recommenders.models.ncf.dataset:Indexing ../data/sas/test_full.csv ...\n"
     ]
    }
   ],
   "source": [
    "data = NCFDataset(train_file=train_file, test_file=test_file, seed=SEED)"
   ]
  },
  {
   "attachments": {},
   "cell_type": "markdown",
   "metadata": {},
   "source": [
    "<h1>Train the NCF model on the training data, and get the top-k recommendations for our testing data</h1>"
   ]
  },
  {
   "attachments": {},
   "cell_type": "markdown",
   "metadata": {},
   "source": [
    "- NCF accepts implicit feedback and generates prospensity of items to be recommended to users in the scale of 0 to 1\n",
    "- A recommended item list can then be generated based on the scores"
   ]
  },
  {
   "cell_type": "code",
   "execution_count": 7,
   "metadata": {},
   "outputs": [
    {
     "name": "stderr",
     "output_type": "stream",
     "text": [
      "2023-03-18 23:05:30.115973: I tensorflow/compiler/mlir/mlir_graph_optimization_pass.cc:357] MLIR V1 optimization pass is not enabled\n",
      "2023-03-18 23:05:30.126313: W tensorflow/tsl/platform/profile_utils/cpu_utils.cc:128] Failed to get CPU frequency: 0 Hz\n"
     ]
    }
   ],
   "source": [
    "model = NCF(\n",
    "    n_users=data.n_users, \n",
    "    n_items=data.n_items,\n",
    "    model_type=\"NeuMF\",\n",
    "    n_factors=4,\n",
    "    layer_sizes=[16,8,4],\n",
    "    n_epochs=EPOCHS,\n",
    "    batch_size=BATCH_SIZE,\n",
    "    learning_rate=3e-3,\n",
    "    verbose=1,\n",
    "    seed=SEED\n",
    ")"
   ]
  },
  {
   "cell_type": "code",
   "execution_count": 8,
   "metadata": {},
   "outputs": [
    {
     "name": "stderr",
     "output_type": "stream",
     "text": [
      "INFO:recommenders.models.ncf.ncf_singlenode:Epoch 1 [17.67s]: train_loss = 0.400070 \n",
      "INFO:recommenders.models.ncf.ncf_singlenode:Epoch 2 [18.73s]: train_loss = 0.354878 \n",
      "INFO:recommenders.models.ncf.ncf_singlenode:Epoch 3 [20.18s]: train_loss = 0.327123 \n",
      "INFO:recommenders.models.ncf.ncf_singlenode:Epoch 4 [20.51s]: train_loss = 0.306472 \n",
      "INFO:recommenders.models.ncf.ncf_singlenode:Epoch 5 [21.77s]: train_loss = 0.291558 \n",
      "INFO:recommenders.models.ncf.ncf_singlenode:Epoch 6 [20.49s]: train_loss = 0.280598 \n",
      "INFO:recommenders.models.ncf.ncf_singlenode:Epoch 7 [23.40s]: train_loss = 0.271243 \n",
      "INFO:recommenders.models.ncf.ncf_singlenode:Epoch 8 [26.27s]: train_loss = 0.265039 \n",
      "INFO:recommenders.models.ncf.ncf_singlenode:Epoch 9 [22.00s]: train_loss = 0.260578 \n",
      "INFO:recommenders.models.ncf.ncf_singlenode:Epoch 10 [24.28s]: train_loss = 0.255399 \n",
      "INFO:recommenders.models.ncf.ncf_singlenode:Epoch 11 [22.95s]: train_loss = 0.251603 \n",
      "INFO:recommenders.models.ncf.ncf_singlenode:Epoch 12 [24.62s]: train_loss = 0.247921 \n",
      "INFO:recommenders.models.ncf.ncf_singlenode:Epoch 13 [19.72s]: train_loss = 0.244116 \n",
      "INFO:recommenders.models.ncf.ncf_singlenode:Epoch 14 [20.13s]: train_loss = 0.241044 \n",
      "INFO:recommenders.models.ncf.ncf_singlenode:Epoch 15 [18.96s]: train_loss = 0.239172 \n",
      "INFO:recommenders.models.ncf.ncf_singlenode:Epoch 16 [20.32s]: train_loss = 0.235641 \n",
      "INFO:recommenders.models.ncf.ncf_singlenode:Epoch 17 [19.80s]: train_loss = 0.233618 \n",
      "INFO:recommenders.models.ncf.ncf_singlenode:Epoch 18 [20.62s]: train_loss = 0.230531 \n",
      "INFO:recommenders.models.ncf.ncf_singlenode:Epoch 19 [22.07s]: train_loss = 0.228580 \n",
      "INFO:recommenders.models.ncf.ncf_singlenode:Epoch 20 [20.88s]: train_loss = 0.225913 \n",
      "INFO:recommenders.models.ncf.ncf_singlenode:Epoch 21 [19.59s]: train_loss = 0.224488 \n",
      "INFO:recommenders.models.ncf.ncf_singlenode:Epoch 22 [21.22s]: train_loss = 0.222247 \n",
      "INFO:recommenders.models.ncf.ncf_singlenode:Epoch 23 [22.17s]: train_loss = 0.221203 \n",
      "INFO:recommenders.models.ncf.ncf_singlenode:Epoch 24 [18.64s]: train_loss = 0.219554 \n",
      "INFO:recommenders.models.ncf.ncf_singlenode:Epoch 25 [19.85s]: train_loss = 0.218718 \n",
      "INFO:recommenders.models.ncf.ncf_singlenode:Epoch 26 [17.96s]: train_loss = 0.216622 \n",
      "INFO:recommenders.models.ncf.ncf_singlenode:Epoch 27 [18.94s]: train_loss = 0.215555 \n",
      "INFO:recommenders.models.ncf.ncf_singlenode:Epoch 28 [20.47s]: train_loss = 0.215085 \n",
      "INFO:recommenders.models.ncf.ncf_singlenode:Epoch 29 [20.55s]: train_loss = 0.212822 \n",
      "INFO:recommenders.models.ncf.ncf_singlenode:Epoch 30 [19.59s]: train_loss = 0.211780 \n",
      "INFO:recommenders.models.ncf.ncf_singlenode:Epoch 31 [18.15s]: train_loss = 0.210764 \n",
      "INFO:recommenders.models.ncf.ncf_singlenode:Epoch 32 [20.93s]: train_loss = 0.209826 \n",
      "INFO:recommenders.models.ncf.ncf_singlenode:Epoch 33 [22.55s]: train_loss = 0.210091 \n",
      "INFO:recommenders.models.ncf.ncf_singlenode:Epoch 34 [19.84s]: train_loss = 0.207333 \n",
      "INFO:recommenders.models.ncf.ncf_singlenode:Epoch 35 [18.16s]: train_loss = 0.206729 \n",
      "INFO:recommenders.models.ncf.ncf_singlenode:Epoch 36 [19.65s]: train_loss = 0.205890 \n",
      "INFO:recommenders.models.ncf.ncf_singlenode:Epoch 37 [19.50s]: train_loss = 0.205244 \n",
      "INFO:recommenders.models.ncf.ncf_singlenode:Epoch 38 [19.55s]: train_loss = 0.205154 \n",
      "INFO:recommenders.models.ncf.ncf_singlenode:Epoch 39 [21.50s]: train_loss = 0.204395 \n",
      "INFO:recommenders.models.ncf.ncf_singlenode:Epoch 40 [18.33s]: train_loss = 0.203321 \n",
      "INFO:recommenders.models.ncf.ncf_singlenode:Epoch 41 [20.21s]: train_loss = 0.202601 \n",
      "INFO:recommenders.models.ncf.ncf_singlenode:Epoch 42 [20.68s]: train_loss = 0.202916 \n",
      "INFO:recommenders.models.ncf.ncf_singlenode:Epoch 43 [19.46s]: train_loss = 0.202374 \n",
      "INFO:recommenders.models.ncf.ncf_singlenode:Epoch 44 [20.64s]: train_loss = 0.200993 \n",
      "INFO:recommenders.models.ncf.ncf_singlenode:Epoch 45 [20.35s]: train_loss = 0.200415 \n",
      "INFO:recommenders.models.ncf.ncf_singlenode:Epoch 46 [20.07s]: train_loss = 0.199017 \n",
      "INFO:recommenders.models.ncf.ncf_singlenode:Epoch 47 [19.86s]: train_loss = 0.198514 \n",
      "INFO:recommenders.models.ncf.ncf_singlenode:Epoch 48 [20.80s]: train_loss = 0.197957 \n",
      "INFO:recommenders.models.ncf.ncf_singlenode:Epoch 49 [21.85s]: train_loss = 0.197755 \n",
      "INFO:recommenders.models.ncf.ncf_singlenode:Epoch 50 [19.12s]: train_loss = 0.197486 \n"
     ]
    },
    {
     "name": "stdout",
     "output_type": "stream",
     "text": [
      "Took 1025.6395 seconds for training.\n"
     ]
    }
   ],
   "source": [
    "with Timer() as train_time:\n",
    "    model.fit(data)\n",
    "\n",
    "print(\"Took {} seconds for training.\".format(train_time))"
   ]
  },
  {
   "cell_type": "code",
   "execution_count": 9,
   "metadata": {},
   "outputs": [
    {
     "name": "stdout",
     "output_type": "stream",
     "text": [
      "Took 37.8891 seconds for prediction.\n"
     ]
    }
   ],
   "source": [
    "with Timer() as test_time:\n",
    "    users, items, preds = [], [], []\n",
    "    item = list(train.itemID.unique())\n",
    "    for user in train.userID.unique():\n",
    "        user = [user] * len(item) \n",
    "        users.extend(user)\n",
    "        items.extend(item)\n",
    "        preds.extend(list(model.predict(user, item, is_list=True)))\n",
    "\n",
    "    all_predictions = pd.DataFrame(data={\"userID\": users, \"itemID\":items, \"prediction\":preds})\n",
    "\n",
    "    merged = pd.merge(train, all_predictions, on=[\"userID\", \"itemID\"], how=\"outer\")\n",
    "    all_predictions = merged[merged.rating.isnull()].drop('rating', axis=1)\n",
    "\n",
    "print(\"Took {} seconds for prediction.\".format(test_time))"
   ]
  },
  {
   "attachments": {},
   "cell_type": "markdown",
   "metadata": {},
   "source": [
    "<h1>Evaluate how well NCF performs</h1>"
   ]
  },
  {
   "cell_type": "code",
   "execution_count": 10,
   "metadata": {},
   "outputs": [
    {
     "name": "stdout",
     "output_type": "stream",
     "text": [
      "MAP:\t0.061344\n",
      "NDCG:\t0.120762\n",
      "Precision@K:\t0.008978\n",
      "Recall@K:\t0.207981\n"
     ]
    }
   ],
   "source": [
    "eval_map = map_at_k(test, all_predictions, col_prediction='prediction', k=TOP_K)\n",
    "eval_ndcg = ndcg_at_k(test, all_predictions, col_prediction='prediction', k=TOP_K)\n",
    "eval_precision = precision_at_k(test, all_predictions, col_prediction='prediction', k=TOP_K)\n",
    "eval_recall = recall_at_k(test, all_predictions, col_prediction='prediction', k=TOP_K)\n",
    "\n",
    "print(\"MAP:\\t%f\" % eval_map,\n",
    "      \"NDCG:\\t%f\" % eval_ndcg,\n",
    "      \"Precision@K:\\t%f\" % eval_precision,\n",
    "      \"Recall@K:\\t%f\" % eval_recall, sep='\\n')"
   ]
  },
  {
   "cell_type": "code",
   "execution_count": 16,
   "metadata": {},
   "outputs": [],
   "source": [
    "if not is_jupyter():\n",
    "    # Record results with papermill for tests\n",
    "    import papermill as pm\n",
    "    import scrapbook as sb\n",
    "    sb.glue(\"map\", eval_map)\n",
    "    sb.glue(\"ndcg\", eval_ndcg)\n",
    "    sb.glue(\"precision\", eval_precision)\n",
    "    sb.glue(\"recall\", eval_recall)\n",
    "    sb.glue(\"train_time\", train_time.interval)\n",
    "    sb.glue(\"test_time\", test_time.interval)"
   ]
  },
  {
   "cell_type": "markdown",
   "metadata": {},
   "source": []
  }
 ],
 "metadata": {
  "kernelspec": {
   "display_name": "recsys",
   "language": "python",
   "name": "python3"
  },
  "language_info": {
   "codemirror_mode": {
    "name": "ipython",
    "version": 3
   },
   "file_extension": ".py",
   "mimetype": "text/x-python",
   "name": "python",
   "nbconvert_exporter": "python",
   "pygments_lexer": "ipython3",
   "version": "3.9.15"
  },
  "orig_nbformat": 4,
  "vscode": {
   "interpreter": {
    "hash": "78bff6571efa098a29603b0b132d0489520f19bae7ac06bdfd504caef114317d"
   }
  }
 },
 "nbformat": 4,
 "nbformat_minor": 2
}
