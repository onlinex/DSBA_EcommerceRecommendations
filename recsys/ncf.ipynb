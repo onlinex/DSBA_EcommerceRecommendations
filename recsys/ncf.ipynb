{
 "cells": [
  {
   "attachments": {},
   "cell_type": "markdown",
   "metadata": {},
   "source": [
    "<h1>Neural Collaborative Filtering</h1>"
   ]
  },
  {
   "cell_type": "code",
   "execution_count": 14,
   "metadata": {},
   "outputs": [
    {
     "name": "stdout",
     "output_type": "stream",
     "text": [
      "System version: 3.9.15 | packaged by conda-forge | (main, Nov 22 2022, 08:48:25) \n",
      "[Clang 14.0.6 ]\n",
      "Pandas version: 1.5.3\n",
      "Tensorflow version: 2.11.0\n"
     ]
    }
   ],
   "source": [
    "import sys\n",
    "import pandas as pd\n",
    "import tensorflow as tf\n",
    "tf.get_logger().setLevel('ERROR') # only show error messages\n",
    "\n",
    "from recommenders.utils.timer import Timer\n",
    "from recommenders.models.ncf.ncf_singlenode import NCF\n",
    "from recommenders.models.ncf.dataset import Dataset as NCFDataset\n",
    "from recommenders.datasets import movielens\n",
    "from recommenders.utils.notebook_utils import is_jupyter\n",
    "from recommenders.datasets.python_splitters import python_chrono_split\n",
    "from recommenders.evaluation.python_evaluation import (rmse, mae, rsquared, exp_var, map_at_k, ndcg_at_k, precision_at_k,  \n",
    "                                                     recall_at_k, get_top_k_items)\n",
    "\n",
    "import matplotlib.pyplot as plt\n",
    "\n",
    "print(\"System version: {}\".format(sys.version))\n",
    "print(\"Pandas version: {}\".format(pd.__version__))\n",
    "print(\"Tensorflow version: {}\".format(tf.__version__))"
   ]
  },
  {
   "cell_type": "code",
   "execution_count": 15,
   "metadata": {},
   "outputs": [],
   "source": [
    "#tf.config.threading.set_inter_op_parallelism_threads(6)"
   ]
  },
  {
   "cell_type": "code",
   "execution_count": 16,
   "metadata": {},
   "outputs": [],
   "source": [
    "from tqdm import tqdm\n",
    "import numpy as np"
   ]
  },
  {
   "cell_type": "code",
   "execution_count": 17,
   "metadata": {},
   "outputs": [],
   "source": [
    "# top k items to recommend\n",
    "TOP_K = 100"
   ]
  },
  {
   "attachments": {},
   "cell_type": "markdown",
   "metadata": {},
   "source": [
    "<h1>Load the dataset</h1>"
   ]
  },
  {
   "cell_type": "code",
   "execution_count": 44,
   "metadata": {},
   "outputs": [],
   "source": [
    "dataset_name = 'sas'"
   ]
  },
  {
   "cell_type": "code",
   "execution_count": 60,
   "metadata": {},
   "outputs": [],
   "source": [
    "train_file = \"../data/{}/train.csv\".format(dataset_name)\n",
    "test_file = \"../data/{}/test.csv\".format(dataset_name)\n",
    "\n",
    "train = pd.read_csv(train_file)\n",
    "test  = pd.read_csv(test_file)"
   ]
  },
  {
   "cell_type": "code",
   "execution_count": 61,
   "metadata": {},
   "outputs": [
    {
     "data": {
      "text/plain": [
       "<AxesSubplot: >"
      ]
     },
     "execution_count": 61,
     "metadata": {},
     "output_type": "execute_result"
    },
    {
     "data": {
      "image/png": "[encoded data removed]",
      "text/plain": [
       "<Figure size 1400x300 with 1 Axes>"
      ]
     },
     "metadata": {},
     "output_type": "display_data"
    }
   ],
   "source": [
    "plt.figure(figsize=(14, 3))\n",
    "train['rating'].hist()"
   ]
  },
  {
   "cell_type": "code",
   "execution_count": 47,
   "metadata": {},
   "outputs": [],
   "source": [
    "train['rating'] = np.max(train['rating'].values, 0)\n",
    "test['rating'] = np.max(test['rating'].values, 0)\n",
    "\n",
    "train['rating'] /=5\n",
    "test['rating'] /=5\n",
    "\n",
    "train_file = '../data/{}/train_tmp.csv'.format(dataset_name)\n",
    "test_file = '../data/{}/test_tmp.csv'.format(dataset_name)\n",
    "\n",
    "train.to_csv(train_file)\n",
    "test.to_csv(test_file)"
   ]
  },
  {
   "cell_type": "code",
   "execution_count": 22,
   "metadata": {},
   "outputs": [
    {
     "name": "stderr",
     "output_type": "stream",
     "text": [
      "INFO:recommenders.models.ncf.dataset:Indexing ../data/sas/train_tmp.csv ...\n",
      "INFO:recommenders.models.ncf.dataset:Indexing ../data/sas/test_tmp.csv ...\n",
      "INFO:recommenders.models.ncf.dataset:Indexing ../data/sas/test_tmp_full.csv ...\n"
     ]
    }
   ],
   "source": [
    "data = NCFDataset(train_file=train_file, test_file=test_file, seed=42, binary=False)"
   ]
  },
  {
   "attachments": {},
   "cell_type": "markdown",
   "metadata": {},
   "source": [
    "<h1>Train the NCF model on the training data, and get the top-k recommendations for our testing data</h1>"
   ]
  },
  {
   "attachments": {},
   "cell_type": "markdown",
   "metadata": {},
   "source": [
    "- NCF accepts implicit feedback and generates prospensity of items to be recommended to users in the scale of 0 to 1\n",
    "- A recommended item list can then be generated based on the scores"
   ]
  },
  {
   "cell_type": "code",
   "execution_count": 23,
   "metadata": {},
   "outputs": [
    {
     "name": "stderr",
     "output_type": "stream",
     "text": [
      "2023-05-08 08:50:49.566002: I tensorflow/compiler/mlir/mlir_graph_optimization_pass.cc:357] MLIR V1 optimization pass is not enabled\n",
      "2023-05-08 08:50:49.569696: W tensorflow/tsl/platform/profile_utils/cpu_utils.cc:128] Failed to get CPU frequency: 0 Hz\n"
     ]
    }
   ],
   "source": [
    "model = NCF(\n",
    "    n_users=data.n_users, \n",
    "    n_items=data.n_items,\n",
    "    model_type=\"NeuMF\",\n",
    "    n_factors=16,\n",
    "    layer_sizes=[16,8,4],\n",
    "    n_epochs=2,\n",
    "    batch_size=256,\n",
    "    learning_rate=1e-3,\n",
    "    verbose=1,\n",
    "    seed=42\n",
    ")"
   ]
  },
  {
   "cell_type": "code",
   "execution_count": 24,
   "metadata": {},
   "outputs": [
    {
     "name": "stderr",
     "output_type": "stream",
     "text": [
      "100%|██████████| 47759/47759 [00:34<00:00, 1399.29it/s]\n",
      "3213it [00:34, 94.10it/s]\n",
      "INFO:recommenders.models.ncf.ncf_singlenode:Epoch 1 [34.16s]: train_loss = 0.454617 \n",
      "100%|██████████| 47759/47759 [00:34<00:00, 1390.79it/s]\n",
      "3213it [00:34, 93.53it/s]\n",
      "INFO:recommenders.models.ncf.ncf_singlenode:Epoch 2 [34.35s]: train_loss = 0.375897 \n"
     ]
    },
    {
     "name": "stdout",
     "output_type": "stream",
     "text": [
      "Took 68.5178 seconds for training.\n"
     ]
    }
   ],
   "source": [
    "with Timer() as train_time:\n",
    "    model.fit(data)\n",
    "\n",
    "print(\"Took {} seconds for training.\".format(train_time))"
   ]
  },
  {
   "cell_type": "code",
   "execution_count": 25,
   "metadata": {},
   "outputs": [],
   "source": [
    "def get_top_n_recommendations(model, user_id, n=100):\n",
    "    item_ids = np.arange(model.n_items)\n",
    "    user_ids = np.full(model.n_items, user_id, dtype=np.int32)\n",
    "    \n",
    "    scores = np.array(model.predict(user_ids, item_ids, is_list=True))\n",
    "    top_n_indices = np.argsort(scores)[-n:]  # Get the indices of the top N items\n",
    "    \n",
    "    return item_ids[top_n_indices], scores[top_n_indices]"
   ]
  },
  {
   "cell_type": "code",
   "execution_count": 26,
   "metadata": {},
   "outputs": [
    {
     "name": "stderr",
     "output_type": "stream",
     "text": [
      "100%|██████████| 47759/47759 [01:56<00:00, 409.12it/s]\n"
     ]
    },
    {
     "name": "stdout",
     "output_type": "stream",
     "text": [
      "Took 139.7641 seconds for prediction.\n"
     ]
    }
   ],
   "source": [
    "with Timer() as inference_time:\n",
    "    users, items, preds = [], [], []\n",
    "\n",
    "    for user in tqdm(train.userID.unique()):\n",
    "        item, score = get_top_n_recommendations(model, user, 200)\n",
    "        user = [user] * len(item)\n",
    "\n",
    "        users.extend(user)\n",
    "        items.extend(item)\n",
    "        preds.extend(score)\n",
    "\n",
    "    all_predictions = pd.DataFrame(data={\"userID\": users, \"itemID\":items, \"prediction\":preds})\n",
    "    # exlcude predicted\n",
    "    merged = pd.merge(train, all_predictions, on=[\"userID\", \"itemID\"], how=\"outer\")\n",
    "    all_predictions = merged[merged.rating.isnull()].drop('rating', axis=1)\n",
    "\n",
    "print(\"Took {} seconds for prediction.\".format(inference_time))"
   ]
  },
  {
   "attachments": {},
   "cell_type": "markdown",
   "metadata": {},
   "source": [
    "<h1>Evaluate how well NCF performs</h1>"
   ]
  },
  {
   "cell_type": "code",
   "execution_count": 65,
   "metadata": {},
   "outputs": [
    {
     "name": "stdout",
     "output_type": "stream",
     "text": [
      "K:\t10.000000\n",
      "MAP:\t0.025399\n",
      "NDCG:\t0.040805\n",
      "Precision@K:\t0.013733\n",
      "Recall@K:\t0.066722\n"
     ]
    }
   ],
   "source": [
    "# top k items to recommend\n",
    "TOP_K = 10\n",
    "\n",
    "eval_map = map_at_k(test, all_predictions, col_prediction='prediction', k=TOP_K)\n",
    "eval_ndcg = ndcg_at_k(test, all_predictions, col_prediction='prediction', k=TOP_K)\n",
    "eval_precision = precision_at_k(test, all_predictions, col_prediction='prediction', k=TOP_K)\n",
    "eval_recall = recall_at_k(test, all_predictions, col_prediction='prediction', k=TOP_K)\n",
    "\n",
    "print(\"K:\\t%f\" % TOP_K,\n",
    "      \"MAP:\\t%f\" % eval_map,\n",
    "      \"NDCG:\\t%f\" % eval_ndcg,\n",
    "      \"Precision@K:\\t%f\" % eval_precision,\n",
    "      \"Recall@K:\\t%f\" % eval_recall, sep='\\n')"
   ]
  },
  {
   "cell_type": "code",
   "execution_count": 66,
   "metadata": {},
   "outputs": [
    {
     "name": "stderr",
     "output_type": "stream",
     "text": [
      "100%|██████████| 44568/44568 [00:11<00:00, 3777.80it/s]\n"
     ]
    }
   ],
   "source": [
    "from copy import deepcopy\n",
    "\n",
    "predictions = []\n",
    "for z, (u, i, r, t) in tqdm(test.iterrows(), total=test.shape[0]):\n",
    "    prediction = model.predict(int(u), int(i))\n",
    "    predictions.append(prediction)\n",
    "\n",
    "pred = deepcopy(test)\n",
    "pred = pred.drop('rating', axis=1)\n",
    "pred['prediction'] = predictions"
   ]
  },
  {
   "cell_type": "code",
   "execution_count": 29,
   "metadata": {},
   "outputs": [],
   "source": [
    "def rating_metrics(data_true, data_pred):\n",
    "    \n",
    "    eval_rmse = rmse(data_true, data_pred, col_user=\"userID\", col_item=\"itemID\", col_rating=\"rating\", col_prediction=\"prediction\")\n",
    "    eval_mae = mae(data_true, data_pred, col_user=\"userID\", col_item=\"itemID\", col_rating=\"rating\", col_prediction=\"prediction\")\n",
    "    eval_exp_var = exp_var(data_true, data_pred, col_user=\"userID\", col_item=\"itemID\", col_rating=\"rating\", col_prediction=\"prediction\")\n",
    "    eval_rsquared = rsquared(data_true, data_pred, col_user=\"userID\", col_item=\"itemID\", col_rating=\"rating\", col_prediction=\"prediction\")\n",
    "\n",
    "\n",
    "    print(\"Model:\\ NCF rating prediction\",\n",
    "      \"RMSE:\\t%f\" % eval_rmse,\n",
    "      \"MAE:\\t%f\" % eval_mae,\n",
    "      \"Explained variance:\\t%f\" % eval_exp_var,\n",
    "      \"R squared:\\t%f\" % eval_rsquared, sep='\\n')"
   ]
  },
  {
   "cell_type": "code",
   "execution_count": 30,
   "metadata": {},
   "outputs": [
    {
     "name": "stdout",
     "output_type": "stream",
     "text": [
      "Model:\\ NCF rating prediction\n",
      "RMSE:\t0.631926\n",
      "MAE:\t0.556109\n",
      "Explained variance:\t0.000000\n",
      "R squared:\t0.000000\n"
     ]
    }
   ],
   "source": [
    "rating_metrics(\n",
    "    data_true=test,\n",
    "    data_pred=pred,\n",
    ")"
   ]
  },
  {
   "cell_type": "code",
   "execution_count": 121,
   "metadata": {},
   "outputs": [],
   "source": [
    "#pred['prediction'] *= 5\n",
    "#test['rating'] *= 5"
   ]
  },
  {
   "cell_type": "code",
   "execution_count": 122,
   "metadata": {},
   "outputs": [],
   "source": [
    "#merged['rating'] = np.max(merged['rating'].values, 0)"
   ]
  },
  {
   "attachments": {},
   "cell_type": "markdown",
   "metadata": {},
   "source": [
    "<h3>SAS RFM</h3>"
   ]
  },
  {
   "cell_type": "code",
   "execution_count": null,
   "metadata": {},
   "outputs": [],
   "source": [
    "from copy import deepcopy"
   ]
  },
  {
   "cell_type": "code",
   "execution_count": 67,
   "metadata": {},
   "outputs": [],
   "source": [
    "rfm = pd.read_parquet('../data/sas/mart/rfm_mapped.parquet')\n",
    "rfm_levels = [\"Can't Loose Them\", \"Champions\", \"Loyal\", \"Potential\", \"Sleeping\", \"Require Activation\"]"
   ]
  },
  {
   "cell_type": "code",
   "execution_count": 69,
   "metadata": {},
   "outputs": [],
   "source": [
    "merged_pred = deepcopy(all_predictions)\n",
    "merged_test = deepcopy(test)"
   ]
  },
  {
   "cell_type": "code",
   "execution_count": 70,
   "metadata": {},
   "outputs": [
    {
     "data": {
      "text/plain": [
       "0.04080524586475515"
      ]
     },
     "execution_count": 70,
     "metadata": {},
     "output_type": "execute_result"
    }
   ],
   "source": [
    "ndcg_at_k(merged_test, merged_pred, col_prediction='prediction', k=10)"
   ]
  },
  {
   "cell_type": "code",
   "execution_count": 71,
   "metadata": {},
   "outputs": [
    {
     "name": "stdout",
     "output_type": "stream",
     "text": [
      "(5806, 4) (557227, 4)\n",
      "(3557, 4) (572160, 4)\n",
      "(4122, 4) (840580, 4)\n",
      "(4400, 4) (1158292, 4)\n",
      "(2720, 4) (1012586, 4)\n",
      "(574, 4) (383736, 4)\n"
     ]
    }
   ],
   "source": [
    "TOP_K = 10\n",
    "NDCGs = []\n",
    "for level in rfm_levels:\n",
    "    users = rfm[rfm['RFM_Level'] == level]['phone'].unique()\n",
    "\n",
    "    m_test_s = merged_test[merged_test['userID'].isin(users)]\n",
    "    m_pred_s = merged_pred[merged_pred['userID'].isin(users)]\n",
    "\n",
    "    print(m_test_s.shape, m_pred_s.shape)\n",
    "\n",
    "    eval_map = map_at_k(m_test_s, m_pred_s, col_prediction='prediction', k=TOP_K)\n",
    "    eval_ndcg = ndcg_at_k(m_test_s, m_pred_s, col_prediction='prediction', k=TOP_K)\n",
    "\n",
    "    NDCGs.append(eval_ndcg)"
   ]
  },
  {
   "cell_type": "code",
   "execution_count": 72,
   "metadata": {},
   "outputs": [
    {
     "name": "stdout",
     "output_type": "stream",
     "text": [
      "Can't Loose Them 0.0385\n",
      "Champions 0.0381\n",
      "Loyal 0.0449\n",
      "Potential 0.0369\n",
      "Sleeping 0.0418\n",
      "Require Activation 0.052\n"
     ]
    }
   ],
   "source": [
    "for level, ndcg in zip(rfm_levels, NDCGs):\n",
    "    print(level, np.round(ndcg, 4))"
   ]
  },
  {
   "cell_type": "code",
   "execution_count": 73,
   "metadata": {},
   "outputs": [
    {
     "data": {
      "image/png": "[encoded data removed]",
      "text/plain": [
       "<Figure size 1500x500 with 1 Axes>"
      ]
     },
     "metadata": {},
     "output_type": "display_data"
    }
   ],
   "source": [
    "plt.figure(figsize=(15,5))\n",
    "plt.bar(rfm_levels, NDCGs);"
   ]
  },
  {
   "cell_type": "markdown",
   "metadata": {},
   "source": []
  }
 ],
 "metadata": {
  "kernelspec": {
   "display_name": "recsys",
   "language": "python",
   "name": "python3"
  },
  "language_info": {
   "codemirror_mode": {
    "name": "ipython",
    "version": 3
   },
   "file_extension": ".py",
   "mimetype": "text/x-python",
   "name": "python",
   "nbconvert_exporter": "python",
   "pygments_lexer": "ipython3",
   "version": "3.9.15"
  },
  "orig_nbformat": 4,
  "vscode": {
   "interpreter": {
    "hash": "78bff6571efa098a29603b0b132d0489520f19bae7ac06bdfd504caef114317d"
   }
  }
 },
 "nbformat": 4,
 "nbformat_minor": 2
}
