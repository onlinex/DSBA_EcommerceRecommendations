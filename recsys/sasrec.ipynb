{
 "cells": [
  {
   "cell_type": "code",
   "execution_count": 95,
   "metadata": {},
   "outputs": [
    {
     "name": "stdout",
     "output_type": "stream",
     "text": [
      "System version: 3.9.15 | packaged by conda-forge | (main, Nov 22 2022, 08:48:25) \n",
      "[Clang 14.0.6 ]\n",
      "Tensorflow version: 2.11.0\n"
     ]
    }
   ],
   "source": [
    "import re\n",
    "import sys\n",
    "import os\n",
    "from tempfile import TemporaryDirectory\n",
    "import numpy as np\n",
    "import pandas as pd \n",
    "\n",
    "from collections import defaultdict\n",
    "import tensorflow as tf\n",
    "tf.get_logger().setLevel('ERROR') # only show error messages\n",
    "\n",
    "from recommenders.utils.timer import Timer\n",
    "from recommenders.datasets.amazon_reviews import get_review_data\n",
    "from recommenders.datasets.split_utils import filter_k_core\n",
    "\n",
    "# Transformer Based Models\n",
    "from recommenders.models.sasrec.model import SASREC\n",
    "from recommenders.models.sasrec.ssept import SSEPT\n",
    "\n",
    "# Sampler for sequential prediction\n",
    "from recommenders.models.sasrec.sampler import WarpSampler\n",
    "from recommenders.models.sasrec.util import SASRecDataSet\n",
    "\n",
    "import matplotlib.pyplot as plt\n",
    "\n",
    "print(\"System version: {}\".format(sys.version))\n",
    "print(\"Tensorflow version: {}\".format(tf.__version__))"
   ]
  },
  {
   "cell_type": "code",
   "execution_count": 96,
   "metadata": {},
   "outputs": [],
   "source": [
    "num_epochs = 5\n",
    "batch_size = 128\n",
    "RANDOM_SEED = 100  # Set None for non-deterministic result\n",
    "\n",
    "lr = 0.001             # learning rate\n",
    "maxlen = 50            # maximum sequence length for each user\n",
    "num_blocks = 2         # number of transformer blocks\n",
    "hidden_units = 100     # number of units in the attention calculation\n",
    "num_heads = 1          # number of attention heads\n",
    "dropout_rate = 0.1     # dropout rate\n",
    "l2_emb = 0.0           # L2 regularization coefficient\n",
    "num_neg_test = 100     # number of negative examples per positive example\n",
    "model_name = 'sasrec'  # 'sasrec' or 'ssept'"
   ]
  },
  {
   "cell_type": "code",
   "execution_count": 97,
   "metadata": {},
   "outputs": [],
   "source": [
    "dataset_name = 'sas'"
   ]
  },
  {
   "cell_type": "code",
   "execution_count": 98,
   "metadata": {},
   "outputs": [],
   "source": [
    "# read raw data\n",
    "train = pd.read_csv('../data/{}/train.csv'.format(dataset_name))\n",
    "test  = pd.read_csv('../data/{}/test.csv'.format(dataset_name))"
   ]
  },
  {
   "cell_type": "code",
   "execution_count": 99,
   "metadata": {},
   "outputs": [],
   "source": [
    "# sort by time, save the temporary version\n",
    "train = train.sort_values(['userID', 'timestamp'])\n",
    "test = test.sort_values(['userID', 'timestamp'])\n",
    "\n",
    "train[['userID', 'itemID']].to_csv('../data/{}/train_tmp.csv'.format(dataset_name), index=False, header=False)\n",
    "test[['userID', 'itemID']].to_csv('../data/{}/test_tmp.csv'.format(dataset_name), index=False, header=False)"
   ]
  },
  {
   "attachments": {},
   "cell_type": "markdown",
   "metadata": {},
   "source": [
    "<h1>Custom data feeder</h1>"
   ]
  },
  {
   "cell_type": "code",
   "execution_count": 100,
   "metadata": {},
   "outputs": [],
   "source": [
    "# initiate a dataset class \n",
    "data = SASRecDataSet(filename='../data/{}/train_tmp.csv'.format(dataset_name), col_sep=\",\")"
   ]
  },
  {
   "cell_type": "code",
   "execution_count": 101,
   "metadata": {},
   "outputs": [],
   "source": [
    "# custom split from train / test / validation\n",
    "from collections import defaultdict\n",
    "def data_partition(self, filename_train, filename_test):\n",
    "    # assume user/item index starting from 1\n",
    "    f = open(filename_train, \"r\")\n",
    "    for line in f:\n",
    "        u, i = line.rstrip().split(self.col_sep)\n",
    "        u = int(u)\n",
    "        i = int(i)\n",
    "        self.usernum = max(u, self.usernum)\n",
    "        self.itemnum = max(i, self.itemnum)\n",
    "        self.User[u].append(i)\n",
    "\n",
    "    for user in self.User:\n",
    "        nfeedback = len(self.User[user])\n",
    "        if nfeedback < 2:\n",
    "            self.user_train[user] = self.User[user]\n",
    "            self.user_valid[user] = []\n",
    "            self.user_test[user] = []\n",
    "        else:\n",
    "            self.user_train[user] = self.User[user][:-1]\n",
    "            self.user_valid[user] = []\n",
    "            self.user_valid[user].append(self.User[user][-1])\n",
    "            self.user_test[user] = []\n",
    "\n",
    "    User_test = defaultdict(list)\n",
    "    f = open(filename_test, \"r\")\n",
    "    for line in f:\n",
    "        u, i = line.rstrip().split(self.col_sep)\n",
    "        u = int(u)\n",
    "        i = int(i)\n",
    "        User_test[u].append(i)\n",
    "\n",
    "    for user in User_test:\n",
    "        self.user_test[user] = User_test[user][:]\n",
    "\n",
    "data_partition(data, '../data/{}/train_tmp.csv'.format(dataset_name), '../data/{}/test_tmp.csv'.format(dataset_name))"
   ]
  },
  {
   "attachments": {},
   "cell_type": "markdown",
   "metadata": {},
   "source": [
    "<h1>Model definition</h1>"
   ]
  },
  {
   "cell_type": "code",
   "execution_count": 102,
   "metadata": {},
   "outputs": [],
   "source": [
    "model = SASREC(item_num=data.itemnum,\n",
    "    seq_max_len=maxlen,\n",
    "    num_blocks=num_blocks,\n",
    "    embedding_dim=hidden_units,\n",
    "    attention_dim=hidden_units,\n",
    "    attention_num_heads=num_heads,\n",
    "    dropout_rate=dropout_rate,\n",
    "    conv_dims = [100, 100],\n",
    "    l2_reg=l2_emb,\n",
    "    num_neg_test=data.itemnum-1#num_neg_test\n",
    ")"
   ]
  },
  {
   "cell_type": "code",
   "execution_count": 103,
   "metadata": {},
   "outputs": [],
   "source": [
    "sampler = WarpSampler(data.user_train, data.usernum, data.itemnum, batch_size=batch_size, maxlen=maxlen, n_workers=8)"
   ]
  },
  {
   "cell_type": "code",
   "execution_count": 104,
   "metadata": {},
   "outputs": [
    {
     "name": "stderr",
     "output_type": "stream",
     "text": [
      "                                                                      \r"
     ]
    },
    {
     "name": "stdout",
     "output_type": "stream",
     "text": [
      "\n",
      "epoch: 4, test (NDCG@10: 0.18711227640915432, HR@10: 0.29391810031499876)\n",
      "Time cost for training is 2.67 mins\n"
     ]
    }
   ],
   "source": [
    "with Timer() as train_time:\n",
    "    t_test = model.train(data, sampler, num_epochs=4, batch_size=batch_size, lr=lr, val_epoch=6)\n",
    "\n",
    "print('Time cost for training is {0:.2f} mins'.format(train_time.interval/60.0))"
   ]
  },
  {
   "cell_type": "code",
   "execution_count": 107,
   "metadata": {},
   "outputs": [],
   "source": [
    "import random\n",
    "from tqdm import tqdm\n",
    "\n",
    "def predict(self, dataset):\n",
    "    usernum = dataset.usernum\n",
    "    itemnum = dataset.itemnum\n",
    "    train = dataset.user_train\n",
    "    valid = dataset.user_valid\n",
    "    test = dataset.user_test\n",
    "\n",
    "    if usernum > 10000:\n",
    "        users = random.sample(range(1, usernum + 1), 10000)\n",
    "    else:\n",
    "        users = range(1, usernum + 1)\n",
    "\n",
    "    results = {}\n",
    "    for u in tqdm(users, ncols=70, leave=False, unit=\"b\"):\n",
    "        # not enought training data\n",
    "        if len(train[u]) < 1 or len(test[u]) < 1:\n",
    "            continue\n",
    "\n",
    "        # construct user purchase history\n",
    "        seq = np.zeros([self.seq_max_len], dtype=np.int32)\n",
    "        idx = self.seq_max_len - 1\n",
    "        seq[idx] = valid[u][0]\n",
    "        idx -= 1\n",
    "        for i in reversed(train[u]):\n",
    "            seq[idx] = i\n",
    "            idx -= 1\n",
    "            if idx == -1:\n",
    "                break\n",
    "\n",
    "            # already interacted items\n",
    "            rated = set(train[u])\n",
    "\n",
    "            item_idx = np.arange(itemnum)\n",
    "\n",
    "            inputs = {}\n",
    "            inputs[\"user\"] = np.expand_dims(np.array([u]), axis=-1)\n",
    "            inputs[\"input_seq\"] = np.array([seq])\n",
    "            inputs[\"candidate\"] = np.array([item_idx])\n",
    "\n",
    "            # inverse to get descending sort\n",
    "            predictions = -1.0 * self.predict(inputs)\n",
    "            predictions = np.array(predictions)\n",
    "            predictions = predictions[0]\n",
    "\n",
    "            results[u] = {'predictions': predictions, 'test': test[u]}\n",
    "\n",
    "    return results"
   ]
  },
  {
   "cell_type": "code",
   "execution_count": 108,
   "metadata": {},
   "outputs": [
    {
     "name": "stderr",
     "output_type": "stream",
     "text": [
      "                                                                      \r"
     ]
    }
   ],
   "source": [
    "pred = predict(model, data)"
   ]
  },
  {
   "cell_type": "code",
   "execution_count": 109,
   "metadata": {},
   "outputs": [
    {
     "data": {
      "text/plain": [
       "(2089500, 3)"
      ]
     },
     "execution_count": 109,
     "metadata": {},
     "output_type": "execute_result"
    }
   ],
   "source": [
    "TOP_K = 500\n",
    "\n",
    "items_predicted = []\n",
    "score_predicted = []\n",
    "user_ids = []\n",
    "\n",
    "for u,v in pred.items():\n",
    "    \n",
    "    i_pred = v['predictions'].argsort()[:TOP_K]\n",
    "    s_pred = -1 * v['predictions'][i_pred]\n",
    "\n",
    "    items_predicted.extend(list(i_pred))\n",
    "    score_predicted.extend(list(s_pred))\n",
    "    user_ids.extend(list(np.full(TOP_K, u)))\n",
    "\n",
    "df_pred = pd.DataFrame({'userID': user_ids, 'itemID': items_predicted, 'prediction': score_predicted})\n",
    "df_pred.shape"
   ]
  },
  {
   "cell_type": "code",
   "execution_count": 110,
   "metadata": {},
   "outputs": [
    {
     "data": {
      "text/html": [
       "<div>\n",
       "<style scoped>\n",
       "    .dataframe tbody tr th:only-of-type {\n",
       "        vertical-align: middle;\n",
       "    }\n",
       "\n",
       "    .dataframe tbody tr th {\n",
       "        vertical-align: top;\n",
       "    }\n",
       "\n",
       "    .dataframe thead th {\n",
       "        text-align: right;\n",
       "    }\n",
       "</style>\n",
       "<table border=\"1\" class=\"dataframe\">\n",
       "  <thead>\n",
       "    <tr style=\"text-align: right;\">\n",
       "      <th></th>\n",
       "      <th>userID</th>\n",
       "      <th>itemID</th>\n",
       "      <th>prediction</th>\n",
       "    </tr>\n",
       "  </thead>\n",
       "  <tbody>\n",
       "    <tr>\n",
       "      <th>0</th>\n",
       "      <td>5439</td>\n",
       "      <td>2089</td>\n",
       "      <td>5.446735</td>\n",
       "    </tr>\n",
       "    <tr>\n",
       "      <th>1</th>\n",
       "      <td>5439</td>\n",
       "      <td>181</td>\n",
       "      <td>3.110389</td>\n",
       "    </tr>\n",
       "    <tr>\n",
       "      <th>2</th>\n",
       "      <td>5439</td>\n",
       "      <td>214</td>\n",
       "      <td>2.796380</td>\n",
       "    </tr>\n",
       "    <tr>\n",
       "      <th>3</th>\n",
       "      <td>5439</td>\n",
       "      <td>1836</td>\n",
       "      <td>2.437398</td>\n",
       "    </tr>\n",
       "    <tr>\n",
       "      <th>4</th>\n",
       "      <td>5439</td>\n",
       "      <td>1539</td>\n",
       "      <td>2.060327</td>\n",
       "    </tr>\n",
       "  </tbody>\n",
       "</table>\n",
       "</div>"
      ],
      "text/plain": [
       "   userID  itemID  prediction\n",
       "0    5439    2089    5.446735\n",
       "1    5439     181    3.110389\n",
       "2    5439     214    2.796380\n",
       "3    5439    1836    2.437398\n",
       "4    5439    1539    2.060327"
      ]
     },
     "execution_count": 110,
     "metadata": {},
     "output_type": "execute_result"
    }
   ],
   "source": [
    "df_pred.head()"
   ]
  },
  {
   "cell_type": "code",
   "execution_count": 111,
   "metadata": {},
   "outputs": [
    {
     "data": {
      "text/plain": [
       "(9430, 3)"
      ]
     },
     "execution_count": 111,
     "metadata": {},
     "output_type": "execute_result"
    }
   ],
   "source": [
    "user_ids = []\n",
    "test_ids = []\n",
    "for u,v in pred.items():\n",
    "    test_ids.extend(list(v['test']))\n",
    "    user_ids.extend(list(np.full(len(v['test']), u)))\n",
    "\n",
    "df_test = pd.DataFrame({'userID': user_ids, 'itemID': test_ids})\n",
    "df_test['rating'] = 1.0\n",
    "df_test.shape"
   ]
  },
  {
   "cell_type": "code",
   "execution_count": 112,
   "metadata": {},
   "outputs": [
    {
     "data": {
      "text/html": [
       "<div>\n",
       "<style scoped>\n",
       "    .dataframe tbody tr th:only-of-type {\n",
       "        vertical-align: middle;\n",
       "    }\n",
       "\n",
       "    .dataframe tbody tr th {\n",
       "        vertical-align: top;\n",
       "    }\n",
       "\n",
       "    .dataframe thead th {\n",
       "        text-align: right;\n",
       "    }\n",
       "</style>\n",
       "<table border=\"1\" class=\"dataframe\">\n",
       "  <thead>\n",
       "    <tr style=\"text-align: right;\">\n",
       "      <th></th>\n",
       "      <th>userID</th>\n",
       "      <th>itemID</th>\n",
       "      <th>rating</th>\n",
       "    </tr>\n",
       "  </thead>\n",
       "  <tbody>\n",
       "    <tr>\n",
       "      <th>0</th>\n",
       "      <td>5439</td>\n",
       "      <td>2089</td>\n",
       "      <td>1.0</td>\n",
       "    </tr>\n",
       "    <tr>\n",
       "      <th>1</th>\n",
       "      <td>28057</td>\n",
       "      <td>1523</td>\n",
       "      <td>1.0</td>\n",
       "    </tr>\n",
       "    <tr>\n",
       "      <th>2</th>\n",
       "      <td>28057</td>\n",
       "      <td>151</td>\n",
       "      <td>1.0</td>\n",
       "    </tr>\n",
       "    <tr>\n",
       "      <th>3</th>\n",
       "      <td>8922</td>\n",
       "      <td>1268</td>\n",
       "      <td>1.0</td>\n",
       "    </tr>\n",
       "    <tr>\n",
       "      <th>4</th>\n",
       "      <td>411</td>\n",
       "      <td>568</td>\n",
       "      <td>1.0</td>\n",
       "    </tr>\n",
       "  </tbody>\n",
       "</table>\n",
       "</div>"
      ],
      "text/plain": [
       "   userID  itemID  rating\n",
       "0    5439    2089     1.0\n",
       "1   28057    1523     1.0\n",
       "2   28057     151     1.0\n",
       "3    8922    1268     1.0\n",
       "4     411     568     1.0"
      ]
     },
     "execution_count": 112,
     "metadata": {},
     "output_type": "execute_result"
    }
   ],
   "source": [
    "df_test.head()"
   ]
  },
  {
   "cell_type": "code",
   "execution_count": 113,
   "metadata": {},
   "outputs": [],
   "source": [
    "# from predicted dataset exclude seen items\n",
    "merged = pd.merge(train, df_pred, on=[\"userID\", \"itemID\"], how=\"outer\")\n",
    "merged_pred = merged[merged.rating.isnull()].drop('rating', axis=1)"
   ]
  },
  {
   "cell_type": "code",
   "execution_count": 114,
   "metadata": {},
   "outputs": [],
   "source": [
    "# from ground truth test dataset, exclude seen items\n",
    "merged = pd.merge(train, df_test, on=[\"userID\", \"itemID\"], how=\"outer\")\n",
    "merged_test = merged[merged.rating_x.isnull()].drop('rating_x', axis=1).rename(columns={'rating_y': 'rating'})"
   ]
  },
  {
   "cell_type": "code",
   "execution_count": 115,
   "metadata": {},
   "outputs": [],
   "source": [
    "from recommenders.evaluation.python_evaluation import map_at_k, ndcg_at_k, precision_at_k, recall_at_k"
   ]
  },
  {
   "cell_type": "code",
   "execution_count": 122,
   "metadata": {},
   "outputs": [
    {
     "name": "stdout",
     "output_type": "stream",
     "text": [
      "K:\t5.000000\n",
      "MAP:\t0.101536\n",
      "NDCG:\t0.135312\n",
      "Precision@K:\t0.060637\n",
      "Recall@K:\t0.163315\n"
     ]
    }
   ],
   "source": [
    "TOP_K = 5\n",
    "eval_map = map_at_k(df_test, df_pred, col_prediction='prediction', k=TOP_K)\n",
    "eval_ndcg = ndcg_at_k(df_test, df_pred, col_prediction='prediction', k=TOP_K)\n",
    "eval_precision = precision_at_k(df_test, df_pred, col_prediction='prediction', k=TOP_K)\n",
    "eval_recall = recall_at_k(df_test, df_pred, col_prediction='prediction', k=TOP_K)\n",
    "\n",
    "print(\"K:\\t%f\" % TOP_K,\n",
    "      \"MAP:\\t%f\" % eval_map,\n",
    "      \"NDCG:\\t%f\" % eval_ndcg,\n",
    "      \"Precision@K:\\t%f\" % eval_precision,\n",
    "      \"Recall@K:\\t%f\" % eval_recall, sep='\\n')"
   ]
  },
  {
   "cell_type": "code",
   "execution_count": 123,
   "metadata": {},
   "outputs": [
    {
     "name": "stdout",
     "output_type": "stream",
     "text": [
      "K:\t5.000000\n",
      "MAP:\t0.064450\n",
      "NDCG:\t0.087822\n",
      "Precision@K:\t0.041683\n",
      "Recall@K:\t0.111269\n"
     ]
    }
   ],
   "source": [
    "eval_map = map_at_k(merged_test, merged_pred, col_prediction='prediction', k=TOP_K)\n",
    "eval_ndcg = ndcg_at_k(merged_test, merged_pred, col_prediction='prediction', k=TOP_K)\n",
    "eval_precision = precision_at_k(merged_test, merged_pred, col_prediction='prediction', k=TOP_K)\n",
    "eval_recall = recall_at_k(merged_test, merged_pred, col_prediction='prediction', k=TOP_K)\n",
    "\n",
    "print(\"K:\\t%f\" % TOP_K,\n",
    "      \"MAP:\\t%f\" % eval_map,\n",
    "      \"NDCG:\\t%f\" % eval_ndcg,\n",
    "      \"Precision@K:\\t%f\" % eval_precision,\n",
    "      \"Recall@K:\\t%f\" % eval_recall, sep='\\n')"
   ]
  },
  {
   "attachments": {},
   "cell_type": "markdown",
   "metadata": {},
   "source": [
    "<h3>SAS RFM</h3>"
   ]
  },
  {
   "cell_type": "code",
   "execution_count": 124,
   "metadata": {},
   "outputs": [],
   "source": [
    "rfm = pd.read_parquet('../data/sas/mart/rfm_mapped.parquet')\n",
    "rfm_levels = [\"Can't Loose Them\", \"Champions\", \"Loyal\", \"Potential\", \"Sleeping\", \"Require Activation\"]"
   ]
  },
  {
   "cell_type": "code",
   "execution_count": 126,
   "metadata": {},
   "outputs": [
    {
     "name": "stdout",
     "output_type": "stream",
     "text": [
      "(840, 4) (205878, 4)\n",
      "(579, 4) (159698, 4)\n",
      "(683, 4) (215365, 4)\n",
      "(740, 4) (259560, 4)\n",
      "(427, 4) (172222, 4)\n",
      "(82, 4) (36721, 4)\n"
     ]
    }
   ],
   "source": [
    "TOP_K = 10\n",
    "NDCGs = []\n",
    "for level in rfm_levels:\n",
    "    users = rfm[rfm['RFM_Level'] == level]['phone'].unique()\n",
    "\n",
    "    m_test_s = merged_test[merged_test['userID'].isin(users)]\n",
    "    m_pred_s = merged_pred[merged_pred['userID'].isin(users)]\n",
    "\n",
    "    print(m_test_s.shape, m_pred_s.shape)\n",
    "\n",
    "    eval_map = map_at_k(m_test_s, m_pred_s, col_prediction='prediction', k=TOP_K)\n",
    "    eval_ndcg = ndcg_at_k(m_test_s, m_pred_s, col_prediction='prediction', k=TOP_K)\n",
    "\n",
    "    NDCGs.append(eval_ndcg)"
   ]
  },
  {
   "cell_type": "code",
   "execution_count": 130,
   "metadata": {},
   "outputs": [
    {
     "name": "stdout",
     "output_type": "stream",
     "text": [
      "Can't Loose Them 0.0614\n",
      "Champions 0.0694\n",
      "Loyal 0.1131\n",
      "Potential 0.1093\n",
      "Sleeping 0.1088\n",
      "Require Activation 0.1175\n"
     ]
    }
   ],
   "source": [
    "for level, ndcg in zip(rfm_levels, NDCGs):\n",
    "    print(level, np.round(ndcg, 4))"
   ]
  },
  {
   "cell_type": "code",
   "execution_count": 127,
   "metadata": {},
   "outputs": [
    {
     "data": {
      "image/png": "[encoded data removed]",
      "text/plain": [
       "<Figure size 1500x500 with 1 Axes>"
      ]
     },
     "metadata": {},
     "output_type": "display_data"
    }
   ],
   "source": [
    "plt.figure(figsize=(15,5))\n",
    "plt.bar(rfm_levels, NDCGs);"
   ]
  },
  {
   "cell_type": "code",
   "execution_count": null,
   "metadata": {},
   "outputs": [],
   "source": []
  },
  {
   "cell_type": "code",
   "execution_count": null,
   "metadata": {},
   "outputs": [],
   "source": []
  },
  {
   "cell_type": "code",
   "execution_count": null,
   "metadata": {},
   "outputs": [],
   "source": []
  },
  {
   "cell_type": "code",
   "execution_count": null,
   "metadata": {},
   "outputs": [],
   "source": []
  },
  {
   "cell_type": "code",
   "execution_count": null,
   "metadata": {},
   "outputs": [],
   "source": []
  },
  {
   "cell_type": "code",
   "execution_count": null,
   "metadata": {},
   "outputs": [],
   "source": []
  },
  {
   "cell_type": "code",
   "execution_count": null,
   "metadata": {},
   "outputs": [],
   "source": []
  },
  {
   "cell_type": "code",
   "execution_count": null,
   "metadata": {},
   "outputs": [],
   "source": []
  },
  {
   "cell_type": "code",
   "execution_count": 68,
   "metadata": {},
   "outputs": [],
   "source": [
    "import random\n",
    "from tqdm import tqdm\n",
    "\n",
    "def evaluate(self, dataset):\n",
    "    \"\"\"\n",
    "    Evaluation on the test users (users with at least 3 items)\n",
    "    \"\"\"\n",
    "    usernum = dataset.usernum\n",
    "    itemnum = dataset.itemnum\n",
    "    train = dataset.user_train\n",
    "    valid = dataset.user_valid\n",
    "    test = dataset.user_test\n",
    "\n",
    "    NDCG = 0.0\n",
    "    HT = 0.0\n",
    "    valid_user = 0.0\n",
    "\n",
    "    if usernum > 10000:\n",
    "        users = random.sample(range(1, usernum + 1), 10000)\n",
    "    else:\n",
    "        users = range(1, usernum + 1)\n",
    "\n",
    "    for u in tqdm(users, ncols=70, leave=False, unit=\"b\"):\n",
    "\n",
    "        if len(train[u]) < 1 or len(test[u]) < 1:\n",
    "            continue\n",
    "\n",
    "        seq = np.zeros([self.seq_max_len], dtype=np.int32)\n",
    "        idx = self.seq_max_len - 1\n",
    "        seq[idx] = valid[u][0]\n",
    "        idx -= 1\n",
    "        for i in reversed(train[u]):\n",
    "            seq[idx] = i\n",
    "            idx -= 1\n",
    "            if idx == -1:\n",
    "                break\n",
    "        rated = set(train[u])\n",
    "        rated.add(0)\n",
    "        item_idx = [random.choice(test[u])]\n",
    "        # a positive example vs 100 negative examples.\n",
    "        for _ in range(self.num_neg_test):\n",
    "            t = np.random.randint(1, itemnum + 1)\n",
    "            while t in rated or t in test[u]:\n",
    "                t = np.random.randint(1, itemnum + 1)\n",
    "            item_idx.append(t)\n",
    "\n",
    "        inputs = {}\n",
    "        inputs[\"user\"] = np.expand_dims(np.array([u]), axis=-1)\n",
    "        inputs[\"input_seq\"] = np.array([seq])\n",
    "        inputs[\"candidate\"] = np.array([item_idx])\n",
    "\n",
    "        # inverse to get descending sort\n",
    "        predictions = -1.0 * self.predict(inputs)\n",
    "        predictions = np.array(predictions)\n",
    "        predictions = predictions[0]\n",
    "\n",
    "        # we are interested only the first one, which is the only positive one\n",
    "        rank = predictions.argsort().argsort()[0]\n",
    "\n",
    "        valid_user += 1\n",
    "\n",
    "        if rank < 5:\n",
    "            NDCG += 1 / np.log2(rank + 2)\n",
    "            HT += 1\n",
    "\n",
    "    return NDCG / valid_user, HT / valid_user"
   ]
  },
  {
   "cell_type": "code",
   "execution_count": 69,
   "metadata": {},
   "outputs": [
    {
     "name": "stderr",
     "output_type": "stream",
     "text": [
      "                                                                      \r"
     ]
    },
    {
     "data": {
      "text/plain": [
       "(0.08496986637970463, 0.11699029126213592)"
      ]
     },
     "execution_count": 69,
     "metadata": {},
     "output_type": "execute_result"
    }
   ],
   "source": [
    "evaluate(model, data)"
   ]
  },
  {
   "cell_type": "code",
   "execution_count": null,
   "metadata": {},
   "outputs": [],
   "source": []
  }
 ],
 "metadata": {
  "kernelspec": {
   "display_name": "recsys",
   "language": "python",
   "name": "python3"
  },
  "language_info": {
   "codemirror_mode": {
    "name": "ipython",
    "version": 3
   },
   "file_extension": ".py",
   "mimetype": "text/x-python",
   "name": "python",
   "nbconvert_exporter": "python",
   "pygments_lexer": "ipython3",
   "version": "3.9.15"
  },
  "orig_nbformat": 4,
  "vscode": {
   "interpreter": {
    "hash": "78bff6571efa098a29603b0b132d0489520f19bae7ac06bdfd504caef114317d"
   }
  }
 },
 "nbformat": 4,
 "nbformat_minor": 2
}
